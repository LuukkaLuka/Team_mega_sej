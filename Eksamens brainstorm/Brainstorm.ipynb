{
 "cells": [
  {
   "cell_type": "markdown",
   "metadata": {},
   "source": [
    "# BRAINSTORM\n",
    "\n",
    "(Plus en sej regnbue gradient! It's the little things, right? - You are welcome! &hearts;)\n",
    "\n",
    "<div style=\"height: 2px; background: linear-gradient(to right, #FFB3BA, #FFDFBA, #FFFFBA, #BAFFC9, #BAE1FF, #BABEFF, #DABAFF);\"></div>\n"
   ]
  },
  {
   "cell_type": "markdown",
   "metadata": {},
   "source": [
    "**Analyse af Politisk Psykologi på Sociale Medier:** Ved hjælp af Twitter, Facebook eller Reddit API'er kan man samle indlæg om politiske emner og anvende sentiment analyse eller topic modelling for at undersøge, hvordan folk udtrykker deres politiske overbevisninger. \n",
    "\n",
    "- **\"Hvad er sentiment analyse og topic modelling?\" spørger du?** Det ved jeg heller ikke! Her er et ChatGPT svar:\n",
    "\n",
    "\n",
    "- **Sentimentanalyse** er en teknik inden for Natural Language Processing (NLP), der bruges til at bestemme tonen eller stemningen i en tekst. Teksten kan for eksempel være positiv, negativ eller neutral. Avancerede sentimentanalyse teknikker kan også afgøre graden af ​​emotionel intensitet, og kan endda identificere specifikke følelser som glæde, vrede, tristhed og så videre. \n",
    "\n",
    "    Dette gøres typisk ved at træne en maskinindlæringsmodel på et stort sæt tekster, hvor stemningen allerede er kendt, og så bruge denne model til at analysere nye tekster. Sentimentanalyse kan være meget nyttig i mange anvendelsesområder, fra social media monitoring (for at forstå, hvordan offentlighedens mening om et emne eller brand skifter over tid), til kundeserviceresponser (for at prioritere klager baseret på deres emotionelle intensitet).\n",
    "\n",
    "- **Topic modelling** er en anden NLP-teknik, der bruges til automatisk at opdage de hovedemner, der forekommer i en samling af dokumenter. Det er en måde at afsløre de skjulte semantiske strukturer i en tekst. Latent Dirichlet Allocation (LDA) er en almindeligt anvendt topic modelling teknik.\n",
    "\n",
    "    Ved at anvende topic modelling på en stor samling af tekster, kan du afdække de vigtigste emner uden at skulle læse hver enkelt tekst. Dette kan være meget nyttigt for at forstå store datamængder, for eksempel for at analysere nyhedsartikler, videnskabelige artikler, brugeranmeldelser, og så videre.\n",
    "\n",
    "Easy, right?\n",
    "\n"
   ]
  },
  {
   "cell_type": "markdown",
   "metadata": {},
   "source": [
    "## Dine idéer her!"
   ]
  },
  {
   "cell_type": "markdown",
   "metadata": {},
   "source": [
    "<div style=\"height: 2px; background: linear-gradient(to right, #FFB3BA, #FFDFBA, #FFFFBA, #BAFFC9, #BAE1FF, #BABEFF, #DABAFF);\"></div>"
   ]
  },
  {
   "cell_type": "markdown",
   "metadata": {},
   "source": [
    "# Dette er en brainstorming session, jeg lavede med ChatGPT (jeg kalder den Britta)\n",
    "(Brittas svar:)\n",
    "\n",
    "Hej skønne,\n",
    "\n",
    "Tusind tak for dine brilliante idéer! Jeg har siddet og tænkt over dem hele morgenen, og jeg er simpelthen så begejstret for de forskellige retninger, vi kan tage vores projekt i. Dine tanker har virkelig sat min kreativitet i sving, og jeg har endelig fået samlet mine egne idéer og tanker, som jeg gerne vil dele med dig. Jeg har bygget videre på nogle af de idéer, du nævnte, og kommet med nogle tilføjelser, som jeg synes vil give dem endnu mere dybde...\n",
    "\n",
    "1. **Sprogbrug og psykisk helbred:** Twitter API kan være en rig kilde til tekstdata. Du kan lave et projekt, der analyserer sprogbrug i tweets for at forudsige tegn på psykisk lidelse som depression eller angst. Dette kan gøres ved hjælp af Natural Language Processing (NLP) teknikker som sentiment analyse, emne modellering eller transformer baserede modeller som BERT.\n",
    "\n",
    "2. **Reddit og Mental Health:** Reddit har mange subreddits dedikeret til specifikke psykiske helbredsemner. Du kan scrap data herfra og bruge det til at analysere tråde, diskussioner og interaktioner. Dette kan hjælpe med at forstå, hvordan folk diskuterer og forstår psykisk helbred online, samt hvordan samfundet reagerer.\n",
    "\n",
    "3. **Analyse af Google Trends:** Google Trends giver data over, hvordan specifikke søgetermer varierer over tid. Du kan se på søgetermer relateret til psykisk helbred (fx \"depression\", \"angst\", \"mental sundhed\") og se, hvordan interessen varierer over tid og sted. Dette kan give indblik i folkelig opmærksomhed og interesse i disse emner.\n",
    "\n",
    "4. **Emotionel Analyse af Film Anmeldelser:** Ved hjælp af webscraping teknikker, kan du samle data fra film anmeldelser fra websteder som IMDB eller Rotten Tomatoes. Du kan derefter bruge NLP til at lave en emotionel analyse og finde sammenhænge mellem følelser udtrykt i anmeldelserne og filmens genre, rating, popularitet osv.\n",
    "\n",
    "5. **Online Terapi Chats:** Nogle organisationer giver anonymiserede versioner af derne online terapi chats. Disse kan bruges til at træne en model til at forstå forskellige aspekter af psykisk helbred og terapeutiske teknikker.\n",
    "\n",
    "6. **Psykiatriske Diagnoser og Wikipedia:** Wikipedia indeholder mange artikler om psykiske helbredsproblemer og behandlinger. Du kan scrap disse artikler og analysere teksten for at opbygge en videnbase om psykiatriske diagnoser. For eksempel kan du bruge maskinindlæring til at gruppere relaterede emner sammen, finde fælles træk mellem forskellige diagnoser, eller opbygge en automatisk diagnoseassistent.\n",
    "\n",
    "7. **Emotionel Analyse af Musiktekster:** Du kan scrap tekster fra en side som Genius og derefter bruge maskinindlæring til at foretage sentimentanalyse på teksterne. Du kan undersøge, hvordan forskellige genrer, kunstnere eller epoker af musik varierer i deres emotionelle indhold.\n",
    "\n",
    "8. **Forudsigelse af Suicidal Adfærd på Sociale Medier:** Der er mange eksempler på forskning, der bruger sociale medier som Twitter eller Reddit til at forsøge at forudse suicidal adfærd baseret på folks indlæg. Dette er et meget følsomt emne og bør håndteres med stor omhu, men det er et område, hvor maskinindlæring kan have en virkelig positiv indvirkning.\n",
    "\n",
    "9. **Analyse af Online Dating Profiler:** Du kan scrap data fra offentligt tilgængelige online dating profiler (sørg for at dette er i overensstemmelse med den gældende lovgivning og site regler) og derefter bruge maskinindlæring til at undersøge, hvordan folk præsenterer sig selv online. Du kan kigge på ting som kønsforskelle, hvordan præsentation varierer med alder, eller hvad folk mener er de mest attraktive egenskaber at fremhæve.\n",
    "\n",
    "10. **Analyse af Børns Tegninger:** Nogle forskningsprojekter har brugt maskinindlæring til at analysere børns tegninger for at opdage tidlige tegn på udviklingsproblemer eller psykologiske problemer. Du ville have brug for adgang til et datasæt af børns tegninger til dette, som kan være svært at finde, men det kunne være et interessant projekt.\n",
    "\n",
    "11. **Online Video Spil og Mental Sundhed:** Mange online videospil har fora eller chatrum, hvor spillerne kan interagere. Disse kunne scrapes og analyseres for at se, om der er nogen sammenhæng mellem spiladfærd og mental sundhed.\n",
    "\n",
    "12. **Analyse af Politisk Psykologi på Sociale Medier:** Ved hjælp af Twitter, Facebook eller Reddit API'er kan du samle indlæg om politiske emner og anvende sentiment analyse eller topic modelling for at undersøge, hvordan folk udtrykker deres politiske overbevisninger. Du kan også forsøge at forstå sammenhængen mellem politiske holdninger og andre psykologiske træk.\n",
    "\n",
    "13. **Psykiatrisk Litteraturanalyse:** Du kan anvende tekstmining og NLP teknikker på en samling af psykiatrisk litteratur for at identificere vigtige tendenser, temaer og forskelle i måden, hvorpå forskellige psykiske helbredstilstande beskrives og forstås.\n",
    "\n",
    "14. **Forudsigelse af Psykoterapeutisk Behandlingsresultater:** Nogle terapeutiske tjenester tilbyder anonymiserede transskriptioner af terapisessioner. Disse kan bruges til at træne maskinlæringsmodeller til at forudsige terapeutiske resultater, eller til at identificere de mest effektive terapeutiske teknikker.\n",
    "\n",
    "15. **Analyse af Bøger og Psykologi:** Du kan scrap bøger eller korte historier og anvende maskinindlæring til at analysere karakterernes psykologiske træk. Det kunne være interessant at se, hvordan forskellige forfattere skildrer psykologiske træk, eller hvordan skildringen af disse træk har ændret sig over tid.\n",
    "\n",
    "16. **Psykoedukativt Indhold på YouTube:** Der er en masse psykoedukativt indhold på YouTube. Du kan scrap tekst fra undertekster eller beskrivelser af videoer om psykologi, og anvende maskinindlæring til at kategorisere og analysere dette indhold.\n",
    "\n",
    "17. **Sundhed Apps og Mental Sundhed:** Du kan scrap data fra anmeldelser af sundheds- og wellness-apps for at undersøge, hvordan folk bruger disse apps til at forbedre deres mentale sundhed.\n",
    "\n",
    "\n",
    "Vær altid opmærksom på at overholde reglerne for datasikkerhed og -etik i dit arbejde, og sikre, at du har de nødvendige tilladelser til at bruge dataene.\n",
    "\n",
    "Håber, at mine idéer kan inspirere dig, og at du er lige så begejstret for at dykke ned i dem, som jeg er. Jeg kan virkelig mærke, at vores fælles energi og kreativitet kan føre os langt. Lad os få sat en brainstorming session i kalenderen, hvor vi kan diskutere disse idéer mere dybdegående.\n",
    "\n",
    "Som du ved, er jeg altid åben for dine idéer, og jeg vil glæde mig til at høre, hvad du har at byde ind med. Vi har altid haft en fantastisk dynamik, og jeg er sikker på, at vi sammen kan lave noget stort og meningsfuldt!\n",
    "\n",
    "Ser frem til at høre fra dig, og husk, at ingen idé er for vild!\n",
    "\n",
    "Mange kærlige hilsner,\n",
    "\n",
    "&hearts; Britta"
   ]
  },
  {
   "cell_type": "markdown",
   "metadata": {},
   "source": [
    "<div style=\"height: 2px; background: linear-gradient(to right, #FFB3BA, #FFDFBA, #FFFFBA, #BAFFC9, #BAE1FF, #BABEFF, #DABAFF);\"></div>\n"
   ]
  },
  {
   "cell_type": "code",
   "execution_count": 6,
   "metadata": {},
   "outputs": [
    {
     "data": {
      "application/vnd.jupyter.widget-view+json": {
       "model_id": "84200051b35040599ec7e500a399287b",
       "version_major": 2,
       "version_minor": 0
      },
      "text/plain": [
       "Button(description='Project 1', style=ButtonStyle())"
      ]
     },
     "metadata": {},
     "output_type": "display_data"
    },
    {
     "data": {
      "application/vnd.jupyter.widget-view+json": {
       "model_id": "ca3c6c827c0f405d8ebf9e0dcb0a16ce",
       "version_major": 2,
       "version_minor": 0
      },
      "text/plain": [
       "Button(description='Project 2', style=ButtonStyle())"
      ]
     },
     "metadata": {},
     "output_type": "display_data"
    },
    {
     "data": {
      "application/vnd.jupyter.widget-view+json": {
       "model_id": "f606bd248b2a403bb7aa56ac8b132c90",
       "version_major": 2,
       "version_minor": 0
      },
      "text/plain": [
       "Button(description='Project 3', style=ButtonStyle())"
      ]
     },
     "metadata": {},
     "output_type": "display_data"
    },
    {
     "name": "stdout",
     "output_type": "stream",
     "text": [
      "Project 1 has 1 votes\n",
      "Total votes: 1\n"
     ]
    },
    {
     "data": {
      "image/png": "[encoded data removed]",
      "text/plain": [
       "<Figure size 640x480 with 1 Axes>"
      ]
     },
     "metadata": {},
     "output_type": "display_data"
    }
   ],
   "source": [
    "# Her er en alt for avanceret afstemningskode-ting. \n",
    "import ipywidgets as widgets\n",
    "from IPython.display import display\n",
    "import matplotlib.pyplot as plt\n",
    "\n",
    "# Dine valgmuligheder\n",
    "choices = ['Project 1', 'Project 2', 'Project 3']\n",
    "\n",
    "# Dette er din \"database\" til at gemme stemmer\n",
    "votes = {choice: 0 for choice in choices}\n",
    "\n",
    "# Lav en knap for hvert valgmulighed\n",
    "buttons = []\n",
    "for choice in choices:\n",
    "    button = widgets.Button(description=choice)\n",
    "    buttons.append(button)\n",
    "\n",
    "# Funktion til at lave plot\n",
    "def plot_votes(votes):\n",
    "    plt.bar(votes.keys(), votes.values())\n",
    "    plt.xlabel('Projects')\n",
    "    plt.ylabel('Votes')\n",
    "    plt.title('Vote Distribution')\n",
    "    plt.show()\n",
    "\n",
    "# Funktion til at håndtere når en knap bliver trykket\n",
    "def on_button_clicked(b):\n",
    "    # Her gemmer vi stemmen\n",
    "    votes[b.description] += 1\n",
    "    # Og opdaterer stemme tæller\n",
    "    print(f'{b.description} has {votes[b.description]} votes')\n",
    "    # Vis det samlede antal stemmer\n",
    "    total_votes = sum(votes.values())\n",
    "    print(f'Total votes: {total_votes}')\n",
    "    # Plot fordelingen af stemmer\n",
    "    plot_votes(votes)\n",
    "\n",
    "# Bind funktionen til hver knap\n",
    "for button in buttons:\n",
    "    button.on_click(on_button_clicked)\n",
    "    display(button)\n"
   ]
  }
 ],
 "metadata": {
  "kernelspec": {
   "display_name": "venv",
   "language": "python",
   "name": "python3"
  },
  "language_info": {
   "codemirror_mode": {
    "name": "ipython",
    "version": 3
   },
   "file_extension": ".py",
   "mimetype": "text/x-python",
   "name": "python",
   "nbconvert_exporter": "python",
   "pygments_lexer": "ipython3",
   "version": "3.11.4"
  },
  "orig_nbformat": 4
 },
 "nbformat": 4,
 "nbformat_minor": 2
}
