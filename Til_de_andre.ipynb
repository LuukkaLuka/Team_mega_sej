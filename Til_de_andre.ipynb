{
 "cells": [
  {
   "cell_type": "code",
   "execution_count": 22,
   "metadata": {},
   "outputs": [
    {
     "name": "stdout",
     "output_type": "stream",
     "text": [
      "                         Name              Party  Year\n",
      "0                   Ida Auken  Socialdemokratiet  2022\n",
      "1           Peter Hummelgaard  Socialdemokratiet  2022\n",
      "2             Mette Reissmann  Socialdemokratiet  2022\n",
      "3  Pernille Rosenkrantz-Theil  Socialdemokratiet  2022\n",
      "4                 Jeppe Bruus  Socialdemokratiet  2022\n"
     ]
    }
   ],
   "source": [
    "import requests\n",
    "from bs4 import BeautifulSoup\n",
    "import pandas as pd\n",
    "\n",
    "# Links\n",
    "links = [\n",
    "    \"https://da.wikipedia.org/wiki/Folketingsmedlemmer_valgt_i_2022\",\n",
    "    \"https://da.wikipedia.org/wiki/Folketingsmedlemmer_valgt_i_2019\",\n",
    "    \"https://da.wikipedia.org/wiki/Folketingsmedlemmer_valgt_i_2015\",\n",
    "    \"https://da.wikipedia.org/wiki/Folketingsmedlemmer_valgt_i_2011\",\n",
    "    \"https://da.wikipedia.org/wiki/Folketingsmedlemmer_valgt_i_2007\",\n",
    "    \"https://da.wikipedia.org/wiki/Folketingsmedlemmer_valgt_i_2005\",\n",
    "    \"https://da.wikipedia.org/wiki/Folketingsmedlemmer_valgt_i_2001\",\n",
    "    \"https://da.wikipedia.org/wiki/Folketingsmedlemmer_valgt_i_1998\",\n",
    "    \"https://da.wikipedia.org/wiki/Folketingsmedlemmer_valgt_i_1994\",\n",
    "    \"https://da.wikipedia.org/wiki/Folketingsmedlemmer_valgt_i_1990\",\n",
    "    \"https://da.wikipedia.org/wiki/Folketingsmedlemmer_valgt_i_1988\",\n",
    "    \"https://da.wikipedia.org/wiki/Folketingsmedlemmer_valgt_i_1987\",\n",
    "    \"https://da.wikipedia.org/wiki/Folketingsmedlemmer_valgt_i_1984\",\n",
    "    \"https://da.wikipedia.org/wiki/Folketingsmedlemmer_valgt_i_1981\",\n",
    "    \"https://da.wikipedia.org/wiki/Folketingsmedlemmer_valgt_i_1979\",\n",
    "    \"https://da.wikipedia.org/wiki/Folketingsmedlemmer_valgt_i_1975\",\n",
    "    \"https://da.wikipedia.org/wiki/Folketingsmedlemmer_valgt_i_1971\",\n",
    "    \"https://da.wikipedia.org/wiki/Folketingsmedlemmer_valgt_i_1968\",\n",
    "    \"https://da.wikipedia.org/wiki/Folketingsmedlemmer_valgt_i_1964\",\n",
    "    \"https://da.wikipedia.org/wiki/Folketingsmedlemmer_valgt_i_1960\"\n",
    "]\n",
    "\n",
    "# Tabelnavne\n",
    "table_names = [\n",
    "    \"De valgte medlemmer\",\n",
    "    \"Valgte folketingsmedlemmer\",\n",
    "    \"Valgte medlemmer ved valget 13.11.2007\",\n",
    "    \"Liste over medlemmerne\",\n",
    "    \"Valgte folketingsmedlemmer ved valget 18.6.2015\",\n",
    "    \"Valgte folketingsmedlemmer ved valget 5. juni 2019\",\n",
    "    \"Valgte 1. november 2022\"\n",
    "]\n",
    "\n",
    "\n",
    "all_data = []\n",
    "\n",
    "for link in links:\n",
    "    response = requests.get(link)\n",
    "    soup = BeautifulSoup(response.content, 'html.parser')\n",
    "    \n",
    "    # Find tabel baseret på tabelnavne\n",
    "    table = None\n",
    "    for table_name in table_names:\n",
    "        target_header = soup.find('span', {'id': table_name.replace(\" \", \"_\")})\n",
    "        if target_header:\n",
    "            table = target_header.find_next('table')\n",
    "            break\n",
    "    \n",
    "    # Hvis en tabel er fundet, fortsæt med at scrappe data\n",
    "    if table:\n",
    "        for row in table.findAll('tr')[1:]:\n",
    "            cells = row.findAll('td')\n",
    "            if cells and len(cells) > 1:\n",
    "                name = cells[0].get_text(strip=True)\n",
    "                party = cells[1].get_text(strip=True)\n",
    "                all_data.append({'Name': name, 'Party': party, 'Year': link.split('_')[-1]})\n",
    "\n",
    "# Omdan til pandas DataFrame\n",
    "df = pd.DataFrame(all_data)\n",
    "\n",
    "# Viser de første rækker af DataFrame for kontrol\n",
    "print(df.head())\n"
   ]
  },
  {
   "cell_type": "code",
   "execution_count": 23,
   "metadata": {},
   "outputs": [],
   "source": [
    "period_counts = df.groupby('Name').size()\n",
    "\n",
    "years_served = df.groupby('Name')['Year'].apply(list)\n",
    "\n",
    "aggregated_df = pd.DataFrame({\n",
    "    'Period_Count': period_counts,\n",
    "    'Years_Served': years_served\n",
    "}).reset_index()\n",
    "\n",
    "def detect_gaps(year_list):\n",
    "    if len(year_list) <= 1:\n",
    "        return False\n",
    "    \n",
    "    # Konverter til heltal\n",
    "    sorted_years = sorted([int(year) for year in year_list])\n",
    "    \n",
    "    for i in range(len(sorted_years)-1):\n",
    "        if sorted_years[i+1] - sorted_years[i] > 4:\n",
    "            return True\n",
    "    return False\n",
    "\n",
    "aggregated_df['Had_Pause'] = aggregated_df['Years_Served'].apply(detect_gaps)"
   ]
  },
  {
   "cell_type": "code",
   "execution_count": 24,
   "metadata": {},
   "outputs": [
    {
     "data": {
      "text/html": [
       "<div>\n",
       "<style scoped>\n",
       "    .dataframe tbody tr th:only-of-type {\n",
       "        vertical-align: middle;\n",
       "    }\n",
       "\n",
       "    .dataframe tbody tr th {\n",
       "        vertical-align: top;\n",
       "    }\n",
       "\n",
       "    .dataframe thead th {\n",
       "        text-align: right;\n",
       "    }\n",
       "</style>\n",
       "<table border=\"1\" class=\"dataframe\">\n",
       "  <thead>\n",
       "    <tr style=\"text-align: right;\">\n",
       "      <th></th>\n",
       "      <th>Name</th>\n",
       "      <th>Period_Count</th>\n",
       "      <th>Years_Served</th>\n",
       "      <th>Had_Pause</th>\n",
       "    </tr>\n",
       "  </thead>\n",
       "  <tbody>\n",
       "    <tr>\n",
       "      <th>1</th>\n",
       "      <td>A. Aage Andersen</td>\n",
       "      <td>1</td>\n",
       "      <td>[1979]</td>\n",
       "      <td>False</td>\n",
       "    </tr>\n",
       "    <tr>\n",
       "      <th>2</th>\n",
       "      <td>A. Stæhr Johansen</td>\n",
       "      <td>2</td>\n",
       "      <td>[1971, 1964]</td>\n",
       "      <td>True</td>\n",
       "    </tr>\n",
       "    <tr>\n",
       "      <th>3</th>\n",
       "      <td>A.C. Normann</td>\n",
       "      <td>3</td>\n",
       "      <td>[1971, 1964, 1960]</td>\n",
       "      <td>True</td>\n",
       "    </tr>\n",
       "    <tr>\n",
       "      <th>4</th>\n",
       "      <td>Aage Brusgaard</td>\n",
       "      <td>3</td>\n",
       "      <td>[1994, 1990, 1988]</td>\n",
       "      <td>False</td>\n",
       "    </tr>\n",
       "    <tr>\n",
       "      <th>5</th>\n",
       "      <td>Aage Fogh</td>\n",
       "      <td>1</td>\n",
       "      <td>[1960]</td>\n",
       "      <td>False</td>\n",
       "    </tr>\n",
       "  </tbody>\n",
       "</table>\n",
       "</div>"
      ],
      "text/plain": [
       "                Name  Period_Count        Years_Served  Had_Pause\n",
       "1   A. Aage Andersen             1              [1979]      False\n",
       "2  A. Stæhr Johansen             2        [1971, 1964]       True\n",
       "3       A.C. Normann             3  [1971, 1964, 1960]       True\n",
       "4     Aage Brusgaard             3  [1994, 1990, 1988]      False\n",
       "5          Aage Fogh             1              [1960]      False"
      ]
     },
     "execution_count": 24,
     "metadata": {},
     "output_type": "execute_result"
    }
   ],
   "source": [
    "aggregated_df = aggregated_df.drop(0)\n",
    "\n",
    "aggregated_df.to_csv(\"politicians_data.csv\", index=False)\n",
    "\n",
    "aggregated_df.head()\n",
    "\n"
   ]
  },
  {
   "cell_type": "code",
   "execution_count": 25,
   "metadata": {},
   "outputs": [],
   "source": [
    "years_served = df.groupby('Name')['Year'].apply(list)\n"
   ]
  },
  {
   "cell_type": "code",
   "execution_count": 26,
   "metadata": {},
   "outputs": [],
   "source": [
    "start_year = df.groupby('Name')['Year'].min()\n",
    "end_year = df.groupby('Name')['Year'].max()\n"
   ]
  },
  {
   "cell_type": "code",
   "execution_count": 27,
   "metadata": {},
   "outputs": [],
   "source": [
    "aggregated_df = pd.DataFrame({\n",
    "    'Period_Count': period_counts,\n",
    "    'Years_Served': years_served\n",
    "}).reset_index()\n"
   ]
  },
  {
   "cell_type": "code",
   "execution_count": 28,
   "metadata": {},
   "outputs": [],
   "source": [
    "aggregated_df = pd.DataFrame({\n",
    "    'Period_Count': period_counts,\n",
    "    'Years_Served': years_served,\n",
    "    'Start_Year': start_year,\n",
    "    'End_Year': end_year\n",
    "}).reset_index()\n"
   ]
  },
  {
   "cell_type": "code",
   "execution_count": 29,
   "metadata": {},
   "outputs": [],
   "source": [
    "#Fjerner politikere med start år i 1960.\n",
    "aggregated_df = aggregated_df[aggregated_df['Start_Year'] != '1960']\n"
   ]
  },
  {
   "cell_type": "code",
   "execution_count": 30,
   "metadata": {},
   "outputs": [
    {
     "data": {
      "text/html": [
       "<div>\n",
       "<style scoped>\n",
       "    .dataframe tbody tr th:only-of-type {\n",
       "        vertical-align: middle;\n",
       "    }\n",
       "\n",
       "    .dataframe tbody tr th {\n",
       "        vertical-align: top;\n",
       "    }\n",
       "\n",
       "    .dataframe thead th {\n",
       "        text-align: right;\n",
       "    }\n",
       "</style>\n",
       "<table border=\"1\" class=\"dataframe\">\n",
       "  <thead>\n",
       "    <tr style=\"text-align: right;\">\n",
       "      <th></th>\n",
       "      <th>Name</th>\n",
       "      <th>Period_Count</th>\n",
       "      <th>Years_Served</th>\n",
       "      <th>Start_Year</th>\n",
       "      <th>End_Year</th>\n",
       "    </tr>\n",
       "  </thead>\n",
       "  <tbody>\n",
       "    <tr>\n",
       "      <th>1</th>\n",
       "      <td>A. Aage Andersen</td>\n",
       "      <td>1</td>\n",
       "      <td>[1979]</td>\n",
       "      <td>1979</td>\n",
       "      <td>1979</td>\n",
       "    </tr>\n",
       "    <tr>\n",
       "      <th>2</th>\n",
       "      <td>A. Stæhr Johansen</td>\n",
       "      <td>2</td>\n",
       "      <td>[1971, 1964]</td>\n",
       "      <td>1964</td>\n",
       "      <td>1971</td>\n",
       "    </tr>\n",
       "    <tr>\n",
       "      <th>4</th>\n",
       "      <td>Aage Brusgaard</td>\n",
       "      <td>3</td>\n",
       "      <td>[1994, 1990, 1988]</td>\n",
       "      <td>1988</td>\n",
       "      <td>1994</td>\n",
       "    </tr>\n",
       "    <tr>\n",
       "      <th>6</th>\n",
       "      <td>Aage Frandsen</td>\n",
       "      <td>6</td>\n",
       "      <td>[2001, 1998, 1994, 1988, 1987, 1971]</td>\n",
       "      <td>1971</td>\n",
       "      <td>2001</td>\n",
       "    </tr>\n",
       "    <tr>\n",
       "      <th>7</th>\n",
       "      <td>Aage Hastrup</td>\n",
       "      <td>2</td>\n",
       "      <td>[1971, 1964]</td>\n",
       "      <td>1964</td>\n",
       "      <td>1971</td>\n",
       "    </tr>\n",
       "  </tbody>\n",
       "</table>\n",
       "</div>"
      ],
      "text/plain": [
       "                Name  Period_Count                          Years_Served  \\\n",
       "1   A. Aage Andersen             1                                [1979]   \n",
       "2  A. Stæhr Johansen             2                          [1971, 1964]   \n",
       "4     Aage Brusgaard             3                    [1994, 1990, 1988]   \n",
       "6      Aage Frandsen             6  [2001, 1998, 1994, 1988, 1987, 1971]   \n",
       "7       Aage Hastrup             2                          [1971, 1964]   \n",
       "\n",
       "  Start_Year End_Year  \n",
       "1       1979     1979  \n",
       "2       1964     1971  \n",
       "4       1988     1994  \n",
       "6       1971     2001  \n",
       "7       1964     1971  "
      ]
     },
     "execution_count": 30,
     "metadata": {},
     "output_type": "execute_result"
    }
   ],
   "source": [
    "aggregated_df = aggregated_df.drop(0)\n",
    "\n",
    "aggregated_df.to_csv(\"politicians_data.csv\", index=False)\n",
    "\n",
    "aggregated_df.head()\n",
    "\n"
   ]
  },
  {
   "cell_type": "markdown",
   "metadata": {},
   "source": [
    "# Survival model"
   ]
  },
  {
   "cell_type": "code",
   "execution_count": 31,
   "metadata": {},
   "outputs": [],
   "source": [
    "from lifelines import KaplanMeierFitter\n",
    "import matplotlib.pyplot as plt\n"
   ]
  },
  {
   "cell_type": "code",
   "execution_count": 32,
   "metadata": {},
   "outputs": [],
   "source": [
    "def detect_gaps(year_list):\n",
    "    if len(year_list) <= 1:\n",
    "        return False\n",
    "    sorted_years = sorted([int(year) for year in year_list])\n",
    "    for i in range(len(sorted_years)-1):\n",
    "        if sorted_years[i+1] - sorted_years[i] > 4:\n",
    "            return True\n",
    "    return False\n",
    "\n",
    "aggregated_df['Had_Pause'] = aggregated_df['Years_Served'].apply(detect_gaps)\n",
    "\n",
    "# Hvis vi ikke allerede har 'Duration' kolonnen, tilføjer vi den:\n",
    "aggregated_df['Duration'] = aggregated_df['End_Year'].astype(int) - aggregated_df['Start_Year'].astype(int)\n"
   ]
  },
  {
   "cell_type": "code",
   "execution_count": 33,
   "metadata": {},
   "outputs": [],
   "source": [
    "# Hvis en politiker havde en pause, betragter vi det som en \"død\" i denne analyse, dvs. de stoppede med politik.\n",
    "T = aggregated_df['Duration']\n",
    "E = aggregated_df['Had_Pause'].astype(int)\n"
   ]
  },
  {
   "cell_type": "code",
   "execution_count": 34,
   "metadata": {},
   "outputs": [
    {
     "data": {
      "text/plain": [
       "<lifelines.KaplanMeierFitter:\"KM_estimate\", fitted with 1085 total observations, 930 right-censored observations>"
      ]
     },
     "execution_count": 34,
     "metadata": {},
     "output_type": "execute_result"
    }
   ],
   "source": [
    "kmf = KaplanMeierFitter()\n",
    "kmf.fit(T, event_observed=E)\n"
   ]
  },
  {
   "cell_type": "code",
   "execution_count": 35,
   "metadata": {},
   "outputs": [
    {
     "data": {
      "image/png": "[encoded data removed]",
      "text/plain": [
       "<Figure size 1000x700 with 1 Axes>"
      ]
     },
     "metadata": {},
     "output_type": "display_data"
    }
   ],
   "source": [
    "plt.figure(figsize=(10,7))\n",
    "kmf.plot()\n",
    "plt.title(\"Survival function of Danish Politicians\")\n",
    "plt.ylabel(\"Probability a Politician is Still Active\")\n",
    "plt.xlabel(\"Years\")\n",
    "plt.show()\n"
   ]
  },
  {
   "cell_type": "markdown",
   "metadata": {},
   "source": [
    "# Lidt ekstra:"
   ]
  },
  {
   "cell_type": "code",
   "execution_count": 36,
   "metadata": {},
   "outputs": [
    {
     "name": "stdout",
     "output_type": "stream",
     "text": [
      "Antallet af unikke politikere, der har siddet i Folketinget i perioden 1960-2022: 1085\n"
     ]
    }
   ],
   "source": [
    "unique_politicians_count = aggregated_df['Name'].nunique()\n",
    "print(f\"Antallet af unikke politikere, der har siddet i Folketinget i perioden 1960-2022: {unique_politicians_count}\")"
   ]
  },
  {
   "cell_type": "markdown",
   "metadata": {},
   "source": [
    "# Her har jeg hentet ANTAL HITS pr år"
   ]
  },
  {
   "cell_type": "code",
   "execution_count": null,
   "metadata": {},
   "outputs": [],
   "source": [
    "from selenium import webdriver\n",
    "from selenium.webdriver.common.by import By\n",
    "from selenium.webdriver.chrome.options import Options  \n",
    "from selenium.webdriver.support.ui import WebDriverWait\n",
    "from selenium.webdriver.support import expected_conditions as EC\n",
    "from bs4 import BeautifulSoup\n",
    "import pandas as pd\n",
    "import re\n",
    "import time\n",
    "\n",
    "chrome_options = Options()\n",
    "chrome_options.add_argument('--headless')\n",
    "\n",
    "def get_hits_for_politician(name):\n",
    "    driver = webdriver.Chrome(options=chrome_options)  \n",
    "    url = f\"https://www.information.dk/search/site/{name.replace(' ', '%20')}\"\n",
    "    driver.get(url)\n",
    "\n",
    "    try:\n",
    "        element = WebDriverWait(driver, 10).until(\n",
    "            EC.presence_of_element_located((By.ID, \"acceptButton\"))\n",
    "        )\n",
    "        element.click()\n",
    "    except:\n",
    "        print(f\"Kunne ikke finde eller klikke på acceptButton for {name}.\")\n",
    "\n",
    "    page_source = driver.page_source\n",
    "    soup = BeautifulSoup(page_source, 'html.parser')\n",
    "    \n",
    "    # Initialize all years with 0\n",
    "    data = {str(year): 0 for year in range(1960, 2024)}  \n",
    "\n",
    "    years_section = soup.find('div', class_='pane-content')\n",
    "    if years_section:\n",
    "        year_links = years_section.find_all('a', class_='facetapi-inactive')\n",
    "        for link in year_links:\n",
    "            year_text = link.get_text()\n",
    "            match = re.search(r'(\\d{4}) \\((\\d+)\\)', year_text)\n",
    "            if match:\n",
    "                year, count = match.groups()\n",
    "                data[year] = int(count)\n",
    "\n",
    "    driver.quit()\n",
    "    data[\"Name\"] = name\n",
    "    return data\n",
    "\n",
    "# Initialize the CSV with headers if it doesn't exist\n",
    "try:\n",
    "    pd.read_csv('politicians_data1.csv')\n",
    "except FileNotFoundError:\n",
    "    headers = [\"Name\"] + [str(year) for year in range(1960, 2024)]\n",
    "    initial_df = pd.DataFrame(columns=headers)\n",
    "    initial_df.to_csv('politicians_data1.csv', index=False)\n",
    "\n",
    "# Check if there's any existing data\n",
    "try:\n",
    "    existing_data = pd.read_csv('politicians_data1.csv')\n",
    "    scraped_politicians = set(existing_data[\"Name\"].tolist())\n",
    "except FileNotFoundError:\n",
    "    scraped_politicians = set()\n",
    "\n",
    "politicians = aggregated_df[\"Name\"]\n",
    "\n",
    "for name in politicians:\n",
    "    if name not in scraped_politicians:\n",
    "        row = get_hits_for_politician(name)\n",
    "        # Gem i CSV efter hver politiker (append mode)\n",
    "        temp_df = pd.DataFrame([row])\n",
    "        temp_df.to_csv('politicians_data1.csv', mode='a', header=False, index=False)\n",
    "        # Pause for at undgå at overbelaste serveren\n",
    "        time.sleep(10)  # Pause i 10 sekunder\n",
    "\n",
    "df = pd.read_csv('politicians_data1.csv')\n",
    "df.set_index(\"Name\", inplace=True)\n",
    "\n",
    "df\n"
   ]
  },
  {
   "cell_type": "markdown",
   "metadata": {},
   "source": [
    "Denne kode tog cirka 5 timer at køre "
   ]
  },
  {
   "cell_type": "code",
   "execution_count": null,
   "metadata": {},
   "outputs": [],
   "source": [
    "df.rename(columns={'2023': 'Name1'}, inplace=True)\n"
   ]
  },
  {
   "cell_type": "code",
   "execution_count": null,
   "metadata": {},
   "outputs": [],
   "source": [
    "for year in range(2022, 1959, -1):\n",
    "    df.rename(columns={str(year): str(year+1)}, inplace=True)\n",
    "\n",
    "df.rename(columns={'Name': '1960'}, inplace=True)\n"
   ]
  },
  {
   "cell_type": "code",
   "execution_count": null,
   "metadata": {},
   "outputs": [],
   "source": [
    "df.rename(columns={'Name1': 'Name'}, inplace=True)\n",
    "\n",
    "df "
   ]
  },
  {
   "cell_type": "markdown",
   "metadata": {},
   "source": [
    "# Nu bruger jeg denne data og merger med min anden data, så jeg kan markere, hvornår de gik ud af politik"
   ]
  },
  {
   "cell_type": "code",
   "execution_count": null,
   "metadata": {},
   "outputs": [],
   "source": [
    "import pandas as pd\n",
    "\n",
    "# Antager at aggregated_df og df er defineret som tidligere\n",
    "\n",
    "# Konverter \"Name\"-kolonnen i begge dataframes til strengtype\n",
    "df['Name'] = df['Name'].astype(str)\n",
    "aggregated_df['Name'] = aggregated_df['Name'].astype(str)\n",
    "\n",
    "# Vi joiner aggregated_df og df på \"Name\"\n",
    "combined_df = df.join(aggregated_df.set_index('Name'), on='Name')\n",
    "\n",
    "# fjern NaN værdier fra alle kolonner, som har numeriske værdier\n",
    "combined_df.fillna(0, inplace=True)\n",
    "\n",
    "# Konverter kun de nødvendige kolonner (årskolonnerne) til int\n",
    "for col in combined_df.columns:\n",
    "    if col.isnumeric():  # Tjekker om kolonnenavnet er et årstal\n",
    "        combined_df[col] = combined_df[col].astype(int)\n",
    "\n",
    "def highlight_year(row):\n",
    "    \"\"\" Denne funktion markerer året, hvor politikeren forlod politik, med rødt \"\"\"\n",
    "    color = {}\n",
    "    # Hvis End_Year er mindre end 2022, så tages det år, ellers tages intet\n",
    "    end_year = row['End_Year'] if row['End_Year'] < 2022 else None\n",
    "    for column in combined_df.columns:\n",
    "        if str(end_year) == column:  # Check om kolonnen matcher det år, politikeren forlod politik\n",
    "            color[column] = 'background-color: red'\n",
    "        else:\n",
    "            color[column] = ''\n",
    "    return pd.Series(color)\n",
    "\n",
    "# Vis combined_df med style-applikationen\n",
    "styled_df = combined_df.style.apply(highlight_year, axis=1)\n",
    "styled_df\n"
   ]
  },
  {
   "cell_type": "code",
   "execution_count": null,
   "metadata": {},
   "outputs": [],
   "source": [
    "# Kopier den originale dataframe\n",
    "new_df = combined_df.copy()\n",
    "\n",
    "# Filter rækker, hvor politikeren forlod politik og der ikke var nogen omtale det år eller tidligere år\n",
    "to_drop = []\n",
    "\n",
    "for index, row in new_df.iterrows():\n",
    "    end_year = row['End_Year']\n",
    "    # Hvis End_Year er mindre end 2022\n",
    "    if end_year < 2022:\n",
    "        # Hvis summen af medieomtale for det år og alle tidligere år er 0\n",
    "        if sum(row[str(year)] for year in range(1960, int(end_year)+1)) == 0:\n",
    "            to_drop.append(index)\n",
    "\n",
    "# Drop de identificerede rækker\n",
    "new_df.drop(to_drop, inplace=True)\n",
    "\n",
    "new_df.reset_index(drop=True, inplace=True)\n"
   ]
  },
  {
   "cell_type": "code",
   "execution_count": null,
   "metadata": {},
   "outputs": [],
   "source": [
    "# Find alle kolonner med en sum på 0\n",
    "cols_to_drop = [col for col in new_df.columns if new_df[col].sum() == 0 and col.isnumeric()]\n",
    "\n",
    "# Drop de identificerede kolonner\n",
    "new_df.drop(columns=cols_to_drop, inplace=True)\n",
    "\n",
    "#Efter at have udført denne kode, vil new_df ikke have nogen kolonner (år), hvor summen af hits for alle politikere er 0.\n",
    "\n",
    "new_df "
   ]
  },
  {
   "cell_type": "code",
   "execution_count": null,
   "metadata": {},
   "outputs": [],
   "source": [
    "# Gemmer dataframes som CSV-filer\n",
    "new_df.to_csv('filtered_data.csv', index=False)\n",
    "df.to_csv('original_data.csv', index=False)\n"
   ]
  },
  {
   "cell_type": "markdown",
   "metadata": {},
   "source": [
    "# Artikler hentes her! "
   ]
  },
  {
   "cell_type": "code",
   "execution_count": null,
   "metadata": {},
   "outputs": [],
   "source": [
    "from selenium import webdriver\n",
    "from bs4 import BeautifulSoup\n",
    "\n",
    "def scrape_single_page(url):\n",
    "    driver = webdriver.Chrome(options=chrome_options)\n",
    "    driver.get(url)\n",
    "    html = driver.page_source\n",
    "    soup = BeautifulSoup(html, 'html.parser')\n",
    "    \n",
    "\n",
    "    all_divs = soup.find_all('div')\n",
    "    \n",
    "\n",
    "    article_divs = [div for div in all_divs if \"node-article\" in str(div)]\n",
    "    \n",
    "\n",
    "    data_list = []\n",
    "    for article in article_divs:\n",
    "        data = {}\n",
    "        title_element = article.find('h3')\n",
    "        if title_element:\n",
    "            data[\"Titel\"] = title_element.text.strip()\n",
    "        if data:  \n",
    "            data_list.append(data)\n",
    "\n",
    "    driver.close()\n",
    "    return data_list\n",
    "\n",
    "# Test scraping\n",
    "url = \"https://www.information.dk/search/site/Aki-Matilda%2520H%25C3%25B8egh-Dam\"\n",
    "data_list = scrape_single_page(url)\n",
    "#print(data_list)\n",
    "unique_data_list = [dict(t) for t in {tuple(d.items()) for d in data_list}]\n",
    "print(unique_data_list)\n",
    "\n"
   ]
  },
  {
   "cell_type": "code",
   "execution_count": null,
   "metadata": {},
   "outputs": [],
   "source": [
    "from selenium import webdriver\n",
    "from bs4 import BeautifulSoup\n",
    "from time import sleep\n",
    "import csv\n",
    "\n",
    "chrome_options = webdriver.ChromeOptions()\n",
    "chrome_options.add_argument(\"--headless\")\n",
    "\n",
    "def scrape_single_page(url, politician_name):\n",
    "    driver = webdriver.Chrome(options=chrome_options)\n",
    "    driver.get(url)\n",
    "    sleep(2)  # Pause, og vent på load\n",
    "    html = driver.page_source\n",
    "    soup = BeautifulSoup(html, 'html.parser')\n",
    "    all_divs = soup.find_all('div', class_='node-article')\n",
    "    data_list = []\n",
    "\n",
    "    for article in all_divs:\n",
    "        data = {}\n",
    "        title_element = article.find('h3')\n",
    "        if title_element:\n",
    "            data[\"Titel\"] = title_element.text.strip()\n",
    "        \n",
    "        date_element = article.find('li', class_='date')\n",
    "        if date_element:\n",
    "            data[\"Dato\"] = date_element.text.strip()\n",
    "        \n",
    "        subtitle_element = article.find('div', class_='field-name-field-web-underrubrik')\n",
    "        if subtitle_element:\n",
    "            data[\"Underrubrik\"] = subtitle_element.text.strip()\n",
    "        \n",
    "        data[\"Politiker\"] = politician_name  # Navn\n",
    "        \n",
    "        if data:\n",
    "            data_list.append(data)\n",
    "\n",
    "    driver.close()\n",
    "    return data_list\n",
    "\n",
    "def get_article_data_for_politician(name):\n",
    "    base_url = f\"https://www.information.dk/search/site/{name.replace(' ', '%20')}\"\n",
    "    page_number = 0\n",
    "    all_data = []\n",
    "\n",
    "    while True:\n",
    "        current_url = f\"{base_url}?page={page_number}\" if page_number > 0 else base_url\n",
    "        current_data = scrape_single_page(current_url, name)  # Navn\n",
    "        if not current_data:  # Hvis vi ikke får ny data, har vi nået enden\n",
    "            break\n",
    "        all_data.extend(current_data)\n",
    "        page_number += 1\n",
    "\n",
    "    return all_data\n",
    "\n",
    "def save_to_csv(data_list, filename):\n",
    "    keys = [\"Politiker\", \"Titel\", \"Dato\", \"Underrubrik\"]\n",
    "    with open(filename, 'w', newline='', encoding='utf-8') as output_file:\n",
    "        dict_writer = csv.DictWriter(output_file, fieldnames=keys)\n",
    "        dict_writer.writeheader()\n",
    "        dict_writer.writerows(data_list)\n",
    "\n",
    "if __name__ == \"__main__\":\n",
    "    politician_name = \"Aki-Matilda Høegh-Dam\"\n",
    "    data = get_article_data_for_politician(politician_name)\n",
    "    save_to_csv(data, \"articles.csv\")\n",
    "    \n",
    "    # Konverter data-listen til en pandas DataFrame og vis den\n",
    "    df = pd.DataFrame(data)\n"
   ]
  },
  {
   "cell_type": "code",
   "execution_count": null,
   "metadata": {},
   "outputs": [],
   "source": [
    "df"
   ]
  },
  {
   "cell_type": "code",
   "execution_count": null,
   "metadata": {},
   "outputs": [],
   "source": [
    "import pandas as pd\n",
    "from afinn import Afinn\n",
    "\n",
    "# 1. Læs datasættet og kombiner 'Titel' og 'Underrubrik'\n",
    "data = pd.read_csv('articles.csv')\n",
    "data['Combined_Text'] = data['Titel'] + \". \" + data['Underrubrik']\n",
    "\n",
    "# 2. Rens teksten\n",
    "def clean_text(document):\n",
    "    document = document.lower()  # Konverter til små bogstaver\n",
    "    document = re.sub(r'<[^>]*>', ' ', document)  # Fjern HTML\n",
    "    document = re.sub(r'[^\\w\\s]', '', document)  # Fjern ikke-alfanumeriske tegn\n",
    "    return document\n",
    "\n",
    "data['Cleaned_Text'] = data['Combined_Text'].apply(clean_text)\n",
    "\n",
    "# 3. Brug AFINN til sentiment-analyse\n",
    "afinn = Afinn(language='da')  # 'da' står for dansk\n",
    "data['AFINN_Score'] = data['Cleaned_Text'].apply(afinn.score)\n",
    "\n",
    "# Konverter AFINN scores til kategoriske labels\n",
    "def score_to_label(score):\n",
    "    if score > 0:\n",
    "        return 1   # positive\n",
    "    elif score < 0:\n",
    "        if score < -2:\n",
    "            return -2  # extra negative\n",
    "        return -1  # negative\n",
    "    else:\n",
    "        return 0   # neutral\n",
    "\n",
    "data['Label'] = data['AFINN_Score'].apply(score_to_label)\n",
    "\n",
    "# Gem dataen\n",
    "data.to_csv('updated_data_with_labels.csv', index=False)\n"
   ]
  },
  {
   "cell_type": "code",
   "execution_count": null,
   "metadata": {},
   "outputs": [],
   "source": [
    "import pandas as pd\n",
    "\n",
    "# CSV-filen\n",
    "df = pd.read_csv('updated_data_with_labels.csv')\n",
    "\n",
    "#  DataFrame\n",
    "df.head()\n"
   ]
  },
  {
   "cell_type": "code",
   "execution_count": null,
   "metadata": {},
   "outputs": [],
   "source": [
    "from sklearn.model_selection import train_test_split\n",
    "from sklearn.feature_extraction.text import TfidfVectorizer\n",
    "from sklearn.linear_model import LogisticRegression\n",
    "from sklearn.metrics import classification_report\n",
    "from joblib import dump, load\n",
    "\n",
    "# 1. Opdeling af Data\n",
    "X = data['Cleaned_Text']  # Opdateret kolonnenavnet her\n",
    "y = data['Label']\n",
    "X_train, X_test, y_train, y_test = train_test_split(X, y, test_size=0.2, random_state=42)\n",
    "\n",
    "# 2. Vektorisering af Tekst\n",
    "vectorizer = TfidfVectorizer()\n",
    "X_train_vec = vectorizer.fit_transform(X_train)\n",
    "X_test_vec = vectorizer.transform(X_test)\n",
    "\n",
    "# 3. Træning af Modellen\n",
    "model = LogisticRegression(random_state=0, max_iter=1000)  # Øget max_iter for at undgå konvergensproblemer\n",
    "model.fit(X_train_vec, y_train)\n",
    "\n",
    "# 4. Evaluering\n",
    "y_pred = model.predict(X_test_vec)\n",
    "print(classification_report(y_test, y_pred))\n",
    "\n",
    "# 5. Gem modellen og vectorizer for senere brug\n",
    "dump(model, 'logistic_regression_model.joblib')\n",
    "dump(vectorizer, 'tfidf_vectorizer.joblib')\n",
    "\n",
    "# Når vi vil indlæse modellen og vectorizer senere:\n",
    "# model = load('logistic_regression_model.joblib')\n",
    "# vectorizer = load('tfidf_vectorizer.joblib')\n"
   ]
  },
  {
   "cell_type": "code",
   "execution_count": null,
   "metadata": {},
   "outputs": [],
   "source": [
    "print(classification_report(y_test, y_pred, zero_division=1))\n"
   ]
  }
 ],
 "metadata": {
  "kernelspec": {
   "display_name": "venv",
   "language": "python",
   "name": "python3"
  },
  "language_info": {
   "codemirror_mode": {
    "name": "ipython",
    "version": 3
   },
   "file_extension": ".py",
   "mimetype": "text/x-python",
   "name": "python",
   "nbconvert_exporter": "python",
   "pygments_lexer": "ipython3",
   "version": "3.11.4"
  },
  "orig_nbformat": 4
 },
 "nbformat": 4,
 "nbformat_minor": 2
}
