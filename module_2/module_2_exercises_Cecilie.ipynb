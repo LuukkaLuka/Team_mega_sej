{
 "cells": [
  {
   "cell_type": "markdown",
   "metadata": {
    "ExecuteTime": {
     "end_time": "2017-08-23T15:30:03.634114Z",
     "start_time": "2017-08-23T15:30:03.629294Z"
    }
   },
   "source": [
    "# Videos and Exercises for Session 2: Data Structuring in Pandas I\n",
    "\n",
    "In this combined teaching module and exercise set, you will be working with structuring data. \n",
    "\n",
    "We will start out with a recap of some basic function and methods that become available in pandas. Then there will be a short intermezzo, where you will be required to think a bit about how to write readible code and make use of the method chaining opportunities that come with python. Then finally, you will get to work with some more advanced data types that are handled natively with pandas. The structure is as follows:\n",
    "1. Welcome (Back to) Pandas\n",
    "    - DataFrames and Series\n",
    "    - Operations with Elementary Data Types in the Context of Pandas\n",
    "        - Boolean Series\n",
    "        - String Operations\n",
    "        - Numeric Operations and Methods\n",
    "2. Readible Code and Method Chaining\n",
    "3. More Advanced Data Types\n",
    "    - Categorical Data\n",
    "    - Time Series Data\n",
    "    \n",
    "**NOTE:** I might be speaking quite slowly in some of the videos. A good advice is to turn up the speed to x1.25 or x1.5 if you want to get through without spending too much time:)"
   ]
  },
  {
   "cell_type": "markdown",
   "metadata": {
    "ExecuteTime": {
     "end_time": "2017-08-23T15:30:03.634114Z",
     "start_time": "2017-08-23T15:30:03.629294Z"
    }
   },
   "source": [
    "## Loading\n",
    "Load in the required modules:"
   ]
  },
  {
   "cell_type": "code",
   "execution_count": 2,
   "metadata": {},
   "outputs": [],
   "source": [
    "#%matplotlib inline\n",
    "import numpy as np\n",
    "import pandas as pd\n",
    "import matplotlib.pyplot as plt\n",
    "from IPython.display import YouTubeVideo\n",
    "import requests\n",
    "import seaborn as sns\n",
    "\n",
    "import numpy as np  # NumPy er en pakke til videnskabelig beregning i Python. Den tilføjer understøttelse for store multi-dimensionelle arrays og matricer,\n",
    "# sammen med en stor samling af matematiske funktioner til at operere på disse arrays.\n",
    "\n",
    "import pandas as pd  # Pandas er en pakke, der leverer højtydende, let-tilgængelige datastrukturer og dataanalyseværktøjer. Den er fantastisk til at håndtere og\n",
    "# analysere data i tabelform.\n",
    "\n",
    "import matplotlib.pyplot as plt  # Matplotlib er en plotting pakke. Du kan bruge den til at lave grafer og plots. Funktionen 'pyplot' er et submodul i matplotlib, \n",
    "# som giver en samling af kommandostilfunktioner, der gør matplotlib arbejde ligesom MATLAB.\n",
    "\n",
    "from IPython.display import display  # IPython er en pakke, der tillader interaktiv brug af Python. 'display' er en funktion i IPython, der kan vise smukke \n",
    "# repræsentationer af forskellige objekter som HTML, PNG, etc. Du vil bruge det, når du ønsker at vise noget pænere end print-udtalelsen.\n",
    "\n",
    "import scipy  # SciPy er en pakke, der bruges til teknisk og videnskabelig beregning. Den bygger på NumPy og giver yderligere funktioner.\n",
    "\n",
    "import sklearn  # Scikit-learn er en maskinlæringsbibliotek for Python. Det indeholder en række overvågede og uovervågede læringsalgoritmer.\n",
    "\n",
    "import statsmodels  # Statsmodels er en pakke, der primært anvendes til at lave statistiske modeller. Den indeholder også funktioner til at udføre statistiske \n",
    "# tests og dataudforskning.\n",
    "\n",
    "# %matplotlib inline  # Dette er en \"magic command\" i IPython, der gør at plots vises direkte i notebook'en i stedet for at åbne i en ny vindue. Dette er ikke en pakke, \n",
    "# men en kommando specifik for Jupyter notebooks.\n",
    "\n",
    "from IPython.display import YouTubeVideo  # Dette er en funktion fra IPython pakken, der tillader dig at indlejre en YouTube video i din notebook.\n",
    "\n",
    "import requests  # Requests er en pakke til at sende HTTP requests. Den er meget brugbar, når du vil interagere med web services.\n",
    "\n",
    "import seaborn as sns  # Seaborn er en data visualiseringsbibliotek baseret på matplotlib. Den giver et højere niveau interface for at lave pæne og informative \n",
    "# statistiske grafer.\n",
    "\n",
    "import sqlalchemy as sqla\n",
    "\n",
    "import scraping_class\n",
    "\n",
    "\n"
   ]
  },
  {
   "cell_type": "markdown",
   "metadata": {},
   "source": [
    "Wonder what `%matplotlib inline` does? It's not too important for now. However, if you are interested, you can read more about it [here](https://stackoverflow.com/questions/43027980/purpose-of-matplotlib-inline)."
   ]
  },
  {
   "cell_type": "markdown",
   "metadata": {},
   "source": [
    "# Part 1: Welcome (Back to) Pandas\n",
    "\n",
    "As mentioned during the lecture, data structuring skills are necessary to become a great data scientist. There is no way around it.\n",
    "\n",
    "Let's start with the basics. In the first video, we start out by talking about the fundamentals of Pandas: \n",
    "- The Pandas DataFrame and the Pandas Series. \n",
    "- We then proceed and discuss how indices and colums can be named and selected. \n",
    "- Finally, we make some simple operations.\n",
    "\n",
    "**NOTE:** This is mainly repitition of what you already worked with in assignment 0. If you feel comfortable with this, you should proceed to the associated exercises that will get you warmed up for the rest of this notebook."
   ]
  },
  {
   "cell_type": "markdown",
   "metadata": {},
   "source": []
  },
  {
   "cell_type": "code",
   "execution_count": 3,
   "metadata": {},
   "outputs": [
    {
     "data": {
      "image/jpeg": "[encoded data removed]",
      "text/html": [
       "\n",
       "        <iframe\n",
       "            width=\"640\"\n",
       "            height=\"360\"\n",
       "            src=\"https://www.youtube.com/embed/uSiqryfDYo0\"\n",
       "            frameborder=\"0\"\n",
       "            allowfullscreen\n",
       "            \n",
       "        ></iframe>\n",
       "        "
      ],
      "text/plain": [
       "<IPython.lib.display.YouTubeVideo at 0x20b5c155c50>"
      ]
     },
     "execution_count": 3,
     "metadata": {},
     "output_type": "execute_result"
    }
   ],
   "source": [
    "YouTubeVideo('uSiqryfDYo0', width=640, height=360)"
   ]
  },
  {
   "cell_type": "markdown",
   "metadata": {},
   "source": [
    "In this set of introductory exercises, we are going to briefly touch upon some of the tools from the video. Again, be aware that there is going to be some repition of the content from assignment 0 here - but these things are all very useful to get under your skin!\n",
    "\n",
    "> **Ex. 2.1.1**: Run the following two lines below. Explain to yourself what the second line did, and how each entry affected it. In relation to this, what did the first line ensure? When can this be useful? Try and play around with the seed."
   ]
  },
  {
   "cell_type": "code",
   "execution_count": 4,
   "metadata": {},
   "outputs": [
    {
     "data": {
      "text/plain": [
       "array([[ 5.,  0.,  2.],\n",
       "       [ 4.,  7., 20.],\n",
       "       [ 1.,  4.,  2.],\n",
       "       ...,\n",
       "       [ 1., 25.,  5.],\n",
       "       [ 1., 47.,  6.],\n",
       "       [ 4.,  1.,  3.]])"
      ]
     },
     "execution_count": 4,
     "metadata": {},
     "output_type": "execute_result"
    }
   ],
   "source": [
    "np.random.seed(seed=161193)\n",
    "np_arr=np.round(np.random.exponential(10, size=(10**5,3)),0)\n",
    "np_arr \n",
    "# Koden laver en NumPy 'array' der hedder np_arr som har dimensionerne 10^5 * 3. \n",
    "# Vi har sørget for, at hver værdi er tilfældigt trukket fra en exponential fordeling (with a scale parameter of 10). \n",
    "# GPT: The np.random.seed() function sets the random seed to a specific value (161193 in this case) to ensure reproducibility. \n",
    "# The np.round() function rounds each element in the array to the nearest integer value. Finally, the generated array is returned and printed."
   ]
  },
  {
   "cell_type": "markdown",
   "metadata": {},
   "source": [
    "Now, we want you to investigate how easy it is to go from a numpy `array` to a pandas `DataFrame`. You are going to do something similar to this repeatedly in this course!\n",
    "\n",
    "> **Ex. 2.1.2**: Create a Pandas DataFrame called `my_df` from `np_arr`:"
   ]
  },
  {
   "cell_type": "code",
   "execution_count": 5,
   "metadata": {
    "nbgrader": {
     "grade": false,
     "grade_id": "cell-6ed6b4feaaf73052",
     "locked": false,
     "schema_version": 3,
     "solution": true,
     "task": false
    }
   },
   "outputs": [
    {
     "data": {
      "text/html": [
       "<div>\n",
       "<style scoped>\n",
       "    .dataframe tbody tr th:only-of-type {\n",
       "        vertical-align: middle;\n",
       "    }\n",
       "\n",
       "    .dataframe tbody tr th {\n",
       "        vertical-align: top;\n",
       "    }\n",
       "\n",
       "    .dataframe thead th {\n",
       "        text-align: right;\n",
       "    }\n",
       "</style>\n",
       "<table border=\"1\" class=\"dataframe\">\n",
       "  <thead>\n",
       "    <tr style=\"text-align: right;\">\n",
       "      <th></th>\n",
       "      <th>0</th>\n",
       "      <th>1</th>\n",
       "      <th>2</th>\n",
       "    </tr>\n",
       "  </thead>\n",
       "  <tbody>\n",
       "    <tr>\n",
       "      <th>0</th>\n",
       "      <td>5.0</td>\n",
       "      <td>0.0</td>\n",
       "      <td>2.0</td>\n",
       "    </tr>\n",
       "    <tr>\n",
       "      <th>1</th>\n",
       "      <td>4.0</td>\n",
       "      <td>7.0</td>\n",
       "      <td>20.0</td>\n",
       "    </tr>\n",
       "    <tr>\n",
       "      <th>2</th>\n",
       "      <td>1.0</td>\n",
       "      <td>4.0</td>\n",
       "      <td>2.0</td>\n",
       "    </tr>\n",
       "    <tr>\n",
       "      <th>3</th>\n",
       "      <td>3.0</td>\n",
       "      <td>9.0</td>\n",
       "      <td>4.0</td>\n",
       "    </tr>\n",
       "    <tr>\n",
       "      <th>4</th>\n",
       "      <td>5.0</td>\n",
       "      <td>2.0</td>\n",
       "      <td>13.0</td>\n",
       "    </tr>\n",
       "    <tr>\n",
       "      <th>...</th>\n",
       "      <td>...</td>\n",
       "      <td>...</td>\n",
       "      <td>...</td>\n",
       "    </tr>\n",
       "    <tr>\n",
       "      <th>99995</th>\n",
       "      <td>2.0</td>\n",
       "      <td>7.0</td>\n",
       "      <td>14.0</td>\n",
       "    </tr>\n",
       "    <tr>\n",
       "      <th>99996</th>\n",
       "      <td>5.0</td>\n",
       "      <td>3.0</td>\n",
       "      <td>7.0</td>\n",
       "    </tr>\n",
       "    <tr>\n",
       "      <th>99997</th>\n",
       "      <td>1.0</td>\n",
       "      <td>25.0</td>\n",
       "      <td>5.0</td>\n",
       "    </tr>\n",
       "    <tr>\n",
       "      <th>99998</th>\n",
       "      <td>1.0</td>\n",
       "      <td>47.0</td>\n",
       "      <td>6.0</td>\n",
       "    </tr>\n",
       "    <tr>\n",
       "      <th>99999</th>\n",
       "      <td>4.0</td>\n",
       "      <td>1.0</td>\n",
       "      <td>3.0</td>\n",
       "    </tr>\n",
       "  </tbody>\n",
       "</table>\n",
       "<p>100000 rows × 3 columns</p>\n",
       "</div>"
      ],
      "text/plain": [
       "         0     1     2\n",
       "0      5.0   0.0   2.0\n",
       "1      4.0   7.0  20.0\n",
       "2      1.0   4.0   2.0\n",
       "3      3.0   9.0   4.0\n",
       "4      5.0   2.0  13.0\n",
       "...    ...   ...   ...\n",
       "99995  2.0   7.0  14.0\n",
       "99996  5.0   3.0   7.0\n",
       "99997  1.0  25.0   5.0\n",
       "99998  1.0  47.0   6.0\n",
       "99999  4.0   1.0   3.0\n",
       "\n",
       "[100000 rows x 3 columns]"
      ]
     },
     "execution_count": 5,
     "metadata": {},
     "output_type": "execute_result"
    }
   ],
   "source": [
    "my_df = pd.DataFrame(np_arr) # Nu laver vi np_arr om til en panda data frame.\n",
    "my_df"
   ]
  },
  {
   "cell_type": "markdown",
   "metadata": {},
   "source": [
    "Before we continue working with this DataFrame, we want to make sure that you are capable of transforming it back to different types of containers. This is another very fundamental tool in your data science toolbox.\n",
    "\n",
    "> **Ex. 2.1.3**: In the following cell, generate an `array`, a `list` and a `dict` from `my_df` (you should be able to do each of these things in one line). Verify that you did this properly by printing your output. Inspect the dictionary: How do you access the value associated with the column index 2 and row index 8543?"
   ]
  },
  {
   "cell_type": "code",
   "execution_count": 6,
   "metadata": {
    "nbgrader": {
     "grade": false,
     "grade_id": "cell-5481f267f2cf0cb9",
     "locked": false,
     "schema_version": 3,
     "solution": true,
     "task": false
    }
   },
   "outputs": [
    {
     "data": {
      "text/plain": [
       "8540    16.0\n",
       "8541     2.0\n",
       "8542    12.0\n",
       "8543    13.0\n",
       "8544     7.0\n",
       "8545     4.0\n",
       "8546     2.0\n",
       "8547     5.0\n",
       "8548     6.0\n",
       "8549    19.0\n",
       "Name: 2, dtype: float64"
      ]
     },
     "execution_count": 6,
     "metadata": {},
     "output_type": "execute_result"
    }
   ],
   "source": [
    "\n",
    "my_arr = my_df.values\n",
    "my_dict = my_df.to_dict()\n",
    "my_list = my_df.values.tolist()\n",
    "\n",
    "my_dict[2][8543]\n",
    "\n",
    "my_subset = my_df.iloc[8540:8550, 2]\n",
    "my_subset"
   ]
  },
  {
   "cell_type": "markdown",
   "metadata": {},
   "source": [
    "A noticeable distiction between pandas dataframes and, say, numpy arrays is the option to label indices and (in particular) columns. This is helpful when working with large sets of data.\n",
    "\n",
    "> **Ex. 2.1.4**: Going back to the DataFrame `my_df`, we now want you to try the following: \n",
    "> 1. Label the columns 'apples', 'bananas' and 'oranges'\n",
    "> 2. Change the indices to 'cust**x**' where **x** is a sequential numbering of the lines starting from 1 (*hint:* There are many ways to do this, e.g. with a list comprehension!)\n",
    "> 3. Print the first 10 observations using the `head()` method."
   ]
  },
  {
   "cell_type": "markdown",
   "metadata": {},
   "source": [
    "Alternative: [indx.append('cust{a}'.format(a=i+1)) for i in range(len(my_df))]"
   ]
  },
  {
   "cell_type": "code",
   "execution_count": 7,
   "metadata": {
    "nbgrader": {
     "grade": false,
     "grade_id": "cell-9453d49738b2ecdb",
     "locked": false,
     "schema_version": 3,
     "solution": true,
     "task": false
    }
   },
   "outputs": [
    {
     "data": {
      "text/html": [
       "<div>\n",
       "<style scoped>\n",
       "    .dataframe tbody tr th:only-of-type {\n",
       "        vertical-align: middle;\n",
       "    }\n",
       "\n",
       "    .dataframe tbody tr th {\n",
       "        vertical-align: top;\n",
       "    }\n",
       "\n",
       "    .dataframe thead th {\n",
       "        text-align: right;\n",
       "    }\n",
       "</style>\n",
       "<table border=\"1\" class=\"dataframe\">\n",
       "  <thead>\n",
       "    <tr style=\"text-align: right;\">\n",
       "      <th></th>\n",
       "      <th>Apples</th>\n",
       "      <th>Bananas</th>\n",
       "      <th>Oranges</th>\n",
       "    </tr>\n",
       "  </thead>\n",
       "  <tbody>\n",
       "    <tr>\n",
       "      <th>cust1</th>\n",
       "      <td>5.0</td>\n",
       "      <td>0.0</td>\n",
       "      <td>2.0</td>\n",
       "    </tr>\n",
       "    <tr>\n",
       "      <th>cust2</th>\n",
       "      <td>4.0</td>\n",
       "      <td>7.0</td>\n",
       "      <td>20.0</td>\n",
       "    </tr>\n",
       "    <tr>\n",
       "      <th>cust3</th>\n",
       "      <td>1.0</td>\n",
       "      <td>4.0</td>\n",
       "      <td>2.0</td>\n",
       "    </tr>\n",
       "    <tr>\n",
       "      <th>cust4</th>\n",
       "      <td>3.0</td>\n",
       "      <td>9.0</td>\n",
       "      <td>4.0</td>\n",
       "    </tr>\n",
       "    <tr>\n",
       "      <th>cust5</th>\n",
       "      <td>5.0</td>\n",
       "      <td>2.0</td>\n",
       "      <td>13.0</td>\n",
       "    </tr>\n",
       "    <tr>\n",
       "      <th>cust6</th>\n",
       "      <td>2.0</td>\n",
       "      <td>6.0</td>\n",
       "      <td>0.0</td>\n",
       "    </tr>\n",
       "    <tr>\n",
       "      <th>cust7</th>\n",
       "      <td>12.0</td>\n",
       "      <td>16.0</td>\n",
       "      <td>14.0</td>\n",
       "    </tr>\n",
       "    <tr>\n",
       "      <th>cust8</th>\n",
       "      <td>30.0</td>\n",
       "      <td>5.0</td>\n",
       "      <td>18.0</td>\n",
       "    </tr>\n",
       "    <tr>\n",
       "      <th>cust9</th>\n",
       "      <td>21.0</td>\n",
       "      <td>0.0</td>\n",
       "      <td>2.0</td>\n",
       "    </tr>\n",
       "    <tr>\n",
       "      <th>cust10</th>\n",
       "      <td>11.0</td>\n",
       "      <td>14.0</td>\n",
       "      <td>1.0</td>\n",
       "    </tr>\n",
       "  </tbody>\n",
       "</table>\n",
       "</div>"
      ],
      "text/plain": [
       "        Apples  Bananas  Oranges\n",
       "cust1      5.0      0.0      2.0\n",
       "cust2      4.0      7.0     20.0\n",
       "cust3      1.0      4.0      2.0\n",
       "cust4      3.0      9.0      4.0\n",
       "cust5      5.0      2.0     13.0\n",
       "cust6      2.0      6.0      0.0\n",
       "cust7     12.0     16.0     14.0\n",
       "cust8     30.0      5.0     18.0\n",
       "cust9     21.0      0.0      2.0\n",
       "cust10    11.0     14.0      1.0"
      ]
     },
     "execution_count": 7,
     "metadata": {},
     "output_type": "execute_result"
    }
   ],
   "source": [
    "cols = ['Apples', 'Bananas', 'Oranges'] # Laver kolonner\n",
    "\n",
    "indx = [] # Laver tomt \n",
    "[indx.append(f'cust{i+1}') for i in range(len(my_df))]\n",
    "\n",
    "# This code creates a list of strings to be appended to the indx list. The strings are of the form 'cust' + i + 1, where i is the index of the current iteration in the range from 0 to \n",
    "# the len(gth) of the dataframe my_df.\n",
    "# The code uses a list comprehension to iterate over the indices in the range and generate the strings. The resulting list of strings is then appended to the indx list.\n",
    "\n",
    "my_df.columns, my_df.index = cols, indx\n",
    "\n",
    "# This code assigns the variables cols and indx to the columns and index attributes of the DataFrame my_df, respectively. \n",
    "# It effectively changes the names of the columns and the index of the DataFrame based on the values of cols and indx.\n",
    "\n",
    "my_df.head(10)\n"
   ]
  },
  {
   "cell_type": "markdown",
   "metadata": {},
   "source": [
    "As we saw in the video, we can basically extract a series from a pandas dataframe by simply selecting one column from the dataframe and storing it as a new object.\n",
    "\n",
    "> **Ex. 2.1.5**: Now, we want you to select only a single column and inspect the output a bit:\n",
    "> 1. Select 'apples' and store it as 'apples_ser'. Try using the key-based method and the object-based method, respectively. \n",
    "> 2. Check the data type. Thinking about our first lines of code, why is it not an `integer`? Convert the data in both 'apples_ser' and 'my_df' to intergers."
   ]
  },
  {
   "cell_type": "code",
   "execution_count": 8,
   "metadata": {
    "nbgrader": {
     "grade": false,
     "grade_id": "cell-26cb4b96a8d3b0fb",
     "locked": false,
     "schema_version": 3,
     "solution": true,
     "task": false
    },
    "scrolled": true
   },
   "outputs": [
    {
     "data": {
      "text/html": [
       "<div>\n",
       "<style scoped>\n",
       "    .dataframe tbody tr th:only-of-type {\n",
       "        vertical-align: middle;\n",
       "    }\n",
       "\n",
       "    .dataframe tbody tr th {\n",
       "        vertical-align: top;\n",
       "    }\n",
       "\n",
       "    .dataframe thead th {\n",
       "        text-align: right;\n",
       "    }\n",
       "</style>\n",
       "<table border=\"1\" class=\"dataframe\">\n",
       "  <thead>\n",
       "    <tr style=\"text-align: right;\">\n",
       "      <th></th>\n",
       "      <th>Apples</th>\n",
       "      <th>Bananas</th>\n",
       "      <th>Oranges</th>\n",
       "    </tr>\n",
       "  </thead>\n",
       "  <tbody>\n",
       "    <tr>\n",
       "      <th>cust1</th>\n",
       "      <td>5</td>\n",
       "      <td>0</td>\n",
       "      <td>2</td>\n",
       "    </tr>\n",
       "    <tr>\n",
       "      <th>cust2</th>\n",
       "      <td>4</td>\n",
       "      <td>7</td>\n",
       "      <td>20</td>\n",
       "    </tr>\n",
       "    <tr>\n",
       "      <th>cust3</th>\n",
       "      <td>1</td>\n",
       "      <td>4</td>\n",
       "      <td>2</td>\n",
       "    </tr>\n",
       "    <tr>\n",
       "      <th>cust4</th>\n",
       "      <td>3</td>\n",
       "      <td>9</td>\n",
       "      <td>4</td>\n",
       "    </tr>\n",
       "    <tr>\n",
       "      <th>cust5</th>\n",
       "      <td>5</td>\n",
       "      <td>2</td>\n",
       "      <td>13</td>\n",
       "    </tr>\n",
       "    <tr>\n",
       "      <th>...</th>\n",
       "      <td>...</td>\n",
       "      <td>...</td>\n",
       "      <td>...</td>\n",
       "    </tr>\n",
       "    <tr>\n",
       "      <th>cust99996</th>\n",
       "      <td>2</td>\n",
       "      <td>7</td>\n",
       "      <td>14</td>\n",
       "    </tr>\n",
       "    <tr>\n",
       "      <th>cust99997</th>\n",
       "      <td>5</td>\n",
       "      <td>3</td>\n",
       "      <td>7</td>\n",
       "    </tr>\n",
       "    <tr>\n",
       "      <th>cust99998</th>\n",
       "      <td>1</td>\n",
       "      <td>25</td>\n",
       "      <td>5</td>\n",
       "    </tr>\n",
       "    <tr>\n",
       "      <th>cust99999</th>\n",
       "      <td>1</td>\n",
       "      <td>47</td>\n",
       "      <td>6</td>\n",
       "    </tr>\n",
       "    <tr>\n",
       "      <th>cust100000</th>\n",
       "      <td>4</td>\n",
       "      <td>1</td>\n",
       "      <td>3</td>\n",
       "    </tr>\n",
       "  </tbody>\n",
       "</table>\n",
       "<p>100000 rows × 3 columns</p>\n",
       "</div>"
      ],
      "text/plain": [
       "            Apples  Bananas  Oranges\n",
       "cust1            5        0        2\n",
       "cust2            4        7       20\n",
       "cust3            1        4        2\n",
       "cust4            3        9        4\n",
       "cust5            5        2       13\n",
       "...            ...      ...      ...\n",
       "cust99996        2        7       14\n",
       "cust99997        5        3        7\n",
       "cust99998        1       25        5\n",
       "cust99999        1       47        6\n",
       "cust100000       4        1        3\n",
       "\n",
       "[100000 rows x 3 columns]"
      ]
     },
     "execution_count": 8,
     "metadata": {},
     "output_type": "execute_result"
    }
   ],
   "source": [
    "# Metode 1\n",
    "apples_ser = my_df['Apples']\n",
    "apples_ser \n",
    "\n",
    "# Metode 2\n",
    "apples_ser = my_df.Apples\n",
    "apples_ser \n",
    "\n",
    "apples_ser = apples_ser.astype(int) #why is it not an `integer`? Fordi vi brugte exponential fordeling og rundede op basically.\n",
    "my_df = my_df.astype(int)\n",
    "my_df \n",
    "\n",
    "# GPT forklarer: \n",
    "# Lad mig gå lidt mere i detaljer med forklaringerne:\n",
    "\n",
    "# 1. `apples_ser = my_df['Apples']`: Dette er den primære måde at få adgang til en kolonne i en pandas DataFrame. Den returnerer en Serie (pandas' egen datatypen, \n",
    "# som er en slags en-dimensionel array), der indeholder alle værdierne fra kolonnen 'Apples' i DataFrame `my_df`. Kolonnenavnet 'Apples' er angivet i firkantede \n",
    "# parenteser som en streng.\n",
    "\n",
    "# 2. `apples_ser = my_df.Apples`: Dette er en anden måde at få adgang til en kolonne på. Det er mere kortfattet, men det har sine begrænsninger. \n",
    "# Det kan kun bruges, hvis kolonnenavnet er en gyldig Python variabelnavn (dvs. ingen mellemrum, specielle tegn osv.), og det er ikke en af DataFrame-objektets \n",
    "# foruddefinerede metoder eller attributter.\n",
    "\n",
    "# 3. `apples_ser = apples_ser.astype(int)`: Dette konverterer data typen af 'apples_ser' serien til integer. Dette kan være nødvendigt, hvis værdierne oprindeligt \n",
    "# er i en anden datatype, såsom floating-point. Din kommentar om at bruge den eksponentielle fordeling og afrunding er korrekt. Normalt, når du runder op eller ned, \n",
    "# bliver resultatet stadig et flydende tal i Python, selvom det ser ud til at være et helt tal. Så du skal eksplicit konvertere det til int for at fjerne decimaldelen.\n",
    "\n",
    "# 4. `my_df = my_df.astype(int)`: Dette konverterer alle kolonnerne i DataFrame `my_df` til integer. Hvis der er kolonner, der indeholder ikke-numeriske værdier, \n",
    "# vil denne linje give en fejl. Hvis alle kolonner i din DataFrame indeholder numeriske værdier, vil denne linje konvertere dem alle til int, uanset om de oprindeligt \n",
    "# var float eller int.\n",
    "\n",
    "# Overordnet set: Kodeblokken behandler dataudtræk fra en DataFrame, og konverterer datatyper fra float til int. Den bruger to forskellige måder at få adgang til \n",
    "# kolonner på i en DataFrame og demonstrerer, hvordan du kan konvertere datatyperne for både Serier og DataFrames."
   ]
  },
  {
   "cell_type": "markdown",
   "metadata": {},
   "source": [
    "## Boolean Series"
   ]
  },
  {
   "cell_type": "code",
   "execution_count": 9,
   "metadata": {},
   "outputs": [
    {
     "data": {
      "image/jpeg": "[encoded data removed]",
      "text/html": [
       "\n",
       "        <iframe\n",
       "            width=\"640\"\n",
       "            height=\"360\"\n",
       "            src=\"https://www.youtube.com/embed/CfiV8QmfGVk\"\n",
       "            frameborder=\"0\"\n",
       "            allowfullscreen\n",
       "            \n",
       "        ></iframe>\n",
       "        "
      ],
      "text/plain": [
       "<IPython.lib.display.YouTubeVideo at 0x20b5c7fd6d0>"
      ]
     },
     "execution_count": 9,
     "metadata": {},
     "output_type": "execute_result"
    }
   ],
   "source": [
    "YouTubeVideo('CfiV8QmfGVk', width=640, height=360)"
   ]
  },
  {
   "cell_type": "markdown",
   "metadata": {},
   "source": [
    "Boolean 'data' is the simplest data type that we work with. These variables are binary, and basically represent a True or False value. As seen in the video, they become extraordinarily useful when working with pandas series. In particular, boolean series can be applied when we only want to work with certain rows in a dataframe.\n",
    "\n",
    "> **Ex. 2.1.6**: Drop all rows for which 'Apples' is strictly smaller than 5."
   ]
  },
  {
   "cell_type": "code",
   "execution_count": 10,
   "metadata": {
    "nbgrader": {
     "grade": false,
     "grade_id": "cell-63fd4d48def27a6e",
     "locked": false,
     "schema_version": 3,
     "solution": true,
     "task": false
    }
   },
   "outputs": [
    {
     "name": "stdout",
     "output_type": "stream",
     "text": [
      "        min      mean    max  median\n",
      "Apples  5.0  14.53115  130.0    11.0\n",
      "           Apples     Bananas     Oranges\n",
      "min       5.00000    0.000000    0.000000\n",
      "mean     14.53115    9.893338    9.892006\n",
      "max     130.00000  102.000000  102.000000\n",
      "median   11.00000    7.000000    7.000000\n"
     ]
    }
   ],
   "source": [
    "my_df = my_df[my_df['Apples']>=5] # Dropper alle værdier der er under eller lig med 5. \n",
    "\n",
    "#For me: \n",
    "# Descriptives for Apples\n",
    "descriptive_stats = my_df['Apples'].agg(['min', 'mean', 'max', 'median'])\n",
    "\n",
    "# to convert series to DataFrame\n",
    "descriptive_stats_df = descriptive_stats.to_frame().T\n",
    "\n",
    "print(descriptive_stats_df)\n",
    "\n",
    "#Descriptives for alle\n",
    "# assuming my_df is your DataFrame\n",
    "descriptive_stats = my_df.agg(['min', 'mean', 'max', 'median'])\n",
    "\n",
    "print(descriptive_stats)\n",
    "\n"
   ]
  },
  {
   "cell_type": "markdown",
   "metadata": {},
   "source": [
    "## Numeric Operications and Methods"
   ]
  },
  {
   "cell_type": "code",
   "execution_count": 11,
   "metadata": {},
   "outputs": [
    {
     "data": {
      "image/jpeg": "[encoded data removed]",
      "text/html": [
       "\n",
       "        <iframe\n",
       "            width=\"640\"\n",
       "            height=\"360\"\n",
       "            src=\"https://www.youtube.com/embed/ClB-n1f9sBM\"\n",
       "            frameborder=\"0\"\n",
       "            allowfullscreen\n",
       "            \n",
       "        ></iframe>\n",
       "        "
      ],
      "text/plain": [
       "<IPython.lib.display.YouTubeVideo at 0x20b22313cd0>"
      ]
     },
     "execution_count": 11,
     "metadata": {},
     "output_type": "execute_result"
    }
   ],
   "source": [
    "YouTubeVideo('ClB-n1f9sBM', width=640, height=360)"
   ]
  },
  {
   "cell_type": "markdown",
   "metadata": {},
   "source": [
    "As we saw in the video, we can easily make vectorized operations with multiple numpy arrays as well as pandas series and dataframes. This feature can become useful in many cases - in particular, when you have a large set of data and you do not want to make a (computationally exhaustive) loop through all you observation.\n",
    "\n",
    "> **Ex. 2.1.7**: In this exercise, we want you to make operations on multiple vectors and matrices using a combination of numpy arrays and pandas dataframes.\n",
    "> 1. Create a numpy array (with 3 elements) of costs associated with different types of fruits. Call this 'price'. Entries should be 1, 4 and 3, respectively.\n",
    "> 2. Create a new dataframe with information on each costumer's expenses associated with each type of fruit. This should involve multiplying your cost array with the 'my_df'.\n",
    "> 3. Create a new column called 'Total expenditure' by summing over fruit-specific prices for each customer (*hint:* Learn more about such sum [here](https://pandas.pydata.org/docs/reference/api/pandas.DataFrame.sum.html)).\n",
    "> 4. Sort the dataframe by total expenditure, starting with the customer with highest expenditure."
   ]
  },
  {
   "cell_type": "code",
   "execution_count": 30,
   "metadata": {
    "nbgrader": {
     "grade": false,
     "grade_id": "cell-815c7a5459d9da6a",
     "locked": false,
     "schema_version": 3,
     "solution": true,
     "task": false
    },
    "scrolled": true
   },
   "outputs": [
    {
     "name": "stdout",
     "output_type": "stream",
     "text": [
      "           Apples     Bananas     Oranges  Total expenditure\n",
      "min       5.00000    0.000000    0.000000           5.000000\n",
      "mean     14.53115   39.573351   29.676019          83.780519\n",
      "max     130.00000  408.000000  306.000000         562.000000\n",
      "median   11.00000   28.000000   21.000000          73.000000\n"
     ]
    }
   ],
   "source": [
    "\n",
    "price = np.array([1, 4, 3]) #Prisen for frugterne hver især\n",
    "\n",
    "exp_df = my_df*price # Laver ny dataframe med prisen for antal købte frugter (ialt)\n",
    "\n",
    "exp_df['Total expenditure'] = exp_df.sum(axis=1) #Laver en ny kolonne der beregnes som summen af rækkerne (axis=1). \n",
    "\n",
    "exp_df.sort_values(by='Total expenditure', ascending=False, inplace=True) # Sorterer ud fra total expenditure.\n",
    "\n",
    "exp_df # Printer \n",
    "\n",
    "\n",
    "# For me: \n",
    "\n",
    "descriptive_stats2 = exp_df.agg(['min', 'mean', 'max', 'median'])\n",
    "print(descriptive_stats2)\n",
    "\n"
   ]
  },
  {
   "cell_type": "markdown",
   "metadata": {},
   "source": [
    "When we have a large data set, it is difficult to get an idea of it's characteristics by simply sorting and printing. In such cases, we much rather want to look at some kinds of descriptive statistics for our data. \n",
    "\n",
    "> **Ex. 2.1.8**: In this exercise, we will ask you to use two methods from the video in order to shed some light on the distribution of total expenditure:\n",
    "> 1. Use `describe()` to get an idea about the distribution of total expenditure in the data set. What does the distance between `mean` and the `50%` quantile tell you about the skewness?\n",
    "> 2. Use the `cut` method to split the sample into 6 equal sized bins of expenditures from 0 to 600. Find the *share* of observations within each of these bins (we will work more with *categorical data* later in this session)."
   ]
  },
  {
   "cell_type": "code",
   "execution_count": 13,
   "metadata": {
    "nbgrader": {
     "grade": false,
     "grade_id": "cell-43666d5bd6421188",
     "locked": false,
     "schema_version": 3,
     "solution": true,
     "task": false
    }
   },
   "outputs": [
    {
     "data": {
      "text/plain": [
       "Total expenditure\n",
       "(0, 100]      0.705860\n",
       "(100, 200]    0.262011\n",
       "(200, 300]    0.029513\n",
       "(300, 400]    0.002350\n",
       "(400, 500]    0.000219\n",
       "(500, 600]    0.000047\n",
       "Name: count, dtype: float64"
      ]
     },
     "execution_count": 13,
     "metadata": {},
     "output_type": "execute_result"
    }
   ],
   "source": [
    "\n",
    "np.round(exp_df['Total expenditure'].describe(),2) # Descriptive stats. Anden version. \n",
    "\n",
    "cuts = np.arange(0,700, 100) \n",
    "cuts_2 = pd.cut(exp_df['Total expenditure'], cuts) #Laver variabel til beregningen, der deler total expenditure op ud fra vores cuts.\n",
    "cuts_2.value_counts()/exp_df['Total expenditure'].count() #Beregningen for at finde cuts.\n"
   ]
  },
  {
   "cell_type": "markdown",
   "metadata": {},
   "source": [
    "## String Operations"
   ]
  },
  {
   "cell_type": "code",
   "execution_count": 14,
   "metadata": {},
   "outputs": [
    {
     "data": {
      "image/jpeg": "[encoded data removed]",
      "text/html": [
       "\n",
       "        <iframe\n",
       "            width=\"640\"\n",
       "            height=\"360\"\n",
       "            src=\"https://www.youtube.com/embed/Yjdd8rKj_WI\"\n",
       "            frameborder=\"0\"\n",
       "            allowfullscreen\n",
       "            \n",
       "        ></iframe>\n",
       "        "
      ],
      "text/plain": [
       "<IPython.lib.display.YouTubeVideo at 0x20b5c7fe450>"
      ]
     },
     "execution_count": 14,
     "metadata": {},
     "output_type": "execute_result"
    }
   ],
   "source": [
    "YouTubeVideo('Yjdd8rKj_WI', width=640, height=360)"
   ]
  },
  {
   "cell_type": "markdown",
   "metadata": {},
   "source": [
    "Finally, we saw that pandas handles string variable natively. In particular, there is a set of string-specific operations (`.str`) that can be applied to a whole pandas series without having to loop through each row.\n",
    "\n",
    "> **Ex. 2.1.9**: In this final introductory exercise, we want you to \n",
    "> 1. Create a new variable (column) based on the index called 'Customer'. This should capitalize the customer id and write out 'Cust' to 'Customer' (i.e. you should get something similar to 'Customer **x**'). \n",
    "> 2. Reset the index."
   ]
  },
  {
   "cell_type": "code",
   "execution_count": 15,
   "metadata": {
    "nbgrader": {
     "grade": false,
     "grade_id": "cell-efe56b530ff9005c",
     "locked": false,
     "schema_version": 3,
     "solution": true,
     "task": false
    }
   },
   "outputs": [
    {
     "data": {
      "text/html": [
       "<div>\n",
       "<style scoped>\n",
       "    .dataframe tbody tr th:only-of-type {\n",
       "        vertical-align: middle;\n",
       "    }\n",
       "\n",
       "    .dataframe tbody tr th {\n",
       "        vertical-align: top;\n",
       "    }\n",
       "\n",
       "    .dataframe thead th {\n",
       "        text-align: right;\n",
       "    }\n",
       "</style>\n",
       "<table border=\"1\" class=\"dataframe\">\n",
       "  <thead>\n",
       "    <tr style=\"text-align: right;\">\n",
       "      <th></th>\n",
       "      <th>Apples</th>\n",
       "      <th>Bananas</th>\n",
       "      <th>Oranges</th>\n",
       "      <th>Total expenditure</th>\n",
       "      <th>Customer</th>\n",
       "    </tr>\n",
       "  </thead>\n",
       "  <tbody>\n",
       "    <tr>\n",
       "      <th>0</th>\n",
       "      <td>14</td>\n",
       "      <td>368</td>\n",
       "      <td>180</td>\n",
       "      <td>562</td>\n",
       "      <td>Customer 2459</td>\n",
       "    </tr>\n",
       "    <tr>\n",
       "      <th>1</th>\n",
       "      <td>9</td>\n",
       "      <td>372</td>\n",
       "      <td>150</td>\n",
       "      <td>531</td>\n",
       "      <td>Customer 12385</td>\n",
       "    </tr>\n",
       "    <tr>\n",
       "      <th>2</th>\n",
       "      <td>31</td>\n",
       "      <td>300</td>\n",
       "      <td>171</td>\n",
       "      <td>502</td>\n",
       "      <td>Customer 50360</td>\n",
       "    </tr>\n",
       "    <tr>\n",
       "      <th>3</th>\n",
       "      <td>22</td>\n",
       "      <td>332</td>\n",
       "      <td>93</td>\n",
       "      <td>447</td>\n",
       "      <td>Customer 66559</td>\n",
       "    </tr>\n",
       "    <tr>\n",
       "      <th>4</th>\n",
       "      <td>44</td>\n",
       "      <td>204</td>\n",
       "      <td>195</td>\n",
       "      <td>443</td>\n",
       "      <td>Customer 36884</td>\n",
       "    </tr>\n",
       "    <tr>\n",
       "      <th>...</th>\n",
       "      <td>...</td>\n",
       "      <td>...</td>\n",
       "      <td>...</td>\n",
       "      <td>...</td>\n",
       "      <td>...</td>\n",
       "    </tr>\n",
       "    <tr>\n",
       "      <th>63832</th>\n",
       "      <td>5</td>\n",
       "      <td>0</td>\n",
       "      <td>0</td>\n",
       "      <td>5</td>\n",
       "      <td>Customer 45372</td>\n",
       "    </tr>\n",
       "    <tr>\n",
       "      <th>63833</th>\n",
       "      <td>5</td>\n",
       "      <td>0</td>\n",
       "      <td>0</td>\n",
       "      <td>5</td>\n",
       "      <td>Customer 12524</td>\n",
       "    </tr>\n",
       "    <tr>\n",
       "      <th>63834</th>\n",
       "      <td>5</td>\n",
       "      <td>0</td>\n",
       "      <td>0</td>\n",
       "      <td>5</td>\n",
       "      <td>Customer 4308</td>\n",
       "    </tr>\n",
       "    <tr>\n",
       "      <th>63835</th>\n",
       "      <td>5</td>\n",
       "      <td>0</td>\n",
       "      <td>0</td>\n",
       "      <td>5</td>\n",
       "      <td>Customer 70191</td>\n",
       "    </tr>\n",
       "    <tr>\n",
       "      <th>63836</th>\n",
       "      <td>5</td>\n",
       "      <td>0</td>\n",
       "      <td>0</td>\n",
       "      <td>5</td>\n",
       "      <td>Customer 4190</td>\n",
       "    </tr>\n",
       "  </tbody>\n",
       "</table>\n",
       "<p>63837 rows × 5 columns</p>\n",
       "</div>"
      ],
      "text/plain": [
       "       Apples  Bananas  Oranges  Total expenditure        Customer\n",
       "0          14      368      180                562   Customer 2459\n",
       "1           9      372      150                531  Customer 12385\n",
       "2          31      300      171                502  Customer 50360\n",
       "3          22      332       93                447  Customer 66559\n",
       "4          44      204      195                443  Customer 36884\n",
       "...       ...      ...      ...                ...             ...\n",
       "63832       5        0        0                  5  Customer 45372\n",
       "63833       5        0        0                  5  Customer 12524\n",
       "63834       5        0        0                  5   Customer 4308\n",
       "63835       5        0        0                  5  Customer 70191\n",
       "63836       5        0        0                  5   Customer 4190\n",
       "\n",
       "[63837 rows x 5 columns]"
      ]
     },
     "execution_count": 15,
     "metadata": {},
     "output_type": "execute_result"
    }
   ],
   "source": [
    "# Laver kolonnen 'Customer' der er de første 4 værdier af index, der altid er 'cust'. Tilføjer 'omer ' (='customer ') og tilføjer index nummeret til sidst.\n",
    "exp_df['Customer'] = exp_df.index.str[0:4] + 'omer ' + exp_df.index.str[4:]\n",
    "\n",
    "# Capitalize 'Customer'. Altså laver første bogstav stort.\n",
    "exp_df['Customer'] = exp_df['Customer'].str.capitalize() \n",
    "\n",
    "# Resetter index for dataframen.\n",
    "exp_df.reset_index(drop=True) #Bemærk at denne operation ikke ændrer exp_df direkte, medmindre du tildeler resultatet tilbage til exp_df, f.eks. exp_df = exp_df.reset_index(drop=True).\n"
   ]
  },
  {
   "cell_type": "markdown",
   "metadata": {},
   "source": [
    "# Part 2: Readible Code\n",
    "\n",
    "Before proceeding to part 3 on advanced data types that are handled natively in pandas, we want you to think a bit about writing readable code. In particular, if we have lots of code, it may be very difficult for others or ourselves to read. Therefore, providing some structure and meta text can help reading the code.\n",
    "\n",
    "In the following, you will learn about readible code. Then we ask you to use what you learned in order to process the NOAA data from assignment 0. Don't spend too long on this exercise - we are going to use the data for the following exercises."
   ]
  },
  {
   "cell_type": "markdown",
   "metadata": {},
   "source": [
    "## Commenting\n",
    "\n",
    "When making code it's good practice to document different parts of the code. In particular describing functions and complex code. The example below shows how to make multi-line comments (as a string, which is not assigned) and in-line comments using the `#` character.\n",
    "\n",
    "```python\n",
    "def my_fct(x,y):\n",
    "    ''' \n",
    "    Computes the sum of input values (multi-line comment as string)\n",
    "    '''\n",
    "    z = x+y # Here we perform the summation (in-line comment)\n",
    "    return z\n",
    "```\n",
    "\n",
    "\n",
    "## Method chaining\n",
    "\n",
    "We can write multiple operations together by putting them one after the other, which is known as `method chaining`. Using this, we only need to assign them once to a new object and therefore we save a lot of code. We change the example below into one using a method chain:\n",
    "\n",
    "Example without method chain\n",
    "```python\n",
    "df_temp1 = df.loc[selection]\n",
    "df_temp2 = df_temp1.sort_values(by=X)\n",
    "df_out = df_temp2.reset_index()\n",
    "```\n",
    "\n",
    "Example with method chain - one line\n",
    "\n",
    "```python\n",
    "df_out = df.loc[selection].sort_values(by=X).reset_index()\n",
    "```\n",
    "As seen in the example, although using less code, our method chain will get more and more difficult to read if we include two or more operations. We can overcome this problem of long chains by splitting into multiple lines with line breaks:\n",
    "\n",
    "Example with method chain - line break\n",
    "```python\n",
    "df_out = df\\\n",
    "        .loc[selection]\\\n",
    "        .sort_values(by=X)\\\n",
    "        .reset_index()\n",
    "```\n",
    "\n",
    "Note that the backslash allows us to make a visual line break, but the code is read as one line.\n"
   ]
  },
  {
   "cell_type": "markdown",
   "metadata": {},
   "source": [
    "## Exercises for Part 2\n",
    "\n",
    "We continue with the exercise of analyzing NOAA data. We start out reviewing what we did in Assignment 0. "
   ]
  },
  {
   "cell_type": "markdown",
   "metadata": {},
   "source": [
    "> **Ex. 2.2.1:** The code below runs through all the steps we completed in Assignment 0.4 step by step. Your task is to document this code in your own words. You should also make your own annotation of parts. In addition, you should make the code more readable by applying method chaining.\n",
    "> \n",
    ">*Hint:* After loading the data and selecting the first four columns, everything can be stated in one method chain! It's OK if you use more, though.\n",
    "\n",
    "```python\n",
    "import pandas as pd\n",
    "\n",
    "def load_weather(year):\n",
    "    \n",
    "    url = f\"ftp://ftp.ncdc.noaa.gov/pub/data/ghcn/daily/by_year/{year}.csv.gz\"\n",
    "\n",
    "    df_weather = pd.read_csv(url, \n",
    "                             header=None)        \n",
    "\n",
    "    df_weather = df_weather.iloc[:,:4] \n",
    "    \n",
    "    column_names = ['station', 'datetime', 'obs_type', 'obs_value']\n",
    "    df_weather.columns = column_names \n",
    "    \n",
    "    df_weather['obs_value'] = df_weather['obs_value'] / 10 \n",
    "    \n",
    "    selection_tmax = df_weather.obs_type == 'TMAX'\n",
    "    df_select = df_weather.loc[selection_tmax]\n",
    "    \n",
    "    df_sorted = df_select.sort_values(by=['station', 'datetime'])\n",
    "    df_reset = df_sorted.reset_index(drop=True)\n",
    "    df_out = df_reset.copy()\n",
    "            \n",
    "    return df_out\n",
    "```"
   ]
  },
  {
   "cell_type": "code",
   "execution_count": 16,
   "metadata": {
    "nbgrader": {
     "grade": false,
     "grade_id": "cell-25487430558396f5",
     "locked": false,
     "schema_version": 3,
     "solution": true,
     "task": false
    }
   },
   "outputs": [
    {
     "data": {
      "text/html": [
       "<div>\n",
       "<style scoped>\n",
       "    .dataframe tbody tr th:only-of-type {\n",
       "        vertical-align: middle;\n",
       "    }\n",
       "\n",
       "    .dataframe tbody tr th {\n",
       "        vertical-align: top;\n",
       "    }\n",
       "\n",
       "    .dataframe thead th {\n",
       "        text-align: right;\n",
       "    }\n",
       "</style>\n",
       "<table border=\"1\" class=\"dataframe\">\n",
       "  <thead>\n",
       "    <tr style=\"text-align: right;\">\n",
       "      <th></th>\n",
       "      <th>station</th>\n",
       "      <th>datetime</th>\n",
       "      <th>obs_type</th>\n",
       "      <th>obs_value</th>\n",
       "    </tr>\n",
       "  </thead>\n",
       "  <tbody>\n",
       "    <tr>\n",
       "      <th>0</th>\n",
       "      <td>AGE00135039</td>\n",
       "      <td>18630102</td>\n",
       "      <td>TMAX</td>\n",
       "      <td>11.5</td>\n",
       "    </tr>\n",
       "    <tr>\n",
       "      <th>1</th>\n",
       "      <td>AGE00135039</td>\n",
       "      <td>18630103</td>\n",
       "      <td>TMAX</td>\n",
       "      <td>11.0</td>\n",
       "    </tr>\n",
       "    <tr>\n",
       "      <th>2</th>\n",
       "      <td>AGE00135039</td>\n",
       "      <td>18630105</td>\n",
       "      <td>TMAX</td>\n",
       "      <td>15.5</td>\n",
       "    </tr>\n",
       "    <tr>\n",
       "      <th>3</th>\n",
       "      <td>AGE00135039</td>\n",
       "      <td>18630106</td>\n",
       "      <td>TMAX</td>\n",
       "      <td>16.5</td>\n",
       "    </tr>\n",
       "    <tr>\n",
       "      <th>4</th>\n",
       "      <td>AGE00135039</td>\n",
       "      <td>18630107</td>\n",
       "      <td>TMAX</td>\n",
       "      <td>15.0</td>\n",
       "    </tr>\n",
       "    <tr>\n",
       "      <th>...</th>\n",
       "      <td>...</td>\n",
       "      <td>...</td>\n",
       "      <td>...</td>\n",
       "      <td>...</td>\n",
       "    </tr>\n",
       "    <tr>\n",
       "      <th>5505</th>\n",
       "      <td>USW00014838</td>\n",
       "      <td>18630727</td>\n",
       "      <td>TMAX</td>\n",
       "      <td>20.6</td>\n",
       "    </tr>\n",
       "    <tr>\n",
       "      <th>5506</th>\n",
       "      <td>USW00014838</td>\n",
       "      <td>18630728</td>\n",
       "      <td>TMAX</td>\n",
       "      <td>19.9</td>\n",
       "    </tr>\n",
       "    <tr>\n",
       "      <th>5507</th>\n",
       "      <td>USW00014838</td>\n",
       "      <td>18630729</td>\n",
       "      <td>TMAX</td>\n",
       "      <td>25.1</td>\n",
       "    </tr>\n",
       "    <tr>\n",
       "      <th>5508</th>\n",
       "      <td>USW00014838</td>\n",
       "      <td>18630730</td>\n",
       "      <td>TMAX</td>\n",
       "      <td>29.4</td>\n",
       "    </tr>\n",
       "    <tr>\n",
       "      <th>5509</th>\n",
       "      <td>USW00014838</td>\n",
       "      <td>18630731</td>\n",
       "      <td>TMAX</td>\n",
       "      <td>25.6</td>\n",
       "    </tr>\n",
       "  </tbody>\n",
       "</table>\n",
       "<p>5510 rows × 4 columns</p>\n",
       "</div>"
      ],
      "text/plain": [
       "          station  datetime obs_type  obs_value\n",
       "0     AGE00135039  18630102     TMAX       11.5\n",
       "1     AGE00135039  18630103     TMAX       11.0\n",
       "2     AGE00135039  18630105     TMAX       15.5\n",
       "3     AGE00135039  18630106     TMAX       16.5\n",
       "4     AGE00135039  18630107     TMAX       15.0\n",
       "...           ...       ...      ...        ...\n",
       "5505  USW00014838  18630727     TMAX       20.6\n",
       "5506  USW00014838  18630728     TMAX       19.9\n",
       "5507  USW00014838  18630729     TMAX       25.1\n",
       "5508  USW00014838  18630730     TMAX       29.4\n",
       "5509  USW00014838  18630731     TMAX       25.6\n",
       "\n",
       "[5510 rows x 4 columns]"
      ]
     },
     "execution_count": 16,
     "metadata": {},
     "output_type": "execute_result"
    }
   ],
   "source": [
    "\n",
    "import pandas as pd # Import pandas package\n",
    "\n",
    "def load_weather(year):\n",
    "    # Finder filen for året.\n",
    "    url = f\"ftp://ftp.ncdc.noaa.gov/pub/data/ghcn/daily/by_year/{year}.csv.gz\"\n",
    "\n",
    "    # Loader data for flere år.\n",
    "    df_weather = pd.read_csv(url, header=None)\\\n",
    "                             .iloc[:,:4]\n",
    "    \n",
    "    # Structure and clean data using methods chaining\n",
    "    df_out = df_weather\\\n",
    "                .rename(columns = {0: 'station', 1: 'datetime', 2: 'obs_type', 3: 'obs_value'})\\\n",
    "                .query(\"obs_type == 'TMAX'\")\\\n",
    "                .assign(obs_value = lambda df: df['obs_value']/10)\\\n",
    "                .sort_values(by=['station', 'datetime'])\\\n",
    "                .reset_index(drop=True)\\\n",
    "                .copy()\n",
    "    \n",
    "    return df_out\n",
    "                # Rename. Ændrer kolonne-navne\n",
    "                # Query: Laver obs-type variabel om til TMAX\n",
    "                # Sort values: Sorterer værdierne ud fra station og derefter datetime. \n",
    "                # Reset index: Resetter index værdierne ud fra den nye sortering.\n",
    "\n",
    "\n",
    "load_weather(1863)\n",
    "\n",
    "# GPT tilføjelser: \n",
    "# df_weather = pd.read_csv(url, header=None).iloc[:,:4]: Her læser du csv-filen direkte fra URL'en, og gemmer den i en DataFrame df_weather. \n",
    "# Ved at bruge header=None angiver du, at filen ikke har nogen header, og derfor skal de første rækker betragtes som data, ikke kolonnenavne. \n",
    "# .iloc[:,:4] er en operation, der vælger alle rækker (:) og de første fire kolonner (fra index 0 til 3).\n",
    "\n",
    "# .assign(obs_value = lambda df: df['obs_value']/10): Her divideres alle observationerne i 'obs_value' kolonnen med 10 ved brug af assign-metoden. \n",
    "# Det kan være nødvendigt, hvis data er i en skala (f.eks. tiendedele af grader), der skal konverteres til en mere almindeligt anvendt skala (f.eks. grader).\n",
    "\n",
    "#.copy(): Dette opretter en dyb kopi af DataFrame. Det betyder, at ændringer i den kopierede DataFrame ikke vil påvirke den oprindelige DataFrame. \n",
    "# Denne metode er brugt til at sikre, at den returnerede DataFrame er uafhængig af den oprindelige.\n",
    "\n",
    "# return df_out: Til sidst returnerer funktionen DataFrame df_out."
   ]
  },
  {
   "cell_type": "markdown",
   "metadata": {},
   "source": [
    "# Part 3: Advanced Data Types\n",
    "\n",
    "When you start working with data, you quickly realize that data comes in many different types. \n",
    "\n",
    "Some distinctions between data types are obvious to make. For instance, numeric variables should consists of meaningful values that represent something that can be measured (a length, weight, economic value, etc.) with a number. String variables, on the other hand, are variables that *may* also consist of letters and other characters in addition to numbers. And boolean variables are simply binary with only two possible values.\n",
    "\n",
    "However, we also encounter lots of other data types in applied work within social sciences. Categorical variables can only take a (often quite strictly) limited number of values. And time series data are characterized by being indexed in some time order. In this part, we will explore different these two data types and how you work with them in Pandas."
   ]
  },
  {
   "cell_type": "markdown",
   "metadata": {},
   "source": [
    "> **Ex. 2.3.1:** Load the data for year 1863. Extract the area code (country and state) from the station name into a separate column.\n",
    ">\n",
    "> _Hint:_ The station column contains a GHCND ID, given to each weather station by NOAA. The format of these ID's is a 2 letter country/state code, followed by possible additional information on the third character and then an integer identifying the specific station. A simple approach is to assume a fixed length of the country ID. A more complex way would be to use the [`re`](https://docs.python.org/3.8/library/re.html) module. "
   ]
  },
  {
   "cell_type": "code",
   "execution_count": 17,
   "metadata": {
    "nbgrader": {
     "grade": false,
     "grade_id": "cell-06b389c7710d2f21",
     "locked": false,
     "schema_version": 3,
     "solution": true,
     "task": false
    }
   },
   "outputs": [
    {
     "data": {
      "text/plain": [
       "array(['AG', 'AS', 'AU', 'BE', 'CA', 'EI', 'EZ', 'GM', 'IT', 'UK', 'US'],\n",
       "      dtype=object)"
      ]
     },
     "execution_count": 17,
     "metadata": {},
     "output_type": "execute_result"
    }
   ],
   "source": [
    "#Loader vejret for året.\n",
    "df = load_weather(1863)\n",
    "\n",
    "# Laver kolonne med 'area', der tager de første to tegn i 'station'. \n",
    "df['area'] = df['station'].str[:2]\n",
    "\n",
    "#Printer dataframe\n",
    "df\n",
    "\n",
    "#Printer alle unikke værdier af 'area'.\n",
    "df['area'].unique()\n",
    "\n"
   ]
  },
  {
   "cell_type": "markdown",
   "metadata": {},
   "source": [
    "## Categorical Data"
   ]
  },
  {
   "cell_type": "markdown",
   "metadata": {},
   "source": [
    "Pandas has built-in features for working specifically with categorical data. In the video below, we will discuss how you can think about categorical data, and how you can efficiently work with it in pandas."
   ]
  },
  {
   "cell_type": "code",
   "execution_count": 18,
   "metadata": {},
   "outputs": [
    {
     "data": {
      "image/jpeg": "[encoded data removed]",
      "text/html": [
       "\n",
       "        <iframe\n",
       "            width=\"640\"\n",
       "            height=\"360\"\n",
       "            src=\"https://www.youtube.com/embed/x2TCnT46cl4\"\n",
       "            frameborder=\"0\"\n",
       "            allowfullscreen\n",
       "            \n",
       "        ></iframe>\n",
       "        "
      ],
      "text/plain": [
       "<IPython.lib.display.YouTubeVideo at 0x20b22946b50>"
      ]
     },
     "execution_count": 18,
     "metadata": {},
     "output_type": "execute_result"
    }
   ],
   "source": [
    "YouTubeVideo('x2TCnT46cl4', width=640, height=360)"
   ]
  },
  {
   "cell_type": "markdown",
   "metadata": {},
   "source": [
    "Having watched the video introducing categorical data, we now want you to try and work with it.\n",
    "\n",
    "> **Ex. 2.3.2:** Do the following:\n",
    "> 1. Convert the `area` column to a categorical variable. \n",
    "> 2. Transform the `obs_value` column from a continuous to a categorical variable by partitioning it into `3` intervals. The first interval should contain observations with values of `obs_value` up to the 10% quantile. The second interval should contain observations with values of `obs_value` up to the 90% quantile. The third interval should contain the rest of the observations. Call this new column for `obs_value_cat`.  This can be done using the `pd.qcut()` method.\n",
    "> 3. Make another column with  `obs_value` as a categorical variable but this time label the 3 intervals as `[\"cold\", \"medium\", \"hot\"]`. This can be done by specifying the `labels` parameter in the `pd.qcut()` method of pandas. Call this new column for `obs_value_cat_labeled`."
   ]
  },
  {
   "cell_type": "code",
   "execution_count": 33,
   "metadata": {
    "nbgrader": {
     "grade": false,
     "grade_id": "cell-4471027effe9de1e",
     "locked": false,
     "schema_version": 3,
     "solution": true,
     "task": false
    }
   },
   "outputs": [
    {
     "ename": "KeyError",
     "evalue": "'area'",
     "output_type": "error",
     "traceback": [
      "\u001b[1;31m---------------------------------------------------------------------------\u001b[0m",
      "\u001b[1;31mKeyError\u001b[0m                                  Traceback (most recent call last)",
      "File \u001b[1;32mc:\\Users\\cille\\PycharmProjects\\pythonProject\\HelloWorld\\venv\\Lib\\site-packages\\pandas\\core\\indexes\\base.py:3652\u001b[0m, in \u001b[0;36mIndex.get_loc\u001b[1;34m(self, key)\u001b[0m\n\u001b[0;32m   3651\u001b[0m \u001b[39mtry\u001b[39;00m:\n\u001b[1;32m-> 3652\u001b[0m     \u001b[39mreturn\u001b[39;00m \u001b[39mself\u001b[39;49m\u001b[39m.\u001b[39;49m_engine\u001b[39m.\u001b[39;49mget_loc(casted_key)\n\u001b[0;32m   3653\u001b[0m \u001b[39mexcept\u001b[39;00m \u001b[39mKeyError\u001b[39;00m \u001b[39mas\u001b[39;00m err:\n",
      "File \u001b[1;32mc:\\Users\\cille\\PycharmProjects\\pythonProject\\HelloWorld\\venv\\Lib\\site-packages\\pandas\\_libs\\index.pyx:147\u001b[0m, in \u001b[0;36mpandas._libs.index.IndexEngine.get_loc\u001b[1;34m()\u001b[0m\n",
      "File \u001b[1;32mc:\\Users\\cille\\PycharmProjects\\pythonProject\\HelloWorld\\venv\\Lib\\site-packages\\pandas\\_libs\\index.pyx:176\u001b[0m, in \u001b[0;36mpandas._libs.index.IndexEngine.get_loc\u001b[1;34m()\u001b[0m\n",
      "File \u001b[1;32mpandas\\_libs\\hashtable_class_helper.pxi:7080\u001b[0m, in \u001b[0;36mpandas._libs.hashtable.PyObjectHashTable.get_item\u001b[1;34m()\u001b[0m\n",
      "File \u001b[1;32mpandas\\_libs\\hashtable_class_helper.pxi:7088\u001b[0m, in \u001b[0;36mpandas._libs.hashtable.PyObjectHashTable.get_item\u001b[1;34m()\u001b[0m\n",
      "\u001b[1;31mKeyError\u001b[0m: 'area'",
      "\nThe above exception was the direct cause of the following exception:\n",
      "\u001b[1;31mKeyError\u001b[0m                                  Traceback (most recent call last)",
      "Cell \u001b[1;32mIn[33], line 11\u001b[0m\n\u001b[0;32m      1\u001b[0m \u001b[39m# Denne opgave indebærer at arbejde med kategoriske data i pandas. \u001b[39;00m\n\u001b[0;32m      2\u001b[0m \u001b[39m# Du vil konvertere en eksisterende kolonne til en kategorisk variabel og oprette nye kategoriske kolonner baseret på en eksisterende numerisk kolonne. \u001b[39;00m\n\u001b[0;32m      3\u001b[0m \n\u001b[1;32m   (...)\u001b[0m\n\u001b[0;32m      8\u001b[0m \n\u001b[0;32m      9\u001b[0m \u001b[39m# Dette kan gøres ved at bruge metoden `astype('category')`:\u001b[39;00m\n\u001b[1;32m---> 11\u001b[0m df[\u001b[39m'\u001b[39m\u001b[39marea\u001b[39m\u001b[39m'\u001b[39m] \u001b[39m=\u001b[39m df[\u001b[39m'\u001b[39;49m\u001b[39marea\u001b[39;49m\u001b[39m'\u001b[39;49m]\u001b[39m.\u001b[39mastype(\u001b[39m'\u001b[39m\u001b[39mcategory\u001b[39m\u001b[39m'\u001b[39m)\n\u001b[0;32m     13\u001b[0m \u001b[39m# 2. Transformér 'obs_value' kolonnen fra en kontinuerlig til en kategorisk variabel ved at partitionere den i 3 intervaller. \u001b[39;00m\n\u001b[0;32m     14\u001b[0m \n\u001b[0;32m     15\u001b[0m \u001b[39m# Intervallerne er defineret som værdier op til 10% kvantilet, værdier op til 90% kvantilet, og resten af observationerne. \u001b[39;00m\n\u001b[0;32m     16\u001b[0m \u001b[39m# Du kan bruge metoden `pd.qcut()` til at opdele kolonnen i disse kvantilebaserede intervaller:\u001b[39;00m\n\u001b[0;32m     18\u001b[0m df[\u001b[39m'\u001b[39m\u001b[39mobs_value_cat\u001b[39m\u001b[39m'\u001b[39m] \u001b[39m=\u001b[39m pd\u001b[39m.\u001b[39mqcut(df[\u001b[39m'\u001b[39m\u001b[39mobs_value\u001b[39m\u001b[39m'\u001b[39m], \n\u001b[0;32m     19\u001b[0m                                   q\u001b[39m=\u001b[39m[\u001b[39m0\u001b[39m, \u001b[39m.1\u001b[39m, \u001b[39m.9\u001b[39m, \u001b[39m1\u001b[39m], \n\u001b[0;32m     20\u001b[0m                                   labels\u001b[39m=\u001b[39m\u001b[39mFalse\u001b[39;00m)\n",
      "File \u001b[1;32mc:\\Users\\cille\\PycharmProjects\\pythonProject\\HelloWorld\\venv\\Lib\\site-packages\\pandas\\core\\frame.py:3761\u001b[0m, in \u001b[0;36mDataFrame.__getitem__\u001b[1;34m(self, key)\u001b[0m\n\u001b[0;32m   3759\u001b[0m \u001b[39mif\u001b[39;00m \u001b[39mself\u001b[39m\u001b[39m.\u001b[39mcolumns\u001b[39m.\u001b[39mnlevels \u001b[39m>\u001b[39m \u001b[39m1\u001b[39m:\n\u001b[0;32m   3760\u001b[0m     \u001b[39mreturn\u001b[39;00m \u001b[39mself\u001b[39m\u001b[39m.\u001b[39m_getitem_multilevel(key)\n\u001b[1;32m-> 3761\u001b[0m indexer \u001b[39m=\u001b[39m \u001b[39mself\u001b[39;49m\u001b[39m.\u001b[39;49mcolumns\u001b[39m.\u001b[39;49mget_loc(key)\n\u001b[0;32m   3762\u001b[0m \u001b[39mif\u001b[39;00m is_integer(indexer):\n\u001b[0;32m   3763\u001b[0m     indexer \u001b[39m=\u001b[39m [indexer]\n",
      "File \u001b[1;32mc:\\Users\\cille\\PycharmProjects\\pythonProject\\HelloWorld\\venv\\Lib\\site-packages\\pandas\\core\\indexes\\base.py:3654\u001b[0m, in \u001b[0;36mIndex.get_loc\u001b[1;34m(self, key)\u001b[0m\n\u001b[0;32m   3652\u001b[0m     \u001b[39mreturn\u001b[39;00m \u001b[39mself\u001b[39m\u001b[39m.\u001b[39m_engine\u001b[39m.\u001b[39mget_loc(casted_key)\n\u001b[0;32m   3653\u001b[0m \u001b[39mexcept\u001b[39;00m \u001b[39mKeyError\u001b[39;00m \u001b[39mas\u001b[39;00m err:\n\u001b[1;32m-> 3654\u001b[0m     \u001b[39mraise\u001b[39;00m \u001b[39mKeyError\u001b[39;00m(key) \u001b[39mfrom\u001b[39;00m \u001b[39merr\u001b[39;00m\n\u001b[0;32m   3655\u001b[0m \u001b[39mexcept\u001b[39;00m \u001b[39mTypeError\u001b[39;00m:\n\u001b[0;32m   3656\u001b[0m     \u001b[39m# If we have a listlike key, _check_indexing_error will raise\u001b[39;00m\n\u001b[0;32m   3657\u001b[0m     \u001b[39m#  InvalidIndexError. Otherwise we fall through and re-raise\u001b[39;00m\n\u001b[0;32m   3658\u001b[0m     \u001b[39m#  the TypeError.\u001b[39;00m\n\u001b[0;32m   3659\u001b[0m     \u001b[39mself\u001b[39m\u001b[39m.\u001b[39m_check_indexing_error(key)\n",
      "\u001b[1;31mKeyError\u001b[0m: 'area'"
     ]
    }
   ],
   "source": [
    "# Denne opgave indebærer at arbejde med kategoriske data i pandas. \n",
    "# Du vil konvertere en eksisterende kolonne til en kategorisk variabel og oprette nye kategoriske kolonner baseret på en eksisterende numerisk kolonne. \n",
    "\n",
    "# 1. Konverter 'area' kolonnen til en kategorisk variabel. \n",
    "\n",
    "# Kategoriske variabler er en pandas datatypen, der kan tage en begrænset, og normalt fast, antal mulige værdier (kategorier). \n",
    "# At konvertere en kolonne til en kategorisk variabel kan gøre visse operationer meget hurtigere.\n",
    "\n",
    "# Dette kan gøres ved at bruge metoden `astype('category')`:\n",
    "\n",
    "df['area'] = df['area'].astype('category')\n",
    " \n",
    "# 2. Transformér 'obs_value' kolonnen fra en kontinuerlig til en kategorisk variabel ved at partitionere den i 3 intervaller. \n",
    "\n",
    "# Intervallerne er defineret som værdier op til 10% kvantilet, værdier op til 90% kvantilet, og resten af observationerne. \n",
    "# Du kan bruge metoden `pd.qcut()` til at opdele kolonnen i disse kvantilebaserede intervaller:\n",
    "\n",
    "df['obs_value_cat'] = pd.qcut(df['obs_value'], \n",
    "                                  q=[0, .1, .9, 1], \n",
    "                                  labels=False)\n",
    "\n",
    "\n",
    "\n",
    "# Her opdeler `q=[0, .1, .9, 1]` data i kvantilerne 0-10%, 10-90%, og 90-100%. `labels=False` betyder, at outputtet vil være kategorier kodet som integers.\n",
    "\n",
    "# 3. Lav en anden kolonne med 'obs_value' som en kategorisk variabel, men denne gang mærker du de 3 intervaller som \"cold\", \"medium\", \"hot\". \n",
    "\n",
    "# Du kan gøre dette ved at specificere parameteren `labels` i metoden `pd.qcut()`. Denne gang vil vi give den labels, der svarer til de kategorier, vi ønsker:\n",
    "\n",
    "df['obs_value_cat_labeled'] = pd.qcut(df['obs_value'], \n",
    "                                         q=[0, .1, .9, 1], \n",
    "                                         labels=['cold', 'medium', 'hot'])\n",
    "\n",
    "# Husk at kontrollere din DataFrame efter hvert trin for at sikre, at ændringerne er blevet korrekt anvendt. Du kan gøre dette ved at bruge metoden `head()`, \n",
    "# som viser de første rækker af DataFrame: `df.head()`.\n",
    "\n"
   ]
  },
  {
   "cell_type": "markdown",
   "metadata": {},
   "source": [
    "# Dette er kun til mig selv!\n",
    "Altså det nedenunder"
   ]
  },
  {
   "cell_type": "code",
   "execution_count": 20,
   "metadata": {},
   "outputs": [
    {
     "data": {
      "text/html": [
       "<style type=\"text/css\">\n",
       "#T_d7355 th {\n",
       "  text-align: left;\n",
       "}\n",
       "#T_d7355 td {\n",
       "  text-align: left;\n",
       "}\n",
       "</style>\n",
       "<table id=\"T_d7355\">\n",
       "  <thead>\n",
       "    <tr>\n",
       "      <th class=\"blank level0\" >&nbsp;</th>\n",
       "      <th id=\"T_d7355_level0_col0\" class=\"col_heading level0 col0\" >Category</th>\n",
       "      <th id=\"T_d7355_level0_col1\" class=\"col_heading level0 col1\" >Frequency</th>\n",
       "      <th id=\"T_d7355_level0_col2\" class=\"col_heading level0 col2\" >Percentage</th>\n",
       "    </tr>\n",
       "  </thead>\n",
       "  <tbody>\n",
       "    <tr>\n",
       "      <th id=\"T_d7355_level0_row0\" class=\"row_heading level0 row0\" >0</th>\n",
       "      <td id=\"T_d7355_row0_col0\" class=\"data row0 col0\" >medium</td>\n",
       "      <td id=\"T_d7355_row0_col1\" class=\"data row0 col1\" >4431</td>\n",
       "      <td id=\"T_d7355_row0_col2\" class=\"data row0 col2\" >80.417423</td>\n",
       "    </tr>\n",
       "    <tr>\n",
       "      <th id=\"T_d7355_level0_row1\" class=\"row_heading level0 row1\" >1</th>\n",
       "      <td id=\"T_d7355_row1_col0\" class=\"data row1 col0\" >cold</td>\n",
       "      <td id=\"T_d7355_row1_col1\" class=\"data row1 col1\" >551</td>\n",
       "      <td id=\"T_d7355_row1_col2\" class=\"data row1 col2\" >10.000000</td>\n",
       "    </tr>\n",
       "    <tr>\n",
       "      <th id=\"T_d7355_level0_row2\" class=\"row_heading level0 row2\" >2</th>\n",
       "      <td id=\"T_d7355_row2_col0\" class=\"data row2 col0\" >hot</td>\n",
       "      <td id=\"T_d7355_row2_col1\" class=\"data row2 col1\" >528</td>\n",
       "      <td id=\"T_d7355_row2_col2\" class=\"data row2 col2\" >9.582577</td>\n",
       "    </tr>\n",
       "  </tbody>\n",
       "</table>\n"
      ],
      "text/plain": [
       "<pandas.io.formats.style.Styler at 0x20b1c566710>"
      ]
     },
     "execution_count": 20,
     "metadata": {},
     "output_type": "execute_result"
    }
   ],
   "source": [
    "# df \n",
    "# df['obs_value_cat'].unique()\n",
    "# df['obs_value_cat_labeled'].unique()\n",
    "\n",
    "#Frekvens (med missing values)\n",
    "# freq_table = df['obs_value_cat_labeled'].value_counts(dropna=False)\n",
    "# print(freq_table)\n",
    "\n",
    "# #Frekvens (pct)\n",
    "# percentage_table = df['obs_value_cat_labeled'].value_counts(normalize=True) * 100\n",
    "# print(percentage_table)\n",
    "\n",
    "# Create frequency count dataframe\n",
    "freq_df = df['obs_value_cat_labeled'].value_counts(dropna=False).reset_index()\n",
    "freq_df.columns = ['Category', 'Frequency']\n",
    "\n",
    "# Create percentage count dataframe\n",
    "percentage_df = (df['obs_value_cat_labeled'].value_counts(normalize=True) * 100).reset_index()\n",
    "percentage_df.columns = ['Category', 'Percentage']\n",
    "\n",
    "# Merge the two dataframes on Category\n",
    "summary_df = pd.merge(freq_df, percentage_df, on='Category')\n",
    "\n",
    "# Create a styler object and apply some styling methods\n",
    "styler = summary_df.style.set_table_styles([\n",
    "    {'selector': 'th', 'props': [('text-align', 'left')]},\n",
    "    {'selector': 'td', 'props': [('text-align', 'left')]}\n",
    "])\n",
    "\n",
    "styler\n",
    "\n"
   ]
  },
  {
   "cell_type": "markdown",
   "metadata": {},
   "source": [
    "## Time Series Data\n",
    "\n",
    "Our coverage of basic Python did not include time. This is another elementary datatypes, that has its own native structure or maybe converted to an integer using a smart method. See more below."
   ]
  },
  {
   "cell_type": "code",
   "execution_count": 21,
   "metadata": {},
   "outputs": [
    {
     "data": {
      "image/jpeg": "[encoded data removed]",
      "text/html": [
       "\n",
       "        <iframe\n",
       "            width=\"640\"\n",
       "            height=\"360\"\n",
       "            src=\"https://www.youtube.com/embed/DmkT7PdqgAA\"\n",
       "            frameborder=\"0\"\n",
       "            allowfullscreen\n",
       "            \n",
       "        ></iframe>\n",
       "        "
      ],
      "text/plain": [
       "<IPython.lib.display.YouTubeVideo at 0x20b23fe76d0>"
      ]
     },
     "execution_count": 21,
     "metadata": {},
     "output_type": "execute_result"
    }
   ],
   "source": [
    "YouTubeVideo('DmkT7PdqgAA', width=640, height=360)"
   ]
  },
  {
   "cell_type": "markdown",
   "metadata": {},
   "source": [
    "> **Ex. 2.3.3:** Convert the date formated as string to datetime. Call this column `datetime_dt`. Make a new column named `month` with the month for each observation. Set the datetime variable as temporal index. \n",
    ">\n",
    "> *Hint:* Look up `.set_index()` setting the index."
   ]
  },
  {
   "cell_type": "code",
   "execution_count": 22,
   "metadata": {
    "nbgrader": {
     "grade": false,
     "grade_id": "cell-fbac9fd2ad284d24",
     "locked": false,
     "schema_version": 3,
     "solution": true,
     "task": false
    }
   },
   "outputs": [
    {
     "data": {
      "text/html": [
       "<div>\n",
       "<style scoped>\n",
       "    .dataframe tbody tr th:only-of-type {\n",
       "        vertical-align: middle;\n",
       "    }\n",
       "\n",
       "    .dataframe tbody tr th {\n",
       "        vertical-align: top;\n",
       "    }\n",
       "\n",
       "    .dataframe thead th {\n",
       "        text-align: right;\n",
       "    }\n",
       "</style>\n",
       "<table border=\"1\" class=\"dataframe\">\n",
       "  <thead>\n",
       "    <tr style=\"text-align: right;\">\n",
       "      <th></th>\n",
       "      <th>station</th>\n",
       "      <th>datetime</th>\n",
       "      <th>obs_type</th>\n",
       "      <th>obs_value</th>\n",
       "      <th>area</th>\n",
       "      <th>obs_value_cat</th>\n",
       "      <th>obs_value_cat_labeled</th>\n",
       "      <th>month</th>\n",
       "    </tr>\n",
       "    <tr>\n",
       "      <th>datetime_dt</th>\n",
       "      <th></th>\n",
       "      <th></th>\n",
       "      <th></th>\n",
       "      <th></th>\n",
       "      <th></th>\n",
       "      <th></th>\n",
       "      <th></th>\n",
       "      <th></th>\n",
       "    </tr>\n",
       "  </thead>\n",
       "  <tbody>\n",
       "    <tr>\n",
       "      <th>1863-01-02</th>\n",
       "      <td>AGE00135039</td>\n",
       "      <td>18630102</td>\n",
       "      <td>TMAX</td>\n",
       "      <td>11.5</td>\n",
       "      <td>AG</td>\n",
       "      <td>1</td>\n",
       "      <td>medium</td>\n",
       "      <td>1</td>\n",
       "    </tr>\n",
       "    <tr>\n",
       "      <th>1863-01-03</th>\n",
       "      <td>AGE00135039</td>\n",
       "      <td>18630103</td>\n",
       "      <td>TMAX</td>\n",
       "      <td>11.0</td>\n",
       "      <td>AG</td>\n",
       "      <td>1</td>\n",
       "      <td>medium</td>\n",
       "      <td>1</td>\n",
       "    </tr>\n",
       "    <tr>\n",
       "      <th>1863-01-05</th>\n",
       "      <td>AGE00135039</td>\n",
       "      <td>18630105</td>\n",
       "      <td>TMAX</td>\n",
       "      <td>15.5</td>\n",
       "      <td>AG</td>\n",
       "      <td>1</td>\n",
       "      <td>medium</td>\n",
       "      <td>1</td>\n",
       "    </tr>\n",
       "    <tr>\n",
       "      <th>1863-01-06</th>\n",
       "      <td>AGE00135039</td>\n",
       "      <td>18630106</td>\n",
       "      <td>TMAX</td>\n",
       "      <td>16.5</td>\n",
       "      <td>AG</td>\n",
       "      <td>1</td>\n",
       "      <td>medium</td>\n",
       "      <td>1</td>\n",
       "    </tr>\n",
       "    <tr>\n",
       "      <th>1863-01-07</th>\n",
       "      <td>AGE00135039</td>\n",
       "      <td>18630107</td>\n",
       "      <td>TMAX</td>\n",
       "      <td>15.0</td>\n",
       "      <td>AG</td>\n",
       "      <td>1</td>\n",
       "      <td>medium</td>\n",
       "      <td>1</td>\n",
       "    </tr>\n",
       "    <tr>\n",
       "      <th>...</th>\n",
       "      <td>...</td>\n",
       "      <td>...</td>\n",
       "      <td>...</td>\n",
       "      <td>...</td>\n",
       "      <td>...</td>\n",
       "      <td>...</td>\n",
       "      <td>...</td>\n",
       "      <td>...</td>\n",
       "    </tr>\n",
       "    <tr>\n",
       "      <th>1863-07-27</th>\n",
       "      <td>USW00014838</td>\n",
       "      <td>18630727</td>\n",
       "      <td>TMAX</td>\n",
       "      <td>20.6</td>\n",
       "      <td>US</td>\n",
       "      <td>1</td>\n",
       "      <td>medium</td>\n",
       "      <td>7</td>\n",
       "    </tr>\n",
       "    <tr>\n",
       "      <th>1863-07-28</th>\n",
       "      <td>USW00014838</td>\n",
       "      <td>18630728</td>\n",
       "      <td>TMAX</td>\n",
       "      <td>19.9</td>\n",
       "      <td>US</td>\n",
       "      <td>1</td>\n",
       "      <td>medium</td>\n",
       "      <td>7</td>\n",
       "    </tr>\n",
       "    <tr>\n",
       "      <th>1863-07-29</th>\n",
       "      <td>USW00014838</td>\n",
       "      <td>18630729</td>\n",
       "      <td>TMAX</td>\n",
       "      <td>25.1</td>\n",
       "      <td>US</td>\n",
       "      <td>1</td>\n",
       "      <td>medium</td>\n",
       "      <td>7</td>\n",
       "    </tr>\n",
       "    <tr>\n",
       "      <th>1863-07-30</th>\n",
       "      <td>USW00014838</td>\n",
       "      <td>18630730</td>\n",
       "      <td>TMAX</td>\n",
       "      <td>29.4</td>\n",
       "      <td>US</td>\n",
       "      <td>2</td>\n",
       "      <td>hot</td>\n",
       "      <td>7</td>\n",
       "    </tr>\n",
       "    <tr>\n",
       "      <th>1863-07-31</th>\n",
       "      <td>USW00014838</td>\n",
       "      <td>18630731</td>\n",
       "      <td>TMAX</td>\n",
       "      <td>25.6</td>\n",
       "      <td>US</td>\n",
       "      <td>1</td>\n",
       "      <td>medium</td>\n",
       "      <td>7</td>\n",
       "    </tr>\n",
       "  </tbody>\n",
       "</table>\n",
       "<p>5510 rows × 8 columns</p>\n",
       "</div>"
      ],
      "text/plain": [
       "                 station  datetime obs_type  obs_value area  obs_value_cat  \\\n",
       "datetime_dt                                                                  \n",
       "1863-01-02   AGE00135039  18630102     TMAX       11.5   AG              1   \n",
       "1863-01-03   AGE00135039  18630103     TMAX       11.0   AG              1   \n",
       "1863-01-05   AGE00135039  18630105     TMAX       15.5   AG              1   \n",
       "1863-01-06   AGE00135039  18630106     TMAX       16.5   AG              1   \n",
       "1863-01-07   AGE00135039  18630107     TMAX       15.0   AG              1   \n",
       "...                  ...       ...      ...        ...  ...            ...   \n",
       "1863-07-27   USW00014838  18630727     TMAX       20.6   US              1   \n",
       "1863-07-28   USW00014838  18630728     TMAX       19.9   US              1   \n",
       "1863-07-29   USW00014838  18630729     TMAX       25.1   US              1   \n",
       "1863-07-30   USW00014838  18630730     TMAX       29.4   US              2   \n",
       "1863-07-31   USW00014838  18630731     TMAX       25.6   US              1   \n",
       "\n",
       "            obs_value_cat_labeled  month  \n",
       "datetime_dt                               \n",
       "1863-01-02                 medium      1  \n",
       "1863-01-03                 medium      1  \n",
       "1863-01-05                 medium      1  \n",
       "1863-01-06                 medium      1  \n",
       "1863-01-07                 medium      1  \n",
       "...                           ...    ...  \n",
       "1863-07-27                 medium      7  \n",
       "1863-07-28                 medium      7  \n",
       "1863-07-29                 medium      7  \n",
       "1863-07-30                    hot      7  \n",
       "1863-07-31                 medium      7  \n",
       "\n",
       "[5510 rows x 8 columns]"
      ]
     },
     "execution_count": 22,
     "metadata": {},
     "output_type": "execute_result"
    }
   ],
   "source": [
    "df['datetime_dt'] = pd.to_datetime(df['datetime'], format = '%Y%m%d')\n",
    "\n",
    "df['month'] = df['datetime_dt'].dt.month\n",
    "\n",
    "new_df = df.set_index('datetime_dt')\n",
    "\n",
    "new_df \n",
    "\n"
   ]
  },
  {
   "cell_type": "markdown",
   "metadata": {},
   "source": [
    "> **Ex. 2.3.4:** Update your annotated function above with processing of area and temporal data.          "
   ]
  },
  {
   "cell_type": "code",
   "execution_count": 23,
   "metadata": {},
   "outputs": [
    {
     "data": {
      "text/html": [
       "<div>\n",
       "<style scoped>\n",
       "    .dataframe tbody tr th:only-of-type {\n",
       "        vertical-align: middle;\n",
       "    }\n",
       "\n",
       "    .dataframe tbody tr th {\n",
       "        vertical-align: top;\n",
       "    }\n",
       "\n",
       "    .dataframe thead th {\n",
       "        text-align: right;\n",
       "    }\n",
       "</style>\n",
       "<table border=\"1\" class=\"dataframe\">\n",
       "  <thead>\n",
       "    <tr style=\"text-align: right;\">\n",
       "      <th></th>\n",
       "      <th>station</th>\n",
       "      <th>datetime</th>\n",
       "      <th>obs_type</th>\n",
       "      <th>obs_value</th>\n",
       "      <th>area</th>\n",
       "      <th>datetime_dt</th>\n",
       "      <th>month</th>\n",
       "      <th>year</th>\n",
       "    </tr>\n",
       "  </thead>\n",
       "  <tbody>\n",
       "    <tr>\n",
       "      <th>0</th>\n",
       "      <td>AGE00135039</td>\n",
       "      <td>18601130</td>\n",
       "      <td>TMAX</td>\n",
       "      <td>16.2</td>\n",
       "      <td>AG</td>\n",
       "      <td>1860-11-30</td>\n",
       "      <td>11</td>\n",
       "      <td>1860</td>\n",
       "    </tr>\n",
       "    <tr>\n",
       "      <th>1</th>\n",
       "      <td>AGE00135039</td>\n",
       "      <td>18601129</td>\n",
       "      <td>TMAX</td>\n",
       "      <td>17.8</td>\n",
       "      <td>AG</td>\n",
       "      <td>1860-11-29</td>\n",
       "      <td>11</td>\n",
       "      <td>1860</td>\n",
       "    </tr>\n",
       "    <tr>\n",
       "      <th>2</th>\n",
       "      <td>AGE00135039</td>\n",
       "      <td>18601128</td>\n",
       "      <td>TMAX</td>\n",
       "      <td>19.0</td>\n",
       "      <td>AG</td>\n",
       "      <td>1860-11-28</td>\n",
       "      <td>11</td>\n",
       "      <td>1860</td>\n",
       "    </tr>\n",
       "    <tr>\n",
       "      <th>3</th>\n",
       "      <td>AGE00135039</td>\n",
       "      <td>18601127</td>\n",
       "      <td>TMAX</td>\n",
       "      <td>22.0</td>\n",
       "      <td>AG</td>\n",
       "      <td>1860-11-27</td>\n",
       "      <td>11</td>\n",
       "      <td>1860</td>\n",
       "    </tr>\n",
       "    <tr>\n",
       "      <th>4</th>\n",
       "      <td>AGE00135039</td>\n",
       "      <td>18601126</td>\n",
       "      <td>TMAX</td>\n",
       "      <td>19.0</td>\n",
       "      <td>AG</td>\n",
       "      <td>1860-11-26</td>\n",
       "      <td>11</td>\n",
       "      <td>1860</td>\n",
       "    </tr>\n",
       "    <tr>\n",
       "      <th>...</th>\n",
       "      <td>...</td>\n",
       "      <td>...</td>\n",
       "      <td>...</td>\n",
       "      <td>...</td>\n",
       "      <td>...</td>\n",
       "      <td>...</td>\n",
       "      <td>...</td>\n",
       "      <td>...</td>\n",
       "    </tr>\n",
       "    <tr>\n",
       "      <th>6047</th>\n",
       "      <td>UK000056225</td>\n",
       "      <td>18640105</td>\n",
       "      <td>TMAX</td>\n",
       "      <td>-3.8</td>\n",
       "      <td>UK</td>\n",
       "      <td>1864-01-05</td>\n",
       "      <td>1</td>\n",
       "      <td>1864</td>\n",
       "    </tr>\n",
       "    <tr>\n",
       "      <th>6048</th>\n",
       "      <td>UK000056225</td>\n",
       "      <td>18640104</td>\n",
       "      <td>TMAX</td>\n",
       "      <td>-1.6</td>\n",
       "      <td>UK</td>\n",
       "      <td>1864-01-04</td>\n",
       "      <td>1</td>\n",
       "      <td>1864</td>\n",
       "    </tr>\n",
       "    <tr>\n",
       "      <th>6049</th>\n",
       "      <td>UK000056225</td>\n",
       "      <td>18640103</td>\n",
       "      <td>TMAX</td>\n",
       "      <td>-1.8</td>\n",
       "      <td>UK</td>\n",
       "      <td>1864-01-03</td>\n",
       "      <td>1</td>\n",
       "      <td>1864</td>\n",
       "    </tr>\n",
       "    <tr>\n",
       "      <th>6050</th>\n",
       "      <td>UK000056225</td>\n",
       "      <td>18640102</td>\n",
       "      <td>TMAX</td>\n",
       "      <td>-0.1</td>\n",
       "      <td>UK</td>\n",
       "      <td>1864-01-02</td>\n",
       "      <td>1</td>\n",
       "      <td>1864</td>\n",
       "    </tr>\n",
       "    <tr>\n",
       "      <th>6051</th>\n",
       "      <td>UK000056225</td>\n",
       "      <td>18640101</td>\n",
       "      <td>TMAX</td>\n",
       "      <td>0.5</td>\n",
       "      <td>UK</td>\n",
       "      <td>1864-01-01</td>\n",
       "      <td>1</td>\n",
       "      <td>1864</td>\n",
       "    </tr>\n",
       "  </tbody>\n",
       "</table>\n",
       "<p>27131 rows × 8 columns</p>\n",
       "</div>"
      ],
      "text/plain": [
       "          station  datetime obs_type  obs_value area datetime_dt  month  year\n",
       "0     AGE00135039  18601130     TMAX       16.2   AG  1860-11-30     11  1860\n",
       "1     AGE00135039  18601129     TMAX       17.8   AG  1860-11-29     11  1860\n",
       "2     AGE00135039  18601128     TMAX       19.0   AG  1860-11-28     11  1860\n",
       "3     AGE00135039  18601127     TMAX       22.0   AG  1860-11-27     11  1860\n",
       "4     AGE00135039  18601126     TMAX       19.0   AG  1860-11-26     11  1860\n",
       "...           ...       ...      ...        ...  ...         ...    ...   ...\n",
       "6047  UK000056225  18640105     TMAX       -3.8   UK  1864-01-05      1  1864\n",
       "6048  UK000056225  18640104     TMAX       -1.6   UK  1864-01-04      1  1864\n",
       "6049  UK000056225  18640103     TMAX       -1.8   UK  1864-01-03      1  1864\n",
       "6050  UK000056225  18640102     TMAX       -0.1   UK  1864-01-02      1  1864\n",
       "6051  UK000056225  18640101     TMAX        0.5   UK  1864-01-01      1  1864\n",
       "\n",
       "[27131 rows x 8 columns]"
      ]
     },
     "execution_count": 23,
     "metadata": {},
     "output_type": "execute_result"
    }
   ],
   "source": [
    "def process_weather(year):\n",
    "    \n",
    "    url = f\"https://www1.ncdc.noaa.gov/pub/data/ghcn/daily/by_year/{year}.csv.gz\"\n",
    "    df = pd.read_csv(url, header=None)\n",
    "    df = df.iloc[:,:4]  # select the first four columns\n",
    "    df.columns = ['station', 'datetime', 'obs_type', 'obs_value']\n",
    "    \n",
    "    df_out = df.query(\"obs_type == 'TMAX'\")\\\n",
    "        .assign(obs_value=lambda df: df['obs_value']/10)\\\n",
    "        .sort_values(by=['station', 'datetime'], ascending=[True, False])\\\n",
    "        .reset_index(drop=True)\\\n",
    "        .copy() \n",
    "\n",
    "    # area process\n",
    "    df_out['area'] = df_out['station'].str[0:2]\n",
    "    \n",
    "    # datetime process\n",
    "    df_out['datetime_dt'] = pd.to_datetime(df_out['datetime'].astype(str), format = '%Y%m%d')\n",
    "    df_out['month'] = df_out['datetime_dt'].dt.month\n",
    "    df_out['year'] = df_out['datetime_dt'].dt.year\n",
    "    \n",
    "    return df_out\n",
    "\n",
    "# Now fetch the data (using old code chunk):\n",
    "\n",
    "df_weather_period = [process_weather(year) for year in range(1860, 1865)]\n",
    "\n",
    "# Concatenate all dataframes in the list to a single dataframe\n",
    "df_weather_period_concat = pd.concat(df_weather_period)\n",
    "\n",
    "df_weather_period_concat \n"
   ]
  },
  {
   "cell_type": "markdown",
   "metadata": {},
   "source": [
    "# Til mig:"
   ]
  },
  {
   "cell_type": "code",
   "execution_count": 24,
   "metadata": {},
   "outputs": [
    {
     "data": {
      "text/html": [
       "<div>\n",
       "<style scoped>\n",
       "    .dataframe tbody tr th:only-of-type {\n",
       "        vertical-align: middle;\n",
       "    }\n",
       "\n",
       "    .dataframe tbody tr th {\n",
       "        vertical-align: top;\n",
       "    }\n",
       "\n",
       "    .dataframe thead th {\n",
       "        text-align: right;\n",
       "    }\n",
       "</style>\n",
       "<table border=\"1\" class=\"dataframe\">\n",
       "  <thead>\n",
       "    <tr style=\"text-align: right;\">\n",
       "      <th></th>\n",
       "      <th>count</th>\n",
       "      <th>mean</th>\n",
       "      <th>std</th>\n",
       "      <th>min</th>\n",
       "      <th>25%</th>\n",
       "      <th>50%</th>\n",
       "      <th>75%</th>\n",
       "      <th>max</th>\n",
       "    </tr>\n",
       "    <tr>\n",
       "      <th>area</th>\n",
       "      <th></th>\n",
       "      <th></th>\n",
       "      <th></th>\n",
       "      <th></th>\n",
       "      <th></th>\n",
       "      <th></th>\n",
       "      <th></th>\n",
       "      <th></th>\n",
       "    </tr>\n",
       "  </thead>\n",
       "  <tbody>\n",
       "    <tr>\n",
       "      <th>AG</th>\n",
       "      <td>922.0</td>\n",
       "      <td>20.035033</td>\n",
       "      <td>5.394494</td>\n",
       "      <td>7.5</td>\n",
       "      <td>15.50</td>\n",
       "      <td>20.0</td>\n",
       "      <td>24.500</td>\n",
       "      <td>34.0</td>\n",
       "    </tr>\n",
       "    <tr>\n",
       "      <th>AS</th>\n",
       "      <td>6462.0</td>\n",
       "      <td>20.809177</td>\n",
       "      <td>6.424337</td>\n",
       "      <td>3.9</td>\n",
       "      <td>15.70</td>\n",
       "      <td>20.0</td>\n",
       "      <td>24.900</td>\n",
       "      <td>49.4</td>\n",
       "    </tr>\n",
       "    <tr>\n",
       "      <th>AU</th>\n",
       "      <td>1735.0</td>\n",
       "      <td>14.963977</td>\n",
       "      <td>10.056230</td>\n",
       "      <td>-10.4</td>\n",
       "      <td>7.00</td>\n",
       "      <td>15.9</td>\n",
       "      <td>22.900</td>\n",
       "      <td>35.6</td>\n",
       "    </tr>\n",
       "    <tr>\n",
       "      <th>BE</th>\n",
       "      <td>1827.0</td>\n",
       "      <td>13.410783</td>\n",
       "      <td>7.362931</td>\n",
       "      <td>-9.9</td>\n",
       "      <td>7.75</td>\n",
       "      <td>14.0</td>\n",
       "      <td>19.300</td>\n",
       "      <td>29.6</td>\n",
       "    </tr>\n",
       "    <tr>\n",
       "      <th>CA</th>\n",
       "      <td>1827.0</td>\n",
       "      <td>11.078818</td>\n",
       "      <td>10.423645</td>\n",
       "      <td>-18.3</td>\n",
       "      <td>2.80</td>\n",
       "      <td>10.6</td>\n",
       "      <td>20.000</td>\n",
       "      <td>35.6</td>\n",
       "    </tr>\n",
       "    <tr>\n",
       "      <th>EI</th>\n",
       "      <td>1038.0</td>\n",
       "      <td>14.477842</td>\n",
       "      <td>5.495231</td>\n",
       "      <td>0.0</td>\n",
       "      <td>10.00</td>\n",
       "      <td>14.4</td>\n",
       "      <td>18.900</td>\n",
       "      <td>28.3</td>\n",
       "    </tr>\n",
       "    <tr>\n",
       "      <th>EZ</th>\n",
       "      <td>1827.0</td>\n",
       "      <td>12.404707</td>\n",
       "      <td>9.355088</td>\n",
       "      <td>-15.1</td>\n",
       "      <td>5.05</td>\n",
       "      <td>12.7</td>\n",
       "      <td>19.900</td>\n",
       "      <td>34.8</td>\n",
       "    </tr>\n",
       "    <tr>\n",
       "      <th>GM</th>\n",
       "      <td>4409.0</td>\n",
       "      <td>10.931141</td>\n",
       "      <td>8.580965</td>\n",
       "      <td>-18.5</td>\n",
       "      <td>4.10</td>\n",
       "      <td>11.0</td>\n",
       "      <td>17.900</td>\n",
       "      <td>33.3</td>\n",
       "    </tr>\n",
       "    <tr>\n",
       "      <th>IT</th>\n",
       "      <td>1827.0</td>\n",
       "      <td>16.931418</td>\n",
       "      <td>10.169233</td>\n",
       "      <td>-7.5</td>\n",
       "      <td>8.20</td>\n",
       "      <td>17.1</td>\n",
       "      <td>25.900</td>\n",
       "      <td>37.7</td>\n",
       "    </tr>\n",
       "    <tr>\n",
       "      <th>SG</th>\n",
       "      <td>305.0</td>\n",
       "      <td>33.176393</td>\n",
       "      <td>3.647399</td>\n",
       "      <td>24.8</td>\n",
       "      <td>31.00</td>\n",
       "      <td>33.0</td>\n",
       "      <td>36.000</td>\n",
       "      <td>43.0</td>\n",
       "    </tr>\n",
       "    <tr>\n",
       "      <th>SZ</th>\n",
       "      <td>366.0</td>\n",
       "      <td>0.978142</td>\n",
       "      <td>7.222026</td>\n",
       "      <td>-34.0</td>\n",
       "      <td>-4.20</td>\n",
       "      <td>0.7</td>\n",
       "      <td>6.475</td>\n",
       "      <td>16.4</td>\n",
       "    </tr>\n",
       "    <tr>\n",
       "      <th>UK</th>\n",
       "      <td>3646.0</td>\n",
       "      <td>12.911218</td>\n",
       "      <td>5.671874</td>\n",
       "      <td>-3.8</td>\n",
       "      <td>8.60</td>\n",
       "      <td>13.0</td>\n",
       "      <td>17.500</td>\n",
       "      <td>27.8</td>\n",
       "    </tr>\n",
       "    <tr>\n",
       "      <th>US</th>\n",
       "      <td>940.0</td>\n",
       "      <td>10.431915</td>\n",
       "      <td>11.322656</td>\n",
       "      <td>-18.3</td>\n",
       "      <td>1.55</td>\n",
       "      <td>9.5</td>\n",
       "      <td>20.000</td>\n",
       "      <td>39.4</td>\n",
       "    </tr>\n",
       "  </tbody>\n",
       "</table>\n",
       "</div>"
      ],
      "text/plain": [
       "       count       mean        std   min    25%   50%     75%   max\n",
       "area                                                               \n",
       "AG     922.0  20.035033   5.394494   7.5  15.50  20.0  24.500  34.0\n",
       "AS    6462.0  20.809177   6.424337   3.9  15.70  20.0  24.900  49.4\n",
       "AU    1735.0  14.963977  10.056230 -10.4   7.00  15.9  22.900  35.6\n",
       "BE    1827.0  13.410783   7.362931  -9.9   7.75  14.0  19.300  29.6\n",
       "CA    1827.0  11.078818  10.423645 -18.3   2.80  10.6  20.000  35.6\n",
       "EI    1038.0  14.477842   5.495231   0.0  10.00  14.4  18.900  28.3\n",
       "EZ    1827.0  12.404707   9.355088 -15.1   5.05  12.7  19.900  34.8\n",
       "GM    4409.0  10.931141   8.580965 -18.5   4.10  11.0  17.900  33.3\n",
       "IT    1827.0  16.931418  10.169233  -7.5   8.20  17.1  25.900  37.7\n",
       "SG     305.0  33.176393   3.647399  24.8  31.00  33.0  36.000  43.0\n",
       "SZ     366.0   0.978142   7.222026 -34.0  -4.20   0.7   6.475  16.4\n",
       "UK    3646.0  12.911218   5.671874  -3.8   8.60  13.0  17.500  27.8\n",
       "US     940.0  10.431915  11.322656 -18.3   1.55   9.5  20.000  39.4"
      ]
     },
     "execution_count": 24,
     "metadata": {},
     "output_type": "execute_result"
    }
   ],
   "source": [
    "df_weather_period_concat['area'].describe()\n",
    "df_weather_period_concat.groupby('area')['obs_value'].describe()\n"
   ]
  },
  {
   "cell_type": "markdown",
   "metadata": {},
   "source": [
    "> **Ex. 2.3.5:** Make a timeseries plot for the station called `AGE00135039`.\n",
    ">\n",
    "> _Hint:_ for this you need to know a few methods of the pandas Series objects, for instance `.plot()`. "
   ]
  },
  {
   "cell_type": "code",
   "execution_count": 25,
   "metadata": {
    "nbgrader": {
     "grade": false,
     "grade_id": "cell-46e6efb8f7619f0e",
     "locked": false,
     "schema_version": 3,
     "solution": true,
     "task": false
    }
   },
   "outputs": [
    {
     "data": {
      "image/png": "[encoded data removed]",
      "text/plain": [
       "<Figure size 1100x600 with 1 Axes>"
      ]
     },
     "metadata": {},
     "output_type": "display_data"
    }
   ],
   "source": [
    "\n",
    "load_weather(1863).query('station==\"AGE00135039\"').obs_value.plot(figsize=[11,6])\n",
    "plt.show()\n"
   ]
  },
  {
   "cell_type": "markdown",
   "metadata": {},
   "source": [
    "# Til mig:"
   ]
  },
  {
   "cell_type": "code",
   "execution_count": 28,
   "metadata": {},
   "outputs": [
    {
     "data": {
      "image/png": "[encoded data removed]",
      "text/plain": [
       "<Figure size 1100x600 with 1 Axes>"
      ]
     },
     "metadata": {},
     "output_type": "display_data"
    }
   ],
   "source": [
    "# Løbende gennemsnit\n",
    "window_size = 7 # du kan ændre denne værdi alt efter dit behov\n",
    "df = load_weather(1863).query('station==\"AGE00135039\"')\n",
    "df['obs_value_smooth'] = df['obs_value'].rolling(window_size).mean() # They see me rolling, they hating. \n",
    "df['obs_value_smooth'].plot(figsize=[11,6])\n",
    "plt.show()\n"
   ]
  },
  {
   "cell_type": "markdown",
   "metadata": {},
   "source": [
    "# Ninas version herunder\n",
    "Den var flottere end min."
   ]
  },
  {
   "cell_type": "code",
   "execution_count": 27,
   "metadata": {},
   "outputs": [
    {
     "data": {
      "image/png": "[encoded data removed]",
      "text/plain": [
       "<Figure size 1000x600 with 1 Axes>"
      ]
     },
     "metadata": {},
     "output_type": "display_data"
    }
   ],
   "source": [
    "# Select data for the specific station 'AGE00135039'\n",
    "station_data = load_weather(1863).query('station==\"AGE00135039\"')\n",
    "\n",
    "# Create a timeseries plot\n",
    "station_data['obs_value'].plot(figsize=(10, 6), title='Temperature Time Series for Station AGE00135039')\n",
    "plt.xlabel('Date')\n",
    "plt.ylabel('Temperature (Celsius)')\n",
    "plt.show()\n"
   ]
  }
 ],
 "metadata": {
  "kernelspec": {
   "display_name": "Python 3",
   "language": "python",
   "name": "python3"
  },
  "language_info": {
   "codemirror_mode": {
    "name": "ipython",
    "version": 3
   },
   "file_extension": ".py",
   "mimetype": "text/x-python",
   "name": "python",
   "nbconvert_exporter": "python",
   "pygments_lexer": "ipython3",
   "version": "3.11.4"
  },
  "nav_menu": {},
  "toc": {
   "navigate_menu": true,
   "number_sections": false,
   "sideBar": true,
   "threshold": 6,
   "toc_cell": false,
   "toc_section_display": "block",
   "toc_window_display": true
  },
  "varInspector": {
   "cols": {
    "lenName": 16,
    "lenType": 16,
    "lenVar": 40
   },
   "kernels_config": {
    "python": {
     "delete_cmd_postfix": "",
     "delete_cmd_prefix": "del ",
     "library": "var_list.py",
     "varRefreshCmd": "print(var_dic_list())"
    },
    "r": {
     "delete_cmd_postfix": ") ",
     "delete_cmd_prefix": "rm(",
     "library": "var_list.r",
     "varRefreshCmd": "cat(var_dic_list()) "
    }
   },
   "types_to_exclude": [
    "module",
    "function",
    "builtin_function_or_method",
    "instance",
    "_Feature"
   ],
   "window_display": false
  }
 },
 "nbformat": 4,
 "nbformat_minor": 4
}
