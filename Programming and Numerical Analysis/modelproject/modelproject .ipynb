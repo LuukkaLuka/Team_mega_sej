{
 "cells": [
  {
   "attachments": {},
   "cell_type": "markdown",
   "metadata": {},
   "source": [
    "# The Solow Model"
   ]
  },
  {
   "attachments": {},
   "cell_type": "markdown",
   "metadata": {},
   "source": [
    "By Mathilde Maix & Nina Frandsen Jensen"
   ]
  },
  {
   "cell_type": "markdown",
   "metadata": {},
   "source": [
    "Imports and set magics:"
   ]
  },
  {
   "cell_type": "code",
   "execution_count": 1,
   "metadata": {},
   "outputs": [],
   "source": [
    "import numpy as np\n",
    "from scipy import optimize\n",
    "import sympy as sm\n",
    "from sympy import symbols, lambdify\n",
    "from matplotlib import pyplot as plt\n",
    "import ipywidgets as widgets\n",
    "\n",
    "# autoreload modules when code is run\n",
    "%load_ext autoreload\n",
    "%autoreload 2\n",
    "\n",
    "import modelproject\n",
    "from modelproject import SolowModelClass\n",
    "model = SolowModelClass()"
   ]
  },
  {
   "cell_type": "markdown",
   "metadata": {},
   "source": [
    "# Model description"
   ]
  },
  {
   "attachments": {},
   "cell_type": "markdown",
   "metadata": {},
   "source": [
    "**Solow model** \n",
    "\n",
    "Production function:\n",
    "$$\n",
    "Y_t = K_t^αH_t^σ(A_tL_t)^{(1-α-σ)}\n",
    "$$\n",
    "\n",
    "Y is output, K is physical capital, L is labor, H is human capital and A is technology. α and σ are the output elasticities of physical capital and human capital, respectively, and (1-α-σ) is the output elasticity of labor. \n",
    "Savings are divided in physical capital savings and human capital savings. They are defined as a constant fraction of the income. \n",
    "$$\n",
    "S_t=(s_K+s_H)Y_t\n",
    "$$\n",
    "\n",
    "The accumulation of physical capital over time is defined as:\n",
    "$$\n",
    "K_{t+1} = s_KY_t + (1-δ)K_t\n",
    "$$\n",
    "where δ is the depreciation rate of capital, and $K_{t+1}$ and $K_t$ are the levels of physical capital in periods t+1 and t, respectively.\n",
    "\n",
    "The accumulation of human capital over time is defined as:\n",
    "$$\n",
    "H_{t+1} = s_HY_t +(1-δ)H_t\n",
    "$$\n",
    "where δ is the depreciation rate of capital and $H_{t+1}$ and $H_t$ are the levels of human capital in periods t+1 and t, respectively.\n",
    "\n",
    "Finally, the level of technology and labor are defined as:\n",
    "$$\n",
    "A_{t+1} = (1+g)A_t\n",
    "$$\n",
    "$$\n",
    "L_{t+1} = (1+n)L_t\n",
    "$$\n",
    "where g is the rate of technological progress and n is the population growth. \n",
    "\n",
    "We define tilde-variables:\n",
    "$$\n",
    "\\tilde{y}_{t}= \\frac{Y_t}{A_tL_t}\n",
    "$$\n",
    "$$\n",
    "\\tilde{k}_{t}= \\frac{K_t}{A_tL_t}\n",
    "$$\n",
    "$$\n",
    "\\tilde{h}_{t}= \\frac{H_t}{A_tL_t}\n",
    "$$\n",
    "We define the transitions equation for physical capital and human capital as\n",
    "\n",
    "$$\n",
    "\\begin{aligned}\n",
    "\n",
    "    \\tilde{k}_{t+1} &= \\frac{1}{(1+n)(1+g)}(s_K \\tilde{k}_t^{\\alpha} \\tilde{h}_t^{σ} + (1-\\delta) \\tilde{k}_t),\\\\\n",
    "    \n",
    "    \\tilde{h}_{t+1} &= \\frac{1}{(1+n)(1+g)}(s_H \\tilde{h}_t^{\\alpha} \\tilde{h}_t^{σ} + (1-\\delta) \\tilde{h}_t).\\\\\n",
    "\n",
    "\\end{aligned}\n",
    "$$\n"
   ]
  },
  {
   "cell_type": "markdown",
   "metadata": {},
   "source": [
    "## Analytical solution"
   ]
  },
  {
   "attachments": {},
   "cell_type": "markdown",
   "metadata": {},
   "source": [
    "We begin by trying to solve the general Solow model analytically by using simpy solve."
   ]
  },
  {
   "cell_type": "code",
   "execution_count": 2,
   "metadata": {},
   "outputs": [
    {
     "name": "stdout",
     "output_type": "stream",
     "text": [
      "(0, 0)\n"
     ]
    }
   ],
   "source": [
    "# Define the variables and parameters\n",
    "k, L, s, delta, alpha, n, g = sm.symbols('k L s delta alpha n g')\n",
    "\n",
    "# Define the production function\n",
    "Y = k**alpha * L**(1-alpha)\n",
    "\n",
    "# Define the savings and accumulation equations\n",
    "S = s*Y\n",
    "K_next = S + (1-delta)*k\n",
    "\n",
    "# Define the labor accumulation equation\n",
    "L_next = (1+n)*L\n",
    "\n",
    "# Define the system of equations and solve for the steady state values\n",
    "system = [Y - delta*k - K_next,\n",
    "          S - K_next,\n",
    "          L_next - L]\n",
    "\n",
    "ss_sol = sm.solve(system, [k, L])\n",
    "\n",
    "# Define the steady state function\n",
    "k_ss = sm.lambdify((s, delta, alpha, n, g), ss_sol[0])\n",
    "\n",
    "# Test the function with example parameters\n",
    "params = (0.6, 0.05, 0.3, 0.01, 0.025)\n",
    "print(k_ss(*params))"
   ]
  },
  {
   "attachments": {},
   "cell_type": "markdown",
   "metadata": {},
   "source": [
    "Simpy solve on the general Solow model was unsuccessful. This is because in the Solow model, the steady state values of k, L, and A are normally found by solving a system of nonlinear equations numerically, rather than analytically."
   ]
  },
  {
   "attachments": {},
   "cell_type": "markdown",
   "metadata": {},
   "source": [
    "So instead, we define the model in our py-file, and use the transition equations to solve the Solow model analytically."
   ]
  },
  {
   "cell_type": "code",
   "execution_count": 3,
   "metadata": {},
   "outputs": [
    {
     "name": "stdout",
     "output_type": "stream",
     "text": [
      "                                1  \n",
      "                              ─────\n",
      "                              α - 1\n",
      "⎛       -φ ⎛           2    ⎞⎞     \n",
      "⎜h_tilde  ⋅⎝δ + (g + 1)  - 1⎠⎟     \n",
      "⎜────────────────────────────⎟     \n",
      "⎝             sₖ             ⎠     \n",
      "                                1  \n",
      "                              ─────\n",
      "                              φ - 1\n",
      "⎛       -α ⎛           2    ⎞⎞     \n",
      "⎜k_tilde  ⋅⎝δ + (g + 1)  - 1⎠⎟     \n",
      "⎜────────────────────────────⎟     \n",
      "⎝             sₕ             ⎠     \n"
     ]
    }
   ],
   "source": [
    "k_tilde_ss_A = model.solve_analytical_ss()"
   ]
  },
  {
   "cell_type": "markdown",
   "metadata": {},
   "source": [
    "## Numerical solution"
   ]
  },
  {
   "attachments": {},
   "cell_type": "markdown",
   "metadata": {},
   "source": [
    "Now we solve the model numerically. We have defined the steady states in a model in our py file. We begin by finding an estimation for $\\tilde k_t$ and $\\tilde h_t$."
   ]
  },
  {
   "cell_type": "code",
   "execution_count": 4,
   "metadata": {},
   "outputs": [
    {
     "name": "stdout",
     "output_type": "stream",
     "text": [
      "Steady state found:\n",
      "k_tilde = 0.2273539320183882\n",
      "h_tilde = 0.22735393201838805\n"
     ]
    }
   ],
   "source": [
    "ss_k_h = model.solve_steady_state()"
   ]
  },
  {
   "attachments": {},
   "cell_type": "markdown",
   "metadata": {},
   "source": [
    "We can illustrate the convergence in 2 graphs."
   ]
  },
  {
   "cell_type": "code",
   "execution_count": 5,
   "metadata": {},
   "outputs": [
    {
     "data": {
      "image/png": "[encoded data removed]",
      "text/plain": [
       "<Figure size 1000x400 with 2 Axes>"
      ]
     },
     "metadata": {},
     "output_type": "display_data"
    }
   ],
   "source": [
    "convergence_ss = model.convergence()"
   ]
  },
  {
   "attachments": {},
   "cell_type": "markdown",
   "metadata": {},
   "source": [
    "Now that we have estimated the capital and human capital steady states, we can also estimate the production"
   ]
  },
  {
   "cell_type": "code",
   "execution_count": 6,
   "metadata": {},
   "outputs": [
    {
     "name": "stdout",
     "output_type": "stream",
     "text": [
      "Y steady state found= 0.5954507743338711\n"
     ]
    }
   ],
   "source": [
    "y_ss = model.y_steady_state()"
   ]
  },
  {
   "attachments": {},
   "cell_type": "markdown",
   "metadata": {},
   "source": [
    "Then we wish to illustrate the steady states in a phase diagram. "
   ]
  },
  {
   "cell_type": "code",
   "execution_count": 7,
   "metadata": {},
   "outputs": [],
   "source": [
    "# Define the variables and parameters\n",
    "k_tilde, h_tilde = sm.symbols('ktilde_t, htilde_t')\n",
    "sK, sH, g, n, delta, alpha, sigma = sm.symbols('s_K, s_H, g, n, delta, alpha, sigma')\n",
    "\n",
    "# Define the transition equations\n",
    "k_trans = sm.Eq(k_tilde, \n",
    "                1/((1+n)*(1+g))*(sK*k_tilde**alpha*h_tilde**sigma+(1-delta)*k_tilde))\n",
    "h_trans = sm.Eq(h_tilde, \n",
    "                1/((1+n)*(1+g))*(sH*k_tilde**alpha*h_tilde**sigma+(1-delta)*h_tilde))\n",
    "\n",
    "# Derive nullclines from transition equations \n",
    "nullcline_k = sm.solve(k_trans,h_tilde)[0] \n",
    "null_k = sm.Eq(h_tilde, nullcline_k)\n",
    "\n",
    "nullcline_h = sm.solve(h_trans,h_tilde)[0]\n",
    "null_h = sm.Eq(h_tilde, nullcline_h)\n",
    "\n",
    "# Use lambdify\n",
    "null_k_func = sm.lambdify([k_tilde, alpha, delta, g, n, sigma, sK], nullcline_k)\n",
    "null_h_func = sm.lambdify([k_tilde, alpha, delta, g, n, sigma, sH], nullcline_h)\n",
    " \n",
    "# Define values \n",
    "k_tilde_vec = np.linspace(1,5000,100)  \n",
    "\n",
    "alpha = 0.3\n",
    "delta = 0.02\n",
    "g = 0.02\n",
    "n = 0.01\n",
    "sigma = 0.5\n",
    "sH = 0.2\n",
    "sK = 0.3\n",
    "\n",
    "null_k_val = null_k_func(k_tilde_vec,alpha,delta,g, n, sigma, sK)\n",
    "null_h_val = null_h_func(k_tilde_vec,alpha,delta,g, n, sigma, sH)"
   ]
  },
  {
   "cell_type": "code",
   "execution_count": 8,
   "metadata": {},
   "outputs": [
    {
     "data": {
      "image/png": "[encoded data removed]",
      "text/plain": [
       "<Figure size 640x480 with 1 Axes>"
      ]
     },
     "metadata": {},
     "output_type": "display_data"
    }
   ],
   "source": [
    "# Plot\n",
    "fig = plt.figure()\n",
    "ax = fig.add_subplot(1,1,1)\n",
    "\n",
    "ax.plot(k_tilde_vec, null_k_val, label = r'$ \\Delta \\tilde{k}_t = 0$')\n",
    "ax.plot(k_tilde_vec, null_h_val, label = r'$ \\Delta \\tilde{h}_t = 0$');\n",
    "ax.set_xlabel(r'$\\tilde{k}_t$',)\n",
    "ax.set_xticks([])\n",
    "ax.set_yticks([])\n",
    "ax.set_ylabel(r'$\\tilde{h}_t$', rotation = 0)\n",
    "\n",
    "ax.legend(loc='upper left');"
   ]
  },
  {
   "attachments": {},
   "cell_type": "markdown",
   "metadata": {},
   "source": [
    "From the power of $\\tilde{k}$, we observe that the nullcline for $\\triangle\\tilde{k} = 0$ is convex, while the nullcline for $\\triangle\\tilde{h} = 0$ is concave in the $\\tilde{k}$ dimension. We know wish to show the nullclines in a fase diagram"
   ]
  },
  {
   "attachments": {},
   "cell_type": "markdown",
   "metadata": {},
   "source": [
    "The fase diagram shows the transition to steady state. The steady state is where the null clines intersect each other. \n",
    "Now we will find the steady state and graph the convergence. "
   ]
  },
  {
   "attachments": {},
   "cell_type": "markdown",
   "metadata": {},
   "source": [
    "# Extension of the model"
   ]
  },
  {
   "attachments": {},
   "cell_type": "markdown",
   "metadata": {},
   "source": [
    "\n",
    "In this experiment, we will investigate the impact of a permanent increase in the investment rate in human capital."
   ]
  },
  {
   "cell_type": "code",
   "execution_count": 9,
   "metadata": {},
   "outputs": [
    {
     "data": {
      "application/vnd.jupyter.widget-view+json": {
       "model_id": "86777bc4d0f84f53b642a559cf73eff0",
       "version_major": 2,
       "version_minor": 0
      },
      "text/plain": [
       "interactive(children=(FloatSlider(value=0.3, description='s_K', max=0.9, min=0.1, step=0.01), FloatSlider(valu…"
      ]
     },
     "metadata": {},
     "output_type": "display_data"
    }
   ],
   "source": [
    "from matplotlib.lines import Line2D\n",
    "from ipywidgets import interact, FloatSlider\n",
    "\n",
    "def plot_combinations_new(sk, sh, alpha, phi, n, g, delta):\n",
    "    # SS equations\n",
    "    ktilde_ss = ((sk ** (1 - phi) * sh ** phi) / (n + g + delta + n * g)) ** (1 / (1 - alpha - phi))\n",
    "    htilde_ss = ((sk ** alpha * sh ** (1 - alpha)) / (n + g + delta + n * g)) ** (1 / (1 - alpha - phi))\n",
    "    ktildenew_ss = ((sk ** (1 - phi) * (sh * 1.3) ** phi) / (n + g + delta + n * g)) ** (1 / (1 - alpha - phi))\n",
    "    htildenew_ss = ((sk ** alpha * (sh * 1.3) ** (1 - alpha)) / (n + g + delta + n * g)) ** (1 / (1 - alpha - phi))\n",
    "    \n",
    "    # Grids\n",
    "    ktilde_values = np.linspace(0.01, 2 * ktilde_ss, 100)\n",
    "    htilde_values = np.linspace(0.01, 2 * htilde_ss, 100)\n",
    "    Ktilde, Htilde = np.meshgrid(ktilde_values, htilde_values)\n",
    "    \n",
    "    # Nullclines\n",
    "    delta_ktilde = (1 / ((1 + n) * (1 + g))) * (sk * Ktilde ** alpha * Htilde ** phi - (n + g + delta + n * g) * Ktilde)\n",
    "    delta_htilde = (1 / ((1 + n) * (1 + g))) * (sh * Ktilde ** alpha * Htilde ** phi - (n + g + delta + n * g) * Htilde)\n",
    "    delta_htildenew = (1 / ((1 + n) * (1 + g))) * (sh * 1.3 * Ktilde ** alpha * Htilde ** phi - (n + g + delta + n * g) * Htilde)\n",
    "\n",
    "    # Formatting\n",
    "    plt.figure(figsize=(8, 8))\n",
    "    plt.contour(Ktilde, Htilde, delta_ktilde, levels=[0], colors=['pink'])\n",
    "    plt.contour(Ktilde, Htilde, delta_htilde, levels=[0], colors=['purple']) \n",
    "    plt.contour(Ktilde, Htilde, delta_htildenew, levels=[0], colors=['orange']) \n",
    "    plt.plot([],[],[])\n",
    "    \n",
    "    #SS 1st equilibrium\n",
    "    plt.scatter(ktilde_ss, htilde_ss, color='red', marker='o', zorder=3)\n",
    "    plt.annotate(\"EQ1\", (ktilde_ss, htilde_ss), textcoords=\"offset points\", xytext=(-10, 5), fontsize=12, color='red', zorder=3)\n",
    "    \n",
    "    #SS New equilibrium\n",
    "    plt.scatter(ktildenew_ss, htildenew_ss, color='red', marker='o', zorder=3)\n",
    "    plt.annotate(\"EQ2\", (ktildenew_ss, htildenew_ss), textcoords=\"offset points\", xytext=(-10, 5), fontsize=12, color='red', zorder=3)\n",
    "\n",
    "    plt.xlabel('$\\~{k}_t$')\n",
    "    plt.ylabel('$\\~{h}_t$')\n",
    "    plt.title('Interactive phase diagram')\n",
    "\n",
    "    # Legend\n",
    "    custom_lines = [Line2D([0], [0], color=\"pink\", lw=4),\n",
    "                    Line2D([0], [0], color=\"purple\", lw=4),\n",
    "                    Line2D([0], [0], color=\"orange\", lw=4),\n",
    "                    Line2D([0], [0], marker='o', color=\"red\", markersize=10),\n",
    "                    Line2D([0], [0], marker='o', color=\"red\", markersize=10)]\n",
    "\n",
    "        \n",
    "    plt.legend(custom_lines, ['$\\Delta k_t=0$', '$\\Delta h_t=0$','$\\Delta h^{new}_t=0$', 'Equilibrium 1', 'Equilibrium 2'])\n",
    "\n",
    "    # Axis\n",
    "    plt.xlim(0, 50)\n",
    "    plt.ylim(0, 50)\n",
    "\n",
    "    plt.grid()\n",
    "    plt.show()\n",
    "\n",
    "# Sliders\n",
    "sk_slider = FloatSlider(min=0.1, max=0.9, step=0.01, value=0.3, description=r's_K')\n",
    "sh_slider = FloatSlider(min=0.1, max=0.9, step=0.01, value=0.3, description=r's_H')\n",
    "alpha_slider = FloatSlider(min=0, max=0.5, step=0.01, value=0.3, description=r'alpha')\n",
    "phi_slider = FloatSlider(min=0, max=0.5, step=0.01, value=0.3, description=r'varphi')\n",
    "n_slider = FloatSlider(min=0, max=0.1, step=0.001, value=0.01, description=r'n')\n",
    "g_slider = FloatSlider(min=0, max=0.1, step=0.001, value=0.02, description=r'g')\n",
    "delta_slider = FloatSlider(min=0, max=0.1, step=0.001, value=0.05, description=r'$\\delta$')\n",
    "\n",
    "# Interactive plot\n",
    "interact(plot_combinations_new, sk=sk_slider, sh=sh_slider, alpha=alpha_slider, phi=phi_slider, n=n_slider, g=g_slider, delta=delta_slider);"
   ]
  },
  {
   "attachments": {},
   "cell_type": "markdown",
   "metadata": {},
   "source": [
    "When we have an increase in $s_H$, indicating a higher investment in human capital per worker, several effects can be observed. Initially, there will be an increase in income due to the improved productivity resulting from the increased human capital. Additionally, there will be an increase in physical capital as a result of the investment made during the first period.\n",
    "\n",
    "However, the effects of increased human capital and physical capital will not stop after the first period, they  will continue to accumulate over time. The investment in human capital leads to a higher level of skills and knowledge among workers, which enhances their productivity and, therefore, their income. The higher income allows for further savings and investment in physical capital, leading to even more productive capacity in next periods."
   ]
  },
  {
   "cell_type": "markdown",
   "metadata": {},
   "source": [
    "# Conclusion"
   ]
  },
  {
   "attachments": {},
   "cell_type": "markdown",
   "metadata": {},
   "source": [
    "This project focused on studying the effects of increasing investment in human capital using the Solow growth model. By analyzing the model, we found that increasing the investment rate in human capital, represented by $s_H$, had significant positive impacts. In the initial period, it led to higher productivity, income, and physical capital accumulation. These benefits continued to grow over time, resulting in sustained economic growth.\n",
    "\n",
    "We visualized the model's dynamics by plotting null-clines. These visualizations helped us understand the relationship between investment rates, steady states, and convergence paths.\n",
    "\n",
    "Overall, this project highlighted the importance of investing in human capital for economic growth and development. The Solow growth model, by considering human capital alongside physical capital and technological progress, provided valuable insights into the dynamics of economic growth and the potential benefits of investments in human capital."
   ]
  }
 ],
 "metadata": {
  "kernelspec": {
   "display_name": "base",
   "language": "python",
   "name": "python3"
  },
  "language_info": {
   "codemirror_mode": {
    "name": "ipython",
    "version": 3
   },
   "file_extension": ".py",
   "mimetype": "text/x-python",
   "name": "python",
   "nbconvert_exporter": "python",
   "pygments_lexer": "ipython3",
   "version": "3.9.13"
  },
  "toc-autonumbering": true,
  "vscode": {
   "interpreter": {
    "hash": "f3b51e819bc11dd36f9785fabc699cfbf6a066dcb80d697c76b1569915f425ca"
   }
  }
 },
 "nbformat": 4,
 "nbformat_minor": 4
}
