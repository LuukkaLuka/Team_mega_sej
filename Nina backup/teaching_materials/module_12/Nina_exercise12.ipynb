{
 "cells": [
  {
   "cell_type": "markdown",
   "metadata": {
    "ExecuteTime": {
     "end_time": "2017-08-23T15:30:03.634114Z",
     "start_time": "2017-08-23T15:30:03.629294Z"
    }
   },
   "source": [
    "# Videos and Exercises for Session 12: Model Selection and Cross-Validation\n",
    "\n",
    "In this combined teaching module and exercise set, we will investigate how to optimize the choice of hyperparameters using model validation and cross validation. As an aside, we will see how to build machine learning models using a formalized pipeline from preprocessed (i.e. tidy) data to a model.\n",
    "\n",
    "The structure of this notebook is as follows:\n",
    "1. Model Building with Pipelines\n",
    "2. Model Selection and Validation\n",
    "    - Simple Validation\n",
    "    - Cross Validation\n",
    "    - Tools for Model Selection"
   ]
  },
  {
   "cell_type": "markdown",
   "metadata": {},
   "source": [
    "## Packages\n",
    "First, we need to import our standard stuff. Notice that (similar to last session), we are not interested in seeing the convergence warning in scikit-learn, so we suppress them for now."
   ]
  },
  {
   "cell_type": "code",
   "execution_count": 7,
   "metadata": {},
   "outputs": [],
   "source": [
    "import warnings\n",
    "from sklearn.exceptions import ConvergenceWarning\n",
    "warnings.filterwarnings(action='ignore', category=ConvergenceWarning)\n",
    "\n",
    "import matplotlib.pyplot as plt\n",
    "import numpy as np \n",
    "import pandas as pd \n",
    "import seaborn as sns"
   ]
  },
  {
   "cell_type": "markdown",
   "metadata": {},
   "source": [
    "# Part 1: Model Building with Pipelines\n",
    "\n",
    "A powerful tool for making and applying models are pipelines, which allows to combine different preprocessing and model procedures into one. This has many advantages, mainly being more safe but also has the added side effect being more code-efficient."
   ]
  },
  {
   "cell_type": "code",
   "execution_count": 8,
   "metadata": {},
   "outputs": [
    {
     "data": {
      "image/jpeg": "[encoded data removed]",
      "text/html": [
       "\n",
       "        <iframe\n",
       "            width=\"640\"\n",
       "            height=\"360\"\n",
       "            src=\"https://www.youtube.com/embed/e_98Co2xRuQ\"\n",
       "            frameborder=\"0\"\n",
       "            allowfullscreen\n",
       "            \n",
       "        ></iframe>\n",
       "        "
      ],
      "text/plain": [
       "<IPython.lib.display.YouTubeVideo at 0x7fd591c4e700>"
      ]
     },
     "execution_count": 8,
     "metadata": {},
     "output_type": "execute_result"
    }
   ],
   "source": [
    "from IPython.display import YouTubeVideo\n",
    "YouTubeVideo('e_98Co2xRuQ', width=640, height=360)"
   ]
  },
  {
   "cell_type": "markdown",
   "metadata": {},
   "source": [
    "\n",
    "First, load the housing dataset from Ex. 11.2.0 using the code below. "
   ]
  },
  {
   "cell_type": "code",
   "execution_count": 9,
   "metadata": {},
   "outputs": [],
   "source": [
    "from sklearn.datasets import fetch_california_housing\n",
    "from sklearn.model_selection import train_test_split\n",
    "\n",
    "cal_house = fetch_california_housing()    \n",
    "X = pd.DataFrame(data=cal_house['data'], \n",
    "                 columns=cal_house['feature_names'])\\\n",
    "             .iloc[:,:-2]\n",
    "y = cal_house['target']"
   ]
  },
  {
   "cell_type": "markdown",
   "metadata": {},
   "source": [
    "> **Ex. 12.1.1:** Construct a model building pipeline which: \n",
    "> 1. adds polynomial features of degree 3 without bias;\n",
    "> 2. scales the features to mean zero and unit std. \n",
    "\n",
    "> *Hint:* a modelling pipeline can be constructed with `make_pipeline` from `sklearn.pipeline`."
   ]
  },
  {
   "cell_type": "code",
   "execution_count": 10,
   "metadata": {
    "deletable": false,
    "nbgrader": {
     "cell_type": "code",
     "checksum": "d1a68e769aaf9219bd7632517a9ad8c5",
     "grade": false,
     "grade_id": "cell-a993cef564dd7353",
     "locked": false,
     "schema_version": 3,
     "solution": true,
     "task": false
    }
   },
   "outputs": [],
   "source": [
    "from sklearn.pipeline import make_pipeline\n",
    "from sklearn.preprocessing import PolynomialFeatures, StandardScaler\n",
    "\n",
    "# Create the pipeline\n",
    "pipeline = make_pipeline(\n",
    "    PolynomialFeatures(degree=3, include_bias=False),  # Add polynomial features of degree 3\n",
    "    StandardScaler()  # Scale the features to mean zero and unit std\n",
    ")\n",
    "\n",
    "# Fit and transform the data using the pipeline\n",
    "X_transformed = pipeline.fit_transform(X)"
   ]
  },
  {
   "attachments": {},
   "cell_type": "markdown",
   "metadata": {},
   "source": [
    "Now X_transformed contains the polynomial features of degree 3, scaled as specified."
   ]
  },
  {
   "cell_type": "markdown",
   "metadata": {},
   "source": [
    "# Part 2: Model Selection and Validation\n",
    "\n",
    "\n",
    "## Simple Validation\n",
    "In machine learning, we have two types of parameters: those that are learned from\n",
    "the training data, for example, the weights in logistic regression, and the parameters\n",
    "of a learning algorithm that are optimized separately. The latter are the tuning\n",
    "parameters, also called *hyperparameters*, of a model. These could for example be the regularization\n",
    "parameter in logistic regression or the depth parameter of a decision tree.\n",
    "\n",
    "Below, we investigate how we can choose optimal hyperparameters."
   ]
  },
  {
   "cell_type": "code",
   "execution_count": 11,
   "metadata": {},
   "outputs": [
    {
     "data": {
      "image/jpeg": "[encoded data removed]",
      "text/html": [
       "\n",
       "        <iframe\n",
       "            width=\"640\"\n",
       "            height=\"360\"\n",
       "            src=\"https://www.youtube.com/embed/jSPGLkxJ0cQ\"\n",
       "            frameborder=\"0\"\n",
       "            allowfullscreen\n",
       "            \n",
       "        ></iframe>\n",
       "        "
      ],
      "text/plain": [
       "<IPython.lib.display.YouTubeVideo at 0x7fd592498a60>"
      ]
     },
     "execution_count": 11,
     "metadata": {},
     "output_type": "execute_result"
    }
   ],
   "source": [
    "YouTubeVideo('jSPGLkxJ0cQ', width=640, height=360)"
   ]
  },
  {
   "cell_type": "markdown",
   "metadata": {},
   "source": [
    "In what follows, we will regard the \"train\" (aka. development, non-test) data for two purposes. \n",
    "- First we are interested in getting a credible measure of models under different hyperparameters to perform a model selection. \n",
    "- Then - with the selected model - we estimate/train it on all the training data. "
   ]
  },
  {
   "cell_type": "markdown",
   "metadata": {},
   "source": [
    "> **Ex. 12.2.1:** Make a for loop with 10 iterations where you:\n",
    "> 1. Split the input data into, train (also know as development) and test where the test sample should be one third. Set a new random state for each iteration of the loop, so each iteration makes a different split.\n",
    "> 2. Further split the training (aka development) data into two even sized bins; the first data is for training models and the other is for validating them. Therefore these data sets are often called training and validation.\n",
    "> 3. Train a linear regression model with sub-training data. Compute the RMSE for out-of-sample predictions for both the test data  and the validation data. Save the RMSE.\n",
    ">\n",
    "> You should now have a 10x2 DataFrame with 10 RMSE from both the test data set and the train data set. Compute descriptive statistics of RMSE for the out-of-sample predictions on test and validation data. Are they simular?    \n",
    ">   They hopefuly are pretty simular. This shows us, that we can split the train data, and use this to fit the model. \n",
    ">\n",
    "> *Hint*: you can reuse any code used to solve e.g. exercises 11.3.2."
   ]
  },
  {
   "cell_type": "code",
   "execution_count": 13,
   "metadata": {
    "deletable": false,
    "nbgrader": {
     "cell_type": "code",
     "checksum": "063444a85f076df0cd894ca9a3e20904",
     "grade": false,
     "grade_id": "cell-7f4fc2d7f61542ec",
     "locked": false,
     "schema_version": 3,
     "solution": true,
     "task": false
    }
   },
   "outputs": [
    {
     "name": "stdout",
     "output_type": "stream",
     "text": [
      "          Test RMSE  Validation RMSE\n",
      "count     10.000000        10.000000\n",
      "mean    5470.667292     26887.660396\n",
      "std    10947.071375     83191.198341\n",
      "min        0.919830         3.171849\n",
      "25%        6.164023       100.845344\n",
      "50%      846.550198       265.431451\n",
      "75%     2175.457638      1349.432350\n",
      "max    33849.919521    263644.614511\n"
     ]
    }
   ],
   "source": [
    "from sklearn.linear_model import LinearRegression\n",
    "from sklearn.metrics import mean_squared_error\n",
    "\n",
    "# Load the dataset\n",
    "cal_house = fetch_california_housing()\n",
    "X = pd.DataFrame(data=cal_house['data'], columns=cal_house['feature_names']).iloc[:,:-2]\n",
    "y = cal_house['target']\n",
    "\n",
    "# Create a DataFrame to store RMSE values\n",
    "rmse_df = pd.DataFrame(columns=['Test RMSE', 'Validation RMSE'])\n",
    "\n",
    "# Perform 10 iterations\n",
    "for iteration in range(10):\n",
    "    # Split the data into train (development) and test sets\n",
    "    X_train, X_test, y_train, y_test = train_test_split(X, y, test_size=1/3, random_state=iteration)\n",
    "    \n",
    "    # Further split the training (development) data into training and validation sets\n",
    "    X_train_sub, X_val, y_train_sub, y_val = train_test_split(X_train, y_train, test_size=0.5, random_state=iteration)\n",
    "    \n",
    "    # Create the pipeline\n",
    "    pipeline = make_pipeline(\n",
    "        PolynomialFeatures(degree=3, include_bias=False),  # Add polynomial features of degree 3\n",
    "        StandardScaler(),  # Scale the features to mean zero and unit std\n",
    "        LinearRegression()  # Linear Regression model\n",
    "    )\n",
    "    \n",
    "    # Train the model on the sub-training data\n",
    "    pipeline.fit(X_train_sub, y_train_sub)\n",
    "    \n",
    "    # Make predictions on the test data and validation data\n",
    "    y_test_pred = pipeline.predict(X_test)\n",
    "    y_val_pred = pipeline.predict(X_val)\n",
    "    \n",
    "    # Compute RMSE for test and validation predictions\n",
    "    rmse_test = np.sqrt(mean_squared_error(y_test, y_test_pred))\n",
    "    rmse_val = np.sqrt(mean_squared_error(y_val, y_val_pred))\n",
    "    \n",
    "    # Store RMSE values in the DataFrame\n",
    "    rmse_df.loc[iteration] = [rmse_test, rmse_val]\n",
    "\n",
    "# Calculate descriptive statistics of RMSE for test and validation predictions\n",
    "rmse_stats = rmse_df.describe()\n",
    "print(rmse_stats)\n"
   ]
  },
  {
   "cell_type": "markdown",
   "metadata": {},
   "source": [
    "> **Ex. 12.2.2:** Construct a model building pipeline which \n",
    "> 1. adds polynomial features of degree 3 without bias;\n",
    "> 2. scales the features to mean zero and unit std. \n",
    "> 3. estimates a Lasso model"
   ]
  },
  {
   "cell_type": "code",
   "execution_count": 14,
   "metadata": {
    "deletable": false,
    "nbgrader": {
     "cell_type": "code",
     "checksum": "28c8478dac9d6269616f87689298ef3e",
     "grade": false,
     "grade_id": "cell-b9e732407b6a3bc7",
     "locked": false,
     "schema_version": 3,
     "solution": true,
     "task": false
    }
   },
   "outputs": [
    {
     "name": "stdout",
     "output_type": "stream",
     "text": [
      "       Test RMSE  Validation RMSE\n",
      "count  10.000000        10.000000\n",
      "mean    1.154631         1.154159\n",
      "std     0.011231         0.007989\n",
      "min     1.136473         1.141985\n",
      "25%     1.145537         1.147605\n",
      "50%     1.155531         1.154263\n",
      "75%     1.162058         1.158934\n",
      "max     1.171695         1.166407\n"
     ]
    }
   ],
   "source": [
    "from sklearn.linear_model import Lasso\n",
    "\n",
    "# Load the dataset\n",
    "cal_house = fetch_california_housing()\n",
    "X = pd.DataFrame(data=cal_house['data'], columns=cal_house['feature_names']).iloc[:,:-2]\n",
    "y = cal_house['target']\n",
    "\n",
    "# Create a DataFrame to store RMSE values\n",
    "rmse_df = pd.DataFrame(columns=['Test RMSE', 'Validation RMSE'])\n",
    "\n",
    "# Perform 10 iterations\n",
    "for iteration in range(10):\n",
    "    # Split the data into train (development) and test sets\n",
    "    X_train, X_test, y_train, y_test = train_test_split(X, y, test_size=1/3, random_state=iteration)\n",
    "    \n",
    "    # Further split the training (development) data into training and validation sets\n",
    "    X_train_sub, X_val, y_train_sub, y_val = train_test_split(X_train, y_train, test_size=0.5, random_state=iteration)\n",
    "    \n",
    "    # Create the pipeline\n",
    "    pipeline = make_pipeline(\n",
    "        PolynomialFeatures(degree=3, include_bias=False),  # Add polynomial features of degree 3\n",
    "        StandardScaler(),  # Scale the features to mean zero and unit std\n",
    "        Lasso(alpha=1.0)  # Lasso regression model with alpha=1.0\n",
    "    )\n",
    "    \n",
    "    # Train the model on the sub-training data\n",
    "    pipeline.fit(X_train_sub, y_train_sub)\n",
    "    \n",
    "    # Make predictions on the test data and validation data\n",
    "    y_test_pred = pipeline.predict(X_test)\n",
    "    y_val_pred = pipeline.predict(X_val)\n",
    "    \n",
    "    # Compute RMSE for test and validation predictions\n",
    "    rmse_test = np.sqrt(mean_squared_error(y_test, y_test_pred))\n",
    "    rmse_val = np.sqrt(mean_squared_error(y_val, y_val_pred))\n",
    "    \n",
    "    # Store RMSE values in the DataFrame\n",
    "    rmse_df.loc[iteration] = [rmse_test, rmse_val]\n",
    "\n",
    "# Calculate descriptive statistics of RMSE for test and validation predictions\n",
    "rmse_stats = rmse_df.describe()\n",
    "print(rmse_stats)\n"
   ]
  },
  {
   "cell_type": "markdown",
   "metadata": {},
   "source": [
    "## Cross Validation\n",
    "\n",
    "  \n",
    "The simple validation procedure that we outlined above has one disadvantage: it only uses parts of the *development* data for validation. In the video below, we present a refined approach that uses all the *development* for validation.\n",
    "\n"
   ]
  },
  {
   "cell_type": "code",
   "execution_count": null,
   "metadata": {},
   "outputs": [],
   "source": [
    "YouTubeVideo('-G--B3woZGU', width=640, height=360)"
   ]
  },
  {
   "cell_type": "markdown",
   "metadata": {},
   "source": [
    "When we want to optimize over both normal parameters and hyperparameters, we do this using nested loops (two-layered cross validation). In the outer loop, we vary the hyperparameters, and then in the inner loop, we do cross validation for the model with the specific selection of hyperparameters. This way, we can find the model with the lowest mean MSE. "
   ]
  },
  {
   "cell_type": "markdown",
   "metadata": {},
   "source": [
    "> **Ex. 12.2.3:**\n",
    "Run a Lasso regression using the Pipeline from `Ex 12.2.2`. In the outer loop, search through the lambdas specified below. \n",
    "In the inner loop, make *5 fold cross validation* on the selected model and store the average MSE for each fold. Which lambda, from the selection below, gives the lowest test MSE?\n",
    ">  ```python \n",
    "> lambdas =  np.logspace(-4, 4, 12)\n",
    "> ```\n",
    "> *Hint:* `KFold` in `sklearn.model_selection` may be useful."
   ]
  },
  {
   "cell_type": "code",
   "execution_count": 17,
   "metadata": {},
   "outputs": [
    {
     "name": "stdout",
     "output_type": "stream",
     "text": [
      "The lambda with the lowest average MSE: 0.08111308307896872\n"
     ]
    }
   ],
   "source": [
    "from sklearn.model_selection import train_test_split, KFold\n",
    "\n",
    "# Define lambda values to search through\n",
    "lambdas = np.logspace(-4, 4, 12)\n",
    "\n",
    "# Create a DataFrame to store average MSE for each lambda\n",
    "mse_df = pd.DataFrame(index=lambdas, columns=['Average MSE'])\n",
    "\n",
    "# Outer loop for varying lambdas\n",
    "for lambda_val in lambdas:\n",
    "    avg_mse_list = []  # Store average MSE values for each fold\n",
    "    \n",
    "    # Inner loop for 5-fold cross-validation\n",
    "    kfold = KFold(n_splits=5, shuffle=True, random_state=42)\n",
    "    for train_indices, val_indices in kfold.split(X):\n",
    "        X_train, X_val = X.iloc[train_indices], X.iloc[val_indices]\n",
    "        y_train, y_val = y[train_indices], y[val_indices]\n",
    "        \n",
    "        # Create the pipeline with the current lambda value\n",
    "        pipeline = make_pipeline(\n",
    "            PolynomialFeatures(degree=3, include_bias=False),  # Add polynomial features of degree 3\n",
    "            StandardScaler(),  # Scale the features to mean zero and unit std\n",
    "            Lasso(alpha=lambda_val)  # Lasso regression model with the current lambda value\n",
    "        )\n",
    "        \n",
    "        # Train the model on the training data\n",
    "        pipeline.fit(X_train, y_train)\n",
    "        \n",
    "        # Make predictions on the validation data\n",
    "        y_val_pred = pipeline.predict(X_val)\n",
    "        \n",
    "        # Calculate MSE for the fold and store it\n",
    "        mse_fold = mean_squared_error(y_val, y_val_pred)\n",
    "        avg_mse_list.append(mse_fold)\n",
    "    \n",
    "    # Calculate the average MSE across folds for the current lambda\n",
    "    avg_mse = np.mean(avg_mse_list)\n",
    "    \n",
    "    # Store the average MSE in the DataFrame\n",
    "    mse_df.loc[lambda_val, 'Average MSE'] = avg_mse\n",
    "\n",
    "# Find the lambda with the lowest average MSE\n",
    "best_lambda = mse_df['Average MSE'].astype(float).idxmin()\n",
    "print(f\"The lambda with the lowest average MSE: {best_lambda}\")\n"
   ]
  },
  {
   "cell_type": "code",
   "execution_count": 18,
   "metadata": {},
   "outputs": [
    {
     "data": {
      "text/plain": [
       "0        41.0\n",
       "1        21.0\n",
       "2        52.0\n",
       "3        52.0\n",
       "4        52.0\n",
       "         ... \n",
       "20635    25.0\n",
       "20636    18.0\n",
       "20637    17.0\n",
       "20638    18.0\n",
       "20639    16.0\n",
       "Name: HouseAge, Length: 20640, dtype: float64"
      ]
     },
     "execution_count": 18,
     "metadata": {},
     "output_type": "execute_result"
    }
   ],
   "source": [
    "X.iloc[:,1]"
   ]
  },
  {
   "cell_type": "markdown",
   "metadata": {},
   "source": [
    "## Tools for model selection\n",
    "\n",
    "Below we review three useful tools for performing model selection. The first tool, the learning curve, can be used to assess whether there is over- and underfitting."
   ]
  },
  {
   "cell_type": "code",
   "execution_count": null,
   "metadata": {},
   "outputs": [],
   "source": [
    "YouTubeVideo('BMR6O9NaYdc', width=640, height=360)"
   ]
  },
  {
   "cell_type": "markdown",
   "metadata": {},
   "source": [
    "The next tool, the validation curve, helps to make perform automated model selection and to visualize the process of model selection."
   ]
  },
  {
   "cell_type": "code",
   "execution_count": null,
   "metadata": {},
   "outputs": [],
   "source": [
    "YouTubeVideo('c9NkJC7EzPg', width=640, height=360)"
   ]
  },
  {
   "attachments": {},
   "cell_type": "markdown",
   "metadata": {},
   "source": [
    "**Explanation of lambda from the video above**: As we increase lambda, we get a more simple model. Increasing lambda means increasing the degree of regularization; we increase the weight put on the penalty term in the cost function. The more weight we put on it, the more features will be shut down, that is, the coefficients will be set to zero. When the train curve is below the validation curve by a big amount, we are overfitting. When the two curves have converged and have both become flat, we are underfitting."
   ]
  },
  {
   "cell_type": "markdown",
   "metadata": {},
   "source": [
    "When we have more than one hyperparameter, we need to find the combination of optimal hyperparameters. In the video below we see how to do that for *elastic net*, which has both L1 and L2 regularization."
   ]
  },
  {
   "cell_type": "code",
   "execution_count": null,
   "metadata": {},
   "outputs": [],
   "source": [
    "YouTubeVideo('AjEpa24mFGw', width=640, height=360)"
   ]
  },
  {
   "cell_type": "markdown",
   "metadata": {},
   "source": [
    "> **Ex. 12.2.4:** __Automated Cross Validation in one dimension__  \n",
    "Now we want to repeat exercise 12.2.3 in a more automated fashion. \n",
    "When you are doing cross validation with one hyperparameter, you can automate the process by using `validation_curve` from `sklearn.model_selection`. Use this function to search through the values of lambdas, and find the value of lambda, which give the lowest test error.  \n",
    ">\n",
    "> Check if you got the same output for the manual implementation (Ex. 12.2.3) and the automated implementation (Ex. 12.2.4) \n",
    ">\n",
    "> BONUS: Plot the average MSE-test and MSE-train against the different values of lambda. (*Hint*: Use logarithmic axes, and lambda as index)"
   ]
  },
  {
   "cell_type": "code",
   "execution_count": 21,
   "metadata": {
    "deletable": false,
    "nbgrader": {
     "cell_type": "code",
     "checksum": "609c9fdda72359dd5195b9620df03315",
     "grade": false,
     "grade_id": "cell-e0de0809041fc3c4",
     "locked": false,
     "schema_version": 3,
     "solution": true,
     "task": false
    }
   },
   "outputs": [
    {
     "name": "stderr",
     "output_type": "stream",
     "text": [
      "/Users/ninajensen/opt/anaconda3/lib/python3.9/site-packages/sklearn/linear_model/_coordinate_descent.py:647: ConvergenceWarning: Objective did not converge. You might want to increase the number of iterations, check the scale of the features or consider increasing regularisation. Duality gap: 4.847e+01, tolerance: 2.228e+00\n",
      "  model = cd_fast.enet_coordinate_descent(\n",
      "/Users/ninajensen/opt/anaconda3/lib/python3.9/site-packages/sklearn/linear_model/_coordinate_descent.py:647: ConvergenceWarning: Objective did not converge. You might want to increase the number of iterations, check the scale of the features or consider increasing regularisation. Duality gap: 1.413e+03, tolerance: 2.228e+00\n",
      "  model = cd_fast.enet_coordinate_descent(\n",
      "/Users/ninajensen/opt/anaconda3/lib/python3.9/site-packages/sklearn/linear_model/_coordinate_descent.py:647: ConvergenceWarning: Objective did not converge. You might want to increase the number of iterations, check the scale of the features or consider increasing regularisation. Duality gap: 3.311e+03, tolerance: 2.228e+00\n",
      "  model = cd_fast.enet_coordinate_descent(\n",
      "/Users/ninajensen/opt/anaconda3/lib/python3.9/site-packages/sklearn/linear_model/_coordinate_descent.py:647: ConvergenceWarning: Objective did not converge. You might want to increase the number of iterations, check the scale of the features or consider increasing regularisation. Duality gap: 1.696e+01, tolerance: 2.256e+00\n",
      "  model = cd_fast.enet_coordinate_descent(\n",
      "/Users/ninajensen/opt/anaconda3/lib/python3.9/site-packages/sklearn/linear_model/_coordinate_descent.py:647: ConvergenceWarning: Objective did not converge. You might want to increase the number of iterations, check the scale of the features or consider increasing regularisation. Duality gap: 1.305e+03, tolerance: 2.256e+00\n",
      "  model = cd_fast.enet_coordinate_descent(\n",
      "/Users/ninajensen/opt/anaconda3/lib/python3.9/site-packages/sklearn/linear_model/_coordinate_descent.py:647: ConvergenceWarning: Objective did not converge. You might want to increase the number of iterations, check the scale of the features or consider increasing regularisation. Duality gap: 3.410e+03, tolerance: 2.256e+00\n",
      "  model = cd_fast.enet_coordinate_descent(\n",
      "/Users/ninajensen/opt/anaconda3/lib/python3.9/site-packages/sklearn/linear_model/_coordinate_descent.py:647: ConvergenceWarning: Objective did not converge. You might want to increase the number of iterations, check the scale of the features or consider increasing regularisation. Duality gap: 2.712e+01, tolerance: 2.110e+00\n",
      "  model = cd_fast.enet_coordinate_descent(\n",
      "/Users/ninajensen/opt/anaconda3/lib/python3.9/site-packages/sklearn/linear_model/_coordinate_descent.py:647: ConvergenceWarning: Objective did not converge. You might want to increase the number of iterations, check the scale of the features or consider increasing regularisation. Duality gap: 1.340e+03, tolerance: 2.110e+00\n",
      "  model = cd_fast.enet_coordinate_descent(\n",
      "/Users/ninajensen/opt/anaconda3/lib/python3.9/site-packages/sklearn/linear_model/_coordinate_descent.py:647: ConvergenceWarning: Objective did not converge. You might want to increase the number of iterations, check the scale of the features or consider increasing regularisation. Duality gap: 3.310e+03, tolerance: 2.110e+00\n",
      "  model = cd_fast.enet_coordinate_descent(\n",
      "/Users/ninajensen/opt/anaconda3/lib/python3.9/site-packages/sklearn/linear_model/_coordinate_descent.py:647: ConvergenceWarning: Objective did not converge. You might want to increase the number of iterations, check the scale of the features or consider increasing regularisation. Duality gap: 4.309e+01, tolerance: 2.236e+00\n",
      "  model = cd_fast.enet_coordinate_descent(\n",
      "/Users/ninajensen/opt/anaconda3/lib/python3.9/site-packages/sklearn/linear_model/_coordinate_descent.py:647: ConvergenceWarning: Objective did not converge. You might want to increase the number of iterations, check the scale of the features or consider increasing regularisation. Duality gap: 1.214e+03, tolerance: 2.236e+00\n",
      "  model = cd_fast.enet_coordinate_descent(\n",
      "/Users/ninajensen/opt/anaconda3/lib/python3.9/site-packages/sklearn/linear_model/_coordinate_descent.py:647: ConvergenceWarning: Objective did not converge. You might want to increase the number of iterations, check the scale of the features or consider increasing regularisation. Duality gap: 3.419e+03, tolerance: 2.236e+00\n",
      "  model = cd_fast.enet_coordinate_descent(\n",
      "/Users/ninajensen/opt/anaconda3/lib/python3.9/site-packages/sklearn/linear_model/_coordinate_descent.py:647: ConvergenceWarning: Objective did not converge. You might want to increase the number of iterations, check the scale of the features or consider increasing regularisation. Duality gap: 2.262e+01, tolerance: 2.128e+00\n",
      "  model = cd_fast.enet_coordinate_descent(\n"
     ]
    },
    {
     "name": "stdout",
     "output_type": "stream",
     "text": [
      "The best lambda found using automated validation_curve: 0.08111308307896872\n"
     ]
    },
    {
     "name": "stderr",
     "output_type": "stream",
     "text": [
      "/Users/ninajensen/opt/anaconda3/lib/python3.9/site-packages/sklearn/linear_model/_coordinate_descent.py:647: ConvergenceWarning: Objective did not converge. You might want to increase the number of iterations, check the scale of the features or consider increasing regularisation. Duality gap: 3.291e+03, tolerance: 2.128e+00\n",
      "  model = cd_fast.enet_coordinate_descent(\n",
      "/Users/ninajensen/opt/anaconda3/lib/python3.9/site-packages/sklearn/linear_model/_coordinate_descent.py:647: ConvergenceWarning: Objective did not converge. You might want to increase the number of iterations, check the scale of the features or consider increasing regularisation. Duality gap: 8.342e+02, tolerance: 2.128e+00\n",
      "  model = cd_fast.enet_coordinate_descent(\n"
     ]
    }
   ],
   "source": [
    "from sklearn.model_selection import train_test_split, validation_curve\n",
    "\n",
    "\n",
    "# Define lambda values to search through\n",
    "lambdas = np.logspace(-4, 4, 12)\n",
    "\n",
    "# Calculate validation curve\n",
    "train_scores, test_scores = validation_curve(\n",
    "    estimator=pipeline, X=X, y=y, param_name='lasso__alpha', param_range=lambdas,\n",
    "    cv=5, scoring='neg_mean_squared_error', n_jobs=-1\n",
    ")\n",
    "\n",
    "# Convert the scores to positive mean squared error\n",
    "train_mse = -train_scores\n",
    "test_mse = -test_scores\n",
    "\n",
    "# Calculate the mean MSE across cross-validation folds\n",
    "mean_train_mse = np.mean(train_mse, axis=1)\n",
    "mean_test_mse = np.mean(test_mse, axis=1)\n",
    "\n",
    "# Find the lambda with the lowest mean test MSE\n",
    "best_lambda_auto = lambdas[np.argmin(mean_test_mse)]\n",
    "print(f\"The best lambda found using automated validation_curve: {best_lambda_auto}\")\n"
   ]
  },
  {
   "cell_type": "code",
   "execution_count": 20,
   "metadata": {},
   "outputs": [
    {
     "data": {
      "image/png": "[encoded data removed]",
      "text/plain": [
       "<Figure size 1000x600 with 1 Axes>"
      ]
     },
     "metadata": {},
     "output_type": "display_data"
    }
   ],
   "source": [
    "# Plot the average MSE-test and MSE-train against the different values of lambda\n",
    "plt.figure(figsize=(10, 6))\n",
    "plt.semilogx(lambdas, mean_train_mse, label='Train MSE')\n",
    "plt.semilogx(lambdas, mean_test_mse, label='Test MSE')\n",
    "plt.xlabel('Lambda')\n",
    "plt.ylabel('Mean Squared Error')\n",
    "plt.title('Validation Curve for Lasso Regression')\n",
    "plt.legend()\n",
    "plt.grid(True)\n",
    "plt.show()"
   ]
  },
  {
   "cell_type": "markdown",
   "metadata": {},
   "source": [
    "When you have *more than one* hyperparameter, you will want to fit the model to all the possible combinations of hyperparameters. This is done in an approch called `Grid Search`, which is implementet in `sklearn.model_selection` as `GridSearchCV`\n",
    "\n",
    "> **Ex. 12.2.5:** To get to know `Grid Search`, we want to implement it in one dimension. Using `GridSearchCV`, implement the Lasso, with the same lambdas as before (`lambdas =  np.logspace(-4, 4, 12)`), 10-fold CV and (negative) mean squared error as the scoring variable. Which value of Lambda gives the lowest test error? "
   ]
  },
  {
   "cell_type": "code",
   "execution_count": 22,
   "metadata": {
    "deletable": false,
    "nbgrader": {
     "cell_type": "code",
     "checksum": "713b145793dd707d22099feae8543fe7",
     "grade": false,
     "grade_id": "cell-6c3aad24ac0d4f7e",
     "locked": false,
     "schema_version": 3,
     "solution": true,
     "task": false
    }
   },
   "outputs": [
    {
     "name": "stderr",
     "output_type": "stream",
     "text": [
      "/Users/ninajensen/opt/anaconda3/lib/python3.9/site-packages/sklearn/linear_model/_coordinate_descent.py:647: ConvergenceWarning: Objective did not converge. You might want to increase the number of iterations, check the scale of the features or consider increasing regularisation. Duality gap: 4.023e+03, tolerance: 2.592e+00\n",
      "  model = cd_fast.enet_coordinate_descent(\n",
      "/Users/ninajensen/opt/anaconda3/lib/python3.9/site-packages/sklearn/linear_model/_coordinate_descent.py:647: ConvergenceWarning: Objective did not converge. You might want to increase the number of iterations, check the scale of the features or consider increasing regularisation. Duality gap: 4.074e+03, tolerance: 2.545e+00\n",
      "  model = cd_fast.enet_coordinate_descent(\n",
      "/Users/ninajensen/opt/anaconda3/lib/python3.9/site-packages/sklearn/linear_model/_coordinate_descent.py:647: ConvergenceWarning: Objective did not converge. You might want to increase the number of iterations, check the scale of the features or consider increasing regularisation. Duality gap: 3.671e+03, tolerance: 2.411e+00\n",
      "  model = cd_fast.enet_coordinate_descent(\n",
      "/Users/ninajensen/opt/anaconda3/lib/python3.9/site-packages/sklearn/linear_model/_coordinate_descent.py:647: ConvergenceWarning: Objective did not converge. You might want to increase the number of iterations, check the scale of the features or consider increasing regularisation. Duality gap: 3.708e+03, tolerance: 2.438e+00\n",
      "  model = cd_fast.enet_coordinate_descent(\n",
      "/Users/ninajensen/opt/anaconda3/lib/python3.9/site-packages/sklearn/linear_model/_coordinate_descent.py:647: ConvergenceWarning: Objective did not converge. You might want to increase the number of iterations, check the scale of the features or consider increasing regularisation. Duality gap: 3.742e+03, tolerance: 2.359e+00\n",
      "  model = cd_fast.enet_coordinate_descent(\n",
      "/Users/ninajensen/opt/anaconda3/lib/python3.9/site-packages/sklearn/linear_model/_coordinate_descent.py:647: ConvergenceWarning: Objective did not converge. You might want to increase the number of iterations, check the scale of the features or consider increasing regularisation. Duality gap: 4.020e+03, tolerance: 2.534e+00\n",
      "  model = cd_fast.enet_coordinate_descent(\n",
      "/Users/ninajensen/opt/anaconda3/lib/python3.9/site-packages/sklearn/linear_model/_coordinate_descent.py:647: ConvergenceWarning: Objective did not converge. You might want to increase the number of iterations, check the scale of the features or consider increasing regularisation. Duality gap: 3.811e+03, tolerance: 2.504e+00\n",
      "  model = cd_fast.enet_coordinate_descent(\n",
      "/Users/ninajensen/opt/anaconda3/lib/python3.9/site-packages/sklearn/linear_model/_coordinate_descent.py:647: ConvergenceWarning: Objective did not converge. You might want to increase the number of iterations, check the scale of the features or consider increasing regularisation. Duality gap: 3.690e+03, tolerance: 2.445e+00\n",
      "  model = cd_fast.enet_coordinate_descent(\n",
      "/Users/ninajensen/opt/anaconda3/lib/python3.9/site-packages/sklearn/linear_model/_coordinate_descent.py:647: ConvergenceWarning: Objective did not converge. You might want to increase the number of iterations, check the scale of the features or consider increasing regularisation. Duality gap: 9.413e+02, tolerance: 2.438e+00\n",
      "  model = cd_fast.enet_coordinate_descent(\n",
      "/Users/ninajensen/opt/anaconda3/lib/python3.9/site-packages/sklearn/linear_model/_coordinate_descent.py:647: ConvergenceWarning: Objective did not converge. You might want to increase the number of iterations, check the scale of the features or consider increasing regularisation. Duality gap: 1.391e+03, tolerance: 2.545e+00\n",
      "  model = cd_fast.enet_coordinate_descent(\n",
      "/Users/ninajensen/opt/anaconda3/lib/python3.9/site-packages/sklearn/linear_model/_coordinate_descent.py:647: ConvergenceWarning: Objective did not converge. You might want to increase the number of iterations, check the scale of the features or consider increasing regularisation. Duality gap: 3.985e+03, tolerance: 2.532e+00\n",
      "  model = cd_fast.enet_coordinate_descent(\n",
      "/Users/ninajensen/opt/anaconda3/lib/python3.9/site-packages/sklearn/linear_model/_coordinate_descent.py:647: ConvergenceWarning: Objective did not converge. You might want to increase the number of iterations, check the scale of the features or consider increasing regularisation. Duality gap: 3.616e+03, tolerance: 2.327e+00\n",
      "  model = cd_fast.enet_coordinate_descent(\n",
      "/Users/ninajensen/opt/anaconda3/lib/python3.9/site-packages/sklearn/linear_model/_coordinate_descent.py:647: ConvergenceWarning: Objective did not converge. You might want to increase the number of iterations, check the scale of the features or consider increasing regularisation. Duality gap: 1.380e+03, tolerance: 2.411e+00\n",
      "  model = cd_fast.enet_coordinate_descent(\n",
      "/Users/ninajensen/opt/anaconda3/lib/python3.9/site-packages/sklearn/linear_model/_coordinate_descent.py:647: ConvergenceWarning: Objective did not converge. You might want to increase the number of iterations, check the scale of the features or consider increasing regularisation. Duality gap: 1.614e+03, tolerance: 2.592e+00\n",
      "  model = cd_fast.enet_coordinate_descent(\n",
      "/Users/ninajensen/opt/anaconda3/lib/python3.9/site-packages/sklearn/linear_model/_coordinate_descent.py:647: ConvergenceWarning: Objective did not converge. You might want to increase the number of iterations, check the scale of the features or consider increasing regularisation. Duality gap: 1.384e+03, tolerance: 2.359e+00\n",
      "  model = cd_fast.enet_coordinate_descent(\n",
      "/Users/ninajensen/opt/anaconda3/lib/python3.9/site-packages/sklearn/linear_model/_coordinate_descent.py:647: ConvergenceWarning: Objective did not converge. You might want to increase the number of iterations, check the scale of the features or consider increasing regularisation. Duality gap: 1.729e+03, tolerance: 2.504e+00\n",
      "  model = cd_fast.enet_coordinate_descent(\n",
      "/Users/ninajensen/opt/anaconda3/lib/python3.9/site-packages/sklearn/linear_model/_coordinate_descent.py:647: ConvergenceWarning: Objective did not converge. You might want to increase the number of iterations, check the scale of the features or consider increasing regularisation. Duality gap: 1.493e+03, tolerance: 2.534e+00\n",
      "  model = cd_fast.enet_coordinate_descent(\n",
      "/Users/ninajensen/opt/anaconda3/lib/python3.9/site-packages/sklearn/linear_model/_coordinate_descent.py:647: ConvergenceWarning: Objective did not converge. You might want to increase the number of iterations, check the scale of the features or consider increasing regularisation. Duality gap: 1.405e+03, tolerance: 2.445e+00\n",
      "  model = cd_fast.enet_coordinate_descent(\n",
      "/Users/ninajensen/opt/anaconda3/lib/python3.9/site-packages/sklearn/linear_model/_coordinate_descent.py:647: ConvergenceWarning: Objective did not converge. You might want to increase the number of iterations, check the scale of the features or consider increasing regularisation. Duality gap: 1.104e+03, tolerance: 2.327e+00\n",
      "  model = cd_fast.enet_coordinate_descent(\n",
      "/Users/ninajensen/opt/anaconda3/lib/python3.9/site-packages/sklearn/linear_model/_coordinate_descent.py:647: ConvergenceWarning: Objective did not converge. You might want to increase the number of iterations, check the scale of the features or consider increasing regularisation. Duality gap: 1.298e+03, tolerance: 2.532e+00\n",
      "  model = cd_fast.enet_coordinate_descent(\n",
      "/Users/ninajensen/opt/anaconda3/lib/python3.9/site-packages/sklearn/linear_model/_coordinate_descent.py:647: ConvergenceWarning: Objective did not converge. You might want to increase the number of iterations, check the scale of the features or consider increasing regularisation. Duality gap: 4.740e+01, tolerance: 2.545e+00\n",
      "  model = cd_fast.enet_coordinate_descent(\n",
      "/Users/ninajensen/opt/anaconda3/lib/python3.9/site-packages/sklearn/linear_model/_coordinate_descent.py:647: ConvergenceWarning: Objective did not converge. You might want to increase the number of iterations, check the scale of the features or consider increasing regularisation. Duality gap: 1.005e+01, tolerance: 2.411e+00\n",
      "  model = cd_fast.enet_coordinate_descent(\n",
      "/Users/ninajensen/opt/anaconda3/lib/python3.9/site-packages/sklearn/linear_model/_coordinate_descent.py:647: ConvergenceWarning: Objective did not converge. You might want to increase the number of iterations, check the scale of the features or consider increasing regularisation. Duality gap: 3.515e+01, tolerance: 2.438e+00\n",
      "  model = cd_fast.enet_coordinate_descent(\n",
      "/Users/ninajensen/opt/anaconda3/lib/python3.9/site-packages/sklearn/linear_model/_coordinate_descent.py:647: ConvergenceWarning: Objective did not converge. You might want to increase the number of iterations, check the scale of the features or consider increasing regularisation. Duality gap: 1.465e+01, tolerance: 2.592e+00\n",
      "  model = cd_fast.enet_coordinate_descent(\n",
      "/Users/ninajensen/opt/anaconda3/lib/python3.9/site-packages/sklearn/linear_model/_coordinate_descent.py:647: ConvergenceWarning: Objective did not converge. You might want to increase the number of iterations, check the scale of the features or consider increasing regularisation. Duality gap: 3.499e+01, tolerance: 2.359e+00\n",
      "  model = cd_fast.enet_coordinate_descent(\n",
      "/Users/ninajensen/opt/anaconda3/lib/python3.9/site-packages/sklearn/linear_model/_coordinate_descent.py:647: ConvergenceWarning: Objective did not converge. You might want to increase the number of iterations, check the scale of the features or consider increasing regularisation. Duality gap: 1.497e+01, tolerance: 2.504e+00\n",
      "  model = cd_fast.enet_coordinate_descent(\n",
      "/Users/ninajensen/opt/anaconda3/lib/python3.9/site-packages/sklearn/linear_model/_coordinate_descent.py:647: ConvergenceWarning: Objective did not converge. You might want to increase the number of iterations, check the scale of the features or consider increasing regularisation. Duality gap: 5.552e+01, tolerance: 2.534e+00\n",
      "  model = cd_fast.enet_coordinate_descent(\n",
      "/Users/ninajensen/opt/anaconda3/lib/python3.9/site-packages/sklearn/linear_model/_coordinate_descent.py:647: ConvergenceWarning: Objective did not converge. You might want to increase the number of iterations, check the scale of the features or consider increasing regularisation. Duality gap: 1.252e+01, tolerance: 2.445e+00\n",
      "  model = cd_fast.enet_coordinate_descent(\n",
      "/Users/ninajensen/opt/anaconda3/lib/python3.9/site-packages/sklearn/linear_model/_coordinate_descent.py:647: ConvergenceWarning: Objective did not converge. You might want to increase the number of iterations, check the scale of the features or consider increasing regularisation. Duality gap: 3.300e+01, tolerance: 2.327e+00\n",
      "  model = cd_fast.enet_coordinate_descent(\n",
      "/Users/ninajensen/opt/anaconda3/lib/python3.9/site-packages/sklearn/linear_model/_coordinate_descent.py:647: ConvergenceWarning: Objective did not converge. You might want to increase the number of iterations, check the scale of the features or consider increasing regularisation. Duality gap: 3.883e+01, tolerance: 2.532e+00\n",
      "  model = cd_fast.enet_coordinate_descent(\n"
     ]
    },
    {
     "name": "stdout",
     "output_type": "stream",
     "text": [
      "The best lambda found using GridSearchCV: 0.01519911082952933\n",
      "Negative Mean Squared Error with best lambda: -0.6397319483120305\n"
     ]
    }
   ],
   "source": [
    "from sklearn.model_selection import train_test_split, GridSearchCV\n",
    "\n",
    "# Define lambda values to search through\n",
    "lambdas = np.logspace(-4, 4, 12)\n",
    "\n",
    "# Create the pipeline\n",
    "pipeline = make_pipeline(\n",
    "    PolynomialFeatures(degree=3, include_bias=False),  # Add polynomial features of degree 3\n",
    "    StandardScaler(),  # Scale the features to mean zero and unit std\n",
    "    Lasso()  # Lasso regression model\n",
    ")\n",
    "\n",
    "# Define the grid of parameters to search\n",
    "param_grid = {'lasso__alpha': lambdas}\n",
    "\n",
    "# Create GridSearchCV object with 10-fold CV and negative mean squared error scoring\n",
    "grid_search = GridSearchCV(estimator=pipeline, param_grid=param_grid, cv=10,\n",
    "                           scoring='neg_mean_squared_error', n_jobs=-1)\n",
    "\n",
    "# Fit the grid search to the data\n",
    "grid_search.fit(X, y)\n",
    "\n",
    "# Get the best parameters and corresponding negative mean squared error\n",
    "best_lambda_grid = grid_search.best_params_['lasso__alpha']\n",
    "best_neg_mse = grid_search.best_score_\n",
    "\n",
    "# Print the best lambda and corresponding negative mean squared error\n",
    "print(f\"The best lambda found using GridSearchCV: {best_lambda_grid}\")\n",
    "print(f\"Negative Mean Squared Error with best lambda: {best_neg_mse}\")\n"
   ]
  },
  {
   "cell_type": "markdown",
   "metadata": {},
   "source": [
    "> **Ex. 12.1.6 BONUS** Now set `lambdas =  np.logspace(-4, 4, 100)`, and repeat the previous now with RandomizedSearchCV with `n_iter=12`."
   ]
  },
  {
   "cell_type": "code",
   "execution_count": 23,
   "metadata": {
    "deletable": false,
    "nbgrader": {
     "cell_type": "code",
     "checksum": "fb7f7f0d0c310b7ef2eb4c682e975a07",
     "grade": false,
     "grade_id": "cell-4fd89f0b3462a65d",
     "locked": false,
     "schema_version": 3,
     "solution": true,
     "task": false
    }
   },
   "outputs": [
    {
     "name": "stdout",
     "output_type": "stream",
     "text": [
      "The best lambda found using RandomizedSearchCV: 0.04641588833612782\n",
      "Negative Mean Squared Error with best lambda: -0.6862927564159687\n"
     ]
    }
   ],
   "source": [
    "from sklearn.model_selection import RandomizedSearchCV\n",
    "\n",
    "# Define lambda values to search through\n",
    "lambdas = np.logspace(-4, 4, 100)\n",
    "\n",
    "# Define the parameter distribution for randomized search\n",
    "param_dist = {'lasso__alpha': lambdas}\n",
    "\n",
    "# Create RandomizedSearchCV object with 12 iterations and negative mean squared error scoring\n",
    "random_search = RandomizedSearchCV(estimator=pipeline, param_distributions=param_dist, n_iter=12,\n",
    "                                   scoring='neg_mean_squared_error', n_jobs=-1)\n",
    "\n",
    "# Fit the randomized search to the data\n",
    "random_search.fit(X, y)\n",
    "\n",
    "# Get the best parameters and corresponding negative mean squared error\n",
    "best_lambda_random = random_search.best_params_['lasso__alpha']\n",
    "best_neg_mse_random = random_search.best_score_\n",
    "\n",
    "# Print the best lambda and corresponding negative mean squared error\n",
    "print(f\"The best lambda found using RandomizedSearchCV: {best_lambda_random}\")\n",
    "print(f\"Negative Mean Squared Error with best lambda: {best_neg_mse_random}\")"
   ]
  }
 ],
 "metadata": {
  "celltoolbar": "Edit Metadata",
  "kernelspec": {
   "display_name": "base",
   "language": "python",
   "name": "python3"
  },
  "language_info": {
   "codemirror_mode": {
    "name": "ipython",
    "version": 3
   },
   "file_extension": ".py",
   "mimetype": "text/x-python",
   "name": "python",
   "nbconvert_exporter": "python",
   "pygments_lexer": "ipython3",
   "version": "3.9.13"
  },
  "nav_menu": {},
  "toc": {
   "navigate_menu": true,
   "number_sections": false,
   "sideBar": true,
   "threshold": 6,
   "toc_cell": false,
   "toc_section_display": "block",
   "toc_window_display": true
  },
  "vscode": {
   "interpreter": {
    "hash": "604903271ebee04a1d41a6e5cf13d16aa8edab4556eed9bb8d54d40193dfe553"
   }
  }
 },
 "nbformat": 4,
 "nbformat_minor": 2
}
