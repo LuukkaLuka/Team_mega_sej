{
 "cells": [
  {
   "cell_type": "markdown",
   "metadata": {
    "ExecuteTime": {
     "end_time": "2017-08-23T15:30:03.634114Z",
     "start_time": "2017-08-23T15:30:03.629294Z"
    }
   },
   "source": [
    "# Exercises for Session 8: Advanced Web Scraping and Regex\n",
    "\n",
    "In this Exercise Set we shall develop our web scraping skills even further by practicing using `Selenium` while parsing and navigating HTML trees using `BeautifulSoup`. Furthermore we will train extracting information from raw text with no HTML tags to help using `Regex`. "
   ]
  },
  {
   "cell_type": "markdown",
   "metadata": {},
   "source": [
    "# Part 1: Translating domains into companies\n",
    "This exercise is about solving a problem that some of you may face in the future. All webshops (and most other websites) have a company as their owner. In some situations it might be useful to know which company owns the domain of the webshop and investigate the background of the company.\n",
    "\n",
    "It is what we will do in this exercise. We will use www.netbaby.dk as an example, but the procedure can be scaled to 1000s of websites. This is where automated browsing and web scraping shines! With just one website we can easily find the information by hand, but with 1000s of websites we need automated web scraping.\n",
    "\n",
    "Remember to watch the video (8.1) below before moving on to the exercises:\n",
    "\n",
    "(I might talk a bit slow in some of the videos. Remember that you can turn up the speed on Youtube)"
   ]
  },
  {
   "cell_type": "code",
   "execution_count": null,
   "metadata": {},
   "outputs": [],
   "source": [
    "from IPython.display import YouTubeVideo\n",
    "YouTubeVideo('reO8F8orK3I', width=640, height=360)"
   ]
  },
  {
   "cell_type": "markdown",
   "metadata": {},
   "source": [
    "> **Ex. 8.1.1:** Use `Selenium` to go to the website https://www.dk-hostmaster.dk/da/find-domaenenavn and search for \"netbaby.dk\". \n",
    "\n",
    "> Under \"Registrant\" you can see the name (\"Navn\") of the company behind netbaby.dk. Use `BeautifulSoup` to find the name of the company and store it in the variable `company`. \n",
    "> - I.e., you need to use the skills you developed in session 7 to locate the name of the company in the HTML and extract the name from the HTML"
   ]
  },
  {
   "cell_type": "code",
   "execution_count": null,
   "metadata": {},
   "outputs": [],
   "source": [
    "from selenium import webdriver\n",
    "from webdriver_manager.chrome import ChromeDriverManager\n",
    "from selenium.webdriver.common.by import By\n",
    "\n",
    "# We open up google.com in a virtual browser\n",
    "url = 'https://www.dk-hostmaster.dk/da/find-domaenenavn'\n",
    "\n",
    "# We need to import the ChromeDriverManager to download and set up the Chrome driver\n",
    "driver = webdriver.Chrome() # Download and install the Chrome driver\n",
    "\n",
    "# Once the driver is set up, we can use it to navigate to the provided URL\n",
    "driver.get(url) # Go to google.com"
   ]
  },
  {
   "cell_type": "code",
   "execution_count": null,
   "metadata": {},
   "outputs": [],
   "source": [
    "cookie = driver.find_element(By.CSS_SELECTOR, '#CybotCookiebotDialogBodyLevelButtonLevelOptinAllowAll') #Here we use a CSS selector\n",
    "cookie.click()"
   ]
  },
  {
   "cell_type": "code",
   "execution_count": null,
   "metadata": {},
   "outputs": [],
   "source": [
    "# Find the place to type in search text\n",
    "candidate = driver.find_element(By.ID, 'edit-domain')\n",
    "candidate.click() #And click\n",
    "\n",
    "# Type the search text\n",
    "candidate.send_keys('netbaby.dk') #Use the `.send_keys` to type text. `.send_keys` imitates your computer keyboard, so you can for example also press the 'Return' or 'PgDn' botton.\n",
    "\n",
    "# Find the place to submit the text\n",
    "candidate = driver.find_element(By.ID, 'edit-submit')\n",
    "candidate.click()"
   ]
  },
  {
   "cell_type": "code",
   "execution_count": null,
   "metadata": {},
   "outputs": [],
   "source": [
    "from bs4 import BeautifulSoup\n",
    "\n",
    "# Use BeautifulSoup to parse the page source\n",
    "soup = BeautifulSoup(driver.page_source, 'lxml')\n",
    "\n",
    "# Find the place where the name is found\n",
    "results = soup.find_all('span', class_='info-text__text')  \n",
    "\n",
    "company = results[3].text.strip()\n",
    "\n",
    "print(company)  # Print the name of the company\n",
    "\n",
    "driver.quit()  # Don't forget to close the browser"
   ]
  },
  {
   "cell_type": "markdown",
   "metadata": {},
   "source": [
    "> **Ex. 8.1.2:** Now we know who owns the domain and would like to know more about the company Euphemia Media. \n",
    "\n",
    "> 1. Go to the Central Business Register (the CVR) website https://datacvr.virk.dk/data/. Search for Euphemia Media using `Selenium`. \n",
    "> 2. You will find 2 search results. Use `Selenium` to click on the first result.\n",
    "> 3. When you get to the first search result, use `BeautifulSoup` to store the CVR number in the variable *cvr*."
   ]
  },
  {
   "cell_type": "code",
   "execution_count": 130,
   "metadata": {},
   "outputs": [],
   "source": [
    "# We open up google.com in a virtual browser\n",
    "url_CVR= 'https://datacvr.virk.dk/data/'\n",
    "\n",
    "# We need to import the ChromeDriverManager to download and set up the Chrome driver\n",
    "driver = webdriver.Chrome() # Download and install the Chrome driver\n",
    "\n",
    "# Once the driver is set up, we can use it to navigate to the provided URL\n",
    "driver.get(url_CVR) # Go to google.com"
   ]
  },
  {
   "cell_type": "code",
   "execution_count": 131,
   "metadata": {},
   "outputs": [],
   "source": [
    "cookie = driver.find_element(By.CSS_SELECTOR, '.cpAcceptBtn') #Here we use a CSS selector\n",
    "cookie.click()"
   ]
  },
  {
   "cell_type": "code",
   "execution_count": 132,
   "metadata": {},
   "outputs": [],
   "source": [
    "search_input = driver.find_element(By.ID, 'forside-soegefelt-id')\n",
    "search_input.click() #And click\n",
    "\n",
    "search_input.send_keys('Euphemia Media')\n"
   ]
  },
  {
   "cell_type": "markdown",
   "metadata": {},
   "source": [
    "# Find the place to type in search text\n",
    "candidate = driver.find_element(By.ID, 'forside-soegefelt-id')\n",
    "candidate.click() #And click\n",
    "\n",
    "# Type the search text\n",
    "candidate.send_keys('netbaby.dk') #Use the `.send_keys` to type text. `.send_keys` imitates your computer keyboard, so you can for example also press the 'Return' or 'PgDn' botton.\n",
    "\n",
    "# Find the place to submit the text\n",
    "candidate = driver.find_element(By.ID, 'edit-submit')\n",
    "candidate.click()"
   ]
  },
  {
   "cell_type": "markdown",
   "metadata": {},
   "source": [
    "#### Note:\n",
    "The Central Business Register actually also have an API: https://datacvr.virk.dk/artikel/system-til-system-adgang-til-cvr-data.\n",
    "\n",
    "Whenever there is an API available, you should use it. It is way more reliable than trying to web scrape the webpage by yourself.\n",
    "\n",
    "We just did it in this exercise for educational purposes."
   ]
  },
  {
   "cell_type": "markdown",
   "metadata": {},
   "source": [
    "# Part 2: Practicing Regular Expressions\n",
    "\n",
    "In this exercise you will gain experience in working with regular expressions. Regular expressions takes time to get used to, so do not panic if you do not understand the intuition at first. The only way to get familiar with their structure and applicability is to work with them. \n",
    "\n",
    "And they ARE very useful! I promise you that if you at some point are going to work with text as data, then you will find RegEx solutions to your problems. They are all over StackOverflow. We will only scratch the surface, but you will soon become better when you apply RegEx to your own text analysis problems.\n",
    "\n",
    "Note: A good webpage to have in mind is this one: www.regular-expressions.info/refquick.html. It contains all special symbols that RegEx uses.\n",
    "\n",
    "Before moving to the exercises below, remember to watch the following video (8.2):\n",
    "\n",
    "(I might talk a bit slow in some of the videos. Remember that you can turn up the speed on Youtube)"
   ]
  },
  {
   "cell_type": "code",
   "execution_count": 133,
   "metadata": {},
   "outputs": [
    {
     "data": {
      "image/jpeg": "[encoded data removed]",
      "text/html": [
       "\n",
       "        <iframe\n",
       "            width=\"640\"\n",
       "            height=\"360\"\n",
       "            src=\"https://www.youtube.com/embed/5vCE_7KSO7Y\"\n",
       "            frameborder=\"0\"\n",
       "            allowfullscreen\n",
       "            \n",
       "        ></iframe>\n",
       "        "
      ],
      "text/plain": [
       "<IPython.lib.display.YouTubeVideo at 0x7f946a620a00>"
      ]
     },
     "execution_count": 133,
     "metadata": {},
     "output_type": "execute_result"
    }
   ],
   "source": [
    "YouTubeVideo('5vCE_7KSO7Y', width=640, height=360)"
   ]
  },
  {
   "cell_type": "markdown",
   "metadata": {},
   "source": [
    "To practice RegEx we will use a review from a dataset with Trustpilot reviews collected by a colleague Snorre Ralund.\n",
    "You can load it directly into python using the code below:"
   ]
  },
  {
   "cell_type": "code",
   "execution_count": 134,
   "metadata": {},
   "outputs": [],
   "source": [
    "import pandas as pd\n",
    "import re\n",
    "\n",
    "# Download data\n",
    "path2data = 'https://raw.githubusercontent.com/snorreralund/scraping_seminar/master/english_review_sample.csv'\n",
    "df = pd.read_csv(path2data)\n",
    "\n",
    "# Take the review we are going to play with\n",
    "review = df.reviewBody[6]"
   ]
  },
  {
   "cell_type": "code",
   "execution_count": 135,
   "metadata": {
    "scrolled": true
   },
   "outputs": [
    {
     "data": {
      "text/plain": [
       "\"I've been to the 'other' sac store in the Mall of America many times and my wife and I always leave the store wanting a big comfy sac to lounge in... but the cost just doesn't add up.  I don't mind paying for good products, but there is a point where things are just too expensive.\\r\\n\\r\\nI did my research online, found Comfy Sacks and after much contemplation I decided if Comfy Sacks are good enough for Amazon/Apple Corp, then they'd be good enough for me.\\r\\n\\r\\nI chose the 6ft sack with a brown textured premium suede.  Wow, is all I can say!!  Quality is amazing, comfort is great and it fits my whole family (Wife, 5yo daughter and me).\\r\\n\\r\\n*You do have to 'fluff' it every now and then and it's shipped in such a tight vacuum packed 'block' it does take a fair amount of effort to de-compress it the first time.  Check Youtube for other reviews, it was very helpful for me.\\r\\n\\r\\nOverall, I'd recommend this to anyone looking at the $900+ alternatives.\""
      ]
     },
     "execution_count": 135,
     "metadata": {},
     "output_type": "execute_result"
    }
   ],
   "source": [
    "review"
   ]
  },
  {
   "cell_type": "markdown",
   "metadata": {},
   "source": [
    "> **Ex. 8.2.1:** First, we are interested in the *first* number in the review. Make a regular expression that matches the first number in the text."
   ]
  },
  {
   "cell_type": "code",
   "execution_count": 137,
   "metadata": {},
   "outputs": [
    {
     "name": "stdout",
     "output_type": "stream",
     "text": [
      "First number: 6\n"
     ]
    }
   ],
   "source": [
    "# Regular expression to find the first number in the review\n",
    "pattern = r'\\d+'\n",
    "\n",
    "# Find the first number using re.search()\n",
    "match = re.search(pattern, review)\n",
    "\n",
    "# Extract and print the first number\n",
    "if match:\n",
    "    first_number = match.group()\n",
    "    print(\"First number:\", first_number)\n",
    "else:\n",
    "    print(\"No number found in the review.\")"
   ]
  },
  {
   "cell_type": "markdown",
   "metadata": {},
   "source": [
    "> **Ex. 8.2.2:** Now, we are interested in *all* the numbers in the review. Make a regular expression that matches all numbers in the text.\n",
    "\n",
    "> Afterwards make a new regex that only matches numbers with a non-alphanumeric character (\\$, +, etc.) before and after the number. Include the non-alphanumeric characters in the match (for example \\\\$900+)."
   ]
  },
  {
   "cell_type": "code",
   "execution_count": 139,
   "metadata": {},
   "outputs": [
    {
     "name": "stdout",
     "output_type": "stream",
     "text": [
      "All numbers in the review: ['6', '5', '900']\n"
     ]
    }
   ],
   "source": [
    "# Regular expression to find all numbers in the review\n",
    "pattern_all_numbers = r'\\d+'\n",
    "\n",
    "# Find all numbers using re.findall()\n",
    "all_numbers = re.findall(pattern_all_numbers, review)\n",
    "\n",
    "# Print all the numbers found in the review\n",
    "print(\"All numbers in the review:\", all_numbers)"
   ]
  },
  {
   "cell_type": "code",
   "execution_count": 140,
   "metadata": {},
   "outputs": [
    {
     "name": "stdout",
     "output_type": "stream",
     "text": [
      "Numbers with non-alphanumeric characters: ['900+ ']\n"
     ]
    }
   ],
   "source": [
    "# Regular expression to find numbers with non-alphanumeric characters before and after them\n",
    "pattern_numbers_with_non_alphanumeric = r'\\D(\\d+\\W+)\\D'\n",
    "\n",
    "# Find all numbers with non-alphanumeric characters using re.findall()\n",
    "numbers_with_non_alphanumeric = re.findall(pattern_numbers_with_non_alphanumeric, review)\n",
    "\n",
    "# Print all the numbers with non-alphanumeric characters found in the review\n",
    "print(\"Numbers with non-alphanumeric characters:\", numbers_with_non_alphanumeric)"
   ]
  },
  {
   "cell_type": "markdown",
   "metadata": {},
   "source": [
    "> **Ex. 8.2.3:** Let's say we want the text inside the parenthesis in the review. Write a regex that matches that."
   ]
  },
  {
   "cell_type": "code",
   "execution_count": 141,
   "metadata": {},
   "outputs": [
    {
     "name": "stdout",
     "output_type": "stream",
     "text": [
      "Text inside parentheses: ['Wife, 5yo daughter and me']\n"
     ]
    }
   ],
   "source": [
    "# Regular expression to find text inside parentheses\n",
    "pattern_inside_parentheses = r'\\((.*?)\\)'\n",
    "\n",
    "# Find all text inside parentheses using re.findall()\n",
    "text_inside_parentheses = re.findall(pattern_inside_parentheses, review)\n",
    "\n",
    "# Print the text inside parentheses found in the review\n",
    "print(\"Text inside parentheses:\", text_inside_parentheses)"
   ]
  },
  {
   "cell_type": "markdown",
   "metadata": {},
   "source": [
    "> **Ex. 8.2.4:** The review consists of different lines with line breaks. Split the text into each line and store them in a list."
   ]
  },
  {
   "cell_type": "code",
   "execution_count": 142,
   "metadata": {},
   "outputs": [
    {
     "name": "stdout",
     "output_type": "stream",
     "text": [
      "I've been to the 'other' sac store in the Mall of America many times and my wife and I always leave the store wanting a big comfy sac to lounge in... but the cost just doesn't add up.  I don't mind paying for good products, but there is a point where things are just too expensive.\n",
      "\n",
      "I did my research online, found Comfy Sacks and after much contemplation I decided if Comfy Sacks are good enough for Amazon/Apple Corp, then they'd be good enough for me.\n",
      "\n",
      "I chose the 6ft sack with a brown textured premium suede.  Wow, is all I can say!!  Quality is amazing, comfort is great and it fits my whole family (Wife, 5yo daughter and me).\n",
      "\n",
      "*You do have to 'fluff' it every now and then and it's shipped in such a tight vacuum packed 'block' it does take a fair amount of effort to de-compress it the first time.  Check Youtube for other reviews, it was very helpful for me.\n",
      "\n",
      "Overall, I'd recommend this to anyone looking at the $900+ alternatives.\n"
     ]
    }
   ],
   "source": [
    "# Split the review into separate lines and store them in a list\n",
    "lines_list = review.splitlines()\n",
    "\n",
    "# Print each line\n",
    "for line in lines_list:\n",
    "    print(line)"
   ]
  }
 ],
 "metadata": {
  "kernelspec": {
   "display_name": "base",
   "language": "python",
   "name": "python3"
  },
  "language_info": {
   "codemirror_mode": {
    "name": "ipython",
    "version": 3
   },
   "file_extension": ".py",
   "mimetype": "text/x-python",
   "name": "python",
   "nbconvert_exporter": "python",
   "pygments_lexer": "ipython3",
   "version": "3.9.13"
  },
  "latex_envs": {
   "bibliofile": "biblio.bib",
   "cite_by": "apalike",
   "current_citInitial": 1,
   "eqLabelWithNumbers": true,
   "eqNumInitial": 0
  },
  "toc": {
   "nav_menu": {
    "height": "328px",
    "width": "252px"
   },
   "navigate_menu": true,
   "number_sections": true,
   "sideBar": true,
   "threshold": 4,
   "toc_cell": false,
   "toc_section_display": "block",
   "toc_window_display": false
  },
  "vscode": {
   "interpreter": {
    "hash": "604903271ebee04a1d41a6e5cf13d16aa8edab4556eed9bb8d54d40193dfe553"
   }
  }
 },
 "nbformat": 4,
 "nbformat_minor": 4
}
