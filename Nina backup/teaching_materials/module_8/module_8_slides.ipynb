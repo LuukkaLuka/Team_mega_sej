{
 "cells": [
  {
   "cell_type": "markdown",
   "metadata": {
    "slideshow": {
     "slide_type": "slide"
    }
   },
   "source": [
    "# Session 8: Advanced webscraping; Automated Browsing and Regular Expressions\n",
    "\n"
   ]
  },
  {
   "cell_type": "markdown",
   "metadata": {
    "slideshow": {
     "slide_type": "slide"
    }
   },
   "source": [
    "## Recap\n",
    "\n",
    "In sessions 6 and 7 we learned how to:\n",
    "\n",
    "1. Map our URLs of interest\n",
    "2. Download the HTML of the webpages\n",
    "3. Parse the data from the HTML\n",
    "    - HTML is the language behind webpages\n",
    "    - We can use `BeautifulSoup` to find the right places in the HTML (where is the data of interest hidden in the HTML?)\n",
    "    - We learned how to structure our acquired data in dataframes"
   ]
  },
  {
   "cell_type": "markdown",
   "metadata": {
    "slideshow": {
     "slide_type": "fragment"
    }
   },
   "source": [
    "Our focus was on the HTML and how to extract information from it! \n",
    "- Sometimes just downloading the HTML is not enough to extract the data you need\n",
    "\n",
    "We might need to interact with the webpage to bring forward the information in the HTML\n",
    "- Here automated browsing is our friend, and that is the focus of session 8!\n",
    "\n",
    "In this session, you will also learn about regular expressions that you can use to process raw text (i.e. not HTML text)"
   ]
  },
  {
   "cell_type": "markdown",
   "metadata": {
    "slideshow": {
     "slide_type": "slide"
    }
   },
   "source": [
    "## Required readings\n",
    "\n",
    "- Introduction to Web Scraping using Selenium: [An introduction to Selenium in Python](https://medium.com/the-andela-way/introduction-to-web-scraping-using-selenium-7ec377a8cf72)\n",
    "\n",
    "- Introduction to pattern matching using regex: [An introduction to regex in python](https://www.digitalocean.com/community/tutorials/an-introduction-to-regex-in-python)"
   ]
  },
  {
   "cell_type": "markdown",
   "metadata": {
    "slideshow": {
     "slide_type": "slide"
    }
   },
   "source": [
    "# General Questions in session 7\n",
    "\n",
    "The webpage: https://www.basketball-reference.com/leagues/NBA_2018.html\n",
    "\n",
    "1. How do you locate the \"Eastern Conference\" table?\n",
    "2. How do I go through all the rows in the HTML code?"
   ]
  },
  {
   "cell_type": "markdown",
   "metadata": {
    "slideshow": {
     "slide_type": "slide"
    }
   },
   "source": [
    "# 1. How do you locate the \"Eastern Conference\" table?\n",
    "- Go to the Chrome Developer Tools on the webpage\n",
    "- Notice that the tag is ```<table>```, and it has an \"id\" attribute: id = \"confs_standings_E --> we can uniquely identify the table!"
   ]
  },
  {
   "cell_type": "code",
   "execution_count": 44,
   "metadata": {
    "slideshow": {
     "slide_type": "fragment"
    }
   },
   "outputs": [],
   "source": [
    "import requests\n",
    "from bs4 import BeautifulSoup\n",
    "\n",
    "# Define our URL\n",
    "url = 'https://www.basketball-reference.com/leagues/NBA_2018.html' \n",
    "\n",
    "# Connects to site\n",
    "response = requests.get(url)\n",
    "\n",
    "# Parse data with BeautifulSoup\n",
    "soup = BeautifulSoup(response.content,'lxml')\n",
    "\n",
    "# Identify table to scrape by inspecting site\n",
    "table_node = soup.find(id = 'confs_standings_E') "
   ]
  },
  {
   "cell_type": "markdown",
   "metadata": {
    "slideshow": {
     "slide_type": "slide"
    }
   },
   "source": [
    "## Now we begin to extract the information in the table"
   ]
  },
  {
   "cell_type": "markdown",
   "metadata": {
    "slideshow": {
     "slide_type": "fragment"
    }
   },
   "source": [
    "### First extract the column names:"
   ]
  },
  {
   "cell_type": "code",
   "execution_count": 45,
   "metadata": {
    "slideshow": {
     "slide_type": "fragment"
    }
   },
   "outputs": [],
   "source": [
    "columns_html = table_node.thead.find_all('th')\n",
    "# Extract the text\n",
    "columns = []\n",
    "for col in columns_html:\n",
    "    columns.append(col.text)"
   ]
  },
  {
   "cell_type": "code",
   "execution_count": 46,
   "metadata": {},
   "outputs": [
    {
     "data": {
      "text/plain": [
       "[<th aria-label=\"Eastern Conference\" class=\"poptip sort_default_asc left\" data-stat=\"team_name\" scope=\"col\">Eastern Conference</th>,\n",
       " <th aria-label=\"Wins\" class=\"poptip right\" data-stat=\"wins\" data-tip=\"Wins\" scope=\"col\">W</th>,\n",
       " <th aria-label=\"Losses\" class=\"poptip right\" data-stat=\"losses\" data-tip=\"Losses\" scope=\"col\">L</th>,\n",
       " <th aria-label=\"Win-Loss Percentage\" class=\"poptip right\" data-stat=\"win_loss_pct\" data-tip=\"Win-Loss Percentage\" scope=\"col\">W/L%</th>,\n",
       " <th aria-label=\"GB\" class=\"poptip sort_default_asc right\" data-stat=\"gb\" data-tip=\"Games Behind\" scope=\"col\">GB</th>,\n",
       " <th aria-label=\"Points Per Game\" class=\"poptip right\" data-stat=\"pts_per_g\" data-tip=\"Points Per Game\" scope=\"col\">PS/G</th>,\n",
       " <th aria-label=\"Opponent Points Per Game\" class=\"poptip right\" data-stat=\"opp_pts_per_g\" data-tip=\"Opponent Points Per Game\" scope=\"col\">PA/G</th>,\n",
       " <th aria-label=\"Simple Rating System\" class=\"poptip right\" data-stat=\"srs\" data-tip=\"Simple Rating System; a team rating that takes into account average point differential and strength of schedule. The rating is denominated in points above/below average, where zero is average.\" scope=\"col\">SRS</th>]"
      ]
     },
     "execution_count": 46,
     "metadata": {},
     "output_type": "execute_result"
    }
   ],
   "source": [
    "table_node.find('thead').find_all('th')"
   ]
  },
  {
   "cell_type": "code",
   "execution_count": 47,
   "metadata": {
    "slideshow": {
     "slide_type": "fragment"
    }
   },
   "outputs": [
    {
     "data": {
      "text/plain": [
       "['Eastern Conference', 'W', 'L', 'W/L%', 'GB', 'PS/G', 'PA/G', 'SRS']"
      ]
     },
     "execution_count": 47,
     "metadata": {},
     "output_type": "execute_result"
    }
   ],
   "source": [
    "columns"
   ]
  },
  {
   "cell_type": "markdown",
   "metadata": {
    "slideshow": {
     "slide_type": "slide"
    }
   },
   "source": [
    "### Second we want to find the HTML of the row nodes where the rest of the data is:"
   ]
  },
  {
   "cell_type": "code",
   "execution_count": 48,
   "metadata": {
    "slideshow": {
     "slide_type": "fragment"
    }
   },
   "outputs": [],
   "source": [
    "rows_list = table_node.tbody.find_all('tr')"
   ]
  },
  {
   "cell_type": "code",
   "execution_count": 49,
   "metadata": {
    "scrolled": true,
    "slideshow": {
     "slide_type": "fragment"
    }
   },
   "outputs": [
    {
     "data": {
      "text/plain": [
       "[<tr class=\"full_table\"><th class=\"left\" data-stat=\"team_name\" scope=\"row\"><a href=\"/teams/TOR/2018.html\">Toronto Raptors</a>*</th><td class=\"right\" data-stat=\"wins\">59</td><td class=\"right\" data-stat=\"losses\">23</td><td class=\"right\" data-stat=\"win_loss_pct\">.720</td><td class=\"right\" data-stat=\"gb\">—</td><td class=\"right\" data-stat=\"pts_per_g\">111.7</td><td class=\"right\" data-stat=\"opp_pts_per_g\">103.9</td><td class=\"right\" data-stat=\"srs\">7.29</td></tr>,\n",
       " <tr class=\"full_table\"><th class=\"left\" data-stat=\"team_name\" scope=\"row\"><a href=\"/teams/BOS/2018.html\">Boston Celtics</a>*</th><td class=\"right\" data-stat=\"wins\">55</td><td class=\"right\" data-stat=\"losses\">27</td><td class=\"right\" data-stat=\"win_loss_pct\">.671</td><td class=\"right\" data-stat=\"gb\">4.0</td><td class=\"right\" data-stat=\"pts_per_g\">104.0</td><td class=\"right\" data-stat=\"opp_pts_per_g\">100.4</td><td class=\"right\" data-stat=\"srs\">3.23</td></tr>,\n",
       " <tr class=\"full_table\"><th class=\"left\" data-stat=\"team_name\" scope=\"row\"><a href=\"/teams/PHI/2018.html\">Philadelphia 76ers</a>*</th><td class=\"right\" data-stat=\"wins\">52</td><td class=\"right\" data-stat=\"losses\">30</td><td class=\"right\" data-stat=\"win_loss_pct\">.634</td><td class=\"right\" data-stat=\"gb\">7.0</td><td class=\"right\" data-stat=\"pts_per_g\">109.8</td><td class=\"right\" data-stat=\"opp_pts_per_g\">105.3</td><td class=\"right\" data-stat=\"srs\">4.30</td></tr>,\n",
       " <tr class=\"full_table\"><th class=\"left\" data-stat=\"team_name\" scope=\"row\"><a href=\"/teams/CLE/2018.html\">Cleveland Cavaliers</a>*</th><td class=\"right\" data-stat=\"wins\">50</td><td class=\"right\" data-stat=\"losses\">32</td><td class=\"right\" data-stat=\"win_loss_pct\">.610</td><td class=\"right\" data-stat=\"gb\">9.0</td><td class=\"right\" data-stat=\"pts_per_g\">110.9</td><td class=\"right\" data-stat=\"opp_pts_per_g\">109.9</td><td class=\"right\" data-stat=\"srs\">0.59</td></tr>,\n",
       " <tr class=\"full_table\"><th class=\"left\" data-stat=\"team_name\" scope=\"row\"><a href=\"/teams/IND/2018.html\">Indiana Pacers</a>*</th><td class=\"right\" data-stat=\"wins\">48</td><td class=\"right\" data-stat=\"losses\">34</td><td class=\"right\" data-stat=\"win_loss_pct\">.585</td><td class=\"right\" data-stat=\"gb\">11.0</td><td class=\"right\" data-stat=\"pts_per_g\">105.6</td><td class=\"right\" data-stat=\"opp_pts_per_g\">104.2</td><td class=\"right\" data-stat=\"srs\">1.18</td></tr>,\n",
       " <tr class=\"full_table\"><th class=\"left\" data-stat=\"team_name\" scope=\"row\"><a href=\"/teams/MIA/2018.html\">Miami Heat</a>*</th><td class=\"right\" data-stat=\"wins\">44</td><td class=\"right\" data-stat=\"losses\">38</td><td class=\"right\" data-stat=\"win_loss_pct\">.537</td><td class=\"right\" data-stat=\"gb\">15.0</td><td class=\"right\" data-stat=\"pts_per_g\">103.4</td><td class=\"right\" data-stat=\"opp_pts_per_g\">102.9</td><td class=\"right\" data-stat=\"srs\">0.15</td></tr>,\n",
       " <tr class=\"full_table\"><th class=\"left\" data-stat=\"team_name\" scope=\"row\"><a href=\"/teams/MIL/2018.html\">Milwaukee Bucks</a>*</th><td class=\"right\" data-stat=\"wins\">44</td><td class=\"right\" data-stat=\"losses\">38</td><td class=\"right\" data-stat=\"win_loss_pct\">.537</td><td class=\"right\" data-stat=\"gb\">15.0</td><td class=\"right\" data-stat=\"pts_per_g\">106.5</td><td class=\"right\" data-stat=\"opp_pts_per_g\">106.8</td><td class=\"right\" data-stat=\"srs\">-0.45</td></tr>,\n",
       " <tr class=\"full_table\"><th class=\"left\" data-stat=\"team_name\" scope=\"row\"><a href=\"/teams/WAS/2018.html\">Washington Wizards</a>*</th><td class=\"right\" data-stat=\"wins\">43</td><td class=\"right\" data-stat=\"losses\">39</td><td class=\"right\" data-stat=\"win_loss_pct\">.524</td><td class=\"right\" data-stat=\"gb\">16.0</td><td class=\"right\" data-stat=\"pts_per_g\">106.6</td><td class=\"right\" data-stat=\"opp_pts_per_g\">106.0</td><td class=\"right\" data-stat=\"srs\">0.53</td></tr>,\n",
       " <tr class=\"full_table\"><th class=\"left\" data-stat=\"team_name\" scope=\"row\"><a href=\"/teams/DET/2018.html\">Detroit Pistons</a></th><td class=\"right\" data-stat=\"wins\">39</td><td class=\"right\" data-stat=\"losses\">43</td><td class=\"right\" data-stat=\"win_loss_pct\">.476</td><td class=\"right\" data-stat=\"gb\">20.0</td><td class=\"right\" data-stat=\"pts_per_g\">103.8</td><td class=\"right\" data-stat=\"opp_pts_per_g\">103.9</td><td class=\"right\" data-stat=\"srs\">-0.26</td></tr>,\n",
       " <tr class=\"full_table\"><th class=\"left\" data-stat=\"team_name\" scope=\"row\"><a href=\"/teams/CHO/2018.html\">Charlotte Hornets</a></th><td class=\"right\" data-stat=\"wins\">36</td><td class=\"right\" data-stat=\"losses\">46</td><td class=\"right\" data-stat=\"win_loss_pct\">.439</td><td class=\"right\" data-stat=\"gb\">23.0</td><td class=\"right\" data-stat=\"pts_per_g\">108.2</td><td class=\"right\" data-stat=\"opp_pts_per_g\">108.0</td><td class=\"right\" data-stat=\"srs\">0.07</td></tr>,\n",
       " <tr class=\"full_table\"><th class=\"left\" data-stat=\"team_name\" scope=\"row\"><a href=\"/teams/NYK/2018.html\">New York Knicks</a></th><td class=\"right\" data-stat=\"wins\">29</td><td class=\"right\" data-stat=\"losses\">53</td><td class=\"right\" data-stat=\"win_loss_pct\">.354</td><td class=\"right\" data-stat=\"gb\">30.0</td><td class=\"right\" data-stat=\"pts_per_g\">104.5</td><td class=\"right\" data-stat=\"opp_pts_per_g\">108.0</td><td class=\"right\" data-stat=\"srs\">-3.53</td></tr>,\n",
       " <tr class=\"full_table\"><th class=\"left\" data-stat=\"team_name\" scope=\"row\"><a href=\"/teams/BRK/2018.html\">Brooklyn Nets</a></th><td class=\"right\" data-stat=\"wins\">28</td><td class=\"right\" data-stat=\"losses\">54</td><td class=\"right\" data-stat=\"win_loss_pct\">.341</td><td class=\"right\" data-stat=\"gb\">31.0</td><td class=\"right\" data-stat=\"pts_per_g\">106.6</td><td class=\"right\" data-stat=\"opp_pts_per_g\">110.3</td><td class=\"right\" data-stat=\"srs\">-3.67</td></tr>,\n",
       " <tr class=\"full_table\"><th class=\"left\" data-stat=\"team_name\" scope=\"row\"><a href=\"/teams/CHI/2018.html\">Chicago Bulls</a></th><td class=\"right\" data-stat=\"wins\">27</td><td class=\"right\" data-stat=\"losses\">55</td><td class=\"right\" data-stat=\"win_loss_pct\">.329</td><td class=\"right\" data-stat=\"gb\">32.0</td><td class=\"right\" data-stat=\"pts_per_g\">102.9</td><td class=\"right\" data-stat=\"opp_pts_per_g\">110.0</td><td class=\"right\" data-stat=\"srs\">-6.84</td></tr>,\n",
       " <tr class=\"full_table\"><th class=\"left\" data-stat=\"team_name\" scope=\"row\"><a href=\"/teams/ORL/2018.html\">Orlando Magic</a></th><td class=\"right\" data-stat=\"wins\">25</td><td class=\"right\" data-stat=\"losses\">57</td><td class=\"right\" data-stat=\"win_loss_pct\">.305</td><td class=\"right\" data-stat=\"gb\">34.0</td><td class=\"right\" data-stat=\"pts_per_g\">103.4</td><td class=\"right\" data-stat=\"opp_pts_per_g\">108.2</td><td class=\"right\" data-stat=\"srs\">-4.92</td></tr>,\n",
       " <tr class=\"full_table\"><th class=\"left\" data-stat=\"team_name\" scope=\"row\"><a href=\"/teams/ATL/2018.html\">Atlanta Hawks</a></th><td class=\"right\" data-stat=\"wins\">24</td><td class=\"right\" data-stat=\"losses\">58</td><td class=\"right\" data-stat=\"win_loss_pct\">.293</td><td class=\"right\" data-stat=\"gb\">35.0</td><td class=\"right\" data-stat=\"pts_per_g\">103.4</td><td class=\"right\" data-stat=\"opp_pts_per_g\">108.8</td><td class=\"right\" data-stat=\"srs\">-5.30</td></tr>]"
      ]
     },
     "execution_count": 49,
     "metadata": {},
     "output_type": "execute_result"
    }
   ],
   "source": [
    "rows_list"
   ]
  },
  {
   "cell_type": "markdown",
   "metadata": {
    "slideshow": {
     "slide_type": "slide"
    }
   },
   "source": [
    "#### Here are the children of one of the rows:"
   ]
  },
  {
   "cell_type": "code",
   "execution_count": 50,
   "metadata": {
    "slideshow": {
     "slide_type": "fragment"
    }
   },
   "outputs": [
    {
     "data": {
      "text/plain": [
       "[<th class=\"left\" data-stat=\"team_name\" scope=\"row\"><a href=\"/teams/TOR/2018.html\">Toronto Raptors</a>*</th>,\n",
       " <td class=\"right\" data-stat=\"wins\">59</td>,\n",
       " <td class=\"right\" data-stat=\"losses\">23</td>,\n",
       " <td class=\"right\" data-stat=\"win_loss_pct\">.720</td>,\n",
       " <td class=\"right\" data-stat=\"gb\">—</td>,\n",
       " <td class=\"right\" data-stat=\"pts_per_g\">111.7</td>,\n",
       " <td class=\"right\" data-stat=\"opp_pts_per_g\">103.9</td>,\n",
       " <td class=\"right\" data-stat=\"srs\">7.29</td>]"
      ]
     },
     "execution_count": 50,
     "metadata": {},
     "output_type": "execute_result"
    }
   ],
   "source": [
    "rows_list[0].contents"
   ]
  },
  {
   "cell_type": "markdown",
   "metadata": {
    "slideshow": {
     "slide_type": "slide"
    }
   },
   "source": [
    "# 2. How do I go through all the rows in the HTML code?\n",
    "- We now have the column names and the HTML of the row nodes\n",
    "    - We want to extract the rest of the data from the HTML of the row nodes\n",
    "        - --> We need to take each row (first loop) and then go through all different elements in the row node HTML (second loop)"
   ]
  },
  {
   "cell_type": "markdown",
   "metadata": {
    "slideshow": {
     "slide_type": "fragment"
    }
   },
   "source": [
    "#### Let's first do it for *one* row node only:"
   ]
  },
  {
   "cell_type": "code",
   "execution_count": 51,
   "metadata": {
    "slideshow": {
     "slide_type": "fragment"
    }
   },
   "outputs": [
    {
     "data": {
      "text/plain": [
       "<tr class=\"full_table\"><th class=\"left\" data-stat=\"team_name\" scope=\"row\"><a href=\"/teams/TOR/2018.html\">Toronto Raptors</a>*</th><td class=\"right\" data-stat=\"wins\">59</td><td class=\"right\" data-stat=\"losses\">23</td><td class=\"right\" data-stat=\"win_loss_pct\">.720</td><td class=\"right\" data-stat=\"gb\">—</td><td class=\"right\" data-stat=\"pts_per_g\">111.7</td><td class=\"right\" data-stat=\"opp_pts_per_g\">103.9</td><td class=\"right\" data-stat=\"srs\">7.29</td></tr>"
      ]
     },
     "execution_count": 51,
     "metadata": {},
     "output_type": "execute_result"
    }
   ],
   "source": [
    "row_node = rows_list[0]\n",
    "row_node"
   ]
  },
  {
   "cell_type": "code",
   "execution_count": 52,
   "metadata": {
    "slideshow": {
     "slide_type": "fragment"
    }
   },
   "outputs": [],
   "source": [
    "row = []\n",
    "for child in row_node.children:\n",
    "     row.append(child.text)"
   ]
  },
  {
   "cell_type": "code",
   "execution_count": 53,
   "metadata": {
    "slideshow": {
     "slide_type": "fragment"
    }
   },
   "outputs": [
    {
     "data": {
      "text/plain": [
       "['Toronto Raptors*', '59', '23', '.720', '—', '111.7', '103.9', '7.29']"
      ]
     },
     "execution_count": 53,
     "metadata": {},
     "output_type": "execute_result"
    }
   ],
   "source": [
    "row"
   ]
  },
  {
   "cell_type": "markdown",
   "metadata": {
    "slideshow": {
     "slide_type": "slide"
    }
   },
   "source": [
    "#### Now we will loop through all the row nodes:"
   ]
  },
  {
   "cell_type": "code",
   "execution_count": 54,
   "metadata": {
    "slideshow": {
     "slide_type": "fragment"
    }
   },
   "outputs": [],
   "source": [
    "data = []\n",
    "for row_node in rows_list:\n",
    "    row = []\n",
    "    for child in row_node.children:\n",
    "        row.append(child.text)\n",
    "    data.append(row)"
   ]
  },
  {
   "cell_type": "code",
   "execution_count": 55,
   "metadata": {
    "slideshow": {
     "slide_type": "fragment"
    }
   },
   "outputs": [
    {
     "data": {
      "text/plain": [
       "[['Toronto Raptors*', '59', '23', '.720', '—', '111.7', '103.9', '7.29'],\n",
       " ['Boston Celtics*', '55', '27', '.671', '4.0', '104.0', '100.4', '3.23'],\n",
       " ['Philadelphia 76ers*', '52', '30', '.634', '7.0', '109.8', '105.3', '4.30'],\n",
       " ['Cleveland Cavaliers*', '50', '32', '.610', '9.0', '110.9', '109.9', '0.59'],\n",
       " ['Indiana Pacers*', '48', '34', '.585', '11.0', '105.6', '104.2', '1.18'],\n",
       " ['Miami Heat*', '44', '38', '.537', '15.0', '103.4', '102.9', '0.15'],\n",
       " ['Milwaukee Bucks*', '44', '38', '.537', '15.0', '106.5', '106.8', '-0.45'],\n",
       " ['Washington Wizards*', '43', '39', '.524', '16.0', '106.6', '106.0', '0.53'],\n",
       " ['Detroit Pistons', '39', '43', '.476', '20.0', '103.8', '103.9', '-0.26'],\n",
       " ['Charlotte Hornets', '36', '46', '.439', '23.0', '108.2', '108.0', '0.07'],\n",
       " ['New York Knicks', '29', '53', '.354', '30.0', '104.5', '108.0', '-3.53'],\n",
       " ['Brooklyn Nets', '28', '54', '.341', '31.0', '106.6', '110.3', '-3.67'],\n",
       " ['Chicago Bulls', '27', '55', '.329', '32.0', '102.9', '110.0', '-6.84'],\n",
       " ['Orlando Magic', '25', '57', '.305', '34.0', '103.4', '108.2', '-4.92'],\n",
       " ['Atlanta Hawks', '24', '58', '.293', '35.0', '103.4', '108.8', '-5.30']]"
      ]
     },
     "execution_count": 55,
     "metadata": {},
     "output_type": "execute_result"
    }
   ],
   "source": [
    "data"
   ]
  },
  {
   "cell_type": "markdown",
   "metadata": {
    "slideshow": {
     "slide_type": "slide"
    }
   },
   "source": [
    "## Overview of Session 8\n",
    "Today we will learn about automated browsing and regular expressions\n",
    "\n",
    "1. Automated browsing\n",
    "    - Why is it useful?\n",
    "    - Learning by doing: We will browse through www.nboard.dk\n",
    "        - You will learn about scrolling, clicking, sending keys and combining `Selenium` and `BeautifulSoup`\n",
    "2. Regular Expressions\n",
    "    - What is it?\n",
    "    - Where can you learn more?\n",
    "    - Build simple regular expressions"
   ]
  },
  {
   "cell_type": "markdown",
   "metadata": {
    "slideshow": {
     "slide_type": "slide"
    }
   },
   "source": [
    "# 1. Interactions and Automated Browsing\n",
    "\n",
    "Automated browsing means letting the computer do the things you normally do:\n",
    "- Log in\n",
    "- Type in search text\n",
    "- Scroll down page\n",
    "- Click on links\n",
    "\n",
    "Sometimes webscraping demands such interactions with the webpage to extract the information you want\n",
    "\n",
    "To make the interactions we use the Python package [`Selenium`](https://selenium-python.readthedocs.io/). In combination with the virtual browser [`ChromeDriver`](https://chromedriver.chromium.org/) we can completely automate our browsing!"
   ]
  },
  {
   "cell_type": "markdown",
   "metadata": {
    "slideshow": {
     "slide_type": "fragment"
    }
   },
   "source": [
    "Note: If you have not installed `Selenium` yet, \"pip install selenium\" should do the trick."
   ]
  },
  {
   "cell_type": "markdown",
   "metadata": {
    "slideshow": {
     "slide_type": "slide"
    }
   },
   "source": [
    "#### Let 's see how it works:\n",
    "\n",
    "- In the code below we first open our virtual browser \n",
    "- From the virtual browser we can execute `Selenium` commands (for example go to google.com)"
   ]
  },
  {
   "cell_type": "code",
   "execution_count": 56,
   "metadata": {},
   "outputs": [],
   "source": [
    "#pip install selenium"
   ]
  },
  {
   "cell_type": "code",
   "execution_count": 57,
   "metadata": {},
   "outputs": [],
   "source": [
    "#pip install webdriver_manager"
   ]
  },
  {
   "cell_type": "code",
   "execution_count": 59,
   "metadata": {},
   "outputs": [],
   "source": [
    "from selenium import webdriver\n",
    "from webdriver_manager.chrome import ChromeDriverManager\n",
    "\n",
    "# We open up google.com in a virtual browser\n",
    "url = 'https://www.google.dk'\n",
    "\n",
    "# We need to import the ChromeDriverManager to download and set up the Chrome driver\n",
    "driver = webdriver.Chrome() # Download and install the Chrome driver\n",
    "\n",
    "# Once the driver is set up, we can use it to navigate to the provided URL\n",
    "driver.get(url) # Go to google.com"
   ]
  },
  {
   "cell_type": "markdown",
   "metadata": {
    "slideshow": {
     "slide_type": "slide"
    }
   },
   "source": [
    "## Benefits from automated browsing\n",
    "1. You can access data that are not directly in the HTML but that is being generated while browsing\n",
    "2. You can get through login screens and other scraping barriers\n",
    "3. You can automate browsing behaviour such as scrolling down"
   ]
  },
  {
   "cell_type": "markdown",
   "metadata": {
    "slideshow": {
     "slide_type": "slide"
    }
   },
   "source": [
    "# Video 8.1: Automated browsing with Selenium"
   ]
  },
  {
   "cell_type": "markdown",
   "metadata": {
    "slideshow": {
     "slide_type": "slide"
    }
   },
   "source": [
    "## Learning by doing: Automated browsing of www.nboard.dk\n",
    "\n",
    "www.nboard.dk is a website that connects companies with potential board members. \n",
    "\n",
    "In this exercise we want to browse the site for potential board members. We will do this automatically with `Selenium`."
   ]
  },
  {
   "cell_type": "markdown",
   "metadata": {
    "slideshow": {
     "slide_type": "subslide"
    }
   },
   "source": [
    "#### Step 1: \n",
    "Load the webpage we want to scrape in our virtual browser"
   ]
  },
  {
   "cell_type": "code",
   "execution_count": 61,
   "metadata": {
    "slideshow": {
     "slide_type": "fragment"
    }
   },
   "outputs": [],
   "source": [
    "url = 'https://nboard.dk/search'\n",
    "driver = webdriver.Chrome()\n",
    "driver.get(url)"
   ]
  },
  {
   "cell_type": "markdown",
   "metadata": {
    "slideshow": {
     "slide_type": "subslide"
    }
   },
   "source": [
    "#### Step 2: \n",
    "We want to click away the \"cookie notification\""
   ]
  },
  {
   "cell_type": "code",
   "execution_count": 63,
   "metadata": {
    "slideshow": {
     "slide_type": "fragment"
    }
   },
   "outputs": [
    {
     "ename": "NoSuchElementException",
     "evalue": "Message: no such element: Unable to locate element: {\"method\":\"css selector\",\"selector\":\".cc-dismiss\"}\n  (Session info: chrome=115.0.5790.114); For documentation on this error, please visit: https://www.selenium.dev/documentation/webdriver/troubleshooting/errors#no-such-element-exception\nStacktrace:\n0   chromedriver                        0x000000010fa57af8 chromedriver + 4987640\n1   chromedriver                        0x000000010fa4eeb3 chromedriver + 4951731\n2   chromedriver                        0x000000010f6028d7 chromedriver + 444631\n3   chromedriver                        0x000000010f648985 chromedriver + 731525\n4   chromedriver                        0x000000010f648b41 chromedriver + 731969\n5   chromedriver                        0x000000010f68c7c4 chromedriver + 1009604\n6   chromedriver                        0x000000010f66eb3d chromedriver + 887613\n7   chromedriver                        0x000000010f689d31 chromedriver + 998705\n8   chromedriver                        0x000000010f66e8e3 chromedriver + 887011\n9   chromedriver                        0x000000010f63a9b9 chromedriver + 674233\n10  chromedriver                        0x000000010f63bb9e chromedriver + 678814\n11  chromedriver                        0x000000010fa13dc9 chromedriver + 4709833\n12  chromedriver                        0x000000010fa18de4 chromedriver + 4730340\n13  chromedriver                        0x000000010fa1fc99 chromedriver + 4758681\n14  chromedriver                        0x000000010fa19b3a chromedriver + 4733754\n15  chromedriver                        0x000000010f9ed35c chromedriver + 4551516\n16  chromedriver                        0x000000010fa37908 chromedriver + 4856072\n17  chromedriver                        0x000000010fa37a87 chromedriver + 4856455\n18  chromedriver                        0x000000010fa47def chromedriver + 4922863\n19  libsystem_pthread.dylib             0x00007ff8108521d3 _pthread_start + 125\n20  libsystem_pthread.dylib             0x00007ff81084dbd3 thread_start + 15\n",
     "output_type": "error",
     "traceback": [
      "\u001b[0;31m---------------------------------------------------------------------------\u001b[0m",
      "\u001b[0;31mNoSuchElementException\u001b[0m                    Traceback (most recent call last)",
      "\u001b[0;32m/var/folders/bx/p8b0mkgd45q51402mwt0zkqm0000gn/T/ipykernel_54553/985222739.py\u001b[0m in \u001b[0;36m<module>\u001b[0;34m\u001b[0m\n\u001b[1;32m      1\u001b[0m \u001b[0;32mfrom\u001b[0m \u001b[0mselenium\u001b[0m\u001b[0;34m.\u001b[0m\u001b[0mwebdriver\u001b[0m\u001b[0;34m.\u001b[0m\u001b[0mcommon\u001b[0m\u001b[0;34m.\u001b[0m\u001b[0mby\u001b[0m \u001b[0;32mimport\u001b[0m \u001b[0mBy\u001b[0m\u001b[0;34m\u001b[0m\u001b[0;34m\u001b[0m\u001b[0m\n\u001b[0;32m----> 2\u001b[0;31m \u001b[0mcookie\u001b[0m \u001b[0;34m=\u001b[0m \u001b[0mdriver\u001b[0m\u001b[0;34m.\u001b[0m\u001b[0mfind_element\u001b[0m\u001b[0;34m(\u001b[0m\u001b[0mBy\u001b[0m\u001b[0;34m.\u001b[0m\u001b[0mCSS_SELECTOR\u001b[0m\u001b[0;34m,\u001b[0m \u001b[0;34m'.cc-dismiss'\u001b[0m\u001b[0;34m)\u001b[0m \u001b[0;31m#Here we use a CSS selector\u001b[0m\u001b[0;34m\u001b[0m\u001b[0;34m\u001b[0m\u001b[0m\n\u001b[0m\u001b[1;32m      3\u001b[0m \u001b[0mcookie\u001b[0m\u001b[0;34m.\u001b[0m\u001b[0mclick\u001b[0m\u001b[0;34m(\u001b[0m\u001b[0;34m)\u001b[0m\u001b[0;34m\u001b[0m\u001b[0;34m\u001b[0m\u001b[0m\n",
      "\u001b[0;32m~/opt/anaconda3/lib/python3.9/site-packages/selenium/webdriver/remote/webdriver.py\u001b[0m in \u001b[0;36mfind_element\u001b[0;34m(self, by, value)\u001b[0m\n\u001b[1;32m    737\u001b[0m             \u001b[0mvalue\u001b[0m \u001b[0;34m=\u001b[0m \u001b[0;34mf'[name=\"{value}\"]'\u001b[0m\u001b[0;34m\u001b[0m\u001b[0;34m\u001b[0m\u001b[0m\n\u001b[1;32m    738\u001b[0m \u001b[0;34m\u001b[0m\u001b[0m\n\u001b[0;32m--> 739\u001b[0;31m         \u001b[0;32mreturn\u001b[0m \u001b[0mself\u001b[0m\u001b[0;34m.\u001b[0m\u001b[0mexecute\u001b[0m\u001b[0;34m(\u001b[0m\u001b[0mCommand\u001b[0m\u001b[0;34m.\u001b[0m\u001b[0mFIND_ELEMENT\u001b[0m\u001b[0;34m,\u001b[0m \u001b[0;34m{\u001b[0m\u001b[0;34m\"using\"\u001b[0m\u001b[0;34m:\u001b[0m \u001b[0mby\u001b[0m\u001b[0;34m,\u001b[0m \u001b[0;34m\"value\"\u001b[0m\u001b[0;34m:\u001b[0m \u001b[0mvalue\u001b[0m\u001b[0;34m}\u001b[0m\u001b[0;34m)\u001b[0m\u001b[0;34m[\u001b[0m\u001b[0;34m\"value\"\u001b[0m\u001b[0;34m]\u001b[0m\u001b[0;34m\u001b[0m\u001b[0;34m\u001b[0m\u001b[0m\n\u001b[0m\u001b[1;32m    740\u001b[0m \u001b[0;34m\u001b[0m\u001b[0m\n\u001b[1;32m    741\u001b[0m     \u001b[0;32mdef\u001b[0m \u001b[0mfind_elements\u001b[0m\u001b[0;34m(\u001b[0m\u001b[0mself\u001b[0m\u001b[0;34m,\u001b[0m \u001b[0mby\u001b[0m\u001b[0;34m=\u001b[0m\u001b[0mBy\u001b[0m\u001b[0;34m.\u001b[0m\u001b[0mID\u001b[0m\u001b[0;34m,\u001b[0m \u001b[0mvalue\u001b[0m\u001b[0;34m:\u001b[0m \u001b[0mOptional\u001b[0m\u001b[0;34m[\u001b[0m\u001b[0mstr\u001b[0m\u001b[0;34m]\u001b[0m \u001b[0;34m=\u001b[0m \u001b[0;32mNone\u001b[0m\u001b[0;34m)\u001b[0m \u001b[0;34m->\u001b[0m \u001b[0mList\u001b[0m\u001b[0;34m[\u001b[0m\u001b[0mWebElement\u001b[0m\u001b[0;34m]\u001b[0m\u001b[0;34m:\u001b[0m\u001b[0;34m\u001b[0m\u001b[0;34m\u001b[0m\u001b[0m\n",
      "\u001b[0;32m~/opt/anaconda3/lib/python3.9/site-packages/selenium/webdriver/remote/webdriver.py\u001b[0m in \u001b[0;36mexecute\u001b[0;34m(self, driver_command, params)\u001b[0m\n\u001b[1;32m    343\u001b[0m         \u001b[0mresponse\u001b[0m \u001b[0;34m=\u001b[0m \u001b[0mself\u001b[0m\u001b[0;34m.\u001b[0m\u001b[0mcommand_executor\u001b[0m\u001b[0;34m.\u001b[0m\u001b[0mexecute\u001b[0m\u001b[0;34m(\u001b[0m\u001b[0mdriver_command\u001b[0m\u001b[0;34m,\u001b[0m \u001b[0mparams\u001b[0m\u001b[0;34m)\u001b[0m\u001b[0;34m\u001b[0m\u001b[0;34m\u001b[0m\u001b[0m\n\u001b[1;32m    344\u001b[0m         \u001b[0;32mif\u001b[0m \u001b[0mresponse\u001b[0m\u001b[0;34m:\u001b[0m\u001b[0;34m\u001b[0m\u001b[0;34m\u001b[0m\u001b[0m\n\u001b[0;32m--> 345\u001b[0;31m             \u001b[0mself\u001b[0m\u001b[0;34m.\u001b[0m\u001b[0merror_handler\u001b[0m\u001b[0;34m.\u001b[0m\u001b[0mcheck_response\u001b[0m\u001b[0;34m(\u001b[0m\u001b[0mresponse\u001b[0m\u001b[0;34m)\u001b[0m\u001b[0;34m\u001b[0m\u001b[0;34m\u001b[0m\u001b[0m\n\u001b[0m\u001b[1;32m    346\u001b[0m             \u001b[0mresponse\u001b[0m\u001b[0;34m[\u001b[0m\u001b[0;34m\"value\"\u001b[0m\u001b[0;34m]\u001b[0m \u001b[0;34m=\u001b[0m \u001b[0mself\u001b[0m\u001b[0;34m.\u001b[0m\u001b[0m_unwrap_value\u001b[0m\u001b[0;34m(\u001b[0m\u001b[0mresponse\u001b[0m\u001b[0;34m.\u001b[0m\u001b[0mget\u001b[0m\u001b[0;34m(\u001b[0m\u001b[0;34m\"value\"\u001b[0m\u001b[0;34m,\u001b[0m \u001b[0;32mNone\u001b[0m\u001b[0;34m)\u001b[0m\u001b[0;34m)\u001b[0m\u001b[0;34m\u001b[0m\u001b[0;34m\u001b[0m\u001b[0m\n\u001b[1;32m    347\u001b[0m             \u001b[0;32mreturn\u001b[0m \u001b[0mresponse\u001b[0m\u001b[0;34m\u001b[0m\u001b[0;34m\u001b[0m\u001b[0m\n",
      "\u001b[0;32m~/opt/anaconda3/lib/python3.9/site-packages/selenium/webdriver/remote/errorhandler.py\u001b[0m in \u001b[0;36mcheck_response\u001b[0;34m(self, response)\u001b[0m\n\u001b[1;32m    227\u001b[0m                 \u001b[0malert_text\u001b[0m \u001b[0;34m=\u001b[0m \u001b[0mvalue\u001b[0m\u001b[0;34m[\u001b[0m\u001b[0;34m\"alert\"\u001b[0m\u001b[0;34m]\u001b[0m\u001b[0;34m.\u001b[0m\u001b[0mget\u001b[0m\u001b[0;34m(\u001b[0m\u001b[0;34m\"text\"\u001b[0m\u001b[0;34m)\u001b[0m\u001b[0;34m\u001b[0m\u001b[0;34m\u001b[0m\u001b[0m\n\u001b[1;32m    228\u001b[0m             \u001b[0;32mraise\u001b[0m \u001b[0mexception_class\u001b[0m\u001b[0;34m(\u001b[0m\u001b[0mmessage\u001b[0m\u001b[0;34m,\u001b[0m \u001b[0mscreen\u001b[0m\u001b[0;34m,\u001b[0m \u001b[0mstacktrace\u001b[0m\u001b[0;34m,\u001b[0m \u001b[0malert_text\u001b[0m\u001b[0;34m)\u001b[0m  \u001b[0;31m# type: ignore[call-arg]  # mypy is not smart enough here\u001b[0m\u001b[0;34m\u001b[0m\u001b[0;34m\u001b[0m\u001b[0m\n\u001b[0;32m--> 229\u001b[0;31m         \u001b[0;32mraise\u001b[0m \u001b[0mexception_class\u001b[0m\u001b[0;34m(\u001b[0m\u001b[0mmessage\u001b[0m\u001b[0;34m,\u001b[0m \u001b[0mscreen\u001b[0m\u001b[0;34m,\u001b[0m \u001b[0mstacktrace\u001b[0m\u001b[0;34m)\u001b[0m\u001b[0;34m\u001b[0m\u001b[0;34m\u001b[0m\u001b[0m\n\u001b[0m",
      "\u001b[0;31mNoSuchElementException\u001b[0m: Message: no such element: Unable to locate element: {\"method\":\"css selector\",\"selector\":\".cc-dismiss\"}\n  (Session info: chrome=115.0.5790.114); For documentation on this error, please visit: https://www.selenium.dev/documentation/webdriver/troubleshooting/errors#no-such-element-exception\nStacktrace:\n0   chromedriver                        0x000000010fa57af8 chromedriver + 4987640\n1   chromedriver                        0x000000010fa4eeb3 chromedriver + 4951731\n2   chromedriver                        0x000000010f6028d7 chromedriver + 444631\n3   chromedriver                        0x000000010f648985 chromedriver + 731525\n4   chromedriver                        0x000000010f648b41 chromedriver + 731969\n5   chromedriver                        0x000000010f68c7c4 chromedriver + 1009604\n6   chromedriver                        0x000000010f66eb3d chromedriver + 887613\n7   chromedriver                        0x000000010f689d31 chromedriver + 998705\n8   chromedriver                        0x000000010f66e8e3 chromedriver + 887011\n9   chromedriver                        0x000000010f63a9b9 chromedriver + 674233\n10  chromedriver                        0x000000010f63bb9e chromedriver + 678814\n11  chromedriver                        0x000000010fa13dc9 chromedriver + 4709833\n12  chromedriver                        0x000000010fa18de4 chromedriver + 4730340\n13  chromedriver                        0x000000010fa1fc99 chromedriver + 4758681\n14  chromedriver                        0x000000010fa19b3a chromedriver + 4733754\n15  chromedriver                        0x000000010f9ed35c chromedriver + 4551516\n16  chromedriver                        0x000000010fa37908 chromedriver + 4856072\n17  chromedriver                        0x000000010fa37a87 chromedriver + 4856455\n18  chromedriver                        0x000000010fa47def chromedriver + 4922863\n19  libsystem_pthread.dylib             0x00007ff8108521d3 _pthread_start + 125\n20  libsystem_pthread.dylib             0x00007ff81084dbd3 thread_start + 15\n"
     ]
    }
   ],
   "source": [
    "from selenium.webdriver.common.by import By\n",
    "cookie = driver.find_element(By.CSS_SELECTOR, '.cc-dismiss') #Here we use a CSS selector\n",
    "cookie.click()"
   ]
  },
  {
   "cell_type": "markdown",
   "metadata": {
    "slideshow": {
     "slide_type": "subslide"
    }
   },
   "source": [
    "#### Step 3: \n",
    "We only want the board members (\"Bestyrelsesmedlem\")\n",
    "- We need to click the box \"Bestyrelsesmedlem\""
   ]
  },
  {
   "cell_type": "code",
   "execution_count": null,
   "metadata": {
    "slideshow": {
     "slide_type": "fragment"
    }
   },
   "outputs": [],
   "source": [
    "boardmember = driver.find_element(By.ID, 'mat-checkbox-2') #Here we use the id attribute to find the boardmember box\n",
    "boardmember.click()"
   ]
  },
  {
   "cell_type": "markdown",
   "metadata": {
    "slideshow": {
     "slide_type": "subslide"
    }
   },
   "source": [
    "#### Step 4: \n",
    "Now we scroll down the page to load more profiles"
   ]
  },
  {
   "cell_type": "code",
   "execution_count": null,
   "metadata": {
    "slideshow": {
     "slide_type": "fragment"
    }
   },
   "outputs": [],
   "source": [
    "import time\n",
    "\n",
    "for i in range(5): #We scroll down 5 times and sleep for 3 seconds each time to wait for the webpage to load\n",
    "    driver.execute_script(\"window.scrollTo(0, document.body.scrollHeight);\") #Execute JavaScript on the browser that scroll down page\n",
    "    time.sleep(3)"
   ]
  },
  {
   "cell_type": "markdown",
   "metadata": {
    "slideshow": {
     "slide_type": "subslide"
    }
   },
   "source": [
    "#### Step 5: \n",
    "We decide that we only want profiles with the surname \"Hansen\". So we need to go to \"Søg på kandidatnavn\" and type in Hansen"
   ]
  },
  {
   "cell_type": "code",
   "execution_count": 64,
   "metadata": {
    "slideshow": {
     "slide_type": "fragment"
    }
   },
   "outputs": [
    {
     "ename": "SyntaxError",
     "evalue": "invalid syntax (3926428364.py, line 6)",
     "output_type": "error",
     "traceback": [
      "\u001b[0;36m  File \u001b[0;32m\"/var/folders/bx/p8b0mkgd45q51402mwt0zkqm0000gn/T/ipykernel_54553/3926428364.py\"\u001b[0;36m, line \u001b[0;32m6\u001b[0m\n\u001b[0;31m    candidate.send_keys(return)\u001b[0m\n\u001b[0m                        ^\u001b[0m\n\u001b[0;31mSyntaxError\u001b[0m\u001b[0;31m:\u001b[0m invalid syntax\n"
     ]
    }
   ],
   "source": [
    "# Find the place to type in search text\n",
    "candidate = driver.find_element(By.ID, 'mat-input-4')\n",
    "candidate.click() #And click\n",
    "# Type the search text\n",
    "candidate.send_keys('Hansen') #Use the `.send_keys` to type text. `.send_keys` imitates your computer keyboard, so you can for example also press the 'Return' or 'PgDn' botton.\n"
   ]
  },
  {
   "cell_type": "markdown",
   "metadata": {
    "slideshow": {
     "slide_type": "subslide"
    }
   },
   "source": [
    "#### Step 6: \n",
    "Now we want to know how many profiles satisfy our criteria. So first we need to save the HTML with `BeautifulSoup`"
   ]
  },
  {
   "cell_type": "code",
   "execution_count": null,
   "metadata": {
    "slideshow": {
     "slide_type": "fragment"
    }
   },
   "outputs": [],
   "source": [
    "from bs4 import BeautifulSoup\n",
    "\n",
    "soup = BeautifulSoup(driver.page_source, 'lxml') #The Selenium Driver keeps the HTML in the `.page_source` property\n",
    "\n",
    "# Find the place where the number of profiles is shown\n",
    "results = soup.find_all('span', class_ = \"ng-tns-c10-0\")\n",
    "results = results[4] #More elements matches the search, so we take the number of profiles element only\n",
    "\n",
    "# We only want the text content of the HTML\n",
    "profiles = results.text #We take the text"
   ]
  },
  {
   "cell_type": "code",
   "execution_count": null,
   "metadata": {
    "slideshow": {
     "slide_type": "fragment"
    }
   },
   "outputs": [],
   "source": [
    "profiles"
   ]
  },
  {
   "cell_type": "markdown",
   "metadata": {
    "slideshow": {
     "slide_type": "subslide"
    }
   },
   "source": [
    "#### Step 7: \n",
    "We only want the number of profiles, but there are still some other text as well\n",
    "\n",
    "We cannot get any further with `BeautifulSoup`, so we use `Regex` to take out the number from the string"
   ]
  },
  {
   "cell_type": "code",
   "execution_count": null,
   "metadata": {
    "slideshow": {
     "slide_type": "fragment"
    }
   },
   "outputs": [],
   "source": [
    "# We are only interested in the number, so we take out the number from the string using RegEx\n",
    "import re\n",
    "number_profiles = re.search(r'\\d+', profiles) #The '\\d' searches for digits in the string, and the '+' tells regex to search for all digits. The 'r' in the front of the string makes the string into a raw string; it means that for example \\n (new line) is not interpreted as new line, but is just seen as '\\n'.\n",
    "number_profiles = number_profiles.group()"
   ]
  },
  {
   "cell_type": "code",
   "execution_count": null,
   "metadata": {
    "slideshow": {
     "slide_type": "fragment"
    }
   },
   "outputs": [],
   "source": [
    "number_profiles"
   ]
  },
  {
   "cell_type": "markdown",
   "metadata": {
    "slideshow": {
     "slide_type": "slide"
    }
   },
   "source": [
    "## Next level scrapers\n",
    "\n",
    "You have now learned the fundamentals of collecting and parsing data from the web. \n",
    "\n",
    "#### One last note about challenges of scraping: \n",
    "Many online companies have made a business out of data\n",
    "- They do not necessarily want to share all their data with you \n",
    "- Facebook, LinkedIn, Google and all the other big tech firms are battling scrapers by creating all kinds of obstacles to make it hard for us to scrape their data"
   ]
  },
  {
   "cell_type": "markdown",
   "metadata": {
    "slideshow": {
     "slide_type": "fragment"
    }
   },
   "source": [
    "I have found some articles that address these obstacles. You might find them interesting.\n",
    "\n",
    "- [Most Commonly used techniques to Prevent Scraping:](https://medium.com/@betoayesa/using-the-content-as-an-anti-scrape-weapon-draft-9bb10cd30e5c)\n",
    "- [Advanced Web Scraping Tactics](https://www.pluralsight.com/guides/advanced-web-scraping-tactics-python-playbook)\n",
    "- [Scraping Sites That Use JavaScript and AJAX](https://oup-arc.com/protected/files/content/file/1505319833942-CH9---Scraping-Sites-that-Use-JavaScript-and-AJAX.pdf)\n",
    "- [Get Started Scraping LinkedIn With Python and Selenium](https://medium.com/nerd-for-tech/linked-in-web-scraper-using-selenium-15189959b3ba)"
   ]
  },
  {
   "cell_type": "markdown",
   "metadata": {
    "slideshow": {
     "slide_type": "slide"
    }
   },
   "source": [
    "# Remember\n",
    "You know the fundamentals about web scraping\n",
    "- But a web scraping course will never be able to prepare you for all situations\n",
    "- The only way to get better is to go work on your own web scraping problems"
   ]
  },
  {
   "cell_type": "markdown",
   "metadata": {
    "slideshow": {
     "slide_type": "slide"
    }
   },
   "source": [
    "# Video 8.2: Extracting patterns from text using RegEx"
   ]
  },
  {
   "cell_type": "markdown",
   "metadata": {
    "slideshow": {
     "slide_type": "slide"
    }
   },
   "source": [
    "# 2. Regex\n",
    "A regular expression (shortened as regex) is a sequence of characters that defines a search pattern\n",
    "\n",
    "The patterns are used by string-searching algorithms for \"find\"- or \"find and replace\"- operations on strings"
   ]
  },
  {
   "cell_type": "markdown",
   "metadata": {
    "slideshow": {
     "slide_type": "fragment"
    }
   },
   "source": [
    "### Examples\n",
    "- Extract currency and amount from raw text: $ 20, 10.000 dollars 10,000 £\n",
    "- Email addresses: Design a pattern, that captures only the uses of @ within an email.\n",
    "- URLs: Define all the different ways of writing URLs (https, http, no http). \n",
    "- Dates: There are many variations: 17th of June 2017, 06/17/17 or 17. June 17\n",
    "- Addresses \n",
    "- Phone numbers: 8888888 or 88 88 88 88 or +45 88 88 88 88\n",
    "- Emojiies in text: Capturing all the different ways of expressing smiley faces with one regular expression"
   ]
  },
  {
   "cell_type": "markdown",
   "metadata": {
    "slideshow": {
     "slide_type": "subslide"
    }
   },
   "source": [
    "#### Note:\n",
    "- We will only scratch the surface of regex!\n",
    "\n",
    "- It takes time to understand the intuition behind regex\n",
    "\n",
    "- The only way to become better is by using it in practice!"
   ]
  },
  {
   "cell_type": "markdown",
   "metadata": {
    "slideshow": {
     "slide_type": "subslide"
    }
   },
   "source": [
    "## Ressources\n",
    "- Use this interactive regex tester to test your regex: http://regexr.com/\n",
    "- Interactive tutorial: https://regexone.com/\n",
    "- Lookup all special characters: https://www.regular-expressions.info/refquick.html"
   ]
  },
  {
   "cell_type": "markdown",
   "metadata": {
    "slideshow": {
     "slide_type": "subslide"
    }
   },
   "source": [
    "## Some important syntax for build your own expresions\n",
    "### See more in this [tutorial](https://www.digitalocean.com/community/tutorials/an-introduction-to-regex-in-python) and this [guide](https://www.regular-expressions.info/refquick.html)\n",
    "* \\+ = 1 or more times  -- e.g. \"a+\" will match: \"a\", and \"aaa\"\n",
    "* \\* = 0 or more times  -- e.g. \"ba*\" will match: \"b\", and \"ba\", and \"baaa\"\n",
    "* {3} = exactly three times --- e.g. \"ba{3}\" will match \"baaa\", but not \"baa\"\n",
    "* ? = once or none\n",
    "* \\\\ = escape character, used to find characters that has special meaning with regex: e.g. \\+ \\*\n",
    "* [] = allows you to define a set of characters\n",
    "* () = groups a part of the regular expression\n",
    "* ^ = applied within a set, it becomes the inverse of the set defined. Applied outside a set it entails the beginning of a string. $ entails the end of a string.\n",
    "* . = any characters except line break\n",
    "* | = or statement. -- e.g. a|b means find characters a or b.\n",
    "* \\d = digits\n",
    "* \\D = non-digits.\n",
    "* \\s = whitespace-separator\n",
    "* \\w = matches alphanumeric character [a-zA-Z0-9_]\n",
    "* \\W = matches any non-alphanumeric character [^a-zA-Z0-9]\n",
    "\n",
    "Sequences\n",
    "* (?:) = Defines a Non-capturing group. -- e.g. \"(?:abc)+\", will match \"abc\" and \"abcabcabc\", but not \"aabbcc\"\n",
    "* (?=)\t= Positive lookahead - only match a certain pattern if a certain pattern comes after it.\n",
    "* (?!)\t= Negative lookahead - only match a certain pattern if **not** a certain pattern comes after it.\n",
    "* (?<=)\t= Positive lookbehind - only match a certain pattern if a certain pattern precedes it.\n",
    "* (?<!) = Negative lookbehind - only match a certain pattern if **not** a certain pattern precedes it."
   ]
  },
  {
   "cell_type": "markdown",
   "metadata": {
    "slideshow": {
     "slide_type": "slide"
    }
   },
   "source": [
    "## Regular expressions in action\n",
    "\n",
    "### In the code pieces below, you will see some common uses of regular expressions"
   ]
  },
  {
   "cell_type": "markdown",
   "metadata": {
    "slideshow": {
     "slide_type": "subslide"
    }
   },
   "source": [
    "#### First we need some text to practice on\n",
    "We will use a piece of one of the articles we downloaded from www.dr.dk in session 7"
   ]
  },
  {
   "cell_type": "code",
   "execution_count": null,
   "metadata": {
    "slideshow": {
     "slide_type": "fragment"
    }
   },
   "outputs": [],
   "source": [
    "text = 'Gazprom halverer gasleverancerne til Europa via Nord Stream 1. Årsagen er ifølge selskabet vedligehold af en gasturbine. Den daglige gasforsyning via gasledningen vil fra onsdag morgen blive reduceret til 33 millioner kubikmeter, oplyser Gazprom.Det svarer til cirka 20 procent af den maksimale kapacitet, og det fremgår ikke, hvor længe den yderligt reducerede forsyning af gas vil stå på.Den tyske regering anser den forklaringen om vedligeholdelse for at være opfundet til lejligheden.- Ifølge vores oplysninger er der ingen teknisk grund til en reduktion i leverancerne, siger en talskvinde for Finansministeriet og minister Robert Habeck til Frankfurter Allgemeine Zeitung.Tyskerne får 25 procent af deres energi fra gas, hvor en overvejende del er kommet fra Rusland.Gasprisen stiger med 10 procentDet er anden gang indenfor en uge, at Gazprom reducerer leverancen af gas under påskud af reperation af gasturbiner. Da Gazprom efter ti dages vedligehold i sidste uge genåbnede for gasforsyningen til Tyskland, var meldingen, at der dagligt ville blive leveret cirka 67 millioner kubikmeter.Gazproms seneste melding betyder altså, at leverancerne til Europa bliver omtrent halveret fra onsdag. Gasledningen kan, når den kører for fuld kraft, levere cirka 167 millioner kubikmeter gas om dagen.Nordstream 1-faciliter i Lubmin i Tyskland. (Foto:\\xa0HANNIBAL HANSCHKE ©\\xa0Ritzau Scanpix)'"
   ]
  },
  {
   "cell_type": "code",
   "execution_count": null,
   "metadata": {
    "slideshow": {
     "slide_type": "fragment"
    }
   },
   "outputs": [],
   "source": [
    "text"
   ]
  },
  {
   "cell_type": "markdown",
   "metadata": {
    "slideshow": {
     "slide_type": "subslide"
    }
   },
   "source": [
    "#### 1. Find the first digit in a text\n",
    "Use the [`search()`](https://www.pythontutorial.net/python-regex/python-regex-search/) function\n",
    "\n",
    "- `\\d` finds any digit in the text"
   ]
  },
  {
   "cell_type": "code",
   "execution_count": null,
   "metadata": {
    "slideshow": {
     "slide_type": "fragment"
    }
   },
   "outputs": [],
   "source": [
    "import re\n",
    "first_digit = re.search(r'\\d+', text) \n",
    "first_digit.group() #group() returns the matched string"
   ]
  },
  {
   "cell_type": "markdown",
   "metadata": {
    "slideshow": {
     "slide_type": "subslide"
    }
   },
   "source": [
    "#### 2. Find all digits in a text\n",
    "Use the [`findall()`](https://www.pythontutorial.net/python-regex/python-regex-findall/) function:"
   ]
  },
  {
   "cell_type": "code",
   "execution_count": null,
   "metadata": {
    "slideshow": {
     "slide_type": "fragment"
    }
   },
   "outputs": [],
   "source": [
    "all_digits = re.findall(r'\\d+', text) \n",
    "all_digits"
   ]
  },
  {
   "cell_type": "markdown",
   "metadata": {
    "slideshow": {
     "slide_type": "subslide"
    }
   },
   "source": [
    "#### 3. Find all digits with 'millioner' after \n"
   ]
  },
  {
   "cell_type": "code",
   "execution_count": null,
   "metadata": {
    "slideshow": {
     "slide_type": "fragment"
    }
   },
   "outputs": [],
   "source": [
    "millioner = re.findall(r'\\d+ millioner', text) \n",
    "millioner"
   ]
  },
  {
   "cell_type": "markdown",
   "metadata": {
    "slideshow": {
     "slide_type": "subslide"
    }
   },
   "source": [
    "#### 4. We are now interested in the quotes in the text\n",
    "We need to search for the text with the pattern: \n",
    "- First a '-'\n",
    "- Then the text\n",
    "- Ended by a ','\n",
    "\n",
    "`\\w` finds any alphanumeric characters \\[a-zA-Z0-9_\\]. Oppositely, `\\W` finds any non-alphanumeric character \\[^a-zA-Z0-9\\]"
   ]
  },
  {
   "cell_type": "code",
   "execution_count": null,
   "metadata": {
    "slideshow": {
     "slide_type": "fragment"
    }
   },
   "outputs": [],
   "source": [
    "quote = re.findall(r'- [\\w ]+,', text) \n",
    "quote"
   ]
  },
  {
   "cell_type": "markdown",
   "metadata": {
    "slideshow": {
     "slide_type": "subslide"
    }
   },
   "source": [
    "#### 5. What if we want the information about the photo \n",
    "We want the information about the photo inside parentheses\n",
    "- Remember that \"(\" and \")\" are special characters in regex, so we have to escape its special function with \"\\\"\n",
    "- \".\" matches any character except \"\\n\" (new line)"
   ]
  },
  {
   "cell_type": "code",
   "execution_count": null,
   "metadata": {
    "slideshow": {
     "slide_type": "fragment"
    }
   },
   "outputs": [],
   "source": [
    "photo = re.findall(r'\\(.+\\)', text)\n",
    "photo"
   ]
  },
  {
   "cell_type": "markdown",
   "metadata": {
    "slideshow": {
     "slide_type": "subslide"
    }
   },
   "source": [
    "#### 6. The text consists of different sentences. We want to break the text down to each sentence\n",
    "\n",
    "The [`split()`](https://www.pythontutorial.net/python-regex/python-regex-split/) function can split a string at the occurrences of matches of a regular expression\n",
    "\n",
    "Each sentence ends with a \".\". Let us split on that:"
   ]
  },
  {
   "cell_type": "code",
   "execution_count": null,
   "metadata": {
    "slideshow": {
     "slide_type": "fragment"
    },
    "tags": []
   },
   "outputs": [],
   "source": [
    "sentences = re.split(r'\\.', text) #Remember that \".\" is a special character in regex, so we need to escape it with \"\\\"\n",
    "sentences"
   ]
  }
 ],
 "metadata": {
  "celltoolbar": "Slideshow",
  "kernelspec": {
   "display_name": "base",
   "language": "python",
   "name": "python3"
  },
  "language_info": {
   "codemirror_mode": {
    "name": "ipython",
    "version": 3
   },
   "file_extension": ".py",
   "mimetype": "text/x-python",
   "name": "python",
   "nbconvert_exporter": "python",
   "pygments_lexer": "ipython3",
   "version": "3.9.13"
  },
  "latex_envs": {
   "bibliofile": "biblio.bib",
   "cite_by": "apalike",
   "current_citInitial": 1,
   "eqLabelWithNumbers": true,
   "eqNumInitial": 0
  },
  "toc": {
   "nav_menu": {
    "height": "328px",
    "width": "252px"
   },
   "navigate_menu": true,
   "number_sections": true,
   "sideBar": true,
   "threshold": 4,
   "toc_cell": false,
   "toc_section_display": "block",
   "toc_window_display": false
  },
  "vscode": {
   "interpreter": {
    "hash": "604903271ebee04a1d41a6e5cf13d16aa8edab4556eed9bb8d54d40193dfe553"
   }
  }
 },
 "nbformat": 4,
 "nbformat_minor": 4
}
