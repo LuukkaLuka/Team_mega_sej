{
 "cells": [
  {
   "cell_type": "markdown",
   "metadata": {
    "ExecuteTime": {
     "end_time": "2017-08-23T15:30:03.634114Z",
     "start_time": "2017-08-23T15:30:03.629294Z"
    }
   },
   "source": [
    "# Exercises for Session 6: Web Scraping 1\n",
    "\n",
    "In session 5 you briefly touched upon extracting data from the internet. You worked with APIs which can be used to download data from a webpage in a structured way. Sometimes the webpage do not provide an API or the data you can download via the API is limited. In that case we will need to extract the data from the webpage ourselves. \n",
    "\n",
    "In the next three sessions you will learn how to extract data from a webpage when you cannot use an API. It involves mapping through the webpage (find the right URLs) and extracting the desired data from the webpage's HTML string (HTML: the underlying language behind a webpage).\n",
    "\n",
    "*(Note: I recommend to use Chrome as your browser during the next three sessions. Lectures and exercises are solely based on Chrome.)*"
   ]
  },
  {
   "cell_type": "markdown",
   "metadata": {},
   "source": [
    "# Part 1: Scraping Jobnet.dk\n",
    "\n",
    "When we want to scrape a webpage, the first thing we do is to investigate the webpage. First, we need to get an overview of the URLs of all the webpages we want to scrape. Second, we download the HTML-string from the webpages. You can learn more about this in video 6.1:\n",
    "\n",
    "(I might talk a bit slow in some of the videos. Remember that you can turn up the speed on Youtube)"
   ]
  },
  {
   "cell_type": "code",
   "execution_count": 1,
   "metadata": {},
   "outputs": [
    {
     "data": {
      "image/jpeg": "[encoded data removed]",
      "text/html": [
       "\n",
       "        <iframe\n",
       "            width=\"640\"\n",
       "            height=\"360\"\n",
       "            src=\"https://www.youtube.com/embed/Xiu-acDIm28\"\n",
       "            frameborder=\"0\"\n",
       "            allowfullscreen\n",
       "            \n",
       "        ></iframe>\n",
       "        "
      ],
      "text/plain": [
       "<IPython.lib.display.YouTubeVideo at 0x7fcec8426e20>"
      ]
     },
     "execution_count": 1,
     "metadata": {},
     "output_type": "execute_result"
    }
   ],
   "source": [
    "from IPython.display import YouTubeVideo\n",
    "YouTubeVideo('Xiu-acDIm28', width=640, height=360)"
   ]
  },
  {
   "cell_type": "markdown",
   "metadata": {},
   "source": [
    "> **Ex. 6.1.1:** Go to  www.jobnet.dk and investigate the page. Locate the webpage that shows the job postings. Use the `request` module to extract the HTML-string of the webpage. \n",
    ">\n",
    "> Remember to add name and email to the header of your request, so the website managers can see that you are not a malicious actor.\n",
    "\n",
    "> *Note:* The HTML-string will not make a lot of sense right now, but try to take a look at it. In the next session we will learn how to extract data from the HTML-string.\n",
    "\n",
    "> *Note:* The website is in Danish, but it should be no problem for non-Danish speaking persons to solve the exercises."
   ]
  },
  {
   "cell_type": "code",
   "execution_count": 20,
   "metadata": {},
   "outputs": [
    {
     "name": "stdout",
     "output_type": "stream",
     "text": [
      "\n",
      "\n",
      "\n",
      "<!DOCTYPE html>\n",
      "<html class=\"no-js jobnet\"\n",
      "      lang=\"da\"\n",
      "      data-build=\"2023.2.0.129\"\n",
      "      data-ng-app=\"Jobnet\">\n",
      "\n",
      "<head data-jn-header-manager>\n",
      "    <meta charset=\"utf-8\" />\n",
      "\n",
      "    <script src=\"https://cdn-eu.cookietractor.com/cookietractor.js\" data-lang=\"da-DK\" data-id=\"997a8f64-3979-4aaf-a7ad-d75d4a075a3e\"></script>\n",
      "\n",
      "    \n",
      "    <title>Find job</title>\n",
      "    <meta name=\"description\"\n",
      "          content=\"\" />\n",
      "    <meta name=\"viewport\"\n",
      "          content=\"width=device-width, initial-scale=1\" />\n",
      "    \n",
      "    <link href=\"/CV/bundles/jobnet/styles/themes/jqueryui?v=tnDXbSoBDWbbJp6Mq-7PNZ2WgEiO41s0WI3Jpab9v5k1\" rel=\"stylesheet\"/>\n",
      "\n",
      "    <link href=\"/CV/bundles/jobnet/styles/normalization?v=8SYC4_fo8F7yKup3Ic3pmxETVZDCktLLOPXjtIVe2Zk1\" rel=\"stylesheet\"/>\n",
      "\n",
      "    <link href=\"/CV/bundles/jobnet/styles/normalizationprint?v=oRijEx5qJuAAPi5Biy05nn2lsj7dhIKZLJ8zNwNOAZs1\" rel=\"stylesheet\"/>\n",
      "\n",
      "    <link href=\"/CV/bundles/jobnet/styles/core?v=Cg60VVyiEhch4qImjjyR7P2kCXqJPDpWNG5k6Gpigrw1\" rel=\"stylesheet\"/>\n",
      "\n",
      "    <link href=\"/CV/bundles/jobnet/styles/bootstrap?v=n5CvACU4jgrz5sEsgyh2dKMN4XRrA5MP6E3JSohx-b01\" rel=\"stylesheet\"/>\n",
      "\n",
      "    <link href=\"/CV/bundles/jobnet/styles/forms?v=8DnLu7NN0cZujC30MY8tnOA4_ljhQP03ipKkQdcB2401\" rel=\"stylesheet\"/>\n",
      "\n",
      "    <link href=\"/CV/bundles/jobnet/styles/forms/legacy?v=NcmDMK1-LVSEqlRY5uFHuRDhez7g3AMkhH0OH3WvIw81\" rel=\"stylesheet\"/>\n",
      "\n",
      "    <link href=\"/CV/bundles/jobnet/styles/clientsession?v=9Dk9MAAUbEWVrzj4jSMoiYR-OBW5AYUGjqCrWu9RTPA1\" rel=\"stylesheet\"/>\n",
      "\n",
      "    <link href=\"/CV/bundles/jobnet/styles/moderncommon?v=V2qn3pP3wSQo4sKvGLzWcCozZa_ol2X3FJ27h-BPT8E1\" rel=\"stylesheet\"/>\n",
      "\n",
      "    <link href=\"/CV/bundles/jobnet/styles/navigation?v=wrynJzhv9q3fvwTcAc1lzm3ExOGFaWgYOAuqDOozlsk1\" rel=\"stylesheet\"/>\n",
      "\n",
      "    <link href=\"/CV/bundles/jobnet/styles/moderncore?v=eFufSVO1K7b2lCP0X1QVgXCV8vUa4fa2VW4r_wIbm6c1\" rel=\"stylesheet\"/>\n",
      "\n",
      "    <link href=\"/CV/bundles/jobnet/styles/pages?v=G6p2LDNqUUoZLg343ydnqo5DGbIMDVUZyVmDBmkUXA81\" rel=\"stylesheet\"/>\n",
      "\n",
      "    \n",
      "    \n",
      "    <link href=\"/CV/bundles/jobnet/styles/component/noUiSlider?v=fBQuoyibjs6cBntakUX2Yw0oDpHQZqWNONIJXUSy0eY1\" rel=\"stylesheet\"/>\n",
      "\n",
      "\n",
      "\n",
      "     \n",
      "\n",
      "<link rel=\"apple-touch-icon\" sizes=\"180x180\" href=\"https://job.jobnet.dk/cdn/favicon/apple-touch-icon.png?v=2bwmBNYP6K\">\n",
      "<link rel=\"icon\" type=\"image/png\" sizes=\"32x32\" href=\"https://job.jobnet.dk/cdn/favicon/favicon-32x32.png?v=2bwmBNYP6K\">\n",
      "<link rel=\"icon\" type=\"image/png\" sizes=\"194x194\" href=\"https://job.jobnet.dk/cdn/favicon/favicon-194x194.png?v=2bwmBNYP6K\">\n",
      "<link rel=\"icon\" type=\"image/png\" sizes=\"192x192\" href=\"https://job.jobnet.dk/cdn/favicon/android-chrome-192x192.png?v=2bwmBNYP6K\">\n",
      "<link rel=\"icon\" type=\"image/png\" sizes=\"16x16\" href=\"https://job.jobnet.dk/cdn/favicon/favicon-16x16.png?v=2bwmBNYP6K\">\n",
      "<link rel=\"manifest\" href=\"https://job.jobnet.dk/cdn/favicon/manifest.json?v=2bwmBNYP6K\">\n",
      "<link rel=\"mask-icon\" href=\"https://job.jobnet.dk/cdn/favicon/safari-pinned-tab.svg?v=2bwmBNYP6K\" color=\"#2b5797\">\n",
      "<link rel=\"shortcut icon\" href=\"https://job.jobnet.dk/cdn/favicon/favicon.ico?v=2bwmBNYP6K\">\n",
      "<meta name=\"theme-color\" content=\"#ffffff\">\n",
      "    <script src=\"/CV/bundles/jobnet/scripts/modernizr?v=Jf9PWRgqMqlxWLvJvLc5qNDEmYPzTJjpgqJsl6LpI6A1\"></script>\n",
      "\n",
      "\n",
      "    <script type=\"text/javascript\">\n",
      "\n",
      "    window.addEventListener('CookieConsentGiven', function (event) {\n",
      "        if (cookieTractor.consentGivenFor('statistical')) {\n",
      "            var script = document.createElement('script');\n",
      "            script.src = 'https://analytics.jobnet.dk/matomo.js';\n",
      "            // use another target than head if necessary\n",
      "            document.getElementsByTagName('head')[0].appendChild(script);\n",
      "\n",
      "        }\n",
      "    }, false);\n",
      "\n",
      "    </script>\n",
      "\n",
      "    \n",
      "    <script type=\"text/template\" id=\"ProfileDeletedContent\">\n",
      "    <div id=\"ProfileDeletedDialog\" class=\"modal fade\" role=\"dialog\">\n",
      "        <div class=\"modal-dialog\">\n",
      "            <div class=\"modal-content\">\n",
      "                <div class=\"form-dialog\">\n",
      "                    <div class=\"modal-header\">\n",
      "                        <h1 class=\"modal-title\">Din adgang er blevet slettet</h1>\n",
      "                    </div>\n",
      "                    <div class=\"modal-body\">\n",
      "                        <p>\n",
      "                            Hvis du vil have adgang til Jobnet, skal du derfor oprette dig som bruger igen.\n",
      "                        </p>\n",
      "                        <div class=\"clearBoth\"></div>\n",
      "                        <hr />\n",
      "                        <nav class=\"clearfix navigation navigation-tertiary\">\n",
      "                            <button type=\"button\" aria-label=\"Opret ny bruger\" class=\"button primary\" autofocus tabindex=\"0\" data-dismiss=\"modal\">Ok</button>\n",
      "                        </nav>\n",
      "                    </div>\n",
      "                </div>\n",
      "            </div>\n",
      "        </div>\n",
      "    </div>\n",
      "</script>\n",
      "\n",
      "</head>\n",
      "\n",
      "<body class=\"\n",
      "    main main\n",
      " responsive\">\n",
      "    <div data-jn-generic-error-listener></div>\n",
      "    <div class=\"page-background\">\n",
      "\n",
      "\n",
      "\n",
      "<header id=\"header\" aria-label=\"Jobnet banner\">\n",
      "\n",
      "<div class=\"skip-nav-container\">\n",
      "    <a href=\"#SkipNavigation\" tabindex=\"0\">Spring navigationen over</a>\n",
      "</div>\n",
      "\n",
      "    <h1 class=\"hidden\">Jobnet</h1>\n",
      "\n",
      "<div class=\"bootstrap-container page-area header-area no-print\">\n",
      "    <a href=\"/CV/Citizen/MyPage\" class=\"jobnet-logo\">\n",
      "        <img id=\"logo\" src=\"https://job.jobnet.dk/cdn/Logos/jobnet_logo.svg?jv=2023.2.0.129\" alt=\"Forside logo\" />\n",
      "    </a>\n",
      "\n",
      "            <span id=\"GoToFrontpageToLogin\">\n",
      "                <a class=\"primary\" href=\"/CV/Frontpage\">Log ind</a>\n",
      "            </span>\n",
      "\n",
      "</div>\n",
      "</header>\n",
      "\n",
      "\n",
      "\n",
      "\n",
      "\n",
      "\n",
      "\n",
      "\n",
      "        \n",
      "        \n",
      "\n",
      "\n",
      "\n",
      "\n",
      "\n",
      "\n",
      "\n",
      "\n",
      "\n",
      "\n",
      "\n",
      "\n",
      "<section id=\"MainSection\" class=\"page-area bootstrap-container clearfix\">\n",
      "    <main id=\"MainContent\" class=\"full-responsive clearfix\">\n",
      "        <article class=\"main-content clearfix\">\n",
      "<header class=\"breadcrumb-container no-print\">\n",
      "    <nav aria-label=\"Brødkrumme\">\n",
      "<span class=\"breadcrumb\" role=\"navigation\"><a class=\"crumb\" href=\"/CV/Citizen/MyPage\">Forside</a><span class=\"crumb-divider\">&gt;</span><a class=\"crumb\" href=\"/CV/ContextMenu/JobSeeking\">Jobs&#248;gning</a><span class=\"crumb-divider\">&gt;</span><span class=\"crumb\">Find job</span></span>    </nav>\n",
      "</header>\n",
      "\n",
      "            <span id=\"SkipNavigation\" tabindex=\"-1\"></span>\n",
      "            \n",
      "\n",
      "\n",
      "\n",
      "\n",
      "\n",
      "<div id=\"pageContainer\" class=\"page-spinner-container\">\n",
      "\n",
      "    <div id=\"spinnerContainer\"></div>\n",
      "    <input id=\"DirectionsBaseUrl\" type=\"hidden\" value=\"https://www.google.dk/maps/dir//{0}/\" />\n",
      "\n",
      "    <div id=\"findWork\" data-ng-view\n",
      "         data-jn-router=\"/cv/findwork\"\n",
      "         data-ng-controller=\"FindWorkController\">\n",
      "    </div>\n",
      "    <input type=\"hidden\" name =\"CsrfToken\" value=\"2aa60ffb-2f47-427e-b539-f49bf2735d37\" />   \n",
      "</div>\n",
      "\n",
      "        </article>\n",
      "    </main>\n",
      "</section>\n",
      "\n",
      "\n",
      "\n",
      "    </div>\n",
      "\n",
      "\n",
      "<footer id=\"MainFooter\" class=\"block page-area bootstrap-container no-print\">\n",
      "    <nav id=\"FooterNavigation\" class=\"clearfix\" aria-label=\"Vigtige Jobnet links\">\n",
      "        <div class=\"navigation-box\">\n",
      "            <section class=\"navigation-section\" aria-label=\"Footer-sektion: Jobsøgning\">\n",
      "                <h2>\n",
      "                    Jobsøgning\n",
      "                </h2>\n",
      "                <div tabindex=\"0\" class=\"sr-only\">Til dig som søger job</div>\n",
      "                <ul>\n",
      "                    <li><a aria-label=\"Søg jobbet - åbner i ny fane\" class=\"external\" href=\"https://www.borger.dk/arbejde-dagpenge-ferie/Arbejdsloeshed/find-et-job?NavigationTaxonomyId=00f2b35b-88e5-4ed5-a98c-fb062df75f0f\" target=\"_blank\">S&#248;g jobbet</a></li>\n",
      "                    <li><a aria-label=\"Mit CV på Jobnet - åbner i ny fane\" class=\"external\" href=\"https://info.jobnet.dk/jobsoeger/mit-cv-paa-jobnet/\" target=\"_blank\">Mit CV p&#229; Jobnet</a></li>\n",
      "                    <li><a aria-label=\"Virksomhedspraktik og løntilskud - åbner i ny fane\" class=\"external\" href=\"https://star.dk/da/indsatser-og-ordninger/virksomhedsrettede-redskaber/\" target=\"_blank\">Virksomhedspraktik og l&#248;ntilskud</a></li>\n",
      "                    <li><a aria-label=\"Meld dig ledig - åbner i ny fane\" class=\"external\" href=\"https://star.dk/it/borger-it/tilmelding-registrering-jobcentret-sygefravaer-fravaer-fritagelser/tilmelding-registrering-i-jobcentret/vejledninger-til-tilmelding-registrering-i-jobcentret/\" target=\"_blank\">Meld dig ledig</a></li>\n",
      "                    <li><a aria-label=\"Job i udlandet (EURES) - åbner i ny fane\" class=\"external\" href=\"https://info.jobnet.dk/eures/\" target=\"_blank\">Job i udlandet (EURES)</a></li>\n",
      "                    <li><a aria-label=\"WORKINDENMARK - åbner i ny fane\" class=\"external\" href=\"https://www.workindenmark.dk\" target=\"_blank\">WORKINDENMARK</a></li>\n",
      "                    <li><a aria-label=\"Din ret og pligt som ledig - åbner i ny fane\" class=\"external\" href=\"https://info.jobnet.dk/om-jobnet/ret-og-pligt/\" target=\"_blank\">Din ret og pligt som ledig</a></li>\n",
      "                    <li><a aria-label=\"Kompetenceafklaring og sprogkort - åbner i ny fane\" class=\"external\" href=\"https://info.jobnet.dk/jobsoeger/kompetenceafklaring-og-sprogkort/\" target=\"_blank\">Kompetenceafklaring og sprogkort</a></li>\n",
      "                    <li><a aria-label=\"Regler, love og bekendtgørelser - åbner i ny fane\" class=\"external\" href=\"https://star.dk/om-styrelsen/love-og-regler/\" target=\"_blank\">Regler, love og bekendtg&#248;relser</a></li>\n",
      "                </ul>\n",
      "            </section>\n",
      "        </div>\n",
      "        <div class=\"navigation-box\">\n",
      "            <section class=\"navigation-section\" aria-label=\"Footer-sektion: Hjælp\">\n",
      "                <h2>\n",
      "                    Hjælp\n",
      "                </h2>\n",
      "                <div tabindex=\"0\" class=\"sr-only\">Hjælp</div>\n",
      "                <ul>\n",
      "                    <li><a aria-label=\"FAQ for jobsøgere - åbner i ny fane\" class=\"external\" href=\"https://jobnet.zendesk.com/hc/da/sections/200833069-Ofte-stillede-sp%C3%B8rgsm%C3%A5l-fra-borgere\" target=\"_blank\">FAQ for jobs&#248;gere</a></li>\n",
      "                    <li><a aria-label=\"FAQ for arbejdsgivere - åbner i ny fane\" class=\"external\" href=\"https://jobnet.zendesk.com/hc/da/sections/200833089-Ofte-stillede-sp%C3%B8rgsm%C3%A5l-fra-virksomheder\" target=\"_blank\">FAQ for arbejdsgivere</a></li>\n",
      "                    <li><a aria-label=\"Kontakt dit jobcenter - åbner i ny fane\" class=\"external\" href=\"https://info.jobnet.dk//mit+jobcenter\" target=\"_blank\">Kontakt dit jobcenter</a></li>\n",
      "                    <li><a aria-label=\"Kontakt supporten - åbner i ny fane\" class=\"external\" href=\"https://jobnet.zendesk.com\" target=\"_blank\">Kontakt supporten</a></li>\n",
      "                    <li><a aria-label=\"Vejledninger til brug af Jobnet - åbner i ny fane\" class=\"external\" href=\"https://jobnet.zendesk.com/hc/da/categories/201257836\" target=\"_blank\">Vejledninger til brug af Jobnet</a></li>\n",
      "                    <li><a aria-label=\"Blanketter - åbner i ny fane\" class=\"external\" href=\"https://info.jobnet.dk/blanketter\" target=\"_blank\">Blanketter</a></li>\n",
      "                    <li><a aria-label=\"Læs højt - åbner i ny fane\" class=\"external\" href=\"https://info.jobnet.dk/hjaelp-til-jobnet/laes-hoejt\" target=\"_blank\">L&#230;s h&#248;jt</a></li>\n",
      "                </ul>\n",
      "            </section>\n",
      "        </div>\n",
      "        <div class=\"navigation-box\">\n",
      "            <section class=\"navigation-section\" aria-label=\"Footer-sektion: Til dig, som er\">\n",
      "                <h2>\n",
      "                    Til dig, som er ...\n",
      "                </h2>\n",
      "                <ul>\n",
      "                    <li><a aria-label=\"Dagpengemodtager - åbner i ny fane\" class=\"external\" href=\"https://star.dk/ydelser/ledighed/arbejdsloeshedsdagpenge/\" target=\"_blank\">Dagpengemodtager</a></li>\n",
      "                    <li><a aria-label=\"Kontanthjælps- eller uddannelseshjælpsmodtager - åbner i ny fane\" class=\"external\" href=\"https://star.dk/ydelser/ledighed/kontanthjaelp-og-uddannelseshjaelp/\" target=\"_blank\">Kontanthj&#230;lps- eller uddannelseshj&#230;lpsmodtager</a></li>\n",
      "                    <li><a aria-label=\"Modtager af selvforsørgelses- og hjemrejseydelse eller overgangsydelse - åbner i ny fane\" class=\"external\" href=\"https://www.borger.dk/arbejde-dagpenge-ferie/dagpenge-kontanthjaelp-og-sygedagpenge/kontanthjaelp/selvforsoergelses--og-hjemrejseydelse-eller-overgangsydelse\" target=\"_blank\">Modtager af selvfors&#248;rgelses- og hjemrejseydelse eller overgangsydelse</a></li>\n",
      "                    <li><a aria-label=\"Sygedagpengemodtager - åbner i ny fane\" class=\"external\" href=\"https://star.dk/ydelser/sygdom-og-barsel/sygedagpenge/\" target=\"_blank\">Sygedagpengemodtager</a></li>\n",
      "                    <li><a aria-label=\"Godkendt til fleksjob - åbner i ny fane\" class=\"external\" href=\"https://star.dk/indsatser-og-ordninger/indsatser-ved-sygdom-nedslidning-mv/fleksjob/\" target=\"_blank\">Godkendt til fleksjob</a></li>\n",
      "                    <li><a aria-label=\"I jobafklaringsforløb - åbner i ny fane\" class=\"external\" href=\"https://star.dk/indsatser-og-ordninger/indsatser-ved-sygdom-nedslidning-mv/jobafklaringsforloeb/\" target=\"_blank\">I jobafklaringsforl&#248;b</a></li>\n",
      "                    <li><a aria-label=\"Jobsøger med handikap - åbner i ny fane\" class=\"external\" href=\"https://star.dk/handicap\" target=\"_blank\">Jobs&#248;ger med handikap</a></li>\n",
      "                    <li><a aria-label=\"Uddannelsesparat - åbner i ny fane\" class=\"external\" href=\"https://info.jobnet.dk/jobsoeger/afklaring/\" target=\"_blank\">Uddannelsesparat</a></li>\n",
      "                </ul>\n",
      "            </section>\n",
      "        </div>\n",
      "        <div class=\"navigation-box\">\n",
      "            <section class=\"navigation-section\" aria-label=\"Footer-sektion: Jobnet\">\n",
      "                <h2>\n",
      "                    Jobnet\n",
      "                </h2>\n",
      "                <div tabindex=\"0\" class=\"sr-only\">Jobnet</div>\n",
      "                <ul>\n",
      "                    <li><a aria-label=\"Om Jobnet - åbner i ny fane\" class=\"external\" href=\"https://info.jobnet.dk/om-jobnet/\" target=\"_blank\">Om Jobnet</a></li>\n",
      "                    <li><a aria-label=\"Persondata på Jobnet - åbner i ny fane\" class=\"external\" href=\"https://info.jobnet.dk/om-jobnet/politik-om-persondata/\" target=\"_blank\">Persondata p&#229; Jobnet</a></li>\n",
      "                    <li><a aria-label=\"Tilgængelighed - åbner i ny fane\" class=\"external\" href=\"https://www.was.digst.dk/jobnet-dk\" target=\"_blank\">Tilg&#230;ngelighed</a></li>\n",
      "                    <li><a aria-label=\"Krav til browser - åbner i ny fane\" class=\"external\" href=\"https://jobnet.zendesk.com/hc/da/articles/203519739-Browsere-og-smartphones\" target=\"_blank\">Krav til browser</a></li>\n",
      "                    <li><a aria-label=\"Jobnet in English - opens in a new tab\" class=\"external\" href=\"https://info.jobnet.dk/om+jobnet/jobnet+in+english\" lang=\"en\" target=\"_blank\">Jobnet in English</a></li>\n",
      "                    <li><a aria-label=\"Om STAR - åbner i ny fane\" class=\"external\" href=\"https://star.dk/om-styrelsen\" target=\"_blank\">Om STAR</a></li>\n",
      "                    <li><a href=\"javascript:cookieTractor.openConsentSettings()\">Du kan ændre dit cookie-samtykke her</a></li>\n",
      "                </ul>\n",
      "\n",
      "                <br />\n",
      "                <img src=\"https://job.jobnet.dk/cdn/logos/StarLogo.svg\" id=\"StarLogo\" class=\"float-right hidden-xs hidden-sm\" alt=\"\" />\n",
      "            </section>\n",
      "        </div>\n",
      "    </nav>\n",
      "</footer>\n",
      "\n",
      "\n",
      "<script type=\"text/template\" id=\"SessionWarningDialogContent\">\n",
      "    <div id=\"SessionWarningDialog\" class=\"modal fade\" role=\"alertdialog\" aria-label=\"Du er ved at blive logget ud\" data-logout-link='/CV/Logout'>\n",
      "        <div class=\"modal-dialog\">\n",
      "            <div class=\"modal-content\">\n",
      "                <div class=\"form-dialog\">\n",
      "                    <header class=\"modal-header\" aria-label=\"Advarsel\">\n",
      "                        <h1 class=\"modal-title\">Advarsel</h1>\n",
      "                    </header>\n",
      "                    <div class=\"modal-body\" aria-label=\"Du bliver logget ud\">\n",
      "                        <p class=\"ui-state-attention\">Du bliver logget ud om <span id=\"SessionWarningCountdown\"></span></p>\n",
      "                        <p>Du er lige ved at blive logget ud af Jobnet, og du risikerer at miste det, du har indtastet. Vil du fortsat være logget ind, så tryk på OK eller enter nu.</p>\n",
      "                        <hr>\n",
      "                        <div class=\"clearfix\">\n",
      "                            <button id=\"SessionWarningDialogButton\" type=\"button\" class=\"button primary pull-right\" data-dismiss=\"modal\">OK</button>\n",
      "                        </div>\n",
      "                    </div>\n",
      "                </div>\n",
      "            </div>\n",
      "        </div>\n",
      "    </div>\n",
      "</script>\n",
      "\n",
      "<script type=\"text/template\" id=\"SessionTimeoutDialogContent\">\n",
      "    <div id=\"SessionTimeoutDialog\" class=\"modal fade\" role=\"alertdialog\" aria-label=\"Du er logget ud\">\n",
      "        <div class=\"modal-dialog\">\n",
      "            <div class=\"modal-content\">\n",
      "                <div class=\"form-dialog\">\n",
      "                    <header class=\"modal-header\" aria-label=\"Logget ud\">\n",
      "                        <h1 class=\"modal-title\">Logget ud</h1>\n",
      "                    </header>\n",
      "                    <div class=\"modal-body\" aria-label=\"Informat angående fejlen\">\n",
      "                        <p>Du er desværre blevet logget ud af Jobnet, da du ikke har været aktiv i 20 minutter. Hvis du har foretaget ændringer på Jobnet, er de muligvis ikke gemt.</p>\n",
      "                        <hr>\n",
      "                        <div class=\"clearfix\">\n",
      "                            <button id=\"SessionTimeoutDialogButton\" type=\"button\" class=\"button primary pull-right\" data-dismiss=\"modal\">Tilbage til Jobnet</button>\n",
      "                        </div>\n",
      "                    </div>\n",
      "                </div>\n",
      "            </div>\n",
      "        </div>\n",
      "    </div>\n",
      "</script>\n",
      "\n",
      "<script type=\"text/template\" id=\"SessionErrorDialogContent\">\n",
      "    <div id=\"SessionErrorDialog\" class=\"modal fade\" role=\"alertdialog\" aria-label=\"Der er sket en fejl\">\n",
      "        <div class=\"modal-dialog\">\n",
      "            <div class=\"modal-content\">\n",
      "                <div class=\"form-dialog\">\n",
      "                    <header class=\"modal-header\" aria-label=\"Fejl\">\n",
      "                        <h1 class=\"modal-title\">Fejl</h1>\n",
      "                    </header>\n",
      "                    <div class=\"modal-body\" aria-label=\"Information angående fejlen\">\n",
      "                        <p>Der er desværre sket en fejl. Hvis du har foretaget ændringer på Jobnet, er de muligvis ikke gemt.</p>\n",
      "                        <hr />\n",
      "                        <p>Teknisk information om fejlen:</p>\n",
      "                        <p id=\"SessionErrorInfo\"></p>\n",
      "                        <hr>\n",
      "                        <div class=\"clearfix\">\n",
      "                            <button id=\"SessionErrorDialogButton\" type=\"button\" class=\"button primary pull-right\" data-dismiss=\"modal\">OK</button>\n",
      "                        </div>\n",
      "                    </div>\n",
      "                </div>\n",
      "            </div>\n",
      "        </div>\n",
      "    </div>\n",
      "</script>\n",
      "\n",
      "\n",
      "    <script src=\"/CV/bundles/jobnet/scripts/jquery?v=tn9nJVMTSJs88aq2BQq8EGXt_rMROaxnErqOMkOhQds1\"></script>\n",
      "\n",
      "    <script src=\"/CV/bundles/jobnet/scripts/jqueryui?v=vuqpaomqfb9ZzKN4h7dzjwyWUuusxEjMgUJ9sEx2iNE1\"></script>\n",
      "\n",
      "    <script src=\"/CV/bundles/jobnet/scripts/base?v=BjOoOtv3R-W0suUd-TwQfgK6g25DTPyFk23y-f6A6pw1\"></script>\n",
      "\n",
      "    <script src=\"/CV/bundles/jobnet/scripts/bootstrap?v=YpZkKLUadK4AVbejT4EW4BqsBF6hO8aYej9oxbHCTQg1\"></script>\n",
      "\n",
      "    <script src=\"/CV/bundles/jobnet/scripts/menu?v=OVxFjREGnLnahUbHEmDNz9jN14Vwlcxw2e7xf8faQsc1\"></script>\n",
      "\n",
      "    \n",
      "    <script src=\"/CV/bundles/jobnet/scripts/jqueryvalidate?v=q7m9CRoh77j7EKYvXRBwtOY-braecG40eWso7Ono0uw1\"></script>\n",
      "\n",
      "    <script src=\"/CV/bundles/jobnet/scripts/jqueryCombined?v=GGeEz4e76P0limwKlexjJigxjq2WgaueQywkdcTZg_o1\"></script>\n",
      "\n",
      "    <script src=\"/CV/bundles/jobnet/scripts/angularjs?v=aCFekCGyyFVwsFONogi2FKPTEabJujHxlRyqMaoDksA1\"></script>\n",
      "\n",
      "    <script src=\"/CV/bundles/jobnet/scripts/forms?v=_J17JyRiEHDl4XvzNqOUTIPeOzY0YL4JZAp2V6OOZFg1\"></script>\n",
      "\n",
      "    <script src=\"/CV/bundles/jobnet/scripts/utility?v=jHgFbxwHddG180Px4CgJbXoRnyF_3Zi9qIbqiD4Bcno1\"></script>\n",
      "\n",
      "    <script src=\"/CV/bundles/jobnet/scripts/custom?v=G_H6PdPKFMvjpDB4dos8DNl4BPPOljSIiOW7-LjKnAg1\"></script>\n",
      "\n",
      "    <script src=\"/CV/bundles/jobnet/scripts/gsap?v=ef7c759aJTvbJrBRRM0n90p1p7p-4ylzO-JrR-uaWng1\"></script>\n",
      "\n",
      "    \n",
      "    \n",
      "    <script>Jobnet.Components.Spinner.Start(\"#spinnerContainer\", \"medium\");</script>\n",
      "    <script src=\"/CV/bundles/jobnet/scripts/findwork?v=dOXb7mSqYNciXaLk3qzjchBTxOeAY1jVUQ1PuaYZV5k1\"></script>\n",
      "\n",
      "\n",
      "\n",
      "     \n",
      "\n",
      "    \n",
      "\n",
      "    <input id=\"hdnServerDateNow\"\n",
      "           type=\"hidden\"\n",
      "           value=\"2023-08-02 14:01 \" />\n",
      "    <input id=\"UserRole\"\n",
      "           type=\"hidden\"\n",
      "           value=\"\" />\n",
      "\n",
      "    <script>\n",
      "        \n",
      "            (function () {\n",
      "                $('#LogoutLink, .logout-shown-inside-menu').on(\"click\", function () {\n",
      "                    sessionStorage.clear();\n",
      "                    localStorage.setItem('pcvlogout', 'logout');\n",
      "                });\n",
      "            })();\n",
      "    </script>\n",
      "</body>\n",
      "\n",
      "</html>\n",
      "\n"
     ]
    }
   ],
   "source": [
    "import requests\n",
    "\n",
    "headers = {\n",
    "    'name': 'Nina Frandsen Jensen',\n",
    "    'email': 'qls153@alumni.ku.dk'\n",
    "}\n",
    "\n",
    "response = requests.get('https://job.jobnet.dk/cv/findwork', headers=headers)\n",
    "\n",
    "# Extract the HTML-string from the response\n",
    "html_string = response.text\n",
    "\n",
    "# Print the HTML-string\n",
    "print(html_string)\n"
   ]
  },
  {
   "cell_type": "markdown",
   "metadata": {},
   "source": [
    "When you have completed exercise 6.1.1 you have scraped your first webpage! I.e., you have retrieved the HTML-string of the webpage you wanted to extract data from. In session 7 we will learn how to get the relevant data from the HTML-string. But first we want to learn about how to go through all the webpages we want to scrape and retrieve the HTML-strings behind: `mapping`"
   ]
  },
  {
   "cell_type": "markdown",
   "metadata": {},
   "source": [
    "> **Ex. 6.1.2:** Start your `mapping`: We want to figure out what URLs we need to scrape to collect job posting data. \n",
    "\n",
    "> You will see that there are 20 job postings per page, and that you can click through the pages with job postings on the bottom of the page. Figure out what the structure of the URL is, so you can click through the job posting pages by changing the URL. \n",
    "\n",
    "> Describe the structure of the URL in plain words below. What is the relevant paging parameter (the parameter you need to change to go to the next webpage) and how does it behave when you change page?"
   ]
  },
  {
   "attachments": {},
   "cell_type": "markdown",
   "metadata": {},
   "source": [
    "### Answer\n",
    "The relevant paging parameter is \"Offset\". Page 1 is equal to Offset=0, page 2 is equal to Offset=20, page 3 is equal to 40, etc. Each time you want to change page, you have to add 20 to the parameter. If you want to go to page 8, you would have to type Offset=140."
   ]
  },
  {
   "cell_type": "markdown",
   "metadata": {},
   "source": [
    "> **Ex. 6.1.3:** Make a list of the URLs of the first 5 webpages with job postings.\n",
    "\n",
    "> *Hint 1:* Design a `for loop` using the `range` function that changes the paging parameter in the URL.\n",
    ">\n",
    "> *Hint 2:* How do you change the paging parameter in the URL-string? Here string formatting is your friend! Read about it [here](https://realpython.com/python-string-formatting) (I recommend that you adopt the f-strings formatting which is a relatively new and nice feature in Python). "
   ]
  },
  {
   "cell_type": "code",
   "execution_count": 46,
   "metadata": {},
   "outputs": [
    {
     "data": {
      "text/plain": [
       "['https://www.jobnet.dk/CV/FindWork?Offset=0',\n",
       " 'https://www.jobnet.dk/CV/FindWork?Offset=20',\n",
       " 'https://www.jobnet.dk/CV/FindWork?Offset=40',\n",
       " 'https://www.jobnet.dk/CV/FindWork?Offset=60',\n",
       " 'https://www.jobnet.dk/CV/FindWork?Offset=80']"
      ]
     },
     "execution_count": 46,
     "metadata": {},
     "output_type": "execute_result"
    }
   ],
   "source": [
    "# Define the base URL for job postings\n",
    "base_url = 'https://www.jobnet.dk/CV/FindWork?Offset='\n",
    "\n",
    "# Initialize an empty list to store the URLs\n",
    "job_posting_urls = []\n",
    "\n",
    "# Loop through the first 5 pages (0 to 4)\n",
    "for page in range(5):\n",
    "    # Calculate the offset for each page\n",
    "    offset = page * 20  \n",
    "    # Create the URL for the current page\n",
    "    url = f'{base_url}{offset}'\n",
    "    # Add the URL to the list\n",
    "    job_posting_urls.append(url)\n",
    "\n",
    "# Print the list of URLs\n",
    "job_posting_urls"
   ]
  },
  {
   "cell_type": "markdown",
   "metadata": {},
   "source": [
    "> **Ex. 6.1.4:** Now loop through the list and scrape the HTML-strings of all 5 webpages using the `request` module again and save the HTML-strings in a list. \n",
    "\n",
    "> - Use the `time.sleep()` function to limit the rate of your calls. This is important to avoid overloading the webpage's server. Worst case, you can be banned from the website.\n",
    "\n",
    "> - ***Extra:*** Monitor the time left to completing the loop by using `tqdm.tqdm()` function."
   ]
  },
  {
   "cell_type": "code",
   "execution_count": 50,
   "metadata": {},
   "outputs": [
    {
     "name": "stderr",
     "output_type": "stream",
     "text": [
      "Scraping pages: 100%|██████████| 5/5 [00:11<00:00,  2.30s/it]"
     ]
    },
    {
     "name": "stdout",
     "output_type": "stream",
     "text": [
      "Number of HTML-strings retrieved: 5\n"
     ]
    },
    {
     "name": "stderr",
     "output_type": "stream",
     "text": [
      "\n"
     ]
    }
   ],
   "source": [
    "import time\n",
    "from tqdm import tqdm  # For the progress bar\n",
    "\n",
    "# Define the list of URLs from the previous exercise\n",
    "job_posting_urls = [\n",
    "    'https://www.jobnet.dk/CV/FindWork?Offset=0',\n",
    "    'https://www.jobnet.dk/CV/FindWork?Offset=20',\n",
    "    'https://www.jobnet.dk/CV/FindWork?Offset=40',\n",
    "    'https://www.jobnet.dk/CV/FindWork?Offset=60',\n",
    "    'https://www.jobnet.dk/CV/FindWork?Offset=80',\n",
    "]\n",
    "\n",
    "# Initialize an empty list to store the HTML-strings\n",
    "html_strings = []\n",
    "\n",
    "# Loop through the URLs and scrape the HTML-strings\n",
    "for url in tqdm(job_posting_urls, desc='Scraping pages'):\n",
    "    # Add headers to prevent being blocked as a bot\n",
    "    headers = {\n",
    "    'name': 'Nina Frandsen Jensen',\n",
    "    'email': 'qls153@alumni.ku.dk'\n",
    "    }\n",
    "    \n",
    "    # Make the request to the website\n",
    "    response = requests.get(url, headers=headers)\n",
    "    \n",
    "    # Check if the request was successful\n",
    "    if response.status_code == 200:\n",
    "        # Append the HTML-string to the list\n",
    "        html_strings.append(response.text)\n",
    "    else:\n",
    "        print(f\"Failed to fetch URL: {url}\")\n",
    "\n",
    "    # Sleep for a few seconds to avoid overloading the server\n",
    "    time.sleep(2)\n",
    "\n",
    "# Print the number of HTML-strings retrieved\n",
    "print(f\"Number of HTML-strings retrieved: {len(html_strings)}\")\n"
   ]
  },
  {
   "cell_type": "markdown",
   "metadata": {},
   "source": [
    "#### In the video below (video 6.2) you will learn about logging and handling exceptions. Watch it before continuing with Ex.6.1.5"
   ]
  },
  {
   "cell_type": "code",
   "execution_count": null,
   "metadata": {},
   "outputs": [
    {
     "data": {
      "image/jpeg": "[encoded data removed]",
      "text/html": [
       "\n",
       "        <iframe\n",
       "            width=\"640\"\n",
       "            height=\"360\"\n",
       "            src=\"https://www.youtube.com/embed/d9fx8m7dQmI\"\n",
       "            frameborder=\"0\"\n",
       "            allowfullscreen\n",
       "            \n",
       "        ></iframe>\n",
       "        "
      ],
      "text/plain": [
       "<IPython.lib.display.YouTubeVideo at 0x136b575ca60>"
      ]
     },
     "execution_count": 2,
     "metadata": {},
     "output_type": "execute_result"
    }
   ],
   "source": [
    "YouTubeVideo('d9fx8m7dQmI', width=640, height=360)"
   ]
  },
  {
   "cell_type": "markdown",
   "metadata": {},
   "source": [
    "> **Ex. 6.1.5:** Repeat 6.1.4, but now log your activity as well. "
   ]
  },
  {
   "cell_type": "code",
   "execution_count": 69,
   "metadata": {},
   "outputs": [],
   "source": [
    "import tqdm\n",
    "import logging\n",
    "import os\n",
    "import json\n",
    "\n",
    "# Define the log function to gather the log information\n",
    "def log(response,logfile,output_path=os.getcwd()):\n",
    "    # Open or create the csv file\n",
    "    if os.path.isfile(logfile): #If the log file exists, open it and allow for changes     \n",
    "        log = open(logfile,'a')\n",
    "    else: #If the log file does not exist, create it and make headers for the log variables\n",
    "        log = open(logfile,'w')\n",
    "        header = ['timestamp','status_code','length','output_file']\n",
    "        log.write(';'.join(header) + \"\\n\") #Make the headers and jump to new line\n",
    "        \n",
    "    # Gather log information\n",
    "    status_code = response.status_code #Status code from the request result\n",
    "    timestamp = time.strftime('%Y-%m-%d %H:%M:%S', time.localtime(time.time())) #Local time\n",
    "    length = len(response.text) #Length of the HTML-string\n",
    "    \n",
    "    # Open the log file and append the gathered log information\n",
    "    with open(logfile,'a') as log:\n",
    "        log.write(f'{timestamp};{status_code};{length};{output_path}' + \"\\n\") #Append the information and jump to new line"
   ]
  },
  {
   "cell_type": "code",
   "execution_count": 70,
   "metadata": {},
   "outputs": [
    {
     "name": "stderr",
     "output_type": "stream",
     "text": [
      "100%|██████████| 5/5 [00:04<00:00,  1.23it/s]\n"
     ]
    }
   ],
   "source": [
    "list_htmls = []\n",
    "logfile = 'log.csv'\n",
    "for url in tqdm.tqdm(job_posting_urls):\n",
    "    response = requests.get(url)\n",
    "    html = response.text\n",
    "    list_htmls.append(html)\n",
    "    time.sleep(0.5)\n",
    "    log(response,logfile)"
   ]
  },
  {
   "cell_type": "markdown",
   "metadata": {},
   "source": [
    "> **Ex. 6.1.6:** It is a good idea to build a scraper that can handle exceptions (for example a link that for some reason does not exist or connection problems). Build such an exception into your scraper from 6.1.5, so you do not loose the scraped data if it crashes halfway through."
   ]
  },
  {
   "cell_type": "code",
   "execution_count": 71,
   "metadata": {},
   "outputs": [
    {
     "name": "stderr",
     "output_type": "stream",
     "text": [
      "100%|██████████| 5/5 [00:03<00:00,  1.26it/s]\n"
     ]
    }
   ],
   "source": [
    "list_htmls = []\n",
    "for url in tqdm.tqdm(job_posting_urls):\n",
    "    try:\n",
    "        response = requests.get(url)\n",
    "    except Exception as e:\n",
    "        print(url) #Print url\n",
    "        print(e) #Print error\n",
    "        with open(\"list_htmls\", \"w\") as l: #Save the list_htmls as a json file to retrieve at another time\n",
    "            json.dump(list_htmls, l)\n",
    "        continue #Continue to next iteration of the loop\n",
    "    html = response.text\n",
    "    list_htmls.append(html)\n",
    "    time.sleep(0.5) #Sleep for 0.5 seconds"
   ]
  },
  {
   "cell_type": "markdown",
   "metadata": {},
   "source": [
    "# Part 2: Locating data through the network panel\n",
    "\n",
    "Sometimes you may be fortunate to find the request that the webpage sends to the server to retrieve the data for the webpage. In that case, we can just replicate the request to receive the data in a structured format (JSON). Then we do not need to struggle with the HTML-strings.\n",
    "\n",
    "To do this, we first need to find the request. For that purpose, the **network panel** in the Chrome Developer Tools is useful. The network panel monitors all the uploads and downloads to and from the webpage. You can read more about the network panel [here](https://developer.chrome.com/docs/devtools/network/).\n",
    "\n",
    "**Watch the video below (video 6.3) before working on the exercises.**"
   ]
  },
  {
   "cell_type": "code",
   "execution_count": 72,
   "metadata": {},
   "outputs": [
    {
     "data": {
      "image/jpeg": "[encoded data removed]",
      "text/html": [
       "\n",
       "        <iframe\n",
       "            width=\"640\"\n",
       "            height=\"360\"\n",
       "            src=\"https://www.youtube.com/embed/isUxBDzfWMg\"\n",
       "            frameborder=\"0\"\n",
       "            allowfullscreen\n",
       "            \n",
       "        ></iframe>\n",
       "        "
      ],
      "text/plain": [
       "<IPython.lib.display.YouTubeVideo at 0x7fcec99ce2b0>"
      ]
     },
     "execution_count": 72,
     "metadata": {},
     "output_type": "execute_result"
    }
   ],
   "source": [
    "YouTubeVideo('isUxBDzfWMg', width=640, height=360)"
   ]
  },
  {
   "cell_type": "markdown",
   "metadata": {},
   "source": [
    "> **Ex. 6.2.1:** Go to the job posting page at www.jobnet.dk again. Open the network panel and choose *Fetch/XHR* type ([Read more: XMLHttpRequest](https://en.wikipedia.org/wiki/XMLHttpRequest)). If you update the page, you will see all the XHR resources the page generates. \n",
    "\n",
    "> Go through all the XHRs and find the XHR that carries the information about the different job postings. What is the name of the XHR?\n",
    ">\n",
    ">*Note: There is no smart way to do this. You just need to go through all the XHRs and inspect the information they carry.*"
   ]
  },
  {
   "attachments": {},
   "cell_type": "markdown",
   "metadata": {},
   "source": [
    "### Answer\n",
    "Det hedder Search."
   ]
  },
  {
   "cell_type": "markdown",
   "metadata": {},
   "source": [
    "> **Ex. 6.2.2:** Use the request URL to download the JSON file consisting of the first 20 job postings. Return the request result in JSON format."
   ]
  },
  {
   "cell_type": "code",
   "execution_count": 74,
   "metadata": {},
   "outputs": [],
   "source": [
    "import requests\n",
    "response = requests.get('https://job.jobnet.dk/CV/FindWork/Search', headers={'name':'Nina Frandsen Jensen','email':'qls153@alumni.ku.dk'})\n",
    "result_json = response.json()"
   ]
  },
  {
   "cell_type": "markdown",
   "metadata": {},
   "source": [
    "> **Ex. 6.2.3:** The JSON file consists of three different key-value pairs. We are only interested in the pair that contains the job postings. Find the right key-value pair and convert the JSON data to a Pandas dataframe."
   ]
  },
  {
   "cell_type": "code",
   "execution_count": 76,
   "metadata": {},
   "outputs": [],
   "source": [
    "import pandas as pd\n",
    "jobs_first20 = pd.DataFrame(result_json['JobPositionPostings'])"
   ]
  },
  {
   "cell_type": "markdown",
   "metadata": {},
   "source": [
    "> **Ex. 6.2.4:** At this point, we have information about the first 20 job postings. Now we want the job postings of the first 5 pages, i.e. the first 100 job postings. \n",
    "\n",
    "> Use the same procedure as in **Ex. 6.1.3-4** to download the first 100 postings and save them in a dataframe.\n",
    ">\n",
    "> *Note: Remember to limit the rate of your calls, log your activity, and think about how to handle exceptions.*\n",
    "\n",
    "> *Hint: Recall the paging parameter from **Ex. 6.1.2**. You can use the same paging parameter in the new request URL to loop through the 5 pages.*"
   ]
  },
  {
   "cell_type": "code",
   "execution_count": 78,
   "metadata": {},
   "outputs": [],
   "source": [
    "links = []\n",
    "for offset in range(0,5*20,20):\n",
    "    url = f'https://job.jobnet.dk/CV/FindWork/Search?offset={offset}'\n",
    "    links.append(url)"
   ]
  },
  {
   "cell_type": "markdown",
   "metadata": {},
   "source": [
    "> **Ex. 6.2.5 (optional):** What are the top 5 occupation areas with most job postings out of the 100 postings? How many job postings do the top 5 occupation areas have each?"
   ]
  },
  {
   "cell_type": "code",
   "execution_count": 80,
   "metadata": {},
   "outputs": [
    {
     "name": "stderr",
     "output_type": "stream",
     "text": [
      "100%|██████████| 5/5 [00:05<00:00,  1.01s/it]\n"
     ]
    }
   ],
   "source": [
    "logfile = 'log3.csv'\n",
    "list_htmls = []\n",
    "jobs_first100 = pd.DataFrame()\n",
    "\n",
    "for url in tqdm.tqdm(links):\n",
    "    try:\n",
    "        response = requests.get(url, headers={'name':'Nina Frandsen Jensen','email':'qls153@alumni.ku.dk'})\n",
    "    except Exception as e:\n",
    "        print(url) #Print url\n",
    "        print(e) #Print error\n",
    "        jobs_first100.to_csv('jobs_first100.csv') #Save the dataframe as a csv file to retrieve at another time\n",
    "        continue #Continue to next iteration of the loop\n",
    "    \n",
    "    if response.ok: #Check if the response carries any data\n",
    "        result_json = response.json() #If the response carries data, then convert it to json format\n",
    "    else: #If the response does not carry any data, then print the status_code and continue to next iteration of the loop\n",
    "        print(response.status_code)\n",
    "        continue\n",
    "    \n",
    "    result_df = pd.DataFrame(result_json['JobPositionPostings']) #Convert this iteration's json file to a dataframe\n",
    "    jobs_first100 = pd.concat([jobs_first100,result_df], axis=0, ignore_index=True) #Append to the rest of the data\n",
    "    log(response, logfile)\n",
    "    time.sleep(0.5) #Sleep for 0.5 seconds"
   ]
  }
 ],
 "metadata": {
  "kernelspec": {
   "display_name": "base",
   "language": "python",
   "name": "python3"
  },
  "language_info": {
   "codemirror_mode": {
    "name": "ipython",
    "version": 3
   },
   "file_extension": ".py",
   "mimetype": "text/x-python",
   "name": "python",
   "nbconvert_exporter": "python",
   "pygments_lexer": "ipython3",
   "version": "3.9.13"
  },
  "latex_envs": {
   "bibliofile": "biblio.bib",
   "cite_by": "apalike",
   "current_citInitial": 1,
   "eqLabelWithNumbers": true,
   "eqNumInitial": 0
  },
  "toc": {
   "nav_menu": {
    "height": "328px",
    "width": "252px"
   },
   "navigate_menu": true,
   "number_sections": true,
   "sideBar": true,
   "threshold": 4,
   "toc_cell": false,
   "toc_section_display": "block",
   "toc_window_display": false
  },
  "vscode": {
   "interpreter": {
    "hash": "604903271ebee04a1d41a6e5cf13d16aa8edab4556eed9bb8d54d40193dfe553"
   }
  }
 },
 "nbformat": 4,
 "nbformat_minor": 2
}
