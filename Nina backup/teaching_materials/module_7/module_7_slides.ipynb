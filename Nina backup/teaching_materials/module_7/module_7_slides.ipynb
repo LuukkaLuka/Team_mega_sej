{
 "cells": [
  {
   "cell_type": "markdown",
   "metadata": {
    "slideshow": {
     "slide_type": "slide"
    }
   },
   "source": [
    "# Session 7: Web Scraping 2, HTML and parsing\n"
   ]
  },
  {
   "cell_type": "markdown",
   "metadata": {
    "slideshow": {
     "slide_type": "slide"
    }
   },
   "source": [
    "## Recap\n",
    "\n",
    "Recall the different steps in web scraping:\n",
    "1. Mapping (session 6):\n",
    "    - We learned how to use the structure of the URL to go through all the webpages you want to scrape\n",
    "2. Downloading (session 6):\n",
    "    - We learned how to download the HTML strings of webpages\n",
    "    - We learned how to use the network panel to download data directly from the webpage's server\n",
    "3. Parsing (this session)\n",
    "\n",
    "In this session we will learn how to parse the downloaded HTML into meaningful and structured data"
   ]
  },
  {
   "cell_type": "markdown",
   "metadata": {
    "slideshow": {
     "slide_type": "slide"
    }
   },
   "source": [
    "## Required readings\n",
    "\n",
    "- [Beautiful Soup: Build a Web Scraper With Python](https://realpython.com/beautiful-soup-web-scraper-python/)\n",
    "\n",
    "- [A Practical Introduction to Web Scraping in Python](https://realpython.com/python-web-scraping-practical-introduction/)"
   ]
  },
  {
   "cell_type": "markdown",
   "metadata": {
    "slideshow": {
     "slide_type": "slide"
    }
   },
   "source": [
    "# Overview of Session 7\n",
    "\n",
    "1. What is HTML?\n",
    "    - How does the tree structure work?\n",
    "2. How can we find our way in the HTML string? I.e. find the data we need (parse the HTML string)\n",
    "    - Regex\n",
    "    - CSS selectors\n",
    "    - BeautifulSoup\n",
    "        - Today we will mainly spend time on BeautifulSoup"
   ]
  },
  {
   "cell_type": "markdown",
   "metadata": {
    "slideshow": {
     "slide_type": "slide"
    }
   },
   "source": [
    "## Introduction to HTML"
   ]
  },
  {
   "cell_type": "markdown",
   "metadata": {
    "slideshow": {
     "slide_type": "fragment"
    }
   },
   "source": [
    "### Recall from previous session\n",
    "\n",
    "How a human sees a webpage             |  How a computer sees a webpage (**HTML**)\n",
    ":-------------------------:|:-------------------------:\n",
    "![](https://drive.google.com/uc?exportview&id=1cbrC303j-gQnXbXyTEQBPT2xH7kgz6Cy)  |  ![](https://drive.google.com/uc?export=view&id=1VFlfDcJHCzbtmkpr4kvXzGecrDE7KmLY)"
   ]
  },
  {
   "cell_type": "markdown",
   "metadata": {
    "slideshow": {
     "slide_type": "subslide"
    }
   },
   "source": [
    "## [What is HTML?](https://www.w3schools.com/html/html_intro.asp)  \n",
    "\n",
    "HTML(Hyper Text Markup Language) is the standard language for creating webpages"
   ]
  },
  {
   "cell_type": "markdown",
   "metadata": {
    "slideshow": {
     "slide_type": "fragment"
    }
   },
   "source": [
    "### HTML elements and tags\n",
    "\n",
    "HTML consists of different elements: These elements tell your browser what to display and how to display it\n",
    "\n",
    "An HTML element consists of a tag and the element content.\n",
    "- The tag defines the content: for example the tag ```<h1>``` defines the content as \"a large heading\"\n",
    "- Example: \n",
    "```html \n",
    "<h1> My first heading </h1>\n",
    "```"
   ]
  },
  {
   "cell_type": "markdown",
   "metadata": {
    "slideshow": {
     "slide_type": "subslide"
    }
   },
   "source": [
    "In the browser, the HTML above will show up like this: <h1> My first heading </h1>"
   ]
  },
  {
   "cell_type": "markdown",
   "metadata": {
    "slideshow": {
     "slide_type": "subslide"
    }
   },
   "source": [
    "### Important tags\n",
    "\n",
    "Here are some examples of often used tags:\n",
    "```html \n",
    "<h1> Defines a large header </h1>\n",
    "<p> Defines a paragraph </p>    \n",
    "<div> Defines a section </div>\n",
    "<a> Defines a link </a> \n",
    "<table> Defines a table </table> \n",
    "```"
   ]
  },
  {
   "cell_type": "markdown",
   "metadata": {
    "slideshow": {
     "slide_type": "subslide"
    }
   },
   "source": [
    "### Attributes to the HTML elements\n",
    "Each element can have some [attributes](https://www.w3schools.com/html/html_attributes.asp)\n",
    "\n",
    "- They are specified in the tags\n",
    "- Example: \n",
    "```html \n",
    "<div class=myclass> My first section </div>\n",
    "```"
   ]
  },
  {
   "cell_type": "markdown",
   "metadata": {
    "slideshow": {
     "slide_type": "fragment"
    }
   },
   "source": [
    "### Important attributes\n",
    "Here are some examples of often used attributes:\n",
    "- class: Specifies a class for an HTML element (multiple elements can share the same class)\n",
    "- id: Specifies a *unique* id for an HTML element\n",
    "- href: Specifies the link's destination/URL (used in combination with the ```<a>``` tag)"
   ]
  },
  {
   "cell_type": "markdown",
   "metadata": {
    "slideshow": {
     "slide_type": "subslide"
    }
   },
   "source": [
    "### HTML is like a tree\n",
    "\n",
    "An element is also called a node\n",
    "\n",
    "A node can have more nodes inside it. The nodes inside are then called *children*"
   ]
  },
  {
   "cell_type": "markdown",
   "metadata": {
    "slideshow": {
     "slide_type": "fragment"
    }
   },
   "source": [
    "- Example: \n",
    "```html \n",
    "<div> \n",
    "    <p> My first paragraph </p>\n",
    "</div>\n",
    "```\n",
    "In this example, ```<p>``` is the child, and ```<div>``` is the parent.\n",
    "- You may come across expressions like *children*, *siblings*, *parents*, *descendants*"
   ]
  },
  {
   "cell_type": "markdown",
   "metadata": {
    "slideshow": {
     "slide_type": "subslide"
    }
   },
   "source": [
    "### Here is an example of an HTML tree (can you see the similarity with a family tree?) \n",
    "<img src=\"http://www.openbookproject.net/tutorials/getdown/css/images/lesson4/HTMLDOMTree.png\"/>"
   ]
  },
  {
   "cell_type": "markdown",
   "metadata": {
    "slideshow": {
     "slide_type": "slide"
    }
   },
   "source": [
    "# Video 7.1: Navigating the HTML tree, intro"
   ]
  },
  {
   "cell_type": "markdown",
   "metadata": {
    "slideshow": {
     "slide_type": "subslide"
    }
   },
   "source": [
    "## How do we find our way around the HTML tree?\n",
    "\n",
    "The HTML contains the information that we are interested in!\n",
    "- But how do we locate it?"
   ]
  },
  {
   "cell_type": "markdown",
   "metadata": {
    "slideshow": {
     "slide_type": "fragment"
    }
   },
   "source": [
    "### Three ways of finding the information you want:\n",
    "1. Regex: Exploiting string patterns in HTML using regular expresssions\n",
    "2. CSS-selectors: Specifying paths in the tree using CSS-selectors\n",
    "3. ```BeautifulSoup```: A Python package that makes it easy to navigate the HTML tree"
   ]
  },
  {
   "cell_type": "markdown",
   "metadata": {
    "slideshow": {
     "slide_type": "subslide"
    }
   },
   "source": [
    "### 1. Regex\n",
    "**What is regex?**\n",
    "\n",
    "Regex is used to define a search pattern in text"
   ]
  },
  {
   "cell_type": "markdown",
   "metadata": {
    "slideshow": {
     "slide_type": "fragment"
    }
   },
   "source": [
    "Suppose we want to search for all links in an HTML tree:\n",
    "- We can then define a search pattern in regex that searches for \"www.\" for example\n",
    "- Using regex we will then find all the places in the HTML where it says \"www.\""
   ]
  },
  {
   "cell_type": "markdown",
   "metadata": {
    "slideshow": {
     "slide_type": "fragment"
    }
   },
   "source": [
    "Note: Regex only works on text/strings. So we need to convert our HTML tree into one large string before we can use regex on HTML\n",
    "\n",
    "More about regex in session 8!"
   ]
  },
  {
   "cell_type": "markdown",
   "metadata": {
    "slideshow": {
     "slide_type": "subslide"
    }
   },
   "source": [
    "### 2. [CSS Selectors ](https://en.wikipedia.org/wiki/CSS)\n",
    "A CSS selector is used to select the HTML elements ([How can you use a CSS selector?](https://www.scrapingbee.com/blog/python-web-scraping-beautiful-soup/))\n",
    "- At first it will seem very similar to the BeautifulSoup way of selecting elements (which you will learn in a minute)\n",
    "    - However, a CSS selector is useful when you cannot rely on *class* and *id* attributes (for example in very messy written HTML)\n",
    "\n",
    "It is a need way to define a unique path to an element or multiple similar elements in the HTML tree\n",
    "\n",
    "You can download a CSS Selector as a Google Chrome extension that will do the work for you: [SelectorGadget](https://chrome.google.com/webstore/detail/selectorgadget/mhjhnkcfbdhnjickkkdbjoemdmbfginb)"
   ]
  },
  {
   "cell_type": "code",
   "execution_count": 1,
   "metadata": {
    "slideshow": {
     "slide_type": "subslide"
    }
   },
   "outputs": [],
   "source": [
    "import requests\n",
    "from bs4 import BeautifulSoup\n",
    "import pandas as pd"
   ]
  },
  {
   "cell_type": "markdown",
   "metadata": {
    "slideshow": {
     "slide_type": "subslide"
    }
   },
   "source": [
    "#### BeautifulSoup has a built-in CSS selector:\n",
    "\n",
    "Just use the function `.select`"
   ]
  },
  {
   "cell_type": "code",
   "execution_count": 2,
   "metadata": {
    "slideshow": {
     "slide_type": "fragment"
    }
   },
   "outputs": [],
   "source": [
    "url = 'https://www.dr.dk/nyheder/udland'\n",
    "response = requests.get(url)\n",
    "soup = BeautifulSoup(response.content, 'lxml') #Make the BeautifulSoup object (soup): Take the HTML content as input and choose your parser (lxml)"
   ]
  },
  {
   "cell_type": "code",
   "execution_count": 10,
   "metadata": {
    "slideshow": {
     "slide_type": "fragment"
    }
   },
   "outputs": [
    {
     "data": {
      "text/plain": [
       "\"USA overvejer at donere kontroversielt våben til Ukraine: 'Kan måske give overhånd i artilleriduellen'\""
      ]
     },
     "execution_count": 10,
     "metadata": {},
     "output_type": "execute_result"
    }
   ],
   "source": [
    "# The CSS selector \".dre-hyphenate-text\" selects all titles on the DR international news page\n",
    "soup.select('.dre-title-text')[0].text #Selecting first title"
   ]
  },
  {
   "cell_type": "markdown",
   "metadata": {
    "slideshow": {
     "slide_type": "subslide"
    }
   },
   "source": [
    "### 3. Parsing HTML with BeautifulSoup\n",
    "A third way to navigate the HTML tree is BeautifulSoup\n",
    "\n",
    "It exploits the stucture of tags and attributes"
   ]
  },
  {
   "cell_type": "markdown",
   "metadata": {
    "slideshow": {
     "slide_type": "fragment"
    }
   },
   "source": [
    "It allows you to:\n",
    "- Search for elements by tag name and/or by attribute.\n",
    "- Iterate through them, go up, sideways or down the tree.\n",
    "- Furthermore it helps you with standard tasks such as extracting raw text from html"
   ]
  },
  {
   "cell_type": "markdown",
   "metadata": {
    "slideshow": {
     "slide_type": "slide"
    }
   },
   "source": [
    "# Video 7.2: Parsing the HTML with BeautifulSoup"
   ]
  },
  {
   "cell_type": "markdown",
   "metadata": {
    "slideshow": {
     "slide_type": "slide"
    }
   },
   "source": [
    "## Learning by doing: Creating a dataset from www.dr.dk/nyheder/udland\n",
    "\n",
    "### Let's put together some of the stuff we have learned so far\n",
    "1. **Mapping:** In this exercise we will collect some URLs from webpages with news articles and save them into a list\n",
    "2. **Downloading:** Then we will download the HTML content of the webpages\n",
    "3. **Parsing:** At last we will collect relevant information in each article"
   ]
  },
  {
   "cell_type": "markdown",
   "metadata": {
    "slideshow": {
     "slide_type": "slide"
    }
   },
   "source": [
    "## 1. MAPPING"
   ]
  },
  {
   "cell_type": "markdown",
   "metadata": {
    "slideshow": {
     "slide_type": "subslide"
    }
   },
   "source": [
    "#### First, we investigate the site trying to understand its structure\n",
    "\n",
    "We do this by opening up the Chrome Developer Tools on the webpage:\n",
    "1. Right-click anywhere on the webpage\n",
    "2. Click \"Inspect\"\n",
    "3. Choose the panel \"Elements\""
   ]
  },
  {
   "cell_type": "markdown",
   "metadata": {
    "slideshow": {
     "slide_type": "fragment"
    }
   },
   "source": [
    "You can now see the HTML of the webpage and the tree structure.\n",
    "\n",
    "First, we want to understand where the articles are located in the HTML: \n",
    "- The \"Elements\" panel will jump to the place in the HTML tree where you right-click\n",
    "- So to find the location of articles in the HTML, just right-click on one of them"
   ]
  },
  {
   "cell_type": "markdown",
   "metadata": {
    "slideshow": {
     "slide_type": "subslide"
    }
   },
   "source": [
    "#### Get the webpage content and make the BeautifulSoup object:"
   ]
  },
  {
   "cell_type": "code",
   "execution_count": 11,
   "metadata": {
    "slideshow": {
     "slide_type": "fragment"
    }
   },
   "outputs": [],
   "source": [
    "# Define our URL\n",
    "url = 'https://www.dr.dk/nyheder/udland' \n",
    "\n",
    "# Connects to site\n",
    "response = requests.get(url)\n",
    "\n",
    "# Parse data with BeautifulSoup\n",
    "soup = BeautifulSoup(response.content,'lxml')"
   ]
  },
  {
   "cell_type": "markdown",
   "metadata": {
    "slideshow": {
     "slide_type": "subslide"
    }
   },
   "source": [
    "#### Find the articles to scrape:\n",
    "\n",
    "[`find_all`](https://www.crummy.com/software/BeautifulSoup/bs4/doc/#find-all) finds all elements in the HTML that have the tag ```<div>``` and the class attribute 'dre-teaser-content' "
   ]
  },
  {
   "cell_type": "code",
   "execution_count": 12,
   "metadata": {
    "slideshow": {
     "slide_type": "fragment"
    }
   },
   "outputs": [],
   "source": [
    "# Identify articles to scrape by inspecting site\n",
    "articles = soup.find_all('div', class_ = 'dre-teaser-content') #(class_ is used because class is reserved in Python)"
   ]
  },
  {
   "cell_type": "code",
   "execution_count": 13,
   "metadata": {
    "slideshow": {
     "slide_type": "fragment"
    }
   },
   "outputs": [
    {
     "data": {
      "text/plain": [
       "[<div class=\"dre-teaser-content\"><div class=\"dre-article-teaser__text-box dre-article-teaser__text-box--transparent dre-article-teaser__text-box--xxs-4 dre-article-teaser__text-box--xs-4 dre-article-teaser__text-box--sm-4 dre-article-teaser__text-box--md-4 dre-article-teaser__text-box--lg-8 dre-article-teaser__text-box--xl-8\"><div class=\"dre-article-teaser-meta-label\"><div aria-hidden=\"true\" class=\"dre-teaser-meta\"><span class=\"dre-label-text dre-label-text--xxs-x-small\"><span class=\"dre-label-text__text\"><span class=\"dre-teaser-meta__part dre-teaser-meta__part--primary\"><span class=\"dre-teaser-meta-label dre-teaser-meta-label--primary\">Udland</span></span><span class=\"dre-teaser-meta__part\"><span class=\"dre-teaser-meta-label\">I dag kl. 13:27</span></span></span></span></div></div><a aria-label=\"USA overvejer at donere kontroversielt våben til Ukraine: 'Kan måske give overhånd i artilleriduellen', I dag klokken 13:27, fra sektionen &quot;Udland&quot;\" class=\"dre-teaser-title dre-teaser-title--margin-top dre-teaser-title--xxs-small dre-teaser-title--sm-medium dre-teaser-title--md-large\" href=\"/nyheder/udland/usa-overvejer-donere-kontroversielt-vaaben-til-ukraine-kan-maaske-give-overhaand-i\"><span class=\"dre-teaser-title__text\"><span class=\"dre-title-text dre-title-text--prefixed\"><strong class=\"dre-title-text__prefix\">USA overvejer at donere kontroversielt våben til Ukraine: </strong>'Kan måske give overhånd i artilleriduellen'</span></span></a></div></div>,\n",
       " <div class=\"dre-teaser-content\"><div class=\"dre-article-teaser__text-box dre-article-teaser__text-box--transparent dre-article-teaser__text-box--xxs-2 dre-article-teaser__text-box--xs-2 dre-article-teaser__text-box--sm-2 dre-article-teaser__text-box--md-2 dre-article-teaser__text-box--lg-4 dre-article-teaser__text-box--xl-4\"><div class=\"dre-article-teaser-meta-label\"><div aria-hidden=\"true\" class=\"dre-teaser-meta\"><span class=\"dre-label-text dre-label-text--xxs-x-small\"><span class=\"dre-label-text__text\"><span class=\"dre-teaser-meta__part dre-teaser-meta__part--primary\"><span class=\"dre-teaser-meta-label dre-teaser-meta-label--primary\">Udland</span></span><span class=\"dre-teaser-meta__part\"><span class=\"dre-teaser-meta-label\">I dag kl. 11:18</span></span></span></span></div></div><a aria-label='Kineserne tror på klimaforandringerne – men klimaanlæggene kører stadig i de kinesiske hjem, I dag klokken 11:18, fra sektionen \"Udland\"' class=\"dre-teaser-title dre-teaser-title--margin-top dre-teaser-title--xxs-xx-small dre-teaser-title--md-x-small\" href=\"/nyheder/udland/kineserne-tror-paa-klimaforandringerne-men-klimaanlaeggene-koerer-stadig-i-de\"><span class=\"dre-teaser-title__text\"><span class=\"dre-title-text\">Kineserne tror på klimaforandringerne – men klimaanlæggene kører stadig i de kinesiske hjem</span></span></a></div></div>,\n",
       " <div class=\"dre-teaser-content\"><div class=\"dre-article-teaser__text-box dre-article-teaser__text-box--transparent dre-article-teaser__text-box--xxs-2 dre-article-teaser__text-box--xs-2 dre-article-teaser__text-box--sm-2 dre-article-teaser__text-box--md-2 dre-article-teaser__text-box--lg-4 dre-article-teaser__text-box--xl-4\"><div class=\"dre-article-teaser-meta-label\"><div aria-hidden=\"true\" class=\"dre-teaser-meta\"><span class=\"dre-label-text dre-label-text--xxs-x-small\"><span class=\"dre-label-text__text\"><span class=\"dre-teaser-meta__part dre-teaser-meta__part--primary\"><span class=\"dre-teaser-meta-label dre-teaser-meta-label--primary\">Udland</span></span><span class=\"dre-teaser-meta__part\"><span class=\"dre-teaser-meta-label\">I går kl. 21:00</span></span></span></span></div></div><a aria-label='Wagners skæbne i Afrika ser sort ud – men Rusland vil ikke slippe grebet i kontinentet, I går klokken 21:00, fra sektionen \"Udland\"' class=\"dre-teaser-title dre-teaser-title--margin-top dre-teaser-title--xxs-xx-small dre-teaser-title--md-x-small\" href=\"/nyheder/udland/wagners-skaebne-i-afrika-ser-sort-ud-men-rusland-vil-ikke-slippe-grebet-i-kontinentet\"><span class=\"dre-teaser-title__text\"><span class=\"dre-title-text\">Wagners skæbne i Afrika ser sort ud – men Rusland vil ikke slippe grebet i kontinentet</span></span></a></div></div>,\n",
       " <div class=\"dre-teaser-content\"><div class=\"dre-article-teaser__text-box dre-article-teaser__text-box--transparent dre-article-teaser__text-box--xxs-4 dre-article-teaser__text-box--xs-4 dre-article-teaser__text-box--sm-4 dre-article-teaser__text-box--md-4 dre-article-teaser__text-box--lg-8 dre-article-teaser__text-box--xl-8\"><div class=\"dre-article-teaser-meta-label\"><div aria-hidden=\"true\" class=\"dre-teaser-meta\"><span class=\"dre-label-text dre-label-text--xxs-x-small\"><span class=\"dre-label-text__text\"><span class=\"dre-teaser-meta__part dre-teaser-meta__part--primary\"><span class=\"dre-teaser-meta-label dre-teaser-meta-label--primary\">Udland</span></span><span class=\"dre-teaser-meta__part\"><span class=\"dre-teaser-meta-label\">I går kl. 19:30</span></span></span></span></div></div><a aria-label=\"Sverige kan give Nato kontrol over Østersøen: 'Det er Putins værste mareridt', I går klokken 19:30, fra sektionen &quot;Udland&quot;\" class=\"dre-teaser-title dre-teaser-title--margin-top dre-teaser-title--xxs-small dre-teaser-title--sm-medium dre-teaser-title--md-large\" href=\"/nyheder/udland/sverige-kan-give-nato-kontrol-over-oestersoeen-det-er-putins-vaerste-mareridt\"><span class=\"dre-teaser-title__text\"><span class=\"dre-title-text dre-title-text--prefixed\"><strong class=\"dre-title-text__prefix\">Sverige kan give Nato kontrol over Østersøen: </strong>'Det er Putins værste mareridt'</span></span></a></div></div>,\n",
       " <div class=\"dre-teaser-content\"><div class=\"dre-article-teaser__text-box dre-article-teaser__text-box--transparent dre-article-teaser__text-box--xxs-2 dre-article-teaser__text-box--xs-2 dre-article-teaser__text-box--sm-2 dre-article-teaser__text-box--md-2 dre-article-teaser__text-box--lg-4 dre-article-teaser__text-box--xl-4\"><div class=\"dre-article-teaser-meta-label\"><div aria-hidden=\"true\" class=\"dre-teaser-meta\"><span class=\"dre-label-text dre-label-text--xxs-x-small\"><span class=\"dre-label-text__text\"><span class=\"dre-teaser-meta__part dre-teaser-meta__part--primary\"><span class=\"dre-teaser-meta-label dre-teaser-meta-label--primary\">Udland</span></span><span class=\"dre-teaser-meta__part\"><span class=\"dre-teaser-meta-label\">I går kl. 19:29</span></span></span></span></div></div><a aria-label='Interaktiv: Frygten stiger for et angreb på Europas største atomkraftværk , I går klokken 19:29, fra sektionen \"Udland\"' class=\"dre-teaser-title dre-teaser-title--margin-top dre-teaser-title--xxs-xx-small dre-teaser-title--md-x-small\" href=\"https://www.dr.dk/stories/1288510966/frygten-stiger-for-angreb-paa-europas-stoerste-atomkraftvaerk/\"><span class=\"dre-teaser-title__text\"><span class=\"dre-title-text\">Frygten stiger for et angreb på Europas største atomkraftværk </span></span></a></div></div>,\n",
       " <div class=\"dre-teaser-content\"><div class=\"dre-article-teaser__text-box dre-article-teaser__text-box--transparent dre-article-teaser__text-box--xxs-2 dre-article-teaser__text-box--xs-2 dre-article-teaser__text-box--sm-2 dre-article-teaser__text-box--md-2 dre-article-teaser__text-box--lg-4 dre-article-teaser__text-box--xl-4\"><div class=\"dre-article-teaser-meta-label\"><div aria-hidden=\"true\" class=\"dre-teaser-meta\"><span class=\"dre-label-text dre-label-text--xxs-x-small\"><span class=\"dre-label-text__text\"><span class=\"dre-teaser-meta__part dre-teaser-meta__part--primary\"><span class=\"dre-teaser-meta-label dre-teaser-meta-label--primary\">Udland</span></span><span class=\"dre-teaser-meta__part\"><span class=\"dre-teaser-meta-label\">I går kl. 18:14</span></span></span></span></div></div><a aria-label='Interaktiv: Macron i ny krise: Forstå vreden i Frankrig, I går klokken 18:14, fra sektionen \"Udland\"' class=\"dre-teaser-title dre-teaser-title--margin-top dre-teaser-title--xxs-xx-small dre-teaser-title--md-x-small\" href=\"https://www.dr.dk/stories/1288510966/voldelige-optjer-i-frankrig-presser-macron/\"><span class=\"dre-teaser-title__text\"><span class=\"dre-title-text dre-title-text--prefixed\"><strong class=\"dre-title-text__prefix\">Macron i ny krise: </strong>Forstå vreden i Frankrig</span></span></a></div></div>,\n",
       " <div class=\"dre-teaser-content\"><div class=\"dre-article-teaser__text-box dre-article-teaser__text-box--transparent dre-article-teaser__text-box--xxs-4 dre-article-teaser__text-box--xs-4 dre-article-teaser__text-box--sm-2 dre-article-teaser__text-box--md-2 dre-article-teaser__text-box--lg-4 dre-article-teaser__text-box--xl-4\"><div class=\"dre-article-teaser-meta-label\"><div aria-hidden=\"true\" class=\"dre-teaser-meta\"><span class=\"dre-label-text dre-label-text--xxs-x-small\"><span class=\"dre-label-text__text\"><span class=\"dre-teaser-meta__part dre-teaser-meta__part--primary\"><span class=\"dre-teaser-meta-label dre-teaser-meta-label--primary\">Udland</span></span><span class=\"dre-teaser-meta__part\"><span class=\"dre-teaser-meta-label\">I går kl. 15:51</span></span></span></span></div></div><a aria-label='Wagner-eksperter: Hvis Prigozjin er tilbage i Rusland, så er han i et kapløb med tiden, I går klokken 15:51, fra sektionen \"Udland\"' class=\"dre-teaser-title dre-teaser-title--margin-top dre-teaser-title--xxs-small dre-teaser-title--sm-xx-small dre-teaser-title--md-x-small\" href=\"/nyheder/udland/wagner-eksperter-hvis-prigozjin-er-tilbage-i-rusland-saa-er-han-i-et-kaploeb-med\"><span class=\"dre-teaser-title__text\"><span class=\"dre-title-text dre-title-text--prefixed\"><strong class=\"dre-title-text__prefix\">Wagner-eksperter: </strong>Hvis Prigozjin er tilbage i Rusland, så er han i et kapløb med tiden</span></span></a></div></div>,\n",
       " <div class=\"dre-teaser-content\"><div class=\"dre-article-teaser__text-box dre-article-teaser__text-box--transparent dre-article-teaser__text-box--xxs-4 dre-article-teaser__text-box--xs-4 dre-article-teaser__text-box--sm-2 dre-article-teaser__text-box--md-2 dre-article-teaser__text-box--lg-4 dre-article-teaser__text-box--xl-4\"><div class=\"dre-article-teaser-meta-label\"><div aria-hidden=\"true\" class=\"dre-teaser-meta\"><span class=\"dre-label-text dre-label-text--xxs-x-small\"><span class=\"dre-label-text__text\"><span class=\"dre-teaser-meta__part dre-teaser-meta__part--primary\"><span class=\"dre-teaser-meta-label dre-teaser-meta-label--primary\">Udland</span></span><span class=\"dre-teaser-meta__part\"><span class=\"dre-teaser-meta-label\">I går kl. 12:11</span></span></span></span></div></div><a aria-label=\"Nato håber på afklaring om Sverige inden topmøde næste uge: 'Tyrkiet er under meget stort pres', I går klokken 12:11, fra sektionen &quot;Udland&quot;\" class=\"dre-teaser-title dre-teaser-title--margin-top dre-teaser-title--xxs-small dre-teaser-title--sm-xx-small dre-teaser-title--md-x-small\" href=\"/nyheder/udland/nato-haaber-paa-afklaring-om-sverige-inden-topmoede-naeste-uge-tyrkiet-er-under-meget\"><span class=\"dre-teaser-title__text\"><span class=\"dre-title-text dre-title-text--prefixed\"><strong class=\"dre-title-text__prefix\">Nato håber på afklaring om Sverige inden topmøde næste uge: </strong>'Tyrkiet er under meget stort pres'</span></span></a></div></div>,\n",
       " <div class=\"dre-teaser-content\"><div class=\"dre-article-teaser__text-box dre-article-teaser__text-box--transparent dre-article-teaser__text-box--xxs-4 dre-article-teaser__text-box--xs-4 dre-article-teaser__text-box--sm-2 dre-article-teaser__text-box--md-2 dre-article-teaser__text-box--lg-4 dre-article-teaser__text-box--xl-4\"><div class=\"dre-article-teaser-meta-label\"><div aria-hidden=\"true\" class=\"dre-teaser-meta\"><span class=\"dre-label-text dre-label-text--xxs-x-small\"><span class=\"dre-label-text__text\"><span class=\"dre-teaser-meta__part dre-teaser-meta__part--primary\"><span class=\"dre-teaser-meta-label dre-teaser-meta-label--primary\">Udland</span></span><span class=\"dre-teaser-meta__part\"><span class=\"dre-teaser-meta-label\">I går kl. 09:08</span></span></span></span></div></div><a aria-label='De seneste tre dage har været de varmeste, der nogensinde er blevet registreret, I går klokken 09:08, fra sektionen \"Udland\"' class=\"dre-teaser-title dre-teaser-title--margin-top dre-teaser-title--xxs-small dre-teaser-title--sm-xx-small dre-teaser-title--md-x-small\" href=\"/nyheder/udland/de-seneste-tre-dage-har-vaeret-de-varmeste-der-nogensinde-er-blevet-registreret\"><span class=\"dre-teaser-title__text\"><span class=\"dre-title-text\">De seneste tre dage har været de varmeste, der nogensinde er blevet registreret</span></span></a></div></div>,\n",
       " <div class=\"dre-teaser-content\"><div class=\"dre-article-teaser__text-box dre-article-teaser__text-box--transparent dre-article-teaser__text-box--xxs-4 dre-article-teaser__text-box--xs-4 dre-article-teaser__text-box--sm-4 dre-article-teaser__text-box--md-4 dre-article-teaser__text-box--lg-8 dre-article-teaser__text-box--xl-8\"><div class=\"dre-article-teaser-meta-label\"><div aria-hidden=\"true\" class=\"dre-teaser-meta\"><span class=\"dre-label-text dre-label-text--xxs-x-small\"><span class=\"dre-label-text__text\"><span class=\"dre-teaser-meta__part dre-teaser-meta__part--primary\"><span class=\"dre-teaser-meta-label dre-teaser-meta-label--primary\">Udland</span></span><span class=\"dre-teaser-meta__part\"><span class=\"dre-teaser-meta-label\">I går kl. 07:47</span></span></span></span></div></div><a aria-label=\"Zelenskyj erkender: Ville ønske, at modoffensiven var startet 'meget tidligere', I går klokken 07:47, fra sektionen &quot;Udland&quot;\" class=\"dre-teaser-title dre-teaser-title--margin-top dre-teaser-title--xxs-small dre-teaser-title--sm-medium dre-teaser-title--md-large\" href=\"/nyheder/udland/zelenskyj-erkender-ville-oenske-modoffensiven-var-startet-meget-tidligere\"><span class=\"dre-teaser-title__text\"><span class=\"dre-title-text dre-title-text--prefixed\"><strong class=\"dre-title-text__prefix\">Zelenskyj erkender: </strong>Ville ønske, at modoffensiven var startet 'meget tidligere'</span></span></a></div></div>,\n",
       " <div class=\"dre-teaser-content\"><div class=\"dre-article-teaser__text-box dre-article-teaser__text-box--transparent dre-article-teaser__text-box--xxs-2 dre-article-teaser__text-box--xs-2 dre-article-teaser__text-box--sm-2 dre-article-teaser__text-box--md-2 dre-article-teaser__text-box--lg-4 dre-article-teaser__text-box--xl-4\"><div class=\"dre-article-teaser-meta-label\"><div aria-hidden=\"true\" class=\"dre-teaser-meta\"><span class=\"dre-label-text dre-label-text--xxs-x-small\"><span class=\"dre-label-text__text\"><span class=\"dre-teaser-meta__part dre-teaser-meta__part--primary\"><span class=\"dre-teaser-meta-label dre-teaser-meta-label--primary\">Udland</span></span><span class=\"dre-teaser-meta__part\"><span class=\"dre-teaser-meta-label\">I går kl. 05:14</span></span></span></span></div></div><a aria-label='Sydafrika: Mindst 16 omkommet efter formodet gaslækage, I går klokken 05:14, fra sektionen \"Udland\"' class=\"dre-teaser-title dre-teaser-title--margin-top dre-teaser-title--xxs-xx-small dre-teaser-title--md-x-small\" href=\"/nyheder/udland/sydafrika-mindst-16-omkommet-efter-formodet-gaslaekage\"><span class=\"dre-teaser-title__text\"><span class=\"dre-title-text dre-title-text--prefixed\"><strong class=\"dre-title-text__prefix\">Sydafrika: </strong>Mindst 16 omkommet efter formodet gaslækage</span></span></a></div></div>,\n",
       " <div class=\"dre-teaser-content\"><div class=\"dre-article-teaser__text-box dre-article-teaser__text-box--transparent dre-article-teaser__text-box--xxs-2 dre-article-teaser__text-box--xs-2 dre-article-teaser__text-box--sm-2 dre-article-teaser__text-box--md-2 dre-article-teaser__text-box--lg-4 dre-article-teaser__text-box--xl-4\"><div class=\"dre-article-teaser-meta-label\"><div aria-hidden=\"true\" class=\"dre-teaser-meta\"><span class=\"dre-label-text dre-label-text--xxs-x-small\"><span class=\"dre-label-text__text\"><span class=\"dre-teaser-meta__part dre-teaser-meta__part--primary\"><span class=\"dre-teaser-meta-label dre-teaser-meta-label--primary\">Udland</span></span><span class=\"dre-teaser-meta__part\"><span class=\"dre-teaser-meta-label\">5. jul kl. 19:25</span></span></span></span></div></div><a aria-label='Ekstremt uvejr hærger Kina: 15 døde og tusindvis evakueret, 5. juli klokken 19:25, fra sektionen \"Udland\"' class=\"dre-teaser-title dre-teaser-title--margin-top dre-teaser-title--xxs-xx-small dre-teaser-title--md-x-small\" href=\"/nyheder/udland/ekstremt-uvejr-haerger-kina-15-doede-og-tusindvis-evakueret\"><span class=\"dre-teaser-title__text\"><span class=\"dre-title-text dre-title-text--prefixed\"><strong class=\"dre-title-text__prefix\">Ekstremt uvejr hærger Kina: </strong>15 døde og tusindvis evakueret</span></span></a></div></div>,\n",
       " <div class=\"dre-teaser-content\"><div class=\"dre-article-teaser__text-box dre-article-teaser__text-box--transparent dre-article-teaser__text-box--xxs-4 dre-article-teaser__text-box--xs-4 dre-article-teaser__text-box--sm-2 dre-article-teaser__text-box--md-2 dre-article-teaser__text-box--lg-4 dre-article-teaser__text-box--xl-4\"><div class=\"dre-article-teaser-meta-label\"><div aria-hidden=\"true\" class=\"dre-teaser-meta\"><span class=\"dre-label-text dre-label-text--xxs-x-small\"><span class=\"dre-label-text__text\"><span class=\"dre-teaser-meta__part dre-teaser-meta__part--primary\"><span class=\"dre-teaser-meta-label dre-teaser-meta-label--primary\">Udland</span></span><span class=\"dre-teaser-meta__part\"><span class=\"dre-teaser-meta-label\">5. jul kl. 17:00</span></span></span></span></div></div><a aria-label='Japan vil hælde 1,3 milliarder liter spildevand fra atomkraftværk ud i Stillehavet, 5. juli klokken 17:00, fra sektionen \"Udland\"' class=\"dre-teaser-title dre-teaser-title--margin-top dre-teaser-title--xxs-small dre-teaser-title--sm-xx-small dre-teaser-title--md-x-small\" href=\"/nyheder/udland/japan-vil-haelde-13-milliarder-liter-spildevand-fra-atomkraftvaerk-ud-i-stillehavet\"><span class=\"dre-teaser-title__text\"><span class=\"dre-title-text\">Japan vil hælde 1,3 milliarder liter spildevand fra atomkraftværk ud i Stillehavet</span></span></a></div></div>,\n",
       " <div class=\"dre-teaser-content\"><div class=\"dre-article-teaser__text-box dre-article-teaser__text-box--transparent dre-article-teaser__text-box--xxs-4 dre-article-teaser__text-box--xs-4 dre-article-teaser__text-box--sm-2 dre-article-teaser__text-box--md-2 dre-article-teaser__text-box--lg-4 dre-article-teaser__text-box--xl-4\"><div class=\"dre-article-teaser-meta-label\"><div aria-hidden=\"true\" class=\"dre-teaser-meta\"><span class=\"dre-label-text dre-label-text--xxs-x-small\"><span class=\"dre-label-text__text\"><span class=\"dre-teaser-meta__part dre-teaser-meta__part--primary\"><span class=\"dre-teaser-meta-label dre-teaser-meta-label--primary\">Udland</span></span><span class=\"dre-teaser-meta__part\"><span class=\"dre-teaser-meta-label\">5. jul kl. 12:37</span></span></span></span></div></div><a aria-label=\"Mandag var den varmeste dag nogensinde målt på kloden: 'Ikke en milepæl, vi bør fejre', 5. juli klokken 12:37, fra sektionen &quot;Udland&quot;\" class=\"dre-teaser-title dre-teaser-title--margin-top dre-teaser-title--xxs-small dre-teaser-title--sm-xx-small dre-teaser-title--md-x-small\" href=\"/nyheder/udland/mandag-var-den-varmeste-dag-nogensinde-maalt-paa-kloden-ikke-en-milepael-vi-boer\"><span class=\"dre-teaser-title__text\"><span class=\"dre-title-text dre-title-text--prefixed\"><strong class=\"dre-title-text__prefix\">Mandag var den varmeste dag nogensinde målt på kloden: </strong>'Ikke en milepæl, vi bør fejre'</span></span></a></div></div>,\n",
       " <div class=\"dre-teaser-content\"><div class=\"dre-article-teaser__text-box dre-article-teaser__text-box--transparent dre-article-teaser__text-box--xxs-4 dre-article-teaser__text-box--xs-4 dre-article-teaser__text-box--sm-2 dre-article-teaser__text-box--md-2 dre-article-teaser__text-box--lg-4 dre-article-teaser__text-box--xl-4\"><div class=\"dre-article-teaser-meta-label\"><div aria-hidden=\"true\" class=\"dre-teaser-meta\"><span class=\"dre-label-text dre-label-text--xxs-x-small\"><span class=\"dre-label-text__text\"><span class=\"dre-teaser-meta__part dre-teaser-meta__part--primary\"><span class=\"dre-teaser-meta-label dre-teaser-meta-label--primary\">Udland</span></span><span class=\"dre-teaser-meta__part\"><span class=\"dre-teaser-meta-label\">5. jul kl. 09:29</span></span></span></span></div></div><a aria-label='Putin laver telefonfis med sine ministre sammen med 8-årig pige i Kreml, 5. juli klokken 09:29, fra sektionen \"Udland\"' class=\"dre-teaser-title dre-teaser-title--margin-top dre-teaser-title--xxs-small dre-teaser-title--sm-xx-small dre-teaser-title--md-x-small\" href=\"/nyheder/udland/putin-laver-telefonfis-med-sine-ministre-sammen-med-8-aarig-pige-i-kreml\"><span class=\"dre-teaser-title__text\"><span class=\"dre-title-text\">Putin laver telefonfis med sine ministre sammen med 8-årig pige i Kreml</span></span></a></div></div>,\n",
       " <div class=\"dre-teaser-content\"><div class=\"dre-article-teaser__text-box dre-article-teaser__text-box--transparent dre-article-teaser__text-box--xxs-4 dre-article-teaser__text-box--xs-4 dre-article-teaser__text-box--sm-4 dre-article-teaser__text-box--md-4 dre-article-teaser__text-box--lg-8 dre-article-teaser__text-box--xl-8\"><div class=\"dre-article-teaser-meta-label\"><div aria-hidden=\"true\" class=\"dre-teaser-meta\"><span class=\"dre-label-text dre-label-text--xxs-x-small\"><span class=\"dre-label-text__text\"><span class=\"dre-teaser-meta__part dre-teaser-meta__part--primary\"><span class=\"dre-teaser-meta-label dre-teaser-meta-label--primary\">Udland</span></span><span class=\"dre-teaser-meta__part\"><span class=\"dre-teaser-meta-label\">5. jul kl. 08:29</span></span></span></span></div></div><a aria-label='Droner erstattede fyrværkeri flere steder til fejringen af uafhængighedsdagen i USA, 5. juli klokken 08:29, fra sektionen \"Udland\"' class=\"dre-teaser-title dre-teaser-title--margin-top dre-teaser-title--xxs-small dre-teaser-title--sm-medium dre-teaser-title--md-large\" href=\"/nyheder/udland/droner-erstattede-fyrvaerkeri-flere-steder-til-fejringen-af-uafhaengighedsdagen-i-usa\"><span class=\"dre-teaser-title__text\"><span class=\"dre-title-text\">Droner erstattede fyrværkeri flere steder til fejringen af uafhængighedsdagen i USA</span></span></a></div></div>,\n",
       " <div class=\"dre-teaser-content\"><div class=\"dre-article-teaser__text-box dre-article-teaser__text-box--transparent dre-article-teaser__text-box--xxs-2 dre-article-teaser__text-box--xs-2 dre-article-teaser__text-box--sm-2 dre-article-teaser__text-box--md-2 dre-article-teaser__text-box--lg-4 dre-article-teaser__text-box--xl-4\"><div class=\"dre-article-teaser-meta-label\"><div aria-hidden=\"true\" class=\"dre-teaser-meta\"><span class=\"dre-label-text dre-label-text--xxs-x-small\"><span class=\"dre-label-text__text\"><span class=\"dre-teaser-meta__part dre-teaser-meta__part--primary\"><span class=\"dre-teaser-meta-label dre-teaser-meta-label--primary\">Udland</span></span><span class=\"dre-teaser-meta__part\"><span class=\"dre-teaser-meta-label\">5. jul kl. 05:41</span></span></span></span></div></div><a aria-label='Israelske styrker er begyndt at trække sig ud af Jenin, 5. juli klokken 05:41, fra sektionen \"Udland\"' class=\"dre-teaser-title dre-teaser-title--margin-top dre-teaser-title--xxs-xx-small dre-teaser-title--md-x-small\" href=\"/nyheder/udland/israelske-styrker-er-begyndt-traekke-sig-ud-af-jenin\"><span class=\"dre-teaser-title__text\"><span class=\"dre-title-text\">Israelske styrker er begyndt at trække sig ud af Jenin</span></span></a></div></div>,\n",
       " <div class=\"dre-teaser-content\"><div class=\"dre-article-teaser__text-box dre-article-teaser__text-box--transparent dre-article-teaser__text-box--xxs-2 dre-article-teaser__text-box--xs-2 dre-article-teaser__text-box--sm-2 dre-article-teaser__text-box--md-2 dre-article-teaser__text-box--lg-4 dre-article-teaser__text-box--xl-4\"><div class=\"dre-article-teaser-meta-label\"><div aria-hidden=\"true\" class=\"dre-teaser-meta\"><span class=\"dre-label-text dre-label-text--xxs-x-small\"><span class=\"dre-label-text__text\"><span class=\"dre-teaser-meta__part dre-teaser-meta__part--primary\"><span class=\"dre-teaser-meta-label dre-teaser-meta-label--primary\">Udland</span></span><span class=\"dre-teaser-meta__part\"><span class=\"dre-teaser-meta-label\">4. jul kl. 13:06</span></span></span></span></div></div><a aria-label='Syv såret under angreb med kniv og bil i Tel Aviv, 4. juli klokken 13:06, fra sektionen \"Udland\"' class=\"dre-teaser-title dre-teaser-title--margin-top dre-teaser-title--xxs-xx-small dre-teaser-title--md-x-small\" href=\"/nyheder/udland/seks-saaret-under-angreb-med-kniv-og-bil-i-tel-aviv\"><span class=\"dre-teaser-title__text\"><span class=\"dre-title-text\">Syv såret under angreb med kniv og bil i Tel Aviv</span></span></a></div></div>,\n",
       " <div class=\"dre-teaser-content\"><div class=\"dre-article-teaser__text-box dre-article-teaser__text-box--transparent dre-article-teaser__text-box--xxs-4 dre-article-teaser__text-box--xs-4 dre-article-teaser__text-box--sm-2 dre-article-teaser__text-box--md-2 dre-article-teaser__text-box--lg-4 dre-article-teaser__text-box--xl-4\"><div class=\"dre-article-teaser-meta-label\"><div aria-hidden=\"true\" class=\"dre-teaser-meta\"><span class=\"dre-label-text dre-label-text--xxs-x-small\"><span class=\"dre-label-text__text\"><span class=\"dre-teaser-meta__part dre-teaser-meta__part--primary\"><span class=\"dre-teaser-meta-label dre-teaser-meta-label--primary\">Udland</span></span><span class=\"dre-teaser-meta__part\"><span class=\"dre-teaser-meta-label\">4. jul kl. 12:41</span></span></span></span></div></div><a aria-label=\"Israels militæroperation fortsætter på Vestbredden: 'Ti mål tilbage', 4. juli klokken 12:41, fra sektionen &quot;Udland&quot;\" class=\"dre-teaser-title dre-teaser-title--margin-top dre-teaser-title--xxs-small dre-teaser-title--sm-xx-small dre-teaser-title--md-x-small\" href=\"/nyheder/udland/israels-militaeroperation-fortsaetter-paa-vestbredden-ti-maal-tilbage\"><span class=\"dre-teaser-title__text\"><span class=\"dre-title-text dre-title-text--prefixed\"><strong class=\"dre-title-text__prefix\">Israels militæroperation fortsætter på Vestbredden: </strong>'Ti mål tilbage'</span></span></a></div></div>,\n",
       " <div class=\"dre-teaser-content\"><div class=\"dre-article-teaser__text-box dre-article-teaser__text-box--transparent dre-article-teaser__text-box--xxs-4 dre-article-teaser__text-box--xs-4 dre-article-teaser__text-box--sm-2 dre-article-teaser__text-box--md-2 dre-article-teaser__text-box--lg-4 dre-article-teaser__text-box--xl-4\"><div class=\"dre-article-teaser-meta-label\"><div aria-hidden=\"true\" class=\"dre-teaser-meta\"><span class=\"dre-label-text dre-label-text--xxs-x-small\"><span class=\"dre-label-text__text\"><span class=\"dre-teaser-meta__part dre-teaser-meta__part--primary\"><span class=\"dre-teaser-meta-label dre-teaser-meta-label--primary\">Udland</span></span><span class=\"dre-teaser-meta__part\"><span class=\"dre-teaser-meta-label\">4. jul kl. 11:19</span></span></span></span></div></div><a aria-label='Jens Stoltenberg bliver forlænget på posten som Natos generalsekretær, 4. juli klokken 11:19, fra sektionen \"Udland\"' class=\"dre-teaser-title dre-teaser-title--margin-top dre-teaser-title--xxs-small dre-teaser-title--sm-xx-small dre-teaser-title--md-x-small\" href=\"/nyheder/udland/jens-stoltenberg-bliver-forlaenget-paa-posten-som-natos-generalsekretaer\"><span class=\"dre-teaser-title__text\"><span class=\"dre-title-text\">Jens Stoltenberg bliver forlænget på posten som Natos generalsekretær</span></span></a></div></div>,\n",
       " <div class=\"dre-teaser-content\"><div class=\"dre-article-teaser__text-box dre-article-teaser__text-box--transparent dre-article-teaser__text-box--xxs-4 dre-article-teaser__text-box--xs-4 dre-article-teaser__text-box--sm-2 dre-article-teaser__text-box--md-2 dre-article-teaser__text-box--lg-4 dre-article-teaser__text-box--xl-4\"><div class=\"dre-article-teaser-meta-label\"><div aria-hidden=\"true\" class=\"dre-teaser-meta\"><span class=\"dre-label-text dre-label-text--xxs-x-small\"><span class=\"dre-label-text__text\"><span class=\"dre-teaser-meta__part dre-teaser-meta__part--primary\"><span class=\"dre-teaser-meta-label dre-teaser-meta-label--primary\">Udland</span></span><span class=\"dre-teaser-meta__part\"><span class=\"dre-teaser-meta-label\">4. jul kl. 08:44</span></span></span></span></div></div><a aria-label='Ukraine: Rusland har indsat 180.000 soldater ved fronten , 4. juli klokken 08:44, fra sektionen \"Udland\"' class=\"dre-teaser-title dre-teaser-title--margin-top dre-teaser-title--xxs-small dre-teaser-title--sm-xx-small dre-teaser-title--md-x-small\" href=\"/nyheder/udland/ukraine-rusland-har-indsat-180000-soldater-ved-fronten\"><span class=\"dre-teaser-title__text\"><span class=\"dre-title-text dre-title-text--prefixed\"><strong class=\"dre-title-text__prefix\">Ukraine: </strong>Rusland har indsat 180.000 soldater ved fronten </span></span></a></div></div>,\n",
       " <div class=\"dre-teaser-content\"><div class=\"dre-article-teaser__text-box dre-article-teaser__text-box--transparent dre-article-teaser__text-box--xxs-4 dre-article-teaser__text-box--xs-4 dre-article-teaser__text-box--sm-4 dre-article-teaser__text-box--md-4 dre-article-teaser__text-box--lg-8 dre-article-teaser__text-box--xl-8\"><div class=\"dre-article-teaser-meta-label\"><div aria-hidden=\"true\" class=\"dre-teaser-meta\"><span class=\"dre-label-text dre-label-text--xxs-x-small\"><span class=\"dre-label-text__text\"><span class=\"dre-teaser-meta__part dre-teaser-meta__part--primary\"><span class=\"dre-teaser-meta-label dre-teaser-meta-label--primary\">Udland</span></span><span class=\"dre-teaser-meta__part\"><span class=\"dre-teaser-meta-label\">3. jul kl. 21:25</span></span></span></span></div></div><a aria-label='Palæstinensisk præsident afbryder samarbejde med Israel efter storm på flygtningelejr, 3. juli klokken 21:25, fra sektionen \"Udland\"' class=\"dre-teaser-title dre-teaser-title--margin-top dre-teaser-title--xxs-small dre-teaser-title--sm-medium dre-teaser-title--md-large\" href=\"/nyheder/udland/palaestinensisk-praesident-afbryder-samarbejde-med-israel-efter-storm-paa\"><span class=\"dre-teaser-title__text\"><span class=\"dre-title-text\">Palæstinensisk præsident afbryder samarbejde med Israel efter storm på flygtningelejr</span></span></a></div></div>,\n",
       " <div class=\"dre-teaser-content\"><div class=\"dre-article-teaser__text-box dre-article-teaser__text-box--transparent dre-article-teaser__text-box--xxs-2 dre-article-teaser__text-box--xs-2 dre-article-teaser__text-box--sm-2 dre-article-teaser__text-box--md-2 dre-article-teaser__text-box--lg-4 dre-article-teaser__text-box--xl-4\"><div class=\"dre-article-teaser-meta-label\"><div aria-hidden=\"true\" class=\"dre-teaser-meta\"><span class=\"dre-label-text dre-label-text--xxs-x-small\"><span class=\"dre-label-text__text\"><span class=\"dre-teaser-meta__part dre-teaser-meta__part--primary\"><span class=\"dre-teaser-meta-label dre-teaser-meta-label--primary\">Udland</span></span><span class=\"dre-teaser-meta__part\"><span class=\"dre-teaser-meta-label\">3. jul kl. 17:32</span></span></span></span></div></div><a aria-label='Mor og barn faldt tilsyneladende over  bord: Havarikommissionen konkluderer, at det ikke var en ulykke, 3. juli klokken 17:32, fra sektionen \"Udland\"' class=\"dre-teaser-title dre-teaser-title--margin-top dre-teaser-title--xxs-xx-small dre-teaser-title--md-x-small\" href=\"/nyheder/seneste/mor-og-barn-faldt-over-bord-paa-faerge-havarikommission-konkluderer-det-ikke-var-en\"><span class=\"dre-teaser-title__text\"><span class=\"dre-title-text dre-title-text--prefixed\"><strong class=\"dre-title-text__prefix\">Mor og barn faldt tilsyneladende over  bord: </strong>Havarikommissionen konkluderer, at det ikke var en ulykke</span></span></a></div></div>,\n",
       " <div class=\"dre-teaser-content\"><div class=\"dre-article-teaser__text-box dre-article-teaser__text-box--transparent dre-article-teaser__text-box--xxs-2 dre-article-teaser__text-box--xs-2 dre-article-teaser__text-box--sm-2 dre-article-teaser__text-box--md-2 dre-article-teaser__text-box--lg-4 dre-article-teaser__text-box--xl-4\"><div class=\"dre-article-teaser-meta-label\"><div aria-hidden=\"true\" class=\"dre-teaser-meta\"><span class=\"dre-label-text dre-label-text--xxs-x-small\"><span class=\"dre-label-text__text\"><span class=\"dre-teaser-meta__part dre-teaser-meta__part--primary\"><span class=\"dre-teaser-meta-label dre-teaser-meta-label--primary\">Udland</span></span><span class=\"dre-teaser-meta__part\"><span class=\"dre-teaser-meta-label\">3. jul kl. 15:43</span></span></span></span></div></div><a aria-label=\"'Rigtig krig': Israel rykker ind i flygtningelejr med droner og hundredvis af soldater, 3. juli klokken 15:43, fra sektionen &quot;Udland&quot;\" class=\"dre-teaser-title dre-teaser-title--margin-top dre-teaser-title--xxs-xx-small dre-teaser-title--md-x-small\" href=\"/nyheder/udland/rigtig-krig-israel-rykker-ind-i-flygtningelejr-med-droner-og-hundredvis-af-soldater\"><span class=\"dre-teaser-title__text\"><span class=\"dre-title-text dre-title-text--prefixed\"><strong class=\"dre-title-text__prefix\">'Rigtig krig': </strong>Israel rykker ind i flygtningelejr med droner og hundredvis af soldater</span></span></a></div></div>,\n",
       " <div class=\"dre-teaser-content\"><div class=\"dre-article-teaser__text-box dre-article-teaser__text-box--transparent dre-article-teaser__text-box--xxs-4 dre-article-teaser__text-box--xs-4 dre-article-teaser__text-box--sm-2 dre-article-teaser__text-box--md-2 dre-article-teaser__text-box--lg-4 dre-article-teaser__text-box--xl-4\"><div class=\"dre-article-teaser-meta-label\"><div aria-hidden=\"true\" class=\"dre-teaser-meta\"><span class=\"dre-label-text dre-label-text--xxs-x-small\"><span class=\"dre-label-text__text\"><span class=\"dre-teaser-meta__part dre-teaser-meta__part--primary\"><span class=\"dre-teaser-meta-label dre-teaser-meta-label--primary\">Udland</span></span><span class=\"dre-teaser-meta__part\"><span class=\"dre-teaser-meta-label\">3. jul kl. 13:00</span></span></span></span></div></div><a aria-label=\"Franske borgmestre i fælles opråb: 'Vi vil ikke lade landet bukke under for kaos', 3. juli klokken 13:00, fra sektionen &quot;Udland&quot;\" class=\"dre-teaser-title dre-teaser-title--margin-top dre-teaser-title--xxs-small dre-teaser-title--sm-xx-small dre-teaser-title--md-x-small\" href=\"/nyheder/udland/franske-borgmestre-i-faelles-opraab-vi-vil-ikke-lade-landet-bukke-under-kaos\"><span class=\"dre-teaser-title__text\"><span class=\"dre-title-text dre-title-text--prefixed\"><strong class=\"dre-title-text__prefix\">Franske borgmestre i fælles opråb: </strong>'Vi vil ikke lade landet bukke under for kaos'</span></span></a></div></div>,\n",
       " <div class=\"dre-teaser-content\"><div class=\"dre-article-teaser__text-box dre-article-teaser__text-box--transparent dre-article-teaser__text-box--xxs-4 dre-article-teaser__text-box--xs-4 dre-article-teaser__text-box--sm-2 dre-article-teaser__text-box--md-2 dre-article-teaser__text-box--lg-4 dre-article-teaser__text-box--xl-4\"><div class=\"dre-article-teaser-meta-label\"><div aria-hidden=\"true\" class=\"dre-teaser-meta\"><span class=\"dre-label-text dre-label-text--xxs-x-small\"><span class=\"dre-label-text__text\"><span class=\"dre-teaser-meta__part dre-teaser-meta__part--primary\"><span class=\"dre-teaser-meta-label dre-teaser-meta-label--primary\">Udland</span></span><span class=\"dre-teaser-meta__part\"><span class=\"dre-teaser-meta-label\">3. jul kl. 08:47</span></span></span></span></div></div><a aria-label='Snart kan afdøde briter blive kremeret i vand, 3. juli klokken 08:47, fra sektionen \"Udland\"' class=\"dre-teaser-title dre-teaser-title--margin-top dre-teaser-title--xxs-small dre-teaser-title--sm-xx-small dre-teaser-title--md-x-small\" href=\"/nyheder/udland/snart-kan-afdoede-briter-blive-kremeret-i-vand\"><span class=\"dre-teaser-title__text\"><span class=\"dre-title-text\">Snart kan afdøde briter blive kremeret i vand</span></span></a></div></div>,\n",
       " <div class=\"dre-teaser-content\"><div class=\"dre-article-teaser__text-box dre-article-teaser__text-box--transparent dre-article-teaser__text-box--xxs-4 dre-article-teaser__text-box--xs-4 dre-article-teaser__text-box--sm-2 dre-article-teaser__text-box--md-2 dre-article-teaser__text-box--lg-4 dre-article-teaser__text-box--xl-4\"><div class=\"dre-article-teaser-meta-label\"><div aria-hidden=\"true\" class=\"dre-teaser-meta\"><span class=\"dre-label-text dre-label-text--xxs-x-small\"><span class=\"dre-label-text__text\"><span class=\"dre-teaser-meta__part dre-teaser-meta__part--primary\"><span class=\"dre-teaser-meta-label dre-teaser-meta-label--primary\">Udland</span></span><span class=\"dre-teaser-meta__part\"><span class=\"dre-teaser-meta-label\">2. jul kl. 21:41</span></span></span></span></div></div><a aria-label='Orkneyøerne drøfter forslag om at forlade Skotland: Husker stadig, at det var en dansk konge, der pantsatte dem, 2. juli klokken 21:41, fra sektionen \"Udland\"' class=\"dre-teaser-title dre-teaser-title--margin-top dre-teaser-title--xxs-small dre-teaser-title--sm-xx-small dre-teaser-title--md-x-small\" href=\"/nyheder/udland/orkney-oeerne-droefter-forslag-om-forlade-skotland-husker-stadig-det-var-en-dansk\"><span class=\"dre-teaser-title__text\"><span class=\"dre-title-text dre-title-text--prefixed\"><strong class=\"dre-title-text__prefix\">Orkneyøerne drøfter forslag om at forlade Skotland: </strong>Husker stadig, at det var en dansk konge, der pantsatte dem</span></span></a></div></div>,\n",
       " <div class=\"dre-teaser-content\"><div class=\"dre-article-teaser__text-box dre-article-teaser__text-box--transparent dre-article-teaser__text-box--xxs-4 dre-article-teaser__text-box--xs-4 dre-article-teaser__text-box--sm-4 dre-article-teaser__text-box--md-4 dre-article-teaser__text-box--lg-8 dre-article-teaser__text-box--xl-8\"><div class=\"dre-article-teaser-meta-label\"><div aria-hidden=\"true\" class=\"dre-teaser-meta\"><span class=\"dre-label-text dre-label-text--xxs-x-small\"><span class=\"dre-label-text__text\"><span class=\"dre-teaser-meta__part dre-teaser-meta__part--primary\"><span class=\"dre-teaser-meta-label dre-teaser-meta-label--primary\">Udland</span></span><span class=\"dre-teaser-meta__part\"><span class=\"dre-teaser-meta-label\">2. jul kl. 20:22</span></span></span></span></div></div><a aria-label='Oligark-datter bremser salg af sanktionsramt superyacht, 2. juli klokken 20:22, fra sektionen \"Udland\"' class=\"dre-teaser-title dre-teaser-title--margin-top dre-teaser-title--xxs-small dre-teaser-title--sm-medium dre-teaser-title--md-large\" href=\"/nyheder/udland/oligark-datter-bremser-salg-af-sanktionsramt-superyacht\"><span class=\"dre-teaser-title__text\"><span class=\"dre-title-text\">Oligark-datter bremser salg af sanktionsramt superyacht</span></span></a></div></div>,\n",
       " <div class=\"dre-teaser-content\"><div class=\"dre-article-teaser__text-box dre-article-teaser__text-box--transparent dre-article-teaser__text-box--xxs-2 dre-article-teaser__text-box--xs-2 dre-article-teaser__text-box--sm-2 dre-article-teaser__text-box--md-2 dre-article-teaser__text-box--lg-4 dre-article-teaser__text-box--xl-4\"><div class=\"dre-article-teaser-meta-label\"><div aria-hidden=\"true\" class=\"dre-teaser-meta\"><span class=\"dre-label-text dre-label-text--xxs-x-small\"><span class=\"dre-label-text__text\"><span class=\"dre-teaser-meta__part dre-teaser-meta__part--primary\"><span class=\"dre-teaser-meta-label dre-teaser-meta-label--primary\">Udland</span></span><span class=\"dre-teaser-meta__part\"><span class=\"dre-teaser-meta-label\">2. jul kl. 13:46</span></span></span></span></div></div><a aria-label='Wagner-chefens russiske nyhedsfabrik lukker efter oprør , 2. juli klokken 13:46, fra sektionen \"Udland\"' class=\"dre-teaser-title dre-teaser-title--margin-top dre-teaser-title--xxs-xx-small dre-teaser-title--md-x-small\" href=\"/nyheder/udland/wagner-chefens-russiske-nyhedsfabrik-lukker-efter-oproer\"><span class=\"dre-teaser-title__text\"><span class=\"dre-title-text\">Wagner-chefens russiske nyhedsfabrik lukker efter oprør </span></span></a></div></div>,\n",
       " <div class=\"dre-teaser-content\"><div class=\"dre-article-teaser__text-box dre-article-teaser__text-box--transparent dre-article-teaser__text-box--xxs-2 dre-article-teaser__text-box--xs-2 dre-article-teaser__text-box--sm-2 dre-article-teaser__text-box--md-2 dre-article-teaser__text-box--lg-4 dre-article-teaser__text-box--xl-4\"><div class=\"dre-article-teaser-meta-label\"><div aria-hidden=\"true\" class=\"dre-teaser-meta\"><span class=\"dre-label-text dre-label-text--xxs-x-small\"><span class=\"dre-label-text__text\"><span class=\"dre-teaser-meta__part dre-teaser-meta__part--primary\"><span class=\"dre-teaser-meta-label dre-teaser-meta-label--primary\">Udland</span></span><span class=\"dre-teaser-meta__part\"><span class=\"dre-teaser-meta-label\">2. jul kl. 07:33</span></span></span></span></div></div><a aria-label='Frankrig melder om roligere nat: Brændende bil blev kørt ind i borgmesters hus, 2. juli klokken 07:33, fra sektionen \"Udland\"' class=\"dre-teaser-title dre-teaser-title--margin-top dre-teaser-title--xxs-xx-small dre-teaser-title--md-x-small\" href=\"/nyheder/udland/frankrig-melder-om-roligere-nat-braendende-bil-blev-koert-ind-i-borgmesters-hus\"><span class=\"dre-teaser-title__text\"><span class=\"dre-title-text dre-title-text--prefixed\"><strong class=\"dre-title-text__prefix\">Frankrig melder om roligere nat: </strong>Brændende bil blev kørt ind i borgmesters hus</span></span></a></div></div>,\n",
       " <div class=\"dre-teaser-content\"><div class=\"dre-article-teaser__text-box dre-article-teaser__text-box--transparent dre-article-teaser__text-box--xxs-4 dre-article-teaser__text-box--xs-4 dre-article-teaser__text-box--sm-2 dre-article-teaser__text-box--md-2 dre-article-teaser__text-box--lg-4 dre-article-teaser__text-box--xl-4\"><div class=\"dre-article-teaser-meta-label\"><div aria-hidden=\"true\" class=\"dre-teaser-meta\"><span class=\"dre-label-text dre-label-text--xxs-x-small\"><span class=\"dre-label-text__text\"><span class=\"dre-teaser-meta__part dre-teaser-meta__part--primary\"><span class=\"dre-teaser-meta-label dre-teaser-meta-label--primary\">Udland</span></span><span class=\"dre-teaser-meta__part\"><span class=\"dre-teaser-meta-label\">1. jul kl. 21:56</span></span></span></span></div></div><a aria-label='Foto-feature: Bilbrande, vold og hærværk: Uroligheder i Frankrig går nu ind i sit femte døgn, 10 billeder, 1. juli klokken 21:56, fra sektionen \"Udland\"' class=\"dre-teaser-title dre-teaser-title--margin-top dre-teaser-title--xxs-small dre-teaser-title--sm-xx-small dre-teaser-title--md-x-small\" href=\"/nyheder/udland/bilbrande-vold-og-haervaerk-uroligheder-i-frankrig-gaar-nu-ind-i-sit-femte-doegn\"><span class=\"dre-teaser-title__text\"><span class=\"dre-title-text dre-title-text--prefixed\"><strong class=\"dre-title-text__prefix\">Bilbrande, vold og hærværk: </strong>Uroligheder i Frankrig går nu ind i sit femte døgn</span></span></a></div></div>,\n",
       " <div class=\"dre-teaser-content\"><div class=\"dre-article-teaser__text-box dre-article-teaser__text-box--transparent dre-article-teaser__text-box--xxs-4 dre-article-teaser__text-box--xs-4 dre-article-teaser__text-box--sm-2 dre-article-teaser__text-box--md-2 dre-article-teaser__text-box--lg-4 dre-article-teaser__text-box--xl-4\"><div class=\"dre-article-teaser-meta-label\"><div aria-hidden=\"true\" class=\"dre-teaser-meta\"><span class=\"dre-label-text dre-label-text--xxs-x-small\"><span class=\"dre-label-text__text\"><span class=\"dre-teaser-meta__part dre-teaser-meta__part--primary\"><span class=\"dre-teaser-meta-label dre-teaser-meta-label--primary\">Udland</span></span><span class=\"dre-teaser-meta__part\"><span class=\"dre-teaser-meta-label\">1. jul kl. 20:20</span></span></span></span></div></div><a aria-label='Foto-feature: Regnbuefarver prydede storbyer verden over: Mangfoldighed hyldet ved Pride-parader, 11 billeder, 1. juli klokken 20:20, fra sektionen \"Udland\"' class=\"dre-teaser-title dre-teaser-title--margin-top dre-teaser-title--xxs-small dre-teaser-title--sm-xx-small dre-teaser-title--md-x-small\" href=\"/nyheder/udland/regnbuefarver-prydede-storbyer-verden-over-mangfoldighed-hyldet-ved-pride-parader\"><span class=\"dre-teaser-title__text\"><span class=\"dre-title-text dre-title-text--prefixed\"><strong class=\"dre-title-text__prefix\">Regnbuefarver prydede storbyer verden over: </strong>Mangfoldighed hyldet ved Pride-parader</span></span></a></div></div>,\n",
       " <div class=\"dre-teaser-content\"><div class=\"dre-article-teaser__text-box dre-article-teaser__text-box--transparent dre-article-teaser__text-box--xxs-4 dre-article-teaser__text-box--xs-4 dre-article-teaser__text-box--sm-2 dre-article-teaser__text-box--md-2 dre-article-teaser__text-box--lg-4 dre-article-teaser__text-box--xl-4\"><div class=\"dre-article-teaser-meta-label\"><div aria-hidden=\"true\" class=\"dre-teaser-meta\"><span class=\"dre-label-text dre-label-text--xxs-x-small\"><span class=\"dre-label-text__text\"><span class=\"dre-teaser-meta__part dre-teaser-meta__part--primary\"><span class=\"dre-teaser-meta-label dre-teaser-meta-label--primary\">Udland</span></span><span class=\"dre-teaser-meta__part\"><span class=\"dre-teaser-meta-label\">1. jul kl. 16:02</span></span></span></span></div></div><a aria-label='Det er 160 år siden, at slaveri blev afskaffet i Holland. Nu undskylder kongen, 1. juli klokken 16:02, fra sektionen \"Udland\"' class=\"dre-teaser-title dre-teaser-title--margin-top dre-teaser-title--xxs-small dre-teaser-title--sm-xx-small dre-teaser-title--md-x-small\" href=\"/nyheder/udland/det-er-160-aar-siden-slaveri-blev-afskaffet-i-holland-nu-undskylder-kongen\"><span class=\"dre-teaser-title__text\"><span class=\"dre-title-text\">Det er 160 år siden, at slaveri blev afskaffet i Holland. Nu undskylder kongen</span></span></a></div></div>,\n",
       " <div class=\"dre-teaser-content\"><div class=\"dre-article-teaser__text-box dre-article-teaser__text-box--transparent dre-article-teaser__text-box--xxs-4 dre-article-teaser__text-box--xs-4 dre-article-teaser__text-box--sm-2 dre-article-teaser__text-box--md-2 dre-article-teaser__text-box--lg-4 dre-article-teaser__text-box--xl-4\"><div class=\"dre-article-teaser-meta-label\"><div aria-hidden=\"true\" class=\"dre-teaser-meta\"><span class=\"dre-label-text dre-label-text--xxs-x-small\"><span class=\"dre-label-text__text\"><span class=\"dre-teaser-meta__part dre-teaser-meta__part--primary\"><span class=\"dre-teaser-meta-label dre-teaser-meta-label--primary\">Udland</span></span><span class=\"dre-teaser-meta__part\"><span class=\"dre-teaser-meta-label\">1. jul kl. 13:31</span></span></span></span></div></div><a aria-label='Højesteretten skrotter et af Bidens største valgløfter: ‘Kampen er ikke slut’, 1. juli klokken 13:31, fra sektionen \"Udland\"' class=\"dre-teaser-title dre-teaser-title--margin-top dre-teaser-title--xxs-small dre-teaser-title--sm-xx-small dre-teaser-title--md-x-small\" href=\"/nyheder/udland/hoejesteretten-skrotter-et-af-bidens-stoerste-valgloefter-kampen-er-ikke-slut\"><span class=\"dre-teaser-title__text\"><span class=\"dre-title-text dre-title-text--prefixed\"><strong class=\"dre-title-text__prefix\">Højesteretten skrotter et af Bidens største valgløfter: </strong>‘Kampen er ikke slut’</span></span></a></div></div>,\n",
       " <div class=\"dre-teaser-content\"><div class=\"dre-article-teaser__text-box dre-article-teaser__text-box--transparent dre-article-teaser__text-box--xxs-4 dre-article-teaser__text-box--xs-4 dre-article-teaser__text-box--sm-2 dre-article-teaser__text-box--md-2 dre-article-teaser__text-box--lg-4 dre-article-teaser__text-box--xl-4\"><div class=\"dre-article-teaser-meta-label\"><div aria-hidden=\"true\" class=\"dre-teaser-meta\"><span class=\"dre-label-text dre-label-text--xxs-x-small\"><span class=\"dre-label-text__text\"><span class=\"dre-teaser-meta__part dre-teaser-meta__part--primary\"><span class=\"dre-teaser-meta-label dre-teaser-meta-label--primary\">Udland</span></span><span class=\"dre-teaser-meta__part\"><span class=\"dre-teaser-meta-label\">1. jul kl. 13:00</span></span></span></span></div></div><a aria-label='Video: Explainer: Hvem er manden, som tør gå imod Putin?, 6 minutter og 50 sekunder, 1. juli klokken 13:00, fra sektionen \"Udland\"' class=\"dre-teaser-title dre-teaser-title--margin-top dre-teaser-title--xxs-small dre-teaser-title--sm-xx-small dre-teaser-title--md-x-small\" href=\"/nyheder/udland/explainer-hvem-er-manden-som-toer-gaa-imod-putin\"><span class=\"dre-teaser-title__text\"><span class=\"dre-title-text dre-title-text--prefixed\"><strong class=\"dre-title-text__prefix\">Explainer: </strong>Hvem er manden, som tør gå imod Putin?</span></span></a></div></div>,\n",
       " <div class=\"dre-teaser-content\"><div class=\"dre-article-teaser__text-box dre-article-teaser__text-box--transparent dre-article-teaser__text-box--xxs-4 dre-article-teaser__text-box--xs-4 dre-article-teaser__text-box--sm-2 dre-article-teaser__text-box--md-2 dre-article-teaser__text-box--lg-4 dre-article-teaser__text-box--xl-4\"><div class=\"dre-article-teaser-meta-label\"><div aria-hidden=\"true\" class=\"dre-teaser-meta\"><span class=\"dre-label-text dre-label-text--xxs-x-small\"><span class=\"dre-label-text__text\"><span class=\"dre-teaser-meta__part dre-teaser-meta__part--primary\"><span class=\"dre-teaser-meta-label dre-teaser-meta-label--primary\">Udland</span></span><span class=\"dre-teaser-meta__part\"><span class=\"dre-teaser-meta-label\">1. jul kl. 12:50</span></span></span></span></div></div><a aria-label='Drabet på Nahel M. fik antændt krudttønden hos Frankrigs vrede etniske minoriteter, 1. juli klokken 12:50, fra sektionen \"Udland\"' class=\"dre-teaser-title dre-teaser-title--margin-top dre-teaser-title--xxs-small dre-teaser-title--sm-xx-small dre-teaser-title--md-x-small\" href=\"/nyheder/udland/drabet-paa-nahel-m-fik-antaendt-krudttoenden-hos-frankrigs-vrede-etniske-minoriteter\"><span class=\"dre-teaser-title__text\"><span class=\"dre-title-text\">Drabet på Nahel M. fik antændt krudttønden hos Frankrigs vrede etniske minoriteter</span></span></a></div></div>,\n",
       " <div class=\"dre-teaser-content\"><div class=\"dre-article-teaser__text-box dre-article-teaser__text-box--transparent dre-article-teaser__text-box--xxs-4 dre-article-teaser__text-box--xs-4 dre-article-teaser__text-box--sm-2 dre-article-teaser__text-box--md-2 dre-article-teaser__text-box--lg-4 dre-article-teaser__text-box--xl-4\"><div class=\"dre-article-teaser-meta-label\"><div aria-hidden=\"true\" class=\"dre-teaser-meta\"><span class=\"dre-label-text dre-label-text--xxs-x-small\"><span class=\"dre-label-text__text\"><span class=\"dre-teaser-meta__part dre-teaser-meta__part--primary\"><span class=\"dre-teaser-meta-label dre-teaser-meta-label--primary\">Udland</span></span><span class=\"dre-teaser-meta__part\"><span class=\"dre-teaser-meta-label\">1. jul kl. 09:46</span></span></span></span></div></div><a aria-label='DR i Frankrig: Midt i P1 Morgen sætter en ung mand ild til en hvid Peugeot, 1. juli klokken 09:46, fra sektionen \"Udland\"' class=\"dre-teaser-title dre-teaser-title--margin-top dre-teaser-title--xxs-small dre-teaser-title--sm-xx-small dre-teaser-title--md-x-small\" href=\"/nyheder/udland/dr-i-frankrig-midt-i-p1-morgen-saetter-en-ung-mand-ild-til-en-hvid-peugeot\"><span class=\"dre-teaser-title__text\"><span class=\"dre-title-text dre-title-text--prefixed\"><strong class=\"dre-title-text__prefix\">DR i Frankrig: </strong>Midt i P1 Morgen sætter en ung mand ild til en hvid Peugeot</span></span></a></div></div>,\n",
       " <div class=\"dre-teaser-content\"><div class=\"dre-article-teaser__text-box dre-article-teaser__text-box--transparent dre-article-teaser__text-box--xxs-4 dre-article-teaser__text-box--xs-4 dre-article-teaser__text-box--sm-2 dre-article-teaser__text-box--md-2 dre-article-teaser__text-box--lg-4 dre-article-teaser__text-box--xl-4\"><div class=\"dre-article-teaser-meta-label\"><div aria-hidden=\"true\" class=\"dre-teaser-meta\"><span class=\"dre-label-text dre-label-text--xxs-x-small\"><span class=\"dre-label-text__text\"><span class=\"dre-teaser-meta__part dre-teaser-meta__part--primary\"><span class=\"dre-teaser-meta-label dre-teaser-meta-label--primary\">Udland</span></span><span class=\"dre-teaser-meta__part\"><span class=\"dre-teaser-meta-label\">1. jul kl. 07:10</span></span></span></span></div></div><a aria-label='Gadekampe, ildebrande og smadrede butikker rammer franske byer for fjerde nat i træk, 1. juli klokken 07:10, fra sektionen \"Udland\"' class=\"dre-teaser-title dre-teaser-title--margin-top dre-teaser-title--xxs-small dre-teaser-title--sm-xx-small dre-teaser-title--md-x-small\" href=\"/nyheder/udland/gadekampe-ildebrande-og-smadrede-butikker-rammer-franske-byer-fjerde-nat-i-traek\"><span class=\"dre-teaser-title__text\"><span class=\"dre-title-text\">Gadekampe, ildebrande og smadrede butikker rammer franske byer for fjerde nat i træk</span></span></a></div></div>,\n",
       " <div class=\"dre-teaser-content\"><div class=\"dre-article-teaser__text-box dre-article-teaser__text-box--transparent dre-article-teaser__text-box--xxs-4 dre-article-teaser__text-box--xs-4 dre-article-teaser__text-box--sm-2 dre-article-teaser__text-box--md-2 dre-article-teaser__text-box--lg-4 dre-article-teaser__text-box--xl-4\"><div class=\"dre-article-teaser-meta-label\"><div aria-hidden=\"true\" class=\"dre-teaser-meta\"><span class=\"dre-label-text dre-label-text--xxs-x-small\"><span class=\"dre-label-text__text\"><span class=\"dre-teaser-meta__part dre-teaser-meta__part--primary\"><span class=\"dre-teaser-meta-label dre-teaser-meta-label--primary\">Udland</span></span><span class=\"dre-teaser-meta__part\"><span class=\"dre-teaser-meta-label\">30. jun kl. 20:05</span></span></span></span></div></div><a aria-label=\"Slut med positiv særbehandling på USA's universiteter - kan føre til færre sorte elever, 30. juni klokken 20:05, fra sektionen &quot;Udland&quot;\" class=\"dre-teaser-title dre-teaser-title--margin-top dre-teaser-title--xxs-small dre-teaser-title--sm-xx-small dre-teaser-title--md-x-small\" href=\"/nyheder/udland/slut-med-positiv-saerbehandling-paa-usas-universiteter-kan-foere-til-faerre-sorte\"><span class=\"dre-teaser-title__text\"><span class=\"dre-title-text\">Slut med positiv særbehandling på USA's universiteter - kan føre til færre sorte elever</span></span></a></div></div>,\n",
       " <div class=\"dre-teaser-content\"><div class=\"dre-article-teaser__text-box dre-article-teaser__text-box--transparent dre-article-teaser__text-box--xxs-4 dre-article-teaser__text-box--xs-4 dre-article-teaser__text-box--sm-2 dre-article-teaser__text-box--md-2 dre-article-teaser__text-box--lg-4 dre-article-teaser__text-box--xl-4\"><div class=\"dre-article-teaser-meta-label\"><div aria-hidden=\"true\" class=\"dre-teaser-meta\"><span class=\"dre-label-text dre-label-text--xxs-x-small\"><span class=\"dre-label-text__text\"><span class=\"dre-teaser-meta__part dre-teaser-meta__part--primary\"><span class=\"dre-teaser-meta-label dre-teaser-meta-label--primary\">EU</span></span><span class=\"dre-teaser-meta__part\"><span class=\"dre-teaser-meta-label\">30. jun kl. 18:01</span></span></span></span></div></div><a aria-label='EU-landene bløder op for den hårde Kina-kritik for at holde linjerne til Beijing åbne, 30. juni klokken 18:01, fra sektionen \"EU\"' class=\"dre-teaser-title dre-teaser-title--margin-top dre-teaser-title--xxs-small dre-teaser-title--sm-xx-small dre-teaser-title--md-x-small\" href=\"/nyheder/udland/eu/eu-landene-bloeder-op-den-haarde-kina-kritik-holde-linjerne-til-beijing-aabne\"><span class=\"dre-teaser-title__text\"><span class=\"dre-title-text\">EU-landene bløder op for den hårde Kina-kritik for at holde linjerne til Beijing åbne</span></span></a></div></div>,\n",
       " <div class=\"dre-teaser-content\"><div class=\"dre-article-teaser__text-box dre-article-teaser__text-box--transparent dre-article-teaser__text-box--xxs-4 dre-article-teaser__text-box--xs-4 dre-article-teaser__text-box--sm-2 dre-article-teaser__text-box--md-2 dre-article-teaser__text-box--lg-4 dre-article-teaser__text-box--xl-4\"><div class=\"dre-article-teaser-meta-label\"><div aria-hidden=\"true\" class=\"dre-teaser-meta\"><span class=\"dre-label-text dre-label-text--xxs-x-small\"><span class=\"dre-label-text__text\"><span class=\"dre-teaser-meta__part dre-teaser-meta__part--primary\"><span class=\"dre-teaser-meta-label dre-teaser-meta-label--primary\">Udland</span></span><span class=\"dre-teaser-meta__part\"><span class=\"dre-teaser-meta-label\">30. jun kl. 17:42</span></span></span></span></div></div><a aria-label='Bolsonaro udelukkes fra at bestride et offentligt embede frem til 2030, 30. juni klokken 17:42, fra sektionen \"Udland\"' class=\"dre-teaser-title dre-teaser-title--margin-top dre-teaser-title--xxs-small dre-teaser-title--sm-xx-small dre-teaser-title--md-x-small\" href=\"/nyheder/seneste/bolsonaro-udelukkes-fra-bestride-et-offentligt-embede-frem-til-2030\"><span class=\"dre-teaser-title__text\"><span class=\"dre-title-text\">Bolsonaro udelukkes fra at bestride et offentligt embede frem til 2030</span></span></a></div></div>,\n",
       " <div class=\"dre-teaser-content\"><div class=\"dre-article-teaser__text-box dre-article-teaser__text-box--transparent dre-article-teaser__text-box--xxs-4 dre-article-teaser__text-box--xs-4 dre-article-teaser__text-box--sm-2 dre-article-teaser__text-box--md-2 dre-article-teaser__text-box--lg-4 dre-article-teaser__text-box--xl-4\"><div class=\"dre-article-teaser-meta-label\"><div aria-hidden=\"true\" class=\"dre-teaser-meta\"><span class=\"dre-label-text dre-label-text--xxs-x-small\"><span class=\"dre-label-text__text\"><span class=\"dre-teaser-meta__part dre-teaser-meta__part--primary\"><span class=\"dre-teaser-meta-label dre-teaser-meta-label--primary\">Udland</span></span><span class=\"dre-teaser-meta__part\"><span class=\"dre-teaser-meta-label\">30. jun kl. 17:37</span></span></span></span></div></div><a aria-label='Fransk præsident beder forældre om hjælp efter uroligheder: Hold jeres børn hjemme, 30. juni klokken 17:37, fra sektionen \"Udland\"' class=\"dre-teaser-title dre-teaser-title--margin-top dre-teaser-title--xxs-small dre-teaser-title--sm-xx-small dre-teaser-title--md-x-small\" href=\"/nyheder/udland/fransk-praesident-beder-foraeldre-om-hjaelp-efter-uroligheder-hold-jeres-boern-hjemme\"><span class=\"dre-teaser-title__text\"><span class=\"dre-title-text dre-title-text--prefixed\"><strong class=\"dre-title-text__prefix\">Fransk præsident beder forældre om hjælp efter uroligheder: </strong>Hold jeres børn hjemme</span></span></a></div></div>,\n",
       " <div class=\"dre-teaser-content\"><div class=\"dre-article-teaser__text-box dre-article-teaser__text-box--transparent dre-article-teaser__text-box--xxs-4 dre-article-teaser__text-box--xs-4 dre-article-teaser__text-box--sm-2 dre-article-teaser__text-box--md-2 dre-article-teaser__text-box--lg-4 dre-article-teaser__text-box--xl-4\"><div class=\"dre-article-teaser-meta-label\"><div aria-hidden=\"true\" class=\"dre-teaser-meta\"><span class=\"dre-label-text dre-label-text--xxs-x-small\"><span class=\"dre-label-text__text\"><span class=\"dre-teaser-meta__part dre-teaser-meta__part--primary\"><span class=\"dre-teaser-meta-label dre-teaser-meta-label--primary\">Udland</span></span><span class=\"dre-teaser-meta__part\"><span class=\"dre-teaser-meta-label\">30. jun kl. 17:30</span></span></span></span></div></div><a aria-label='Video: Hvad driver tusindvis til at satse livet på Middelhavet? , 6 minutter og 30 sekunder, 30. juni klokken 17:30, fra sektionen \"Udland\"' class=\"dre-teaser-title dre-teaser-title--margin-top dre-teaser-title--xxs-small dre-teaser-title--sm-xx-small dre-teaser-title--md-x-small\" href=\"/nyheder/udland/hvad-driver-tusindvis-til-satse-livet-paa-middelhavet\"><span class=\"dre-teaser-title__text\"><span class=\"dre-title-text\">Hvad driver tusindvis til at satse livet på Middelhavet? </span></span></a></div></div>,\n",
       " <div class=\"dre-teaser-content\"><div class=\"dre-article-teaser__text-box dre-article-teaser__text-box--transparent dre-article-teaser__text-box--xxs-4 dre-article-teaser__text-box--xs-4 dre-article-teaser__text-box--sm-2 dre-article-teaser__text-box--md-2 dre-article-teaser__text-box--lg-4 dre-article-teaser__text-box--xl-4\"><div class=\"dre-article-teaser-meta-label\"><div aria-hidden=\"true\" class=\"dre-teaser-meta\"><span class=\"dre-label-text dre-label-text--xxs-x-small\"><span class=\"dre-label-text__text\"><span class=\"dre-teaser-meta__part dre-teaser-meta__part--primary\"><span class=\"dre-teaser-meta-label dre-teaser-meta-label--primary\">Udland</span></span><span class=\"dre-teaser-meta__part\"><span class=\"dre-teaser-meta-label\">30. jun kl. 10:49</span></span></span></span></div></div><a aria-label='Midt i krise om koranafbrænding dukker en ny udvisningssag op i Sverige, 30. juni klokken 10:49, fra sektionen \"Udland\"' class=\"dre-teaser-title dre-teaser-title--margin-top dre-teaser-title--xxs-small dre-teaser-title--sm-xx-small dre-teaser-title--md-x-small\" href=\"/nyheder/udland/midt-i-krise-om-koranafbraending-dukker-en-ny-udvisningssag-op-i-sverige\"><span class=\"dre-teaser-title__text\"><span class=\"dre-title-text\">Midt i krise om koranafbrænding dukker en ny udvisningssag op i Sverige</span></span></a></div></div>,\n",
       " <div class=\"dre-teaser-content\"><div class=\"dre-article-teaser__text-box dre-article-teaser__text-box--transparent dre-article-teaser__text-box--xxs-4 dre-article-teaser__text-box--xs-4 dre-article-teaser__text-box--sm-2 dre-article-teaser__text-box--md-2 dre-article-teaser__text-box--lg-4 dre-article-teaser__text-box--xl-4\"><div class=\"dre-article-teaser-meta-label\"><div aria-hidden=\"true\" class=\"dre-teaser-meta\"><span class=\"dre-label-text dre-label-text--xxs-x-small\"><span class=\"dre-label-text__text\"><span class=\"dre-teaser-meta__part dre-teaser-meta__part--primary\"><span class=\"dre-teaser-meta-label dre-teaser-meta-label--primary\">Udland</span></span><span class=\"dre-teaser-meta__part\"><span class=\"dre-teaser-meta-label\">30. jun kl. 07:03</span></span></span></span></div></div><a aria-label='Drabet på en 17-årig har skabt vrede i Frankrig. I nat blev over 40.000 betjente mobiliseret, 30. juni klokken 07:03, fra sektionen \"Udland\"' class=\"dre-teaser-title dre-teaser-title--margin-top dre-teaser-title--xxs-small dre-teaser-title--sm-xx-small dre-teaser-title--md-x-small\" href=\"/nyheder/udland/drabet-paa-en-17-aarig-har-skabt-vrede-i-frankrig-i-nat-blev-over-40000-betjente\"><span class=\"dre-teaser-title__text\"><span class=\"dre-title-text\">Drabet på en 17-årig har skabt vrede i Frankrig. I nat blev over 40.000 betjente mobiliseret</span></span></a></div></div>,\n",
       " <div class=\"dre-teaser-content\"><div class=\"dre-article-teaser__text-box dre-article-teaser__text-box--transparent dre-article-teaser__text-box--xxs-4 dre-article-teaser__text-box--xs-4 dre-article-teaser__text-box--sm-2 dre-article-teaser__text-box--md-2 dre-article-teaser__text-box--lg-4 dre-article-teaser__text-box--xl-4\"><div class=\"dre-article-teaser-meta-label\"><div aria-hidden=\"true\" class=\"dre-teaser-meta\"><span class=\"dre-label-text dre-label-text--xxs-x-small\"><span class=\"dre-label-text__text\"><span class=\"dre-teaser-meta__part dre-teaser-meta__part--primary\"><span class=\"dre-teaser-meta-label dre-teaser-meta-label--primary\">Udland</span></span><span class=\"dre-teaser-meta__part\"><span class=\"dre-teaser-meta-label\">29. jun kl. 22:33</span></span></span></span></div></div><a aria-label=\"Tvivl om hold i løfter: 'Netanyahu siger mange ting uden at følge op på dem', 29. juni klokken 22:33, fra sektionen &quot;Udland&quot;\" class=\"dre-teaser-title dre-teaser-title--margin-top dre-teaser-title--xxs-small dre-teaser-title--sm-xx-small dre-teaser-title--md-x-small\" href=\"/nyheder/udland/tvivl-om-hold-i-loefter-netanyahu-siger-mange-ting-uden-foelge-op-paa-dem\"><span class=\"dre-teaser-title__text\"><span class=\"dre-title-text dre-title-text--prefixed\"><strong class=\"dre-title-text__prefix\">Tvivl om hold i løfter: </strong>'Netanyahu siger mange ting uden at følge op på dem'</span></span></a></div></div>,\n",
       " <div class=\"dre-teaser-content\"><div class=\"dre-article-teaser__text-box dre-article-teaser__text-box--transparent dre-article-teaser__text-box--xxs-4 dre-article-teaser__text-box--xs-4 dre-article-teaser__text-box--sm-2 dre-article-teaser__text-box--md-2 dre-article-teaser__text-box--lg-4 dre-article-teaser__text-box--xl-4\"><div class=\"dre-article-teaser-meta-label\"><div aria-hidden=\"true\" class=\"dre-teaser-meta\"><span class=\"dre-label-text dre-label-text--xxs-x-small\"><span class=\"dre-label-text__text\"><span class=\"dre-teaser-meta__part dre-teaser-meta__part--primary\"><span class=\"dre-teaser-meta-label dre-teaser-meta-label--primary\">EU</span></span><span class=\"dre-teaser-meta__part\"><span class=\"dre-teaser-meta-label\">29. jun kl. 21:01</span></span></span></span></div></div><a aria-label=\"Danske virksomheder fjerner sig fra Kina: 'Vi kan ikke lægge alle vores æg i én kurv', 29. juni klokken 21:01, fra sektionen &quot;EU&quot;\" class=\"dre-teaser-title dre-teaser-title--margin-top dre-teaser-title--xxs-small dre-teaser-title--sm-xx-small dre-teaser-title--md-x-small\" href=\"/nyheder/udland/eu/danske-virksomheder-fjerner-sig-fra-kina-vi-kan-ikke-laegge-alle-vores-aeg-i-en\"><span class=\"dre-teaser-title__text\"><span class=\"dre-title-text dre-title-text--prefixed\"><strong class=\"dre-title-text__prefix\">Danske virksomheder fjerner sig fra Kina: </strong>'Vi kan ikke lægge alle vores æg i én kurv'</span></span></a></div></div>,\n",
       " <div class=\"dre-teaser-content\" style=\"background-color:#f3f0ef\"><div class=\"dre-article-teaser__text-box dre-article-teaser__text-box--no-media-xxs-4 dre-article-teaser__text-box--no-media-xs-4 dre-article-teaser__text-box--no-media-sm-2 dre-article-teaser__text-box--no-media-md-2 dre-article-teaser__text-box--no-media-lg-4 dre-article-teaser__text-box--no-media-xl-4\"><div class=\"dre-article-teaser-meta-label\"><div aria-hidden=\"true\" class=\"dre-teaser-meta\"><span class=\"dre-label-text dre-label-text--xxs-x-small\"><span class=\"dre-label-text__text\"><span class=\"dre-teaser-meta__part dre-teaser-meta__part--primary\"><span class=\"dre-teaser-meta-label dre-teaser-meta-label--primary\">Udland</span></span><span class=\"dre-teaser-meta__part\"><span class=\"dre-teaser-meta-label\">29. jun kl. 20:58</span></span></span></span></div></div><a aria-label='Flere muslimske lande slutter sig til protester efter svensk koran-afbrænding , 29. juni klokken 20:58, fra sektionen \"Udland\"' class=\"dre-teaser-title dre-teaser-title--margin-top dre-teaser-title--xxs-large dre-teaser-title--sm-x-small dre-teaser-title--md-small dre-teaser-title--lg-medium\" href=\"/nyheder/udland/flere-muslimske-lande-slutter-sig-til-protester-efter-svensk-koran-afbraending\"><span class=\"dre-teaser-title__text\"><span class=\"dre-title-text\">Flere muslimske lande slutter sig til protester efter svensk koran-afbrænding </span></span></a></div></div>,\n",
       " <div class=\"dre-teaser-content\"><div class=\"dre-article-teaser__text-box dre-article-teaser__text-box--transparent dre-article-teaser__text-box--xxs-4 dre-article-teaser__text-box--xs-4 dre-article-teaser__text-box--sm-3 dre-article-teaser__text-box--md-3 dre-article-teaser__text-box--lg-6 dre-article-teaser__text-box--xl-6\"><div class=\"dre-article-teaser-meta-label\"><div aria-hidden=\"true\" class=\"dre-teaser-meta\"><span class=\"dre-label-text dre-label-text--xxs-x-small\"><span class=\"dre-label-text__text\"><span class=\"dre-teaser-meta__part dre-teaser-meta__part--primary\"><span class=\"dre-teaser-meta-label dre-teaser-meta-label--primary\">Udland</span></span><span class=\"dre-teaser-meta__part\"><span class=\"dre-teaser-meta-label\">29. jun kl. 19:16</span></span></span></span></div></div><a aria-label=\"Mindemarch for 17-årig politidræbt udvikler sig voldsomt: 'Regeringen står overfor nogle alvorlige problemer', 29. juni klokken 19:16, fra sektionen &quot;Udland&quot;\" class=\"dre-teaser-title dre-teaser-title--margin-top dre-teaser-title--xxs-small\" href=\"/nyheder/udland/mindemarch-17-aarig-politidraebt-udviklede-sig-voldsomt-regeringen-staar-overfor\"><span class=\"dre-teaser-title__text\"><span class=\"dre-title-text dre-title-text--prefixed\"><strong class=\"dre-title-text__prefix\">Mindemarch for 17-årig politidræbt udvikler sig voldsomt: </strong>'Regeringen står overfor nogle alvorlige problemer'</span></span></a></div></div>,\n",
       " <div class=\"dre-teaser-content\"><div class=\"dre-article-teaser__text-box dre-article-teaser__text-box--transparent dre-article-teaser__text-box--xxs-4 dre-article-teaser__text-box--xs-4 dre-article-teaser__text-box--sm-3 dre-article-teaser__text-box--md-3 dre-article-teaser__text-box--lg-6 dre-article-teaser__text-box--xl-6\"><div class=\"dre-article-teaser-meta-label\"><div aria-hidden=\"true\" class=\"dre-teaser-meta\"><span class=\"dre-label-text dre-label-text--xxs-x-small\"><span class=\"dre-label-text__text\"><span class=\"dre-teaser-meta__part dre-teaser-meta__part--primary\"><span class=\"dre-teaser-meta-label dre-teaser-meta-label--primary\">Udland</span></span><span class=\"dre-teaser-meta__part\"><span class=\"dre-teaser-meta-label\">29. jun kl. 19:00</span></span></span></span></div></div><a aria-label='Foto-feature: Turkmenistan åbner ny hvid by til ære for mangeårig enehersker, 9 billeder, 29. juni klokken 19:00, fra sektionen \"Udland\"' class=\"dre-teaser-title dre-teaser-title--margin-top dre-teaser-title--xxs-small\" href=\"/nyheder/udland/turkmenistan-aabner-ny-hvid-til-aere-mangeaarig-enehersker\"><span class=\"dre-teaser-title__text\"><span class=\"dre-title-text\">Turkmenistan åbner ny hvid by til ære for mangeårig enehersker</span></span></a></div></div>]"
      ]
     },
     "execution_count": 13,
     "metadata": {},
     "output_type": "execute_result"
    }
   ],
   "source": [
    "articles"
   ]
  },
  {
   "cell_type": "markdown",
   "metadata": {
    "slideshow": {
     "slide_type": "subslide"
    }
   },
   "source": [
    "#### Now we want the links to all the articles:\n",
    "First, I show how to find the link for *one* article, and afterwards I show how to loop through all article links"
   ]
  },
  {
   "cell_type": "markdown",
   "metadata": {
    "slideshow": {
     "slide_type": "fragment"
    }
   },
   "source": [
    "You can use [`find`](https://www.crummy.com/software/BeautifulSoup/bs4/doc/#find) to find the *first* element. In the code below it is the first element that has the tag ```<a>```.\n",
    "\n",
    "You can use `['href']` to select the attribute. Here we are interested in the content of the href attribute."
   ]
  },
  {
   "cell_type": "code",
   "execution_count": 14,
   "metadata": {
    "slideshow": {
     "slide_type": "fragment"
    }
   },
   "outputs": [
    {
     "name": "stdout",
     "output_type": "stream",
     "text": [
      "/nyheder/udland/usa-overvejer-donere-kontroversielt-vaaben-til-ukraine-kan-maaske-give-overhaand-i\n"
     ]
    }
   ],
   "source": [
    "# First find the \"link\" tag in the HTML\n",
    "article_link = articles[0].find('a') #(We are only taking the first article)\n",
    "# Then locate the URL in the href attribute\n",
    "article_url = article_link['href']\n",
    "print(article_url)"
   ]
  },
  {
   "cell_type": "code",
   "execution_count": 15,
   "metadata": {
    "slideshow": {
     "slide_type": "fragment"
    }
   },
   "outputs": [
    {
     "name": "stdout",
     "output_type": "stream",
     "text": [
      "/nyheder/udland/usa-overvejer-donere-kontroversielt-vaaben-til-ukraine-kan-maaske-give-overhaand-i\n"
     ]
    }
   ],
   "source": [
    "# Another way to find the tag is by writing `.a` instead of `.find('a')`:\n",
    "article_link = articles[0].a\n",
    "article_url = article_link['href']\n",
    "print(article_url)"
   ]
  },
  {
   "cell_type": "markdown",
   "metadata": {
    "slideshow": {
     "slide_type": "subslide"
    }
   },
   "source": [
    "#### We create a list of URLs that we want to scrape:"
   ]
  },
  {
   "cell_type": "code",
   "execution_count": 16,
   "metadata": {
    "slideshow": {
     "slide_type": "fragment"
    }
   },
   "outputs": [],
   "source": [
    "# Create an empty list\n",
    "list_of_article_urls = []\n",
    "\n",
    "# Creating a loop that appends the article url to the list above\n",
    "for i in range(len(articles)):\n",
    "    list_of_article_urls.append(articles[i].find('a')['href'])"
   ]
  },
  {
   "cell_type": "code",
   "execution_count": 17,
   "metadata": {
    "scrolled": true,
    "slideshow": {
     "slide_type": "fragment"
    }
   },
   "outputs": [
    {
     "data": {
      "text/plain": [
       "['/nyheder/udland/usa-overvejer-donere-kontroversielt-vaaben-til-ukraine-kan-maaske-give-overhaand-i',\n",
       " '/nyheder/udland/kineserne-tror-paa-klimaforandringerne-men-klimaanlaeggene-koerer-stadig-i-de',\n",
       " '/nyheder/udland/wagners-skaebne-i-afrika-ser-sort-ud-men-rusland-vil-ikke-slippe-grebet-i-kontinentet',\n",
       " '/nyheder/udland/sverige-kan-give-nato-kontrol-over-oestersoeen-det-er-putins-vaerste-mareridt',\n",
       " 'https://www.dr.dk/stories/1288510966/frygten-stiger-for-angreb-paa-europas-stoerste-atomkraftvaerk/',\n",
       " 'https://www.dr.dk/stories/1288510966/voldelige-optjer-i-frankrig-presser-macron/',\n",
       " '/nyheder/udland/wagner-eksperter-hvis-prigozjin-er-tilbage-i-rusland-saa-er-han-i-et-kaploeb-med',\n",
       " '/nyheder/udland/nato-haaber-paa-afklaring-om-sverige-inden-topmoede-naeste-uge-tyrkiet-er-under-meget',\n",
       " '/nyheder/udland/de-seneste-tre-dage-har-vaeret-de-varmeste-der-nogensinde-er-blevet-registreret',\n",
       " '/nyheder/udland/zelenskyj-erkender-ville-oenske-modoffensiven-var-startet-meget-tidligere',\n",
       " '/nyheder/udland/sydafrika-mindst-16-omkommet-efter-formodet-gaslaekage',\n",
       " '/nyheder/udland/ekstremt-uvejr-haerger-kina-15-doede-og-tusindvis-evakueret',\n",
       " '/nyheder/udland/japan-vil-haelde-13-milliarder-liter-spildevand-fra-atomkraftvaerk-ud-i-stillehavet',\n",
       " '/nyheder/udland/mandag-var-den-varmeste-dag-nogensinde-maalt-paa-kloden-ikke-en-milepael-vi-boer',\n",
       " '/nyheder/udland/putin-laver-telefonfis-med-sine-ministre-sammen-med-8-aarig-pige-i-kreml',\n",
       " '/nyheder/udland/droner-erstattede-fyrvaerkeri-flere-steder-til-fejringen-af-uafhaengighedsdagen-i-usa',\n",
       " '/nyheder/udland/israelske-styrker-er-begyndt-traekke-sig-ud-af-jenin',\n",
       " '/nyheder/udland/seks-saaret-under-angreb-med-kniv-og-bil-i-tel-aviv',\n",
       " '/nyheder/udland/israels-militaeroperation-fortsaetter-paa-vestbredden-ti-maal-tilbage',\n",
       " '/nyheder/udland/jens-stoltenberg-bliver-forlaenget-paa-posten-som-natos-generalsekretaer',\n",
       " '/nyheder/udland/ukraine-rusland-har-indsat-180000-soldater-ved-fronten',\n",
       " '/nyheder/udland/palaestinensisk-praesident-afbryder-samarbejde-med-israel-efter-storm-paa',\n",
       " '/nyheder/seneste/mor-og-barn-faldt-over-bord-paa-faerge-havarikommission-konkluderer-det-ikke-var-en',\n",
       " '/nyheder/udland/rigtig-krig-israel-rykker-ind-i-flygtningelejr-med-droner-og-hundredvis-af-soldater',\n",
       " '/nyheder/udland/franske-borgmestre-i-faelles-opraab-vi-vil-ikke-lade-landet-bukke-under-kaos',\n",
       " '/nyheder/udland/snart-kan-afdoede-briter-blive-kremeret-i-vand',\n",
       " '/nyheder/udland/orkney-oeerne-droefter-forslag-om-forlade-skotland-husker-stadig-det-var-en-dansk',\n",
       " '/nyheder/udland/oligark-datter-bremser-salg-af-sanktionsramt-superyacht',\n",
       " '/nyheder/udland/wagner-chefens-russiske-nyhedsfabrik-lukker-efter-oproer',\n",
       " '/nyheder/udland/frankrig-melder-om-roligere-nat-braendende-bil-blev-koert-ind-i-borgmesters-hus',\n",
       " '/nyheder/udland/bilbrande-vold-og-haervaerk-uroligheder-i-frankrig-gaar-nu-ind-i-sit-femte-doegn',\n",
       " '/nyheder/udland/regnbuefarver-prydede-storbyer-verden-over-mangfoldighed-hyldet-ved-pride-parader',\n",
       " '/nyheder/udland/det-er-160-aar-siden-slaveri-blev-afskaffet-i-holland-nu-undskylder-kongen',\n",
       " '/nyheder/udland/hoejesteretten-skrotter-et-af-bidens-stoerste-valgloefter-kampen-er-ikke-slut',\n",
       " '/nyheder/udland/explainer-hvem-er-manden-som-toer-gaa-imod-putin',\n",
       " '/nyheder/udland/drabet-paa-nahel-m-fik-antaendt-krudttoenden-hos-frankrigs-vrede-etniske-minoriteter',\n",
       " '/nyheder/udland/dr-i-frankrig-midt-i-p1-morgen-saetter-en-ung-mand-ild-til-en-hvid-peugeot',\n",
       " '/nyheder/udland/gadekampe-ildebrande-og-smadrede-butikker-rammer-franske-byer-fjerde-nat-i-traek',\n",
       " '/nyheder/udland/slut-med-positiv-saerbehandling-paa-usas-universiteter-kan-foere-til-faerre-sorte',\n",
       " '/nyheder/udland/eu/eu-landene-bloeder-op-den-haarde-kina-kritik-holde-linjerne-til-beijing-aabne',\n",
       " '/nyheder/seneste/bolsonaro-udelukkes-fra-bestride-et-offentligt-embede-frem-til-2030',\n",
       " '/nyheder/udland/fransk-praesident-beder-foraeldre-om-hjaelp-efter-uroligheder-hold-jeres-boern-hjemme',\n",
       " '/nyheder/udland/hvad-driver-tusindvis-til-satse-livet-paa-middelhavet',\n",
       " '/nyheder/udland/midt-i-krise-om-koranafbraending-dukker-en-ny-udvisningssag-op-i-sverige',\n",
       " '/nyheder/udland/drabet-paa-en-17-aarig-har-skabt-vrede-i-frankrig-i-nat-blev-over-40000-betjente',\n",
       " '/nyheder/udland/tvivl-om-hold-i-loefter-netanyahu-siger-mange-ting-uden-foelge-op-paa-dem',\n",
       " '/nyheder/udland/eu/danske-virksomheder-fjerner-sig-fra-kina-vi-kan-ikke-laegge-alle-vores-aeg-i-en',\n",
       " '/nyheder/udland/flere-muslimske-lande-slutter-sig-til-protester-efter-svensk-koran-afbraending',\n",
       " '/nyheder/udland/mindemarch-17-aarig-politidraebt-udviklede-sig-voldsomt-regeringen-staar-overfor',\n",
       " '/nyheder/udland/turkmenistan-aabner-ny-hvid-til-aere-mangeaarig-enehersker']"
      ]
     },
     "execution_count": 17,
     "metadata": {},
     "output_type": "execute_result"
    }
   ],
   "source": [
    "list_of_article_urls"
   ]
  },
  {
   "cell_type": "markdown",
   "metadata": {
    "slideshow": {
     "slide_type": "subslide"
    }
   },
   "source": [
    "#### Some of the links are not to articles \n",
    "\n",
    "So we write this code to only keep the article links:"
   ]
  },
  {
   "cell_type": "code",
   "execution_count": 18,
   "metadata": {
    "slideshow": {
     "slide_type": "fragment"
    }
   },
   "outputs": [],
   "source": [
    "list_of_article_urls_final = []\n",
    "for link in list_of_article_urls:\n",
    "    if '/nyheder/udland' in link: #All article URLs have this string in them, so we restrict on it being in the URL\n",
    "        list_of_article_urls_final.append(link)"
   ]
  },
  {
   "cell_type": "markdown",
   "metadata": {
    "slideshow": {
     "slide_type": "slide"
    }
   },
   "source": [
    "## 2. DOWNLOADING + 3. PARSING"
   ]
  },
  {
   "cell_type": "markdown",
   "metadata": {
    "slideshow": {
     "slide_type": "subslide"
    }
   },
   "source": [
    "#### Now we are ready to scrape each webpage from the URL list:\n",
    "First, I will show you the procedure for *one* link, and then I will show you how to scrape the first 10 articles"
   ]
  },
  {
   "cell_type": "code",
   "execution_count": 19,
   "metadata": {
    "slideshow": {
     "slide_type": "fragment"
    }
   },
   "outputs": [],
   "source": [
    "# Creating empty list for the infomation we want to extract for every article\n",
    "title_list = []\n",
    "lead_list = []\n",
    "time_list = []\n",
    "\n",
    "# This time we scrape for each news article in the url list we created before\n",
    "url = 'https://www.dr.dk' + list_of_article_urls_final[0] #The scraped links are relative, so we need to add the base URL (Here we have just taken the first link)\n",
    "response = requests.get(url)\n",
    "soup = BeautifulSoup(response.content,'lxml')"
   ]
  },
  {
   "cell_type": "code",
   "execution_count": 20,
   "metadata": {
    "slideshow": {
     "slide_type": "fragment"
    }
   },
   "outputs": [],
   "source": [
    "# Find title\n",
    "temp = soup.find_all('h1')\n",
    "temp = temp[1]\n",
    "temp = temp.text.strip() #Use strip() to get rid of trailing and leading spaces\n",
    "title_list.append(temp)"
   ]
  },
  {
   "cell_type": "code",
   "execution_count": 21,
   "metadata": {
    "slideshow": {
     "slide_type": "fragment"
    }
   },
   "outputs": [],
   "source": [
    "# Find lead\n",
    "temp = soup.find('p', class_='dre-article-title__summary')\n",
    "temp = temp.text.strip()\n",
    "lead_list.append(temp)"
   ]
  },
  {
   "cell_type": "code",
   "execution_count": 22,
   "metadata": {
    "slideshow": {
     "slide_type": "fragment"
    }
   },
   "outputs": [],
   "source": [
    "# Find time posted\n",
    "temp = soup.find('time', class_='dre-byline__date')\n",
    "temp = temp['datetime']\n",
    "time_list.append(temp)"
   ]
  },
  {
   "cell_type": "markdown",
   "metadata": {
    "slideshow": {
     "slide_type": "subslide"
    }
   },
   "source": [
    "#### Combine all of the code above in a loop to scrape the first 10 articles:"
   ]
  },
  {
   "cell_type": "code",
   "execution_count": 23,
   "metadata": {
    "slideshow": {
     "slide_type": "fragment"
    }
   },
   "outputs": [],
   "source": [
    "# We want to extract title, lead and time posted from the articles\n",
    "\n",
    "# Creatig empty list for the infomation we want to extract for every article\n",
    "title_list = []\n",
    "lead_list = []\n",
    "time_list = []\n",
    "\n",
    "for i in range(10): #len(list_of_article_urls)\n",
    "    \n",
    "    # This time we scrape for each news article in the url list we created before\n",
    "    url = 'https://www.dr.dk' + list_of_article_urls_final[i] #The scraped links are relative, so we need to add the base url\n",
    "    response = requests.get(url)\n",
    "    soup = BeautifulSoup(response.content,'lxml')\n",
    "    \n",
    "    # Append title to list\n",
    "    temp = soup.find_all('h1')\n",
    "    temp = temp[1]\n",
    "    temp = temp.text.strip()\n",
    "    title_list.append(temp)\n",
    "    \n",
    "    # Append lead to list\n",
    "    temp = soup.find('p', class_='dre-article-title__summary')\n",
    "    temp = temp.text.strip()\n",
    "    lead_list.append(temp)\n",
    "\n",
    "    # Append time posted to list\n",
    "    temp = soup.find('time', class_='dre-byline__date')\n",
    "    temp = temp['datetime']\n",
    "    time_list.append(temp)"
   ]
  },
  {
   "cell_type": "code",
   "execution_count": 24,
   "metadata": {
    "slideshow": {
     "slide_type": "subslide"
    }
   },
   "outputs": [
    {
     "data": {
      "text/plain": [
       "[\"USA overvejer at donere kontroversielt våben til Ukraine: 'Kan måske give overhånd i artilleriduellen'\",\n",
       " 'Kineserne tror på klimaforandringerne – men klimaanlæggene kører stadig i de kinesiske hjem',\n",
       " 'Wagners skæbne i Afrika ser sort ud – men Rusland vil ikke slippe grebet i kontinentet',\n",
       " \"Sverige kan give Nato kontrol over Østersøen: 'Det er Putins værste mareridt'\",\n",
       " 'Wagner-eksperter: Hvis Prigozjin er tilbage i Rusland, så er han i et kapløb med tiden',\n",
       " \"Nato håber på afklaring om Sverige inden topmøde næste uge: 'Tyrkiet er under meget stort pres'\",\n",
       " 'De seneste tre dage har været de varmeste, der nogensinde er blevet registreret',\n",
       " \"Zelenskyj erkender: Ville ønske, at modoffensiven var startet 'meget tidligere'\",\n",
       " 'Sydafrika: Mindst 16 omkommet efter formodet gaslækage',\n",
       " 'Ekstremt uvejr hærger Kina: 15 døde og tusindvis evakueret']"
      ]
     },
     "execution_count": 24,
     "metadata": {},
     "output_type": "execute_result"
    }
   ],
   "source": [
    "title_list"
   ]
  },
  {
   "cell_type": "code",
   "execution_count": 25,
   "metadata": {
    "scrolled": true,
    "slideshow": {
     "slide_type": "subslide"
    }
   },
   "outputs": [
    {
     "data": {
      "text/plain": [
       "['Klyngebomber efterlader adskillige mindre granater, der i årevis er til fare for civile.',\n",
       " 'Temperaturerne i blandt andet hovedstaden Beijing har været rekordhøje i år.',\n",
       " 'Wagner-gruppen har længe været en vigtig russisk brik i Afrika. Men nu ser deres fremtid dyster ud, mener militæranalytiker.',\n",
       " 'Det er ikke kun Sverige, der har fordele ved at blive medlem af Nato. Øen Gotlands strategiske placering er guld værd for alliancen.',\n",
       " 'Wagner-lederen er rejst tilbage til Rusland, oplyser den belarussiske præsident.',\n",
       " 'Tyrkiet har ind til nu blokeret for Sveriges ønske om at blive en del af Nato.',\n",
       " 'Klimaforandringerne og vejrfænomenet El Niño gør, at varmerekorden formentlig bliver slået igen snart.',\n",
       " 'Den ukrainske præsident indrømmer, at modoffensiven har problemer, da russerne er velforberedte.',\n",
       " 'Ifølge myndighederne skete lækagen tæt på et sted, hvor folk ulovligt graver efter guld.',\n",
       " 'Den kinesiske præsident opfordrer til stærkere indsats i de værst ramte områder.']"
      ]
     },
     "execution_count": 25,
     "metadata": {},
     "output_type": "execute_result"
    }
   ],
   "source": [
    "lead_list"
   ]
  },
  {
   "cell_type": "code",
   "execution_count": 26,
   "metadata": {
    "slideshow": {
     "slide_type": "subslide"
    }
   },
   "outputs": [
    {
     "data": {
      "text/plain": [
       "['2023-07-07T11:27:00+00:00',\n",
       " '2023-07-07T09:18:00+00:00',\n",
       " '2023-07-06T19:00:00+00:00',\n",
       " '2023-07-06T17:30:00+00:00',\n",
       " '2023-07-06T13:51:00+00:00',\n",
       " '2023-07-06T10:11:00+00:00',\n",
       " '2023-07-06T07:08:00+00:00',\n",
       " '2023-07-06T05:47:00+00:00',\n",
       " '2023-07-06T03:14:00+00:00',\n",
       " '2023-07-05T17:25:00+00:00']"
      ]
     },
     "execution_count": 26,
     "metadata": {},
     "output_type": "execute_result"
    }
   ],
   "source": [
    "time_list"
   ]
  },
  {
   "cell_type": "markdown",
   "metadata": {
    "slideshow": {
     "slide_type": "subslide"
    }
   },
   "source": [
    "#### Lastly, we put our collected information into a dataframe:"
   ]
  },
  {
   "cell_type": "code",
   "execution_count": 27,
   "metadata": {
    "slideshow": {
     "slide_type": "fragment"
    }
   },
   "outputs": [
    {
     "data": {
      "text/html": [
       "<div>\n",
       "<style scoped>\n",
       "    .dataframe tbody tr th:only-of-type {\n",
       "        vertical-align: middle;\n",
       "    }\n",
       "\n",
       "    .dataframe tbody tr th {\n",
       "        vertical-align: top;\n",
       "    }\n",
       "\n",
       "    .dataframe thead th {\n",
       "        text-align: right;\n",
       "    }\n",
       "</style>\n",
       "<table border=\"1\" class=\"dataframe\">\n",
       "  <thead>\n",
       "    <tr style=\"text-align: right;\">\n",
       "      <th></th>\n",
       "      <th>title</th>\n",
       "      <th>lead</th>\n",
       "      <th>time</th>\n",
       "    </tr>\n",
       "  </thead>\n",
       "  <tbody>\n",
       "    <tr>\n",
       "      <th>0</th>\n",
       "      <td>USA overvejer at donere kontroversielt våben t...</td>\n",
       "      <td>Klyngebomber efterlader adskillige mindre gran...</td>\n",
       "      <td>2023-07-07T11:27:00+00:00</td>\n",
       "    </tr>\n",
       "    <tr>\n",
       "      <th>1</th>\n",
       "      <td>Kineserne tror på klimaforandringerne – men kl...</td>\n",
       "      <td>Temperaturerne i blandt andet hovedstaden Beij...</td>\n",
       "      <td>2023-07-07T09:18:00+00:00</td>\n",
       "    </tr>\n",
       "    <tr>\n",
       "      <th>2</th>\n",
       "      <td>Wagners skæbne i Afrika ser sort ud – men Rusl...</td>\n",
       "      <td>Wagner-gruppen har længe været en vigtig russi...</td>\n",
       "      <td>2023-07-06T19:00:00+00:00</td>\n",
       "    </tr>\n",
       "    <tr>\n",
       "      <th>3</th>\n",
       "      <td>Sverige kan give Nato kontrol over Østersøen: ...</td>\n",
       "      <td>Det er ikke kun Sverige, der har fordele ved a...</td>\n",
       "      <td>2023-07-06T17:30:00+00:00</td>\n",
       "    </tr>\n",
       "    <tr>\n",
       "      <th>4</th>\n",
       "      <td>Wagner-eksperter: Hvis Prigozjin er tilbage i ...</td>\n",
       "      <td>Wagner-lederen er rejst tilbage til Rusland, o...</td>\n",
       "      <td>2023-07-06T13:51:00+00:00</td>\n",
       "    </tr>\n",
       "    <tr>\n",
       "      <th>5</th>\n",
       "      <td>Nato håber på afklaring om Sverige inden topmø...</td>\n",
       "      <td>Tyrkiet har ind til nu blokeret for Sveriges ø...</td>\n",
       "      <td>2023-07-06T10:11:00+00:00</td>\n",
       "    </tr>\n",
       "    <tr>\n",
       "      <th>6</th>\n",
       "      <td>De seneste tre dage har været de varmeste, der...</td>\n",
       "      <td>Klimaforandringerne og vejrfænomenet El Niño g...</td>\n",
       "      <td>2023-07-06T07:08:00+00:00</td>\n",
       "    </tr>\n",
       "    <tr>\n",
       "      <th>7</th>\n",
       "      <td>Zelenskyj erkender: Ville ønske, at modoffensi...</td>\n",
       "      <td>Den ukrainske præsident indrømmer, at modoffen...</td>\n",
       "      <td>2023-07-06T05:47:00+00:00</td>\n",
       "    </tr>\n",
       "    <tr>\n",
       "      <th>8</th>\n",
       "      <td>Sydafrika: Mindst 16 omkommet efter formodet g...</td>\n",
       "      <td>Ifølge myndighederne skete lækagen tæt på et s...</td>\n",
       "      <td>2023-07-06T03:14:00+00:00</td>\n",
       "    </tr>\n",
       "    <tr>\n",
       "      <th>9</th>\n",
       "      <td>Ekstremt uvejr hærger Kina: 15 døde og tusindv...</td>\n",
       "      <td>Den kinesiske præsident opfordrer til stærkere...</td>\n",
       "      <td>2023-07-05T17:25:00+00:00</td>\n",
       "    </tr>\n",
       "  </tbody>\n",
       "</table>\n",
       "</div>"
      ],
      "text/plain": [
       "                                               title  \\\n",
       "0  USA overvejer at donere kontroversielt våben t...   \n",
       "1  Kineserne tror på klimaforandringerne – men kl...   \n",
       "2  Wagners skæbne i Afrika ser sort ud – men Rusl...   \n",
       "3  Sverige kan give Nato kontrol over Østersøen: ...   \n",
       "4  Wagner-eksperter: Hvis Prigozjin er tilbage i ...   \n",
       "5  Nato håber på afklaring om Sverige inden topmø...   \n",
       "6  De seneste tre dage har været de varmeste, der...   \n",
       "7  Zelenskyj erkender: Ville ønske, at modoffensi...   \n",
       "8  Sydafrika: Mindst 16 omkommet efter formodet g...   \n",
       "9  Ekstremt uvejr hærger Kina: 15 døde og tusindv...   \n",
       "\n",
       "                                                lead  \\\n",
       "0  Klyngebomber efterlader adskillige mindre gran...   \n",
       "1  Temperaturerne i blandt andet hovedstaden Beij...   \n",
       "2  Wagner-gruppen har længe været en vigtig russi...   \n",
       "3  Det er ikke kun Sverige, der har fordele ved a...   \n",
       "4  Wagner-lederen er rejst tilbage til Rusland, o...   \n",
       "5  Tyrkiet har ind til nu blokeret for Sveriges ø...   \n",
       "6  Klimaforandringerne og vejrfænomenet El Niño g...   \n",
       "7  Den ukrainske præsident indrømmer, at modoffen...   \n",
       "8  Ifølge myndighederne skete lækagen tæt på et s...   \n",
       "9  Den kinesiske præsident opfordrer til stærkere...   \n",
       "\n",
       "                        time  \n",
       "0  2023-07-07T11:27:00+00:00  \n",
       "1  2023-07-07T09:18:00+00:00  \n",
       "2  2023-07-06T19:00:00+00:00  \n",
       "3  2023-07-06T17:30:00+00:00  \n",
       "4  2023-07-06T13:51:00+00:00  \n",
       "5  2023-07-06T10:11:00+00:00  \n",
       "6  2023-07-06T07:08:00+00:00  \n",
       "7  2023-07-06T05:47:00+00:00  \n",
       "8  2023-07-06T03:14:00+00:00  \n",
       "9  2023-07-05T17:25:00+00:00  "
      ]
     },
     "execution_count": 27,
     "metadata": {},
     "output_type": "execute_result"
    }
   ],
   "source": [
    "import pandas as pd\n",
    "df = pd.DataFrame({'title':title_list, 'lead':lead_list, 'time':time_list})\n",
    "df"
   ]
  },
  {
   "cell_type": "markdown",
   "metadata": {
    "slideshow": {
     "slide_type": "subslide"
    }
   },
   "source": [
    "#### One more thing:\n",
    "What if we also want the body text of an article?"
   ]
  },
  {
   "cell_type": "code",
   "execution_count": 28,
   "metadata": {
    "slideshow": {
     "slide_type": "fragment"
    }
   },
   "outputs": [],
   "source": [
    "url = 'https://www.dr.dk/nyheder/udland/gazprom-strammer-ifoelge-tyskland-skruen-uden-grund' \n",
    "response = requests.get(url)\n",
    "soup = BeautifulSoup(response.content,'lxml')"
   ]
  },
  {
   "cell_type": "code",
   "execution_count": 29,
   "metadata": {
    "scrolled": true,
    "slideshow": {
     "slide_type": "fragment"
    }
   },
   "outputs": [
    {
     "data": {
      "text/plain": [
       "<div class=\"dre-article-body\" itemprop=\"articleBody\"><div class=\"dre-container\"><div class=\"dre-container__content dre-container__content--small\"><div class=\"dre-speech\"><p class=\"dre-article-body-paragraph dre-variables\">Gazprom halverer gasleverancerne til Europa via Nord Stream 1. Årsagen er ifølge selskabet vedligehold af en gasturbine. Den daglige gasforsyning via gasledningen vil fra onsdag morgen blive reduceret til <a href=\"https://twitter.com/GazpromEN/status/1551582192484106246?ref_src=twsrc^tfw|twcamp^tweetembed|twterm^1551582192484106246|twgr^|twcon^s1_&amp;ref_url=https://www.ritzau.dk/nyhed/\" rel=\"noopener noreferrer\" target=\"_blank\">33 millioner kubikmeter, oplyser Gazprom</a>.</p></div><div class=\"dre-speech\"><p class=\"dre-article-body-paragraph dre-variables\">Det svarer til cirka 20 procent af den maksimale kapacitet, og det fremgår ikke, hvor længe den yderligt reducerede forsyning af gas vil stå på.</p></div></div></div><figure class=\"dre-article-body-figure dre-article-body-figure--medium dre-article-body-figure--spacing\"><div><div class=\"dre-picture\"><div class=\"dre-picture__ratio-padder dre-picture__ratio-padder--xxs\" style=\"--dre-picture__ratio--xxs:0.94084\"></div></div></div><figcaption class=\"dre-article-body-figure__caption dre-article-body-figure__caption--medium dre-article-body-figure__caption--left dre-variables\"></figcaption></figure><div class=\"dre-container\"><div class=\"dre-container__content dre-container__content--small\"><div class=\"dre-speech\"><p class=\"dre-article-body-paragraph dre-variables\">Den tyske regering anser den forklaringen om vedligeholdelse for at være opfundet til lejligheden.</p></div><div class=\"dre-speech\"><p class=\"dre-article-body-paragraph dre-variables\">- Ifølge vores oplysninger er der ingen teknisk grund til en reduktion i leverancerne, <a href=\"https://www.faz.net/aktuell/wirtschaft/gazprom-senkt-lieferung-durch-nord-stream-1-auf-20-prozent-18198169.html\" rel=\"noopener noreferrer\" target=\"_blank\">siger en talskvinde for Finansministeriet og minister Robert Habeck til Frankfurter Allgemeine Zeitung</a>.</p></div><div class=\"dre-speech\"><p class=\"dre-article-body-paragraph dre-variables\">Tyskerne får 25 procent af deres energi fra gas, hvor en overvejende del er kommet fra Rusland.</p></div><div class=\"dre-speech\"><h2 class=\"dre-article-body-sub-heading dre-variables\">Gasprisen stiger med 10 procent</h2></div><div class=\"dre-speech\"><p class=\"dre-article-body-paragraph dre-variables\">Det er anden gang indenfor en uge, at Gazprom reducerer leverancen af gas under påskud af reperation af gasturbiner. <a href=\"https://www.dr.dk/nyheder/udland/russisk-gas-flyder-igen-mod-europa-men-er-gaskrisen-afvaerget\" rel=\"noopener noreferrer\" target=\"_blank\">Da Gazprom efter ti dages vedligehold i sidste uge genåbnede for gasforsyningen til Tyskland</a>, var meldingen, at der dagligt ville blive leveret cirka 67 millioner kubikmeter.</p></div><div class=\"dre-speech\"><p class=\"dre-article-body-paragraph dre-variables\">Gazproms seneste melding betyder altså, at leverancerne til Europa bliver omtrent halveret fra onsdag. Gasledningen kan, når den kører for fuld kraft, levere cirka 167 millioner kubikmeter gas om dagen.</p></div></div></div><figure class=\"dre-article-body-figure dre-article-body-figure--large dre-article-body-figure--spacing\"><div><div class=\"dre-picture\"><div class=\"dre-picture__ratio-padder dre-picture__ratio-padder--xxs\" style=\"--dre-picture__ratio--xxs:0.54994\"></div></div></div><figcaption class=\"dre-article-body-figure__caption dre-article-body-figure__caption--large dre-variables\"><div class=\"dre-breakpoint dre-breakpoint--xxs dre-breakpoint--xs dre-breakpoint--sm dre-breakpoint--md dre-breakpoint--lg dre-breakpoint--xl\" style=\"--dre-breakpoint-display:initial\"><span class=\"dre-caption\">Nordstream 1-faciliter i Lubmin i Tyskland. (Arkiv) (Foto: © HANNIBAL HANSCHKE, Ritzau Scanpix)</span></div></figcaption></figure><div class=\"dre-container\"><div class=\"dre-container__content dre-container__content--small\"><div class=\"dre-speech\"><p class=\"dre-article-body-paragraph dre-variables\">Den ledende europæiske gaspris er mandag aften steget med op til ti procent efter udmeldingen fra Gazprom. Det er fjerde dag i træk, at gasprisen stiger, skriver finansmediet Marketwire ifølge Rtizau.</p></div><div class=\"dre-speech\"><p class=\"dre-article-body-paragraph dre-variables\">Nord Stream 1 transporterer normalt hvert år 55 milliarder kubikmeter gas fra Rusland til Tyskland under Østersøen. Det er nok til at forsyne cirka 26 millioner europæiske hjem.</p></div><div class=\"dre-speech\"><p class=\"dre-article-body-paragraph dre-variables\">Den tyske formand for det føderale agentur for digitalisering, klimaneutralitet og modstandsdygtighed, <a href=\"https://twitter.com/Klaus_Mueller/status/1551587487688040449\" rel=\"noopener noreferrer\" target=\"_blank\">Klaus Müller, bekræfter, at den nuværende levering halveres fra onsdag</a>.</p></div></div></div><figure class=\"dre-article-body-figure dre-article-body-figure--medium dre-article-body-figure--spacing\"><div><div class=\"dre-picture\"><div class=\"dre-picture__ratio-padder dre-picture__ratio-padder--xxs\" style=\"--dre-picture__ratio--xxs:0.41682\"></div></div></div><figcaption class=\"dre-article-body-figure__caption dre-article-body-figure__caption--medium dre-article-body-figure__caption--left dre-variables\"></figcaption></figure><div class=\"dre-container\"><div class=\"dre-container__content dre-container__content--small\"><div class=\"dre-speech\"><p class=\"dre-article-body-paragraph dre-variables\">Stormagter i Europa har anklaget Rusland for at bruge gas som et afpresningsmiddel over for Europa, fordi EU har indført sanktioner mod Rusland på grund af krigen i Ukraine. Ifølge Tyskland er der \"ingen tekniske grunde\" til den reducerede gasforsyning fra Nord Stream 1, som Gazprom ellers hævder.</p></div><div class=\"dre-speech\"><p class=\"dre-article-body-paragraph dre-variables\">380.000 danske husstande benytter <a href=\"https://ens.dk/presse/energistyrelsen-erklaerer-early-warning\" rel=\"noopener noreferrer\" target=\"_blank\">ifølge Energistyrelsen</a> naturgas til opvarmning via gasfyr. Det svarer til ca. 800.000 danskere.</p></div></div></div><figure class=\"dre-article-body-figure dre-article-body-figure--medium dre-article-body-figure--spacing\"><div><div class=\"dre-placeholder dre-placeholder--xxs dre-placeholder--xs dre-placeholder--sm dre-placeholder--md dre-placeholder--lg dre-placeholder--xl\" style=\"--dre-placeholder__height--xxs:calc(56.25vw - 2.5rem);--dre-placeholder__height--xs:calc(56.25vw - 2.5rem);--dre-placeholder__height--sm:21.796875rem;--dre-placeholder__height--md:29.8828125rem;--dre-placeholder__height--lg:29.8828125rem;--dre-placeholder__height--xl:29.8828125rem\"></div></div></figure><div class=\"dre-container\"><div class=\"dre-container__content dre-container__content--small\"><div class=\"dre-speech\"><h2 class=\"dre-article-body-sub-heading dre-variables\">Tyskerne vender sig tilbage mod kul</h2></div><div class=\"dre-speech\"><p class=\"dre-article-body-paragraph dre-variables\">Tyskland er blandt de europæiske lande, der er mest afhængig af den russiske gas. Men også flere andre europæiske lande, for eksempel Italien, er storforbrugere af gas, der kommer til Europa via Nord Stream 1.</p></div><div class=\"dre-speech\"><p class=\"dre-article-body-paragraph dre-variables\">Rusland er verdens største eksportør af naturgas. Europa importerer omkring 40 procent af sin gas fra Rusland gennem Tyskland, som sender den billige russiske gas videre til øvrige dele af Europa.</p></div><div class=\"dre-speech\"><p class=\"dre-article-body-paragraph dre-variables\">Nord Stream 1 er en 1.224 kilometer lang gasrørledning, som løber fra Rusland til Tyskland under Østersøen. Den har været i brug siden 2011.</p></div><div class=\"dre-speech\"><p class=\"dre-article-body-paragraph dre-variables\"><i>Gaskrisen har fået Tyskland til desperat at lede efter alternativer til gas til landets vigtige industri men også til private husholdninger. For eksempel ved at skifte over til den allermest forurenende energikilde. Nemlig kul. DR Nyheders korrespondent i Tyskland har været i Leipzig for at møde en kulhandler, der har kronede dage:</i></p></div></div></div><figure class=\"dre-article-body-figure dre-article-body-figure--medium dre-article-body-figure--spacing\"><div class=\"dre-video-player dre-variables\" itemscope=\"\" itemtype=\"https://schema.org/VideoObject\"><div class=\"dre-threshold-trigger dre-threshold-trigger--top dre-threshold-trigger--bottom\"></div><div class=\"dre-threshold-trigger dre-threshold-trigger--top dre-threshold-trigger--bottom\"></div><meta content=\"Gasforsyning via gasledningen Nordstream 1 til Europa bliver fra onsdag reduceret til 20 procent af den maksimale kapacitet.\" itemprop=\"description\"/><meta content=\"TVA 21.00 TYSKGAS\" itemprop=\"name\"/><meta content=\"https://www.dr.dk/mu-online/api/1.4/bar/62ded0dd539f032428c08fec\" itemprop=\"thumbnailUrl\"/><meta content=\"2022-07-25T18:55:00+00:00\" itemprop=\"uploadDate\"/><div><div class=\"dre-video-player__placeholder\"></div></div></div></figure><div class=\"dre-container\"><div class=\"dre-container__content dre-container__content--small\"><section class=\"dre-list dre-list--boxed dre-list--boxed-title dre-variables\" style=\"background-color:#f3f0ef\"><div class=\"dre-speech\"><h2 class=\"dre-list__title dre-list__title--boxed dre-list__title--boxed-title\">FAKTABOKS om Nord Stream 1</h2></div><ul class=\"dre-list__list dre-list__list--boxed dre-list__list--boxed-title\"><li class=\"dre-list-item\"><div class=\"dre-list-item__indicator\" style=\"color:#FF001E\">•</div><div class=\"dre-speech\"><span class=\"dre-list-item__content\"><p>Nord Stream 1 er 1224 kilometer lang og består af to gasrørledninger, som løber under Østersøen.</p></span></div></li><li class=\"dre-list-item\"><div class=\"dre-list-item__indicator\" style=\"color:#FF001E\">•</div><div class=\"dre-speech\"><span class=\"dre-list-item__content\"><p>De strækker sig fra Vyborg i Rusland til Lubmin i det nordøstlige Tyskland. Derfra transporteres gassen videre til øvrige dele af Europa.</p></span></div></li><li class=\"dre-list-item\"><div class=\"dre-list-item__indicator\" style=\"color:#FF001E\">•</div><div class=\"dre-speech\"><span class=\"dre-list-item__content\"><p>Den har været i brug siden 2011 og har dermed i over et årti - indtil Ruslands krig mod Ukraine - været en pålidelig kilde til gas til Europa.</p></span></div></li><li class=\"dre-list-item\"><div class=\"dre-list-item__indicator\" style=\"color:#FF001E\">•</div><div class=\"dre-speech\"><span class=\"dre-list-item__content\"><p>Den kan transportere 55 milliarder kubikmeter gas om året til Europa. Det er nok til at forsyne cirka 26 millioner europæiske hjem. Dermed er den særdeles vigtig for gasforsyningen til Europa.</p></span></div></li><li class=\"dre-list-item\"><div class=\"dre-list-item__indicator\" style=\"color:#FF001E\">•</div><div class=\"dre-speech\"><span class=\"dre-list-item__content\"><p>Ruslands statsejede gasselskab Gazprom ejer 51 procent af Nord Stream 1. Tysklands EON og Wintershall Dea, hollandske Gasunie og Frankrigs Engie er også aktionærer.</p></span></div></li><li class=\"dre-list-item\"><div class=\"dre-list-item__indicator\" style=\"color:#FF001E\">•</div><div class=\"dre-speech\"><span class=\"dre-list-item__content\"><p>Projektet er længe blevet set som en model for økonomisk samarbejde mellem Rusland og EU, hvor lande som Tyskland og Italien er blevet stærkt afhængige af den billige russiske gas.</p></span></div></li><li class=\"dre-list-item\"><div class=\"dre-list-item__indicator\" style=\"color:#FF001E\">•</div><div class=\"dre-speech\"><span class=\"dre-list-item__content\"><p>Rusland er verdens største eksportør af naturgas. Europa importerer omkring 40 procent af sin gas fra Rusland.</p></span></div></li><li class=\"dre-list-item\"><div class=\"dre-list-item__indicator\" style=\"color:#FF001E\">•</div><div class=\"dre-speech\"><span class=\"dre-list-item__content\"><p><i>Kilder: AFP og Reuters af /ritzau/</i></p></span></div></li></ul></section></div></div></div>"
      ]
     },
     "execution_count": 29,
     "metadata": {},
     "output_type": "execute_result"
    }
   ],
   "source": [
    "# We locate the body of the article:\n",
    "body = soup.find('div', class_ = 'dre-article-body')\n",
    "body"
   ]
  },
  {
   "cell_type": "markdown",
   "metadata": {
    "slideshow": {
     "slide_type": "subslide"
    }
   },
   "source": [
    "This body consists of both sections with text and figures. We want it all.\n",
    "\n",
    "But sections and figures have different tags, so we cannot just use `find_all` to find all elements in the body.\n",
    "\n",
    "Instead we can use [`.children`](https://www.crummy.com/software/BeautifulSoup/bs4/doc/#contents-and-children). It finds all children of the element body:"
   ]
  },
  {
   "cell_type": "code",
   "execution_count": 30,
   "metadata": {
    "slideshow": {
     "slide_type": "fragment"
    }
   },
   "outputs": [],
   "source": [
    "body_text = []\n",
    "for child in body.children:\n",
    "    body_text.append(child.text)"
   ]
  },
  {
   "cell_type": "code",
   "execution_count": 31,
   "metadata": {
    "scrolled": true,
    "slideshow": {
     "slide_type": "fragment"
    }
   },
   "outputs": [
    {
     "data": {
      "text/plain": [
       "['Gazprom halverer gasleverancerne til Europa via Nord Stream 1. Årsagen er ifølge selskabet vedligehold af en gasturbine. Den daglige gasforsyning via gasledningen vil fra onsdag morgen blive reduceret til 33 millioner kubikmeter, oplyser Gazprom.Det svarer til cirka 20 procent af den maksimale kapacitet, og det fremgår ikke, hvor længe den yderligt reducerede forsyning af gas vil stå på.',\n",
       " '',\n",
       " 'Den tyske regering anser den forklaringen om vedligeholdelse for at være opfundet til lejligheden.- Ifølge vores oplysninger er der ingen teknisk grund til en reduktion i leverancerne, siger en talskvinde for Finansministeriet og minister Robert Habeck til Frankfurter Allgemeine Zeitung.Tyskerne får 25 procent af deres energi fra gas, hvor en overvejende del er kommet fra Rusland.Gasprisen stiger med 10 procentDet er anden gang indenfor en uge, at Gazprom reducerer leverancen af gas under påskud af reperation af gasturbiner. Da Gazprom efter ti dages vedligehold i sidste uge genåbnede for gasforsyningen til Tyskland, var meldingen, at der dagligt ville blive leveret cirka 67 millioner kubikmeter.Gazproms seneste melding betyder altså, at leverancerne til Europa bliver omtrent halveret fra onsdag. Gasledningen kan, når den kører for fuld kraft, levere cirka 167 millioner kubikmeter gas om dagen.',\n",
       " 'Nordstream 1-faciliter i Lubmin i Tyskland. (Arkiv) (Foto:\\xa0©\\xa0HANNIBAL HANSCHKE, Ritzau Scanpix)',\n",
       " 'Den ledende europæiske gaspris er mandag aften steget med op til ti procent efter udmeldingen fra Gazprom. Det er fjerde dag i træk, at gasprisen stiger, skriver finansmediet Marketwire ifølge Rtizau.Nord Stream 1 transporterer normalt hvert år 55 milliarder kubikmeter gas fra Rusland til Tyskland under Østersøen. Det er nok til at forsyne cirka 26 millioner europæiske hjem.Den tyske formand for det føderale agentur for digitalisering, klimaneutralitet og modstandsdygtighed, Klaus Müller, bekræfter, at den nuværende levering halveres fra onsdag.',\n",
       " '',\n",
       " 'Stormagter i Europa har anklaget Rusland for at bruge gas som et afpresningsmiddel over for Europa, fordi EU har indført sanktioner mod Rusland på grund af krigen i Ukraine. Ifølge Tyskland er der \"ingen tekniske grunde\" til den reducerede gasforsyning fra Nord Stream 1, som Gazprom ellers hævder.380.000 danske husstande benytter ifølge Energistyrelsen naturgas til opvarmning via gasfyr. Det svarer til ca. 800.000 danskere.',\n",
       " '',\n",
       " 'Tyskerne vender sig tilbage mod kulTyskland er blandt de europæiske lande, der er mest afhængig af den russiske gas. Men også flere andre europæiske lande, for eksempel Italien, er storforbrugere af gas, der kommer til Europa via Nord Stream 1.Rusland er verdens største eksportør af naturgas. Europa importerer omkring 40 procent af sin gas fra Rusland gennem Tyskland, som sender den billige russiske gas videre til øvrige dele af Europa.Nord Stream 1 er en 1.224 kilometer lang gasrørledning, som løber fra Rusland til Tyskland under Østersøen. Den har været i brug siden 2011.Gaskrisen har fået Tyskland til desperat at lede efter alternativer til gas til landets vigtige industri men også til private husholdninger. For eksempel ved at skifte over til den allermest forurenende energikilde. Nemlig kul. DR Nyheders korrespondent i Tyskland har været i Leipzig for at møde en kulhandler, der har kronede dage:',\n",
       " '',\n",
       " 'FAKTABOKS om Nord Stream 1•Nord Stream 1 er 1224 kilometer lang og består af to gasrørledninger, som løber under Østersøen.•De strækker sig fra Vyborg i Rusland til Lubmin i det nordøstlige Tyskland. Derfra transporteres gassen videre til øvrige dele af Europa.•Den har været i brug siden 2011 og har dermed i over et årti - indtil Ruslands krig mod Ukraine - været en pålidelig kilde til gas til Europa.•Den kan transportere 55 milliarder kubikmeter gas om året til Europa. Det er nok til at forsyne cirka 26 millioner europæiske hjem. Dermed er den særdeles vigtig for gasforsyningen til Europa.•Ruslands statsejede gasselskab Gazprom ejer 51 procent af Nord Stream 1. Tysklands EON og Wintershall Dea, hollandske Gasunie og Frankrigs Engie er også aktionærer.•Projektet er længe blevet set som en model for økonomisk samarbejde mellem Rusland og EU, hvor lande som Tyskland og Italien er blevet stærkt afhængige af den billige russiske gas.•Rusland er verdens største eksportør af naturgas. Europa importerer omkring 40 procent af sin gas fra Rusland.•Kilder: AFP og Reuters af /ritzau/']"
      ]
     },
     "execution_count": 31,
     "metadata": {},
     "output_type": "execute_result"
    }
   ],
   "source": [
    "body_text"
   ]
  },
  {
   "cell_type": "markdown",
   "metadata": {
    "slideshow": {
     "slide_type": "subslide"
    }
   },
   "source": [
    "Note: We have used `.text` to get the text of the HTML. The figure elements do not contain any text, so they will just be empty. \n",
    "\n",
    "We can use `.join()` to join all the strings in the list. Just join it on an empty string:"
   ]
  },
  {
   "cell_type": "code",
   "execution_count": 32,
   "metadata": {
    "scrolled": true,
    "slideshow": {
     "slide_type": "fragment"
    },
    "tags": []
   },
   "outputs": [
    {
     "data": {
      "text/plain": [
       "'Gazprom halverer gasleverancerne til Europa via Nord Stream 1. Årsagen er ifølge selskabet vedligehold af en gasturbine. Den daglige gasforsyning via gasledningen vil fra onsdag morgen blive reduceret til 33 millioner kubikmeter, oplyser Gazprom.Det svarer til cirka 20 procent af den maksimale kapacitet, og det fremgår ikke, hvor længe den yderligt reducerede forsyning af gas vil stå på.Den tyske regering anser den forklaringen om vedligeholdelse for at være opfundet til lejligheden.- Ifølge vores oplysninger er der ingen teknisk grund til en reduktion i leverancerne, siger en talskvinde for Finansministeriet og minister Robert Habeck til Frankfurter Allgemeine Zeitung.Tyskerne får 25 procent af deres energi fra gas, hvor en overvejende del er kommet fra Rusland.Gasprisen stiger med 10 procentDet er anden gang indenfor en uge, at Gazprom reducerer leverancen af gas under påskud af reperation af gasturbiner. Da Gazprom efter ti dages vedligehold i sidste uge genåbnede for gasforsyningen til Tyskland, var meldingen, at der dagligt ville blive leveret cirka 67 millioner kubikmeter.Gazproms seneste melding betyder altså, at leverancerne til Europa bliver omtrent halveret fra onsdag. Gasledningen kan, når den kører for fuld kraft, levere cirka 167 millioner kubikmeter gas om dagen.Nordstream 1-faciliter i Lubmin i Tyskland. (Arkiv) (Foto:\\xa0©\\xa0HANNIBAL HANSCHKE, Ritzau Scanpix)Den ledende europæiske gaspris er mandag aften steget med op til ti procent efter udmeldingen fra Gazprom. Det er fjerde dag i træk, at gasprisen stiger, skriver finansmediet Marketwire ifølge Rtizau.Nord Stream 1 transporterer normalt hvert år 55 milliarder kubikmeter gas fra Rusland til Tyskland under Østersøen. Det er nok til at forsyne cirka 26 millioner europæiske hjem.Den tyske formand for det føderale agentur for digitalisering, klimaneutralitet og modstandsdygtighed, Klaus Müller, bekræfter, at den nuværende levering halveres fra onsdag.Stormagter i Europa har anklaget Rusland for at bruge gas som et afpresningsmiddel over for Europa, fordi EU har indført sanktioner mod Rusland på grund af krigen i Ukraine. Ifølge Tyskland er der \"ingen tekniske grunde\" til den reducerede gasforsyning fra Nord Stream 1, som Gazprom ellers hævder.380.000 danske husstande benytter ifølge Energistyrelsen naturgas til opvarmning via gasfyr. Det svarer til ca. 800.000 danskere.Tyskerne vender sig tilbage mod kulTyskland er blandt de europæiske lande, der er mest afhængig af den russiske gas. Men også flere andre europæiske lande, for eksempel Italien, er storforbrugere af gas, der kommer til Europa via Nord Stream 1.Rusland er verdens største eksportør af naturgas. Europa importerer omkring 40 procent af sin gas fra Rusland gennem Tyskland, som sender den billige russiske gas videre til øvrige dele af Europa.Nord Stream 1 er en 1.224 kilometer lang gasrørledning, som løber fra Rusland til Tyskland under Østersøen. Den har været i brug siden 2011.Gaskrisen har fået Tyskland til desperat at lede efter alternativer til gas til landets vigtige industri men også til private husholdninger. For eksempel ved at skifte over til den allermest forurenende energikilde. Nemlig kul. DR Nyheders korrespondent i Tyskland har været i Leipzig for at møde en kulhandler, der har kronede dage:FAKTABOKS om Nord Stream 1•Nord Stream 1 er 1224 kilometer lang og består af to gasrørledninger, som løber under Østersøen.•De strækker sig fra Vyborg i Rusland til Lubmin i det nordøstlige Tyskland. Derfra transporteres gassen videre til øvrige dele af Europa.•Den har været i brug siden 2011 og har dermed i over et årti - indtil Ruslands krig mod Ukraine - været en pålidelig kilde til gas til Europa.•Den kan transportere 55 milliarder kubikmeter gas om året til Europa. Det er nok til at forsyne cirka 26 millioner europæiske hjem. Dermed er den særdeles vigtig for gasforsyningen til Europa.•Ruslands statsejede gasselskab Gazprom ejer 51 procent af Nord Stream 1. Tysklands EON og Wintershall Dea, hollandske Gasunie og Frankrigs Engie er også aktionærer.•Projektet er længe blevet set som en model for økonomisk samarbejde mellem Rusland og EU, hvor lande som Tyskland og Italien er blevet stærkt afhængige af den billige russiske gas.•Rusland er verdens største eksportør af naturgas. Europa importerer omkring 40 procent af sin gas fra Rusland.•Kilder: AFP og Reuters af /ritzau/'"
      ]
     },
     "execution_count": 32,
     "metadata": {},
     "output_type": "execute_result"
    }
   ],
   "source": [
    "''.join(body_text)"
   ]
  }
 ],
 "metadata": {
  "celltoolbar": "Slideshow",
  "kernelspec": {
   "display_name": "Python 3 (ipykernel)",
   "language": "python",
   "name": "python3"
  },
  "language_info": {
   "codemirror_mode": {
    "name": "ipython",
    "version": 3
   },
   "file_extension": ".py",
   "mimetype": "text/x-python",
   "name": "python",
   "nbconvert_exporter": "python",
   "pygments_lexer": "ipython3",
   "version": "3.9.16"
  },
  "latex_envs": {
   "bibliofile": "biblio.bib",
   "cite_by": "apalike",
   "current_citInitial": 1,
   "eqLabelWithNumbers": true,
   "eqNumInitial": 0
  },
  "toc": {
   "nav_menu": {
    "height": "328px",
    "width": "252px"
   },
   "navigate_menu": true,
   "number_sections": true,
   "sideBar": true,
   "threshold": 4,
   "toc_cell": false,
   "toc_section_display": "block",
   "toc_window_display": false
  }
 },
 "nbformat": 4,
 "nbformat_minor": 4
}
