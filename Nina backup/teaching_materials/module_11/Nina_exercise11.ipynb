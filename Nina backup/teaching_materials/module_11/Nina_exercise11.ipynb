{
 "cells": [
  {
   "cell_type": "markdown",
   "metadata": {
    "ExecuteTime": {
     "end_time": "2017-08-23T15:30:03.634114Z",
     "start_time": "2017-08-23T15:30:03.629294Z"
    }
   },
   "source": [
    "# Videos and Exercises for Session 11: Regression and Regularization\n",
    "\n",
    "In this combined teaching module and exercise set, you will learn about linear regression models in a machine learning perspective. We will see how overfitting can arise and how we can tackle it with a modification of the linear regression model.\n",
    "\n",
    "The structure of this notebook is as follows:\n",
    "1. Linear Regression Mechanics\n",
    "2. Overfitting and Underfitting in Linear Regression\n",
    "    - Exploring Overfitting in Linear Regression\n",
    "    - A Cure for Overfitting in Linear Regression\n",
    "3. Modelling Houseprices (Exercise)"
   ]
  },
  {
   "cell_type": "markdown",
   "metadata": {},
   "source": [
    "## Packages\n",
    "First, we need to import our standard stuff. Notice that we are not interested in seeing the convergence warning in scikit-learn, so we suppress them for now."
   ]
  },
  {
   "cell_type": "code",
   "execution_count": 31,
   "metadata": {},
   "outputs": [],
   "source": [
    "import warnings\n",
    "from sklearn.exceptions import ConvergenceWarning\n",
    "warnings.filterwarnings(action='ignore', category=ConvergenceWarning)\n",
    "\n",
    "import matplotlib.pyplot as plt\n",
    "import numpy as np \n",
    "import pandas as pd \n",
    "import seaborn as sns\n",
    "\n",
    "%matplotlib inline"
   ]
  },
  {
   "cell_type": "markdown",
   "metadata": {},
   "source": [
    "# Part 1: Linear Regression Mechanics\n",
    "## Implementing and evaluating the gradient decent \n",
    " \n",
    "Normally we use OLS to estimate linear regression models, but this is only way of solving the problem of minimizing the least squares problem (that minimizes the sum of squared errors). In the video below we show how to implement gradient descent below and compare it along with other approximate solutions to OLS."
   ]
  },
  {
   "cell_type": "code",
   "execution_count": 32,
   "metadata": {},
   "outputs": [
    {
     "data": {
      "image/jpeg": "[encoded data removed]",
      "text/html": [
       "\n",
       "        <iframe\n",
       "            width=\"640\"\n",
       "            height=\"360\"\n",
       "            src=\"https://www.youtube.com/embed/XidjsIseyv0\"\n",
       "            frameborder=\"0\"\n",
       "            allowfullscreen\n",
       "            \n",
       "        ></iframe>\n",
       "        "
      ],
      "text/plain": [
       "<IPython.lib.display.YouTubeVideo at 0x7fa398b1c0a0>"
      ]
     },
     "execution_count": 32,
     "metadata": {},
     "output_type": "execute_result"
    }
   ],
   "source": [
    "from IPython.display import YouTubeVideo\n",
    "YouTubeVideo('XidjsIseyv0', width=640, height=360)"
   ]
  },
  {
   "cell_type": "markdown",
   "metadata": {},
   "source": [
    "We continue straight to an exercise where you are to implement a new estimator that we code up from scratch. We solve the numerical optimization using the gradient decent algorithm. This will be very similar to what we just saw in the video, but we will pay a bit more attention to each step in the process.\n",
    "\n",
    "Using our algorithm, we will fit it to some data, and compare our own solution to the standard solution from `sklearn`"
   ]
  },
  {
   "cell_type": "markdown",
   "metadata": {},
   "source": [
    "> **Ex. 11.1.0**: Import the dataset `tips` from the `seaborn`.\n",
    "\n",
    "\n",
    "*Hint*: use the `load_dataset` method in seaborn"
   ]
  },
  {
   "cell_type": "code",
   "execution_count": 33,
   "metadata": {
    "deletable": false,
    "nbgrader": {
     "cell_type": "code",
     "checksum": "6e812556b5b6774ba76a4a1ccb89a169",
     "grade": false,
     "grade_id": "cell-2dd56f36f76bce57",
     "locked": false,
     "schema_version": 3,
     "solution": true,
     "task": false
    }
   },
   "outputs": [
    {
     "data": {
      "text/html": [
       "<div>\n",
       "<style scoped>\n",
       "    .dataframe tbody tr th:only-of-type {\n",
       "        vertical-align: middle;\n",
       "    }\n",
       "\n",
       "    .dataframe tbody tr th {\n",
       "        vertical-align: top;\n",
       "    }\n",
       "\n",
       "    .dataframe thead th {\n",
       "        text-align: right;\n",
       "    }\n",
       "</style>\n",
       "<table border=\"1\" class=\"dataframe\">\n",
       "  <thead>\n",
       "    <tr style=\"text-align: right;\">\n",
       "      <th></th>\n",
       "      <th>total_bill</th>\n",
       "      <th>tip</th>\n",
       "      <th>sex</th>\n",
       "      <th>smoker</th>\n",
       "      <th>day</th>\n",
       "      <th>time</th>\n",
       "      <th>size</th>\n",
       "    </tr>\n",
       "  </thead>\n",
       "  <tbody>\n",
       "    <tr>\n",
       "      <th>0</th>\n",
       "      <td>16.99</td>\n",
       "      <td>1.01</td>\n",
       "      <td>Female</td>\n",
       "      <td>No</td>\n",
       "      <td>Sun</td>\n",
       "      <td>Dinner</td>\n",
       "      <td>2</td>\n",
       "    </tr>\n",
       "    <tr>\n",
       "      <th>1</th>\n",
       "      <td>10.34</td>\n",
       "      <td>1.66</td>\n",
       "      <td>Male</td>\n",
       "      <td>No</td>\n",
       "      <td>Sun</td>\n",
       "      <td>Dinner</td>\n",
       "      <td>3</td>\n",
       "    </tr>\n",
       "    <tr>\n",
       "      <th>2</th>\n",
       "      <td>21.01</td>\n",
       "      <td>3.50</td>\n",
       "      <td>Male</td>\n",
       "      <td>No</td>\n",
       "      <td>Sun</td>\n",
       "      <td>Dinner</td>\n",
       "      <td>3</td>\n",
       "    </tr>\n",
       "    <tr>\n",
       "      <th>3</th>\n",
       "      <td>23.68</td>\n",
       "      <td>3.31</td>\n",
       "      <td>Male</td>\n",
       "      <td>No</td>\n",
       "      <td>Sun</td>\n",
       "      <td>Dinner</td>\n",
       "      <td>2</td>\n",
       "    </tr>\n",
       "    <tr>\n",
       "      <th>4</th>\n",
       "      <td>24.59</td>\n",
       "      <td>3.61</td>\n",
       "      <td>Female</td>\n",
       "      <td>No</td>\n",
       "      <td>Sun</td>\n",
       "      <td>Dinner</td>\n",
       "      <td>4</td>\n",
       "    </tr>\n",
       "    <tr>\n",
       "      <th>...</th>\n",
       "      <td>...</td>\n",
       "      <td>...</td>\n",
       "      <td>...</td>\n",
       "      <td>...</td>\n",
       "      <td>...</td>\n",
       "      <td>...</td>\n",
       "      <td>...</td>\n",
       "    </tr>\n",
       "    <tr>\n",
       "      <th>239</th>\n",
       "      <td>29.03</td>\n",
       "      <td>5.92</td>\n",
       "      <td>Male</td>\n",
       "      <td>No</td>\n",
       "      <td>Sat</td>\n",
       "      <td>Dinner</td>\n",
       "      <td>3</td>\n",
       "    </tr>\n",
       "    <tr>\n",
       "      <th>240</th>\n",
       "      <td>27.18</td>\n",
       "      <td>2.00</td>\n",
       "      <td>Female</td>\n",
       "      <td>Yes</td>\n",
       "      <td>Sat</td>\n",
       "      <td>Dinner</td>\n",
       "      <td>2</td>\n",
       "    </tr>\n",
       "    <tr>\n",
       "      <th>241</th>\n",
       "      <td>22.67</td>\n",
       "      <td>2.00</td>\n",
       "      <td>Male</td>\n",
       "      <td>Yes</td>\n",
       "      <td>Sat</td>\n",
       "      <td>Dinner</td>\n",
       "      <td>2</td>\n",
       "    </tr>\n",
       "    <tr>\n",
       "      <th>242</th>\n",
       "      <td>17.82</td>\n",
       "      <td>1.75</td>\n",
       "      <td>Male</td>\n",
       "      <td>No</td>\n",
       "      <td>Sat</td>\n",
       "      <td>Dinner</td>\n",
       "      <td>2</td>\n",
       "    </tr>\n",
       "    <tr>\n",
       "      <th>243</th>\n",
       "      <td>18.78</td>\n",
       "      <td>3.00</td>\n",
       "      <td>Female</td>\n",
       "      <td>No</td>\n",
       "      <td>Thur</td>\n",
       "      <td>Dinner</td>\n",
       "      <td>2</td>\n",
       "    </tr>\n",
       "  </tbody>\n",
       "</table>\n",
       "<p>244 rows × 7 columns</p>\n",
       "</div>"
      ],
      "text/plain": [
       "     total_bill   tip     sex smoker   day    time  size\n",
       "0         16.99  1.01  Female     No   Sun  Dinner     2\n",
       "1         10.34  1.66    Male     No   Sun  Dinner     3\n",
       "2         21.01  3.50    Male     No   Sun  Dinner     3\n",
       "3         23.68  3.31    Male     No   Sun  Dinner     2\n",
       "4         24.59  3.61  Female     No   Sun  Dinner     4\n",
       "..          ...   ...     ...    ...   ...     ...   ...\n",
       "239       29.03  5.92    Male     No   Sat  Dinner     3\n",
       "240       27.18  2.00  Female    Yes   Sat  Dinner     2\n",
       "241       22.67  2.00    Male    Yes   Sat  Dinner     2\n",
       "242       17.82  1.75    Male     No   Sat  Dinner     2\n",
       "243       18.78  3.00  Female     No  Thur  Dinner     2\n",
       "\n",
       "[244 rows x 7 columns]"
      ]
     },
     "execution_count": 33,
     "metadata": {},
     "output_type": "execute_result"
    }
   ],
   "source": [
    "# Load the tips dataset\n",
    "tips = sns.load_dataset('tips')\n",
    "\n",
    "# Display the first few rows of the dataset\n",
    "tips"
   ]
  },
  {
   "cell_type": "markdown",
   "metadata": {},
   "source": [
    "> **Ex. 11.1.1**: Convert non-numeric variables to dummy variables for each category (remember to leave one column out for each catagorical variable, so you have a reference). Restructure the data so we get a dataset `y` containing the variable tip, and a dataset `X` containing the \n",
    "features. \n",
    "\n",
    "> *Hint*: You might want to use the `get_dummies` method in pandas, with the `drop_first = True` parameter. "
   ]
  },
  {
   "cell_type": "code",
   "execution_count": 34,
   "metadata": {
    "deletable": false,
    "nbgrader": {
     "cell_type": "code",
     "checksum": "2ce55b897e3acd6727916dffe21150f6",
     "grade": false,
     "grade_id": "cell-2e42eb4f59160bed",
     "locked": false,
     "schema_version": 3,
     "solution": true,
     "task": false
    }
   },
   "outputs": [
    {
     "name": "stdout",
     "output_type": "stream",
     "text": [
      "Target variable (y):\n",
      "0    1.01\n",
      "1    1.66\n",
      "2    3.50\n",
      "3    3.31\n",
      "4    3.61\n",
      "Name: tip, dtype: float64\n",
      "\n",
      "Features (X):\n",
      "   total_bill  size  sex_Female  smoker_No  day_Fri  day_Sat  day_Sun  \\\n",
      "0       16.99     2           1          1        0        0        1   \n",
      "1       10.34     3           0          1        0        0        1   \n",
      "2       21.01     3           0          1        0        0        1   \n",
      "3       23.68     2           0          1        0        0        1   \n",
      "4       24.59     4           1          1        0        0        1   \n",
      "\n",
      "   time_Dinner  \n",
      "0            1  \n",
      "1            1  \n",
      "2            1  \n",
      "3            1  \n",
      "4            1  \n"
     ]
    }
   ],
   "source": [
    "# Convert non-numeric variables to dummy variables\n",
    "tips_dummies = pd.get_dummies(tips, columns=['sex', 'smoker', 'day', 'time'], drop_first=True)\n",
    "\n",
    "# Create the target variable (y) and features (X)\n",
    "X = tips_dummies.drop('tip', axis=1)\n",
    "y = tips_dummies['tip']\n",
    "\n",
    "# Display the first few rows of the restructured data\n",
    "print(\"Target variable (y):\")\n",
    "print(y.head())\n",
    "\n",
    "print(\"\\nFeatures (X):\")\n",
    "print(X.head())"
   ]
  },
  {
   "cell_type": "markdown",
   "metadata": {},
   "source": [
    "> **Ex. 11.1.2**: Divide the features and target into test and train data. Make the split 50 pct. of each. The split data should be called `X_train`, `X_test`, `y_train`, `y_test`.\n",
    "\n",
    "> *Hint*: You may use `train_test_split` in `sklearn.model_selection`."
   ]
  },
  {
   "cell_type": "code",
   "execution_count": 35,
   "metadata": {
    "deletable": false,
    "nbgrader": {
     "cell_type": "code",
     "checksum": "eb3675bb8e21477c6f5c76f67a3a5ed0",
     "grade": false,
     "grade_id": "cell-ba197171f1b2bfef",
     "locked": false,
     "schema_version": 3,
     "solution": true,
     "task": false
    }
   },
   "outputs": [
    {
     "name": "stdout",
     "output_type": "stream",
     "text": [
      "X_train shape: (122, 8)\n",
      "X_test shape: (122, 8)\n",
      "y_train shape: (122,)\n",
      "y_test shape: (122,)\n"
     ]
    }
   ],
   "source": [
    "from sklearn.model_selection import train_test_split\n",
    "\n",
    "# Divide the data into test and train data\n",
    "X_train, X_test, y_train, y_test = train_test_split(X, y, test_size=0.5, random_state=161193)\n",
    "\n",
    "# Display the shapes of the train and test data\n",
    "print(\"X_train shape:\", X_train.shape)\n",
    "print(\"X_test shape:\", X_test.shape)\n",
    "print(\"y_train shape:\", y_train.shape)\n",
    "print(\"y_test shape:\", y_test.shape)"
   ]
  },
  {
   "cell_type": "markdown",
   "metadata": {},
   "source": [
    "> **Ex. 11.1.3**: Normalize your features by converting to zero mean and one std. deviation.\n",
    "\n",
    "> *Hint*: Take a look at `StandardScaler` in `sklearn.preprocessing`. If in doubt about which distribution to scale, you may read [this post](https://stats.stackexchange.com/questions/174823/how-to-apply-standardization-normalization-to-train-and-testset-if-prediction-i)."
   ]
  },
  {
   "cell_type": "code",
   "execution_count": 36,
   "metadata": {
    "deletable": false,
    "nbgrader": {
     "cell_type": "code",
     "checksum": "5a4d5e2ed6417f454e18385a2804a19b",
     "grade": false,
     "grade_id": "cell-8ab591d5927be1d5",
     "locked": false,
     "schema_version": 3,
     "solution": true,
     "task": false
    }
   },
   "outputs": [
    {
     "name": "stdout",
     "output_type": "stream",
     "text": [
      "Scaled X_train:\n",
      "[[-0.62587655 -0.6624478   1.28536917  0.80538727 -0.31480009 -0.64699664\n",
      "   1.45883691  0.68547758]\n",
      " [-0.37833649 -0.6624478   1.28536917  0.80538727 -0.31480009 -0.64699664\n",
      "   1.45883691  0.68547758]\n",
      " [-1.17138148 -1.67268068  1.28536917  0.80538727 -0.31480009 -0.64699664\n",
      "  -0.68547758 -1.45883691]\n",
      " [-0.78746519 -0.6624478  -0.77798661 -1.2416387   3.17661913 -0.64699664\n",
      "  -0.68547758 -1.45883691]\n",
      " [-0.30957537  0.34778509 -0.77798661  0.80538727 -0.31480009  1.54560308\n",
      "  -0.68547758  0.68547758]]\n"
     ]
    }
   ],
   "source": [
    "from sklearn.preprocessing import StandardScaler\n",
    "\n",
    "# Create a StandardScaler object\n",
    "scaler = StandardScaler()\n",
    "\n",
    "# Fit the scaler to the training data and transform both training and test data\n",
    "X_train = scaler.fit_transform(X_train)\n",
    "X_test = scaler.transform(X_test)\n",
    "\n",
    "# Display the first few rows of the scaled training data\n",
    "print(\"Scaled X_train:\")\n",
    "print(X_train[:5, :])\n"
   ]
  },
  {
   "cell_type": "markdown",
   "metadata": {},
   "source": [
    "> **Ex. 11.1.4**: Make a function called `compute_error` to compute the prediction errors given input target `y_`, input features `X_` and input weights `w_`. You should use matrix multiplication.\n",
    ">\n",
    "> *Hint:* You can use the net-input fct. from yesterday.\n",
    "\n"
   ]
  },
  {
   "cell_type": "code",
   "execution_count": 37,
   "metadata": {
    "deletable": false,
    "nbgrader": {
     "cell_type": "code",
     "checksum": "b03c6de7d3488e832c4d3eb123587e17",
     "grade": false,
     "grade_id": "cell-a70101715bbbb443",
     "locked": false,
     "schema_version": 3,
     "solution": true,
     "task": false
    }
   },
   "outputs": [],
   "source": [
    "def net_input(X_, w_):    \n",
    "    ''' Computes the matrix product between X and w. Note that\n",
    "    X is assumed not to contain a bias/intercept column.'''\n",
    "    return np.dot(X_, w_[1:]) + w_[0]   # We have to add w_[0] separately because this is the constant term. We could also have added a constant term (columns of 1's to X_ and multipliced it to all of w_)\n",
    "\n",
    "def compute_error(y_, X_, w_):\n",
    "    return y_ - net_input(X_, w_)"
   ]
  },
  {
   "cell_type": "markdown",
   "metadata": {},
   "source": [
    "> **Ex. 11.1.5**: Make a function to update the weights given input target `y_`, input features `X_` and input weights `w_` as well as learning rate, $\\eta$, i.e. greek `eta`. You should use matrix multiplication."
   ]
  },
  {
   "cell_type": "code",
   "execution_count": 38,
   "metadata": {},
   "outputs": [],
   "source": [
    "# INCLUDED IN ASSIGNMENT 2"
   ]
  },
  {
   "cell_type": "code",
   "execution_count": 39,
   "metadata": {
    "deletable": false,
    "nbgrader": {
     "cell_type": "code",
     "checksum": "6cd45bb01781e944c41227e59873a6df",
     "grade": false,
     "grade_id": "cell-049443f1aafb8903",
     "locked": false,
     "schema_version": 3,
     "solution": true,
     "task": false
    }
   },
   "outputs": [],
   "source": [
    "def update_weights(y_, X_, w_, eta):\n",
    "    errors = compute_error(y_, X_, w_)\n",
    "    update = eta * (np.dot(X_.T, errors))\n",
    "    w_[1:] += update\n",
    "    w_[0] += eta * errors.sum()\n",
    "    return w_\n"
   ]
  },
  {
   "cell_type": "markdown",
   "metadata": {},
   "source": [
    "> **Ex. 11.1.6**: Use the code below to initialize weights `w` at zero given feature set `X`. Notice how we include an extra weight that includes the bias term. Set the learning rate `eta` to 0.001. Make a loop with 50 iterations where you iteratively apply your weight updating function. \n",
    "\n",
    ">```python\n",
    "w = np.zeros(1+X_train.shape[1])\n",
    "```"
   ]
  },
  {
   "cell_type": "code",
   "execution_count": 40,
   "metadata": {},
   "outputs": [],
   "source": [
    "# INCLUDED IN ASSIGNMENT 2"
   ]
  },
  {
   "cell_type": "code",
   "execution_count": 41,
   "metadata": {
    "deletable": false,
    "nbgrader": {
     "cell_type": "code",
     "checksum": "6308f5593a6e65ab57b86368ceef6669",
     "grade": false,
     "grade_id": "cell-74c4170d3d5fe322",
     "locked": false,
     "schema_version": 3,
     "solution": true,
     "task": false
    }
   },
   "outputs": [
    {
     "name": "stdout",
     "output_type": "stream",
     "text": [
      "Updated Weights after Iterative Updating:\n",
      "[ 3.00312568e+00  5.67868318e-01  3.00163110e-01  6.97063694e-02\n",
      " -2.30972896e-02  1.91950183e-02 -1.31418692e-01  1.42525210e-03\n",
      "  5.82506023e-02]\n"
     ]
    }
   ],
   "source": [
    "w = np.zeros(1 + X_train.shape[1])\n",
    "eta = 0.001\n",
    "num_iterations = 50\n",
    "\n",
    "for _ in range(num_iterations):\n",
    "    w = update_weights(y_train, X_train, w, eta)\n",
    "\n",
    "# Print the updated weights after the iterations\n",
    "print(\"Updated Weights after Iterative Updating:\")\n",
    "print(w)"
   ]
  },
  {
   "cell_type": "markdown",
   "metadata": {},
   "source": [
    "> **Ex. 11.1.7**: Make a function to compute the mean squared error. Alter the loop so it makes 100 iterations and computes the MSE for test and train after each iteration, plot these in one figure. \n",
    "\n",
    "> Hint: You can use the following code to check that your model works:\n",
    ">```python\n",
    "from sklearn.linear_model import LinearRegression\n",
    "reg = LinearRegression()\n",
    "reg.fit(X_train, y_train)\n",
    "assert((w[1:] - reg.coef_).sum() < 0.01)\n",
    "```"
   ]
  },
  {
   "cell_type": "code",
   "execution_count": 42,
   "metadata": {
    "deletable": false,
    "nbgrader": {
     "cell_type": "code",
     "checksum": "863ac125b673cb711cfc5269a05d1bf5",
     "grade": false,
     "grade_id": "cell-5cabc75ac6152434",
     "locked": false,
     "schema_version": 3,
     "solution": true,
     "task": false
    }
   },
   "outputs": [
    {
     "data": {
      "text/plain": [
       "<AxesSubplot:>"
      ]
     },
     "execution_count": 42,
     "metadata": {},
     "output_type": "execute_result"
    },
    {
     "data": {
      "image/png": "[encoded data removed]",
      "text/plain": [
       "<Figure size 640x480 with 1 Axes>"
      ]
     },
     "metadata": {},
     "output_type": "display_data"
    }
   ],
   "source": [
    "def MSE(y_,X_,w_):\n",
    "    return (compute_error(y_, X_, w_)**2).mean()\n",
    "    \n",
    "w = np.zeros(1+X_train.shape[1])\n",
    "\n",
    "MSE_train = [MSE(y_train, X_train, w)]\n",
    "MSE_test = [MSE(y_test, X_test, w)]\n",
    "\n",
    "for i in range(100):\n",
    "    w = update_weights(y_train, X_train, w, eta)\n",
    "    MSE_train.append(MSE(y_train, X_train, w))\n",
    "    MSE_test.append(MSE(y_test, X_test, w))\n",
    "\n",
    "pd.Series(MSE_train).plot()\n",
    "pd.Series(MSE_test).plot()\n"
   ]
  },
  {
   "cell_type": "markdown",
   "metadata": {},
   "source": [
    "# Part 2: Overfitting and Underfitting in Linear Regression \n",
    "\n",
    "## Exploring Overfitting in Linear Regression\n",
    "How does overfitting manifest itself in linear regression? In the video below we simulate what happens as make a better and better taylor approximation, i.e. we estimate a polynomial of higher and higher order. Two issues arise simultaneously - one is related to the number of parameters and the to the size of the parameters. "
   ]
  },
  {
   "cell_type": "code",
   "execution_count": 43,
   "metadata": {},
   "outputs": [
    {
     "data": {
      "image/jpeg": "[encoded data removed]",
      "text/html": [
       "\n",
       "        <iframe\n",
       "            width=\"640\"\n",
       "            height=\"360\"\n",
       "            src=\"https://www.youtube.com/embed/NPARac_fnXw\"\n",
       "            frameborder=\"0\"\n",
       "            allowfullscreen\n",
       "            \n",
       "        ></iframe>\n",
       "        "
      ],
      "text/plain": [
       "<IPython.lib.display.YouTubeVideo at 0x7fa39e4f4a00>"
      ]
     },
     "execution_count": 43,
     "metadata": {},
     "output_type": "execute_result"
    }
   ],
   "source": [
    "YouTubeVideo('NPARac_fnXw', width=640, height=360)"
   ]
  },
  {
   "cell_type": "markdown",
   "metadata": {},
   "source": [
    "## A Cure for Overfitting in Linear Regression\n",
    "\n",
    "How do we fix the two issues of excessively large weights/coefficients and too many spurious solutions? The video below provides a solution by directly incorporating these issues into the optimization problem."
   ]
  },
  {
   "cell_type": "code",
   "execution_count": 44,
   "metadata": {},
   "outputs": [
    {
     "data": {
      "image/jpeg": "[encoded data removed]",
      "text/html": [
       "\n",
       "        <iframe\n",
       "            width=\"640\"\n",
       "            height=\"360\"\n",
       "            src=\"https://www.youtube.com/embed/SzPuyUCA5Mw\"\n",
       "            frameborder=\"0\"\n",
       "            allowfullscreen\n",
       "            \n",
       "        ></iframe>\n",
       "        "
      ],
      "text/plain": [
       "<IPython.lib.display.YouTubeVideo at 0x7fa39e4f4bb0>"
      ]
     },
     "execution_count": 44,
     "metadata": {},
     "output_type": "execute_result"
    }
   ],
   "source": [
    "YouTubeVideo('SzPuyUCA5Mw', width=640, height=360)"
   ]
  },
  {
   "cell_type": "markdown",
   "metadata": {},
   "source": [
    "Above we tackled overfitting, but what about ***underfitting***? The video below shows how to address underfitting and also zooms in on some important details about regularization."
   ]
  },
  {
   "cell_type": "code",
   "execution_count": 45,
   "metadata": {},
   "outputs": [
    {
     "data": {
      "image/jpeg": "[encoded data removed]",
      "text/html": [
       "\n",
       "        <iframe\n",
       "            width=\"640\"\n",
       "            height=\"360\"\n",
       "            src=\"https://www.youtube.com/embed/64VOY77PHPk\"\n",
       "            frameborder=\"0\"\n",
       "            allowfullscreen\n",
       "            \n",
       "        ></iframe>\n",
       "        "
      ],
      "text/plain": [
       "<IPython.lib.display.YouTubeVideo at 0x7fa39e4f4e20>"
      ]
     },
     "execution_count": 45,
     "metadata": {},
     "output_type": "execute_result"
    }
   ],
   "source": [
    "YouTubeVideo('64VOY77PHPk', width=640, height=360)"
   ]
  },
  {
   "cell_type": "markdown",
   "metadata": {},
   "source": [
    "> **Ex. 11.2.1 (BONUS)**: Is it possible to add a penalty to our linear model above and solve this Lasso model with gradient descent? Is there a simple fix?\n",
    ">\n",
    "> *Hint:* Gradient descent essentially relies on a differentiable loss function (read more [here](https://stats.stackexchange.com/questions/177800/why-proximal-gradient-descent-instead-of-plain-subgradient-methods-for-lasso))"
   ]
  },
  {
   "cell_type": "code",
   "execution_count": 46,
   "metadata": {
    "deletable": false,
    "nbgrader": {
     "cell_type": "code",
     "checksum": "04b4c075a4bad7561c1e03bf809f7faf",
     "grade": false,
     "grade_id": "cell-6aa146e9c530b2b4",
     "locked": false,
     "schema_version": 3,
     "solution": true,
     "task": false
    }
   },
   "outputs": [],
   "source": [
    "def update_weights_with_l1(y_, X_, w_, learning_rate, lambda_):\n",
    "    errors = compute_error(y_, X_, w_)\n",
    "    gradient = -np.dot(errors, X_)\n",
    "    l1_penalty = lambda_ * np.sign(w_)\n",
    "    w_updated = w_ - learning_rate * (gradient + l1_penalty)\n",
    "    return w_updated"
   ]
  },
  {
   "attachments": {},
   "cell_type": "markdown",
   "metadata": {},
   "source": [
    "**ANSWER**: No, we cannot exactly solve for the Lasso with gradient descent.\n",
    "However, we can make an approximate solution which is pretty close and quite intuitive"
   ]
  },
  {
   "cell_type": "markdown",
   "metadata": {},
   "source": [
    "# Part 3: Modelling Houseprices\n",
    "In this example, we will try to predict houseprices using a lot of variable (or features as they are called in Machine Learning). We are going to work with Kaggle's dataset on house prices, see information [here](https://www.kaggle.com/c/house-prices-advanced-regression-techniques). Kaggle is an organization that hosts competitions in building predictive models."
   ]
  },
  {
   "cell_type": "markdown",
   "metadata": {},
   "source": [
    "> **Ex. 11.3.0:** Load the california housing data with scikit-learn using the code below. Now:\n",
    "> 1. Inspect *cal_house*. How are the data stored?\n",
    "> 2. Create a pandas DataFrame called *X*, using `data`. Name the columns using `feature_names`.\n",
    "> 3. Crate a pandas Series called *y* using `target`.\n",
    "> 4. Make a train test split of equal size."
   ]
  },
  {
   "cell_type": "code",
   "execution_count": 47,
   "metadata": {
    "deletable": false,
    "nbgrader": {
     "cell_type": "code",
     "checksum": "08ca919735b17dfbf96058bf07f4eeab",
     "grade": false,
     "grade_id": "cell-5f14e576643ac94c",
     "locked": false,
     "schema_version": 3,
     "solution": true,
     "task": false
    }
   },
   "outputs": [
    {
     "data": {
      "text/html": [
       "<div>\n",
       "<style scoped>\n",
       "    .dataframe tbody tr th:only-of-type {\n",
       "        vertical-align: middle;\n",
       "    }\n",
       "\n",
       "    .dataframe tbody tr th {\n",
       "        vertical-align: top;\n",
       "    }\n",
       "\n",
       "    .dataframe thead th {\n",
       "        text-align: right;\n",
       "    }\n",
       "</style>\n",
       "<table border=\"1\" class=\"dataframe\">\n",
       "  <thead>\n",
       "    <tr style=\"text-align: right;\">\n",
       "      <th></th>\n",
       "      <th>MedInc</th>\n",
       "      <th>HouseAge</th>\n",
       "      <th>AveRooms</th>\n",
       "      <th>AveBedrms</th>\n",
       "      <th>Population</th>\n",
       "      <th>AveOccup</th>\n",
       "    </tr>\n",
       "  </thead>\n",
       "  <tbody>\n",
       "    <tr>\n",
       "      <th>count</th>\n",
       "      <td>10320.000000</td>\n",
       "      <td>10320.000000</td>\n",
       "      <td>10320.000000</td>\n",
       "      <td>10320.000000</td>\n",
       "      <td>10320.000000</td>\n",
       "      <td>10320.000000</td>\n",
       "    </tr>\n",
       "    <tr>\n",
       "      <th>mean</th>\n",
       "      <td>3.874334</td>\n",
       "      <td>28.506977</td>\n",
       "      <td>5.448060</td>\n",
       "      <td>1.098334</td>\n",
       "      <td>1426.466860</td>\n",
       "      <td>3.046432</td>\n",
       "    </tr>\n",
       "    <tr>\n",
       "      <th>std</th>\n",
       "      <td>1.875069</td>\n",
       "      <td>12.638869</td>\n",
       "      <td>2.710030</td>\n",
       "      <td>0.543761</td>\n",
       "      <td>1098.387561</td>\n",
       "      <td>7.727201</td>\n",
       "    </tr>\n",
       "    <tr>\n",
       "      <th>min</th>\n",
       "      <td>0.499900</td>\n",
       "      <td>1.000000</td>\n",
       "      <td>0.888889</td>\n",
       "      <td>0.333333</td>\n",
       "      <td>5.000000</td>\n",
       "      <td>1.060606</td>\n",
       "    </tr>\n",
       "    <tr>\n",
       "      <th>25%</th>\n",
       "      <td>2.579425</td>\n",
       "      <td>18.000000</td>\n",
       "      <td>4.462767</td>\n",
       "      <td>1.006410</td>\n",
       "      <td>787.750000</td>\n",
       "      <td>2.428799</td>\n",
       "    </tr>\n",
       "    <tr>\n",
       "      <th>50%</th>\n",
       "      <td>3.549850</td>\n",
       "      <td>29.000000</td>\n",
       "      <td>5.235723</td>\n",
       "      <td>1.048780</td>\n",
       "      <td>1162.500000</td>\n",
       "      <td>2.822316</td>\n",
       "    </tr>\n",
       "    <tr>\n",
       "      <th>75%</th>\n",
       "      <td>4.736450</td>\n",
       "      <td>37.000000</td>\n",
       "      <td>6.070853</td>\n",
       "      <td>1.098592</td>\n",
       "      <td>1726.250000</td>\n",
       "      <td>3.281516</td>\n",
       "    </tr>\n",
       "    <tr>\n",
       "      <th>max</th>\n",
       "      <td>15.000100</td>\n",
       "      <td>52.000000</td>\n",
       "      <td>141.909091</td>\n",
       "      <td>34.066667</td>\n",
       "      <td>16305.000000</td>\n",
       "      <td>599.714286</td>\n",
       "    </tr>\n",
       "  </tbody>\n",
       "</table>\n",
       "</div>"
      ],
      "text/plain": [
       "             MedInc      HouseAge      AveRooms     AveBedrms    Population  \\\n",
       "count  10320.000000  10320.000000  10320.000000  10320.000000  10320.000000   \n",
       "mean       3.874334     28.506977      5.448060      1.098334   1426.466860   \n",
       "std        1.875069     12.638869      2.710030      0.543761   1098.387561   \n",
       "min        0.499900      1.000000      0.888889      0.333333      5.000000   \n",
       "25%        2.579425     18.000000      4.462767      1.006410    787.750000   \n",
       "50%        3.549850     29.000000      5.235723      1.048780   1162.500000   \n",
       "75%        4.736450     37.000000      6.070853      1.098592   1726.250000   \n",
       "max       15.000100     52.000000    141.909091     34.066667  16305.000000   \n",
       "\n",
       "           AveOccup  \n",
       "count  10320.000000  \n",
       "mean       3.046432  \n",
       "std        7.727201  \n",
       "min        1.060606  \n",
       "25%        2.428799  \n",
       "50%        2.822316  \n",
       "75%        3.281516  \n",
       "max      599.714286  "
      ]
     },
     "execution_count": 47,
     "metadata": {},
     "output_type": "execute_result"
    }
   ],
   "source": [
    "from sklearn.datasets import fetch_california_housing\n",
    "from sklearn.model_selection import train_test_split\n",
    "\n",
    "cal_house = fetch_california_housing()    \n",
    "\n",
    "X = pd.DataFrame(data=cal_house['data'], \n",
    "                 columns=cal_house['feature_names'])\\\n",
    "             .iloc[:,:-2]\n",
    "y = cal_house['target']\n",
    "\n",
    "X_train, X_test, y_train, y_test = train_test_split(X, y, test_size=.5, random_state=1)\n",
    "\n",
    "X_train.describe()"
   ]
  },
  {
   "cell_type": "markdown",
   "metadata": {},
   "source": [
    "\n",
    "\n",
    "> **Ex.11.3.1**: Generate interactions between all features to third degree (make sure you **exclude** the bias/intercept term). How many variables are there? Will OLS fail? After making interactions, rescale the features to have zero mean, unit std. deviation. Should you use the distribution of the training data to rescale the test data?  \n",
    "\n",
    "> *Hint 1*: Try importing `PolynomialFeatures` from `sklearn.preprocessing`\n",
    "\n",
    "> *Hint 2*: If in doubt about which distribution to scale, you may read [this post](https://stats.stackexchange.com/questions/174823/how-to-apply-standardization-normalization-to-train-and-testset-if-prediction-i)."
   ]
  },
  {
   "cell_type": "code",
   "execution_count": 48,
   "metadata": {},
   "outputs": [],
   "source": [
    "# INCLUDED IN ASSIGNMENT 2"
   ]
  },
  {
   "cell_type": "code",
   "execution_count": 49,
   "metadata": {
    "deletable": false,
    "nbgrader": {
     "cell_type": "code",
     "checksum": "ed00cd67cc7a2e431594d4cfe29da085",
     "grade": false,
     "grade_id": "cell-4aacfe9c22772c42",
     "locked": false,
     "schema_version": 3,
     "solution": true,
     "task": false
    }
   },
   "outputs": [
    {
     "name": "stdout",
     "output_type": "stream",
     "text": [
      "Number of variables after generating interactions: 83\n"
     ]
    }
   ],
   "source": [
    "from sklearn.preprocessing import PolynomialFeatures, StandardScaler\n",
    "\n",
    "from sklearn.preprocessing import PolynomialFeatures, StandardScaler\n",
    "\n",
    "# Generate polynomial features up to the third degree\n",
    "poly = PolynomialFeatures(degree=3, include_bias=False)\n",
    "X_train_poly = poly.fit_transform(X_train)\n",
    "X_test_poly = poly.transform(X_test)\n",
    "\n",
    "# Rescale the features to have zero mean and unit std. deviation\n",
    "scaler = StandardScaler()\n",
    "\n",
    "# Fit the scaler on the training data and transform both training and test data\n",
    "X_train_scaled = scaler.fit_transform(X_train_poly)\n",
    "X_test_scaled = scaler.transform(X_test_poly)\n",
    "\n",
    "# Number of variables after generating interactions\n",
    "num_variables = X_train_scaled.shape[1]\n",
    "print(\"Number of variables after generating interactions:\", num_variables)\n",
    "\n"
   ]
  },
  {
   "cell_type": "markdown",
   "metadata": {},
   "source": [
    "> **Ex.11.3.2**: Estimate the Lasso model on the rescaled train data set, using values of $\\lambda$ in the range from $10^{-4}$ to $10^4$. For each $\\lambda$  calculate and save the Root Mean Squared Error (RMSE) for the rescaled test and train data. Take a look at the fitted coefficients for different sizes of $\\lambda$. What happens when $\\lambda$ increases? Why?\n",
    "\n",
    "> *Hint 1*: use `logspace` in numpy to create the range.\n",
    "\n",
    "> *Hint 2*: read about the `coef_` feature [here](https://scikit-learn.org/stable/modules/generated/sklearn.linear_model.Lasso.html#sklearn.linear_model.Lasso).\n"
   ]
  },
  {
   "cell_type": "code",
   "execution_count": 50,
   "metadata": {},
   "outputs": [],
   "source": [
    "# INCLUDED IN ASSIGNMENT 2"
   ]
  },
  {
   "cell_type": "code",
   "execution_count": 51,
   "metadata": {
    "deletable": false,
    "nbgrader": {
     "cell_type": "code",
     "checksum": "a5cb040dc44fd9a9f591f1193a1311ab",
     "grade": false,
     "grade_id": "cell-d981c29cec05057b",
     "locked": false,
     "schema_version": 3,
     "solution": true,
     "task": false
    }
   },
   "outputs": [
    {
     "name": "stdout",
     "output_type": "stream",
     "text": [
      "Lambda: 1.0000e-04 - Train RMSE: 0.6981, Test RMSE: 8.3697\n",
      "Lambda: 1.0000e-03 - Train RMSE: 0.7018, Test RMSE: 4.6827\n",
      "Lambda: 1.0000e-02 - Train RMSE: 0.7497, Test RMSE: 0.7626\n",
      "Lambda: 1.0000e-01 - Train RMSE: 0.8128, Test RMSE: 0.8193\n",
      "Lambda: 1.0000e+00 - Train RMSE: 1.1503, Test RMSE: 1.1576\n",
      "Lambda: 1.0000e+01 - Train RMSE: 1.1503, Test RMSE: 1.1576\n",
      "Lambda: 1.0000e+02 - Train RMSE: 1.1503, Test RMSE: 1.1576\n",
      "Lambda: 1.0000e+03 - Train RMSE: 1.1503, Test RMSE: 1.1576\n",
      "Lambda: 1.0000e+04 - Train RMSE: 1.1503, Test RMSE: 1.1576\n",
      "Lambda: 1.0000e-04 - Coefficients: [ 0.44458878  0.02514723 -0.28315034  0.48692357 -0.83788939 -2.23521178\n",
      "  1.33749579  0.24293649  0.04722138 -0.73282553 -0.22674058 -0.05579968\n",
      " -0.40000011 -0.57049154  0.32099407 -0.00478083  0.87034851  0.43661735\n",
      " -0.25753121 -0.68399953  0.24248464 -0.32310764  1.45585035  0.39148725\n",
      "  0.64048462  0.69519472  0.26089116 -1.0476463  -0.5677184  -0.01965693\n",
      "  0.27008242 -0.1001276   1.25594     0.0317481   0.17597432  0.63198636\n",
      "  0.33642469 -0.80688067  0.59539593 -0.23635931 -0.08919836 -0.55364707\n",
      " -0.25684852  0.49070082 -0.94547335 -0.1337637   0.43019335  0.70809745\n",
      "  0.38007605  0.17108605 -0.20870588 -0.014497   -0.22662841 -0.50348046\n",
      " -0.01449296 -0.31195117  0.07971521 -0.00634747  0.18096024 -0.25793372\n",
      " -0.10085707  0.37220232 -0.         -0.36031928  0.24436793  0.55360821\n",
      "  0.66059369 -0.06624044 -0.44247618 -0.05972285  0.24594547 -0.51259812\n",
      " -0.0038748   0.27740193 -0.28782634  0.03178189 -0.72221079  0.30884704\n",
      " -0.04008573 -0.00724511  0.23320154 -0.40808271 -0.        ]\n",
      "Lambda: 1.0000e-03 - Coefficients: [ 0.0602309  -0.01236709 -0.1580593   0.20166955 -0.18800453 -1.73175638\n",
      "  1.4382838   0.37703402  0.13703564 -0.17613632 -0.30644957 -0.15669999\n",
      " -0.         -0.41143302  0.01137376 -0.15527694 -0.          0.\n",
      " -0.         -0.68067162 -0.         -0.02496393  0.66545958  0.2510624\n",
      "  0.          0.9452079   0.68117693 -0.94991197 -0.4036522   0.\n",
      " -0.00500994 -0.02055137  0.60169767  0.          0.          0.39456179\n",
      "  0.28636837 -0.          0.12863252 -0.          0.1074336   0.\n",
      " -0.25604618  0.38283745 -0.5442126  -0.02497979 -0.          0.15331832\n",
      "  0.06359917  0.          0.12109206 -0.         -0.25774184  0.\n",
      "  0.         -0.26103925 -0.         -0.          0.28897175 -0.\n",
      " -0.06425024 -0.          0.          0.          0.          0.13331708\n",
      "  0.21992145  0.         -0.          0.          0.06331177 -0.\n",
      " -0.          0.         -0.19965603  0.         -0.          0.\n",
      "  0.         -0.00297827 -0.         -0.          0.        ]\n",
      "Lambda: 1.0000e-02 - Coefficients: [ 8.57036148e-01  0.00000000e+00 -1.42339520e-01  1.19187840e-01\n",
      " -0.00000000e+00 -2.45705912e-01  0.00000000e+00  8.67090179e-02\n",
      "  0.00000000e+00  3.87484696e-03  0.00000000e+00 -0.00000000e+00\n",
      "  0.00000000e+00 -0.00000000e+00  0.00000000e+00  0.00000000e+00\n",
      " -0.00000000e+00  0.00000000e+00  0.00000000e+00 -1.33159855e-01\n",
      " -0.00000000e+00 -0.00000000e+00  0.00000000e+00 -0.00000000e+00\n",
      " -0.00000000e+00  0.00000000e+00  0.00000000e+00 -1.51540996e-01\n",
      " -0.00000000e+00  0.00000000e+00  0.00000000e+00  0.00000000e+00\n",
      " -0.00000000e+00  0.00000000e+00 -0.00000000e+00  0.00000000e+00\n",
      "  2.73828627e-01 -0.00000000e+00 -0.00000000e+00 -0.00000000e+00\n",
      "  0.00000000e+00 -0.00000000e+00 -6.11822260e-02  8.66141874e-02\n",
      " -0.00000000e+00 -0.00000000e+00  0.00000000e+00  0.00000000e+00\n",
      "  5.62615911e-02 -0.00000000e+00  8.69982628e-02  0.00000000e+00\n",
      " -0.00000000e+00  0.00000000e+00  0.00000000e+00 -3.86135081e-01\n",
      " -0.00000000e+00 -0.00000000e+00  2.14111944e-01 -0.00000000e+00\n",
      " -0.00000000e+00  0.00000000e+00  0.00000000e+00  2.17851649e-02\n",
      "  0.00000000e+00 -0.00000000e+00  0.00000000e+00 -0.00000000e+00\n",
      "  0.00000000e+00  0.00000000e+00 -0.00000000e+00  0.00000000e+00\n",
      "  2.35467307e-01 -0.00000000e+00  3.72987559e-02 -0.00000000e+00\n",
      " -0.00000000e+00  0.00000000e+00  0.00000000e+00 -0.00000000e+00\n",
      "  0.00000000e+00  4.86601876e-04  0.00000000e+00]\n",
      "Lambda: 1.0000e-01 - Coefficients: [ 0.55079371  0.         -0.          0.          0.         -0.\n",
      "  0.          0.20405488  0.          0.          0.         -0.\n",
      "  0.          0.          0.          0.         -0.          0.\n",
      "  0.         -0.         -0.          0.          0.         -0.\n",
      " -0.         -0.         -0.          0.          0.          0.\n",
      "  0.          0.         -0.          0.          0.          0.\n",
      "  0.0227064  -0.          0.          0.          0.         -0.\n",
      "  0.          0.         -0.          0.         -0.         -0.\n",
      "  0.          0.          0.          0.         -0.          0.\n",
      "  0.          0.         -0.          0.          0.         -0.\n",
      "  0.         -0.         -0.          0.          0.         -0.\n",
      "  0.          0.         -0.          0.         -0.         -0.\n",
      " -0.          0.          0.         -0.         -0.         -0.\n",
      " -0.         -0.         -0.         -0.         -0.        ]\n",
      "Lambda: 1.0000e+00 - Coefficients: [ 0.  0.  0. -0. -0. -0.  0.  0.  0.  0.  0.  0.  0.  0.  0.  0. -0.  0.\n",
      "  0.  0.  0. -0. -0. -0. -0. -0. -0.  0.  0.  0.  0.  0.  0.  0.  0.  0.\n",
      "  0.  0.  0.  0.  0.  0.  0.  0.  0.  0.  0. -0.  0.  0.  0.  0.  0.  0.\n",
      "  0.  0.  0.  0.  0. -0. -0. -0. -0.  0.  0.  0.  0.  0.  0.  0.  0.  0.\n",
      "  0.  0. -0. -0. -0. -0. -0. -0.  0.  0. -0.]\n",
      "Lambda: 1.0000e+01 - Coefficients: [ 0.  0.  0. -0. -0. -0.  0.  0.  0.  0.  0.  0.  0.  0.  0.  0. -0.  0.\n",
      "  0.  0.  0. -0. -0. -0. -0. -0. -0.  0.  0.  0.  0.  0.  0.  0.  0.  0.\n",
      "  0.  0.  0.  0.  0.  0.  0.  0.  0.  0.  0. -0.  0.  0.  0.  0.  0.  0.\n",
      "  0.  0.  0.  0.  0. -0. -0. -0. -0.  0.  0.  0.  0.  0.  0.  0.  0.  0.\n",
      "  0.  0. -0. -0. -0. -0. -0. -0.  0.  0. -0.]\n",
      "Lambda: 1.0000e+02 - Coefficients: [ 0.  0.  0. -0. -0. -0.  0.  0.  0.  0.  0.  0.  0.  0.  0.  0. -0.  0.\n",
      "  0.  0.  0. -0. -0. -0. -0. -0. -0.  0.  0.  0.  0.  0.  0.  0.  0.  0.\n",
      "  0.  0.  0.  0.  0.  0.  0.  0.  0.  0.  0. -0.  0.  0.  0.  0.  0.  0.\n",
      "  0.  0.  0.  0.  0. -0. -0. -0. -0.  0.  0.  0.  0.  0.  0.  0.  0.  0.\n",
      "  0.  0. -0. -0. -0. -0. -0. -0.  0.  0. -0.]\n",
      "Lambda: 1.0000e+03 - Coefficients: [ 0.  0.  0. -0. -0. -0.  0.  0.  0.  0.  0.  0.  0.  0.  0.  0. -0.  0.\n",
      "  0.  0.  0. -0. -0. -0. -0. -0. -0.  0.  0.  0.  0.  0.  0.  0.  0.  0.\n",
      "  0.  0.  0.  0.  0.  0.  0.  0.  0.  0.  0. -0.  0.  0.  0.  0.  0.  0.\n",
      "  0.  0.  0.  0.  0. -0. -0. -0. -0.  0.  0.  0.  0.  0.  0.  0.  0.  0.\n",
      "  0.  0. -0. -0. -0. -0. -0. -0.  0.  0. -0.]\n",
      "Lambda: 1.0000e+04 - Coefficients: [ 0.  0.  0. -0. -0. -0.  0.  0.  0.  0.  0.  0.  0.  0.  0.  0. -0.  0.\n",
      "  0.  0.  0. -0. -0. -0. -0. -0. -0.  0.  0.  0.  0.  0.  0.  0.  0.  0.\n",
      "  0.  0.  0.  0.  0.  0.  0.  0.  0.  0.  0. -0.  0.  0.  0.  0.  0.  0.\n",
      "  0.  0.  0.  0.  0. -0. -0. -0. -0.  0.  0.  0.  0.  0.  0.  0.  0.  0.\n",
      "  0.  0. -0. -0. -0. -0. -0. -0.  0.  0. -0.]\n"
     ]
    }
   ],
   "source": [
    "from sklearn.linear_model import Lasso\n",
    "from sklearn.metrics import mean_squared_error\n",
    "import numpy as np\n",
    "\n",
    "# Range of lambda values\n",
    "lambda_values = np.logspace(-4, 4, num=9)\n",
    "\n",
    "train_rmse_list = []\n",
    "test_rmse_list = []\n",
    "coefficients_list = []\n",
    "\n",
    "for lambda_val in lambda_values:\n",
    "    lasso_model = Lasso(alpha=lambda_val)\n",
    "    lasso_model.fit(X_train_scaled, y_train)\n",
    "    \n",
    "    # Calculate predictions\n",
    "    train_predictions = lasso_model.predict(X_train_scaled)\n",
    "    test_predictions = lasso_model.predict(X_test_scaled)\n",
    "    \n",
    "    # Calculate RMSE\n",
    "    train_rmse = np.sqrt(mean_squared_error(y_train, train_predictions))\n",
    "    test_rmse = np.sqrt(mean_squared_error(y_test, test_predictions))\n",
    "    \n",
    "    train_rmse_list.append(train_rmse)\n",
    "    test_rmse_list.append(test_rmse)\n",
    "    coefficients_list.append(lasso_model.coef_)\n",
    "\n",
    "# Print RMSE values for different lambda values\n",
    "for i, lambda_val in enumerate(lambda_values):\n",
    "    print(f\"Lambda: {lambda_val:.4e} - Train RMSE: {train_rmse_list[i]:.4f}, Test RMSE: {test_rmse_list[i]:.4f}\")\n",
    "\n",
    "# Print coefficients for different lambda values\n",
    "for i, lambda_val in enumerate(lambda_values):\n",
    "    print(f\"Lambda: {lambda_val:.4e} - Coefficients: {coefficients_list[i]}\")"
   ]
  },
  {
   "attachments": {},
   "cell_type": "markdown",
   "metadata": {},
   "source": [
    "Increasing lambda in Lasso regression promotes sparsity, reduces overfitting, and simplifies the model by shrinking less important coefficients towards zero. The trade-off is that the model may experience increased bias and reduced fit to the training data. The choice of lambda is crucial and often requires cross-validation techniques to find the optimal value that balances the bias-variance trade-off."
   ]
  },
  {
   "cell_type": "markdown",
   "metadata": {},
   "source": [
    "> **Ex.11.3.3**: Make a plot with the lambdas on the x-axis and the RMSE measures on the y-axis. What happens to RMSE for train and test data as $\\lambda$ increases? The x-axis should be log scaled. Which one are we interested in minimizing? \n",
    "\n",
    "> Bonus: Can you find the lambda that gives the lowest MSE-test score?"
   ]
  },
  {
   "cell_type": "code",
   "execution_count": 52,
   "metadata": {},
   "outputs": [],
   "source": [
    "# INCLUDED IN ASSIGNMENT 2"
   ]
  },
  {
   "cell_type": "code",
   "execution_count": 53,
   "metadata": {
    "deletable": false,
    "nbgrader": {
     "cell_type": "code",
     "checksum": "3469299a7668bf4275e2824d1d454144",
     "grade": false,
     "grade_id": "cell-5a2846b33750acbc",
     "locked": false,
     "schema_version": 3,
     "solution": true,
     "task": false
    }
   },
   "outputs": [
    {
     "data": {
      "image/png": "[encoded data removed]",
      "text/plain": [
       "<Figure size 1000x600 with 1 Axes>"
      ]
     },
     "metadata": {},
     "output_type": "display_data"
    }
   ],
   "source": [
    "import matplotlib.pyplot as plt\n",
    "\n",
    "# Plot RMSE values for train and test data against different lambda values\n",
    "plt.figure(figsize=(10, 6))\n",
    "plt.semilogx(lambda_values, train_rmse_list, label='Train RMSE')\n",
    "plt.semilogx(lambda_values, test_rmse_list, label='Test RMSE')\n",
    "plt.xlabel('Lambda (log scale)')\n",
    "plt.ylabel('Root Mean Squared Error (RMSE)')\n",
    "plt.title('RMSE vs. Lambda')\n",
    "plt.legend()\n",
    "plt.grid(True)\n",
    "plt.show()\n",
    "\n"
   ]
  },
  {
   "cell_type": "code",
   "execution_count": 54,
   "metadata": {},
   "outputs": [
    {
     "name": "stdout",
     "output_type": "stream",
     "text": [
      "The lambda that gives the lowest test RMSE: 1.0000e-02\n"
     ]
    }
   ],
   "source": [
    "min_test_rmse = min(test_rmse_list)\n",
    "best_lambda = lambda_values[test_rmse_list.index(min_test_rmse)]\n",
    "print(f\"The lambda that gives the lowest test RMSE: {best_lambda:.4e}\")\n"
   ]
  }
 ],
 "metadata": {
  "kernelspec": {
   "display_name": "base",
   "language": "python",
   "name": "python3"
  },
  "language_info": {
   "codemirror_mode": {
    "name": "ipython",
    "version": 3
   },
   "file_extension": ".py",
   "mimetype": "text/x-python",
   "name": "python",
   "nbconvert_exporter": "python",
   "pygments_lexer": "ipython3",
   "version": "3.9.13"
  },
  "nav_menu": {},
  "toc": {
   "navigate_menu": true,
   "number_sections": false,
   "sideBar": true,
   "threshold": 6,
   "toc_cell": false,
   "toc_section_display": "block",
   "toc_window_display": true
  },
  "varInspector": {
   "cols": {
    "lenName": 16,
    "lenType": 16,
    "lenVar": 40
   },
   "kernels_config": {
    "python": {
     "delete_cmd_postfix": "",
     "delete_cmd_prefix": "del ",
     "library": "var_list.py",
     "varRefreshCmd": "print(var_dic_list())"
    },
    "r": {
     "delete_cmd_postfix": ") ",
     "delete_cmd_prefix": "rm(",
     "library": "var_list.r",
     "varRefreshCmd": "cat(var_dic_list()) "
    }
   },
   "types_to_exclude": [
    "module",
    "function",
    "builtin_function_or_method",
    "instance",
    "_Feature"
   ],
   "window_display": false
  },
  "vscode": {
   "interpreter": {
    "hash": "604903271ebee04a1d41a6e5cf13d16aa8edab4556eed9bb8d54d40193dfe553"
   }
  }
 },
 "nbformat": 4,
 "nbformat_minor": 4
}
